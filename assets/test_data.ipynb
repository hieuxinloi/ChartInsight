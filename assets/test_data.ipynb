{
 "cells": [
  {
   "cell_type": "code",
   "execution_count": 1,
   "metadata": {},
   "outputs": [],
   "source": [
    "import os \n",
    "import json \n",
    "import shutil \n",
    "\n",
    "import pandas as pd"
   ]
  },
  {
   "cell_type": "markdown",
   "metadata": {},
   "source": [
    "## Reduce data \n",
    "\n",
    "We try to reduce the data to (10, 2, 2) for (train, val, test) of each folder. The reduced data saved to `./dataset/tested_data/`."
   ]
  },
  {
   "cell_type": "code",
   "execution_count": 2,
   "metadata": {},
   "outputs": [],
   "source": [
    "TRAIN_SIZE = 20\n",
    "VAL_SIZE = 5\n",
    "TEST_SIZE = 5"
   ]
  },
  {
   "cell_type": "code",
   "execution_count": 3,
   "metadata": {},
   "outputs": [],
   "source": [
    "tested_data_path = 'dataset/tested_data'\n",
    "os.makedirs(tested_data_path, exist_ok=True)"
   ]
  },
  {
   "cell_type": "code",
   "execution_count": 4,
   "metadata": {},
   "outputs": [],
   "source": [
    "main_folders = ['bardata(1031)', 'clsdata(1031)', 'linedata(1028)', 'piedata(1008)']\n",
    "sub_folders = ['annotations', 'images']  \n",
    "image_sub_folders = ['train2019', 'val2019', 'test2019']\n",
    "\n",
    "sub_dir_map = {\n",
    "    main_folders[0]: \"bar\",\n",
    "    main_folders[1]: \"cls\",\n",
    "    main_folders[2]: \"line\",\n",
    "    main_folders[3]: \"pie\",\n",
    "}\n",
    "\n",
    "for main in main_folders:\n",
    "    parent_dir = os.path.join(tested_data_path, main, sub_dir_map[main])\n",
    "\n",
    "    for sub in sub_folders:\n",
    "        sub_dir_path = os.path.join(parent_dir, sub)\n",
    "        os.makedirs(sub_dir_path, exist_ok=True) \n",
    "\n",
    "        if sub == \"images\":\n",
    "            for image_sub in image_sub_folders:\n",
    "                os.makedirs(os.path.join(sub_dir_path, image_sub), exist_ok=True)"
   ]
  },
  {
   "cell_type": "markdown",
   "metadata": {},
   "source": [
    "Make a helper function to reduce data in bar, pie, line"
   ]
  },
  {
   "cell_type": "code",
   "execution_count": 5,
   "metadata": {},
   "outputs": [],
   "source": [
    "def reduced_annotation(data, size):\n",
    "    \"\"\" \n",
    "    Reduces the annotation data to the given size\n",
    "\n",
    "    Args:\n",
    "        data (dict): The data to be reduced\n",
    "        size (int): The size to reduce the data to \n",
    "\n",
    "    Returns:\n",
    "        dict: The reduced data\n",
    "    \"\"\"\n",
    "    annotations_df = pd.DataFrame(data['annotations'])\n",
    "    images_df = pd.DataFrame(data['images'])    \n",
    "    \n",
    "    # Take the first size number of images\n",
    "    ids1 = images_df['id']\n",
    "    ids2 = annotations_df['image_id']\n",
    "\n",
    "    # Intersection of the two sets\n",
    "    ids = ids1[ids1.isin(ids2)]\n",
    "    ids = ids.sort_values()\n",
    "    ids = ids[:size]\n",
    "\n",
    "    # Filter the annotations based on the image ids\n",
    "    reduced_annotations = annotations_df[annotations_df['image_id'].isin(ids)]\n",
    "    reduced_images = images_df[images_df['id'].isin(ids)]\n",
    "    \n",
    "    data['images'] = json.loads(reduced_images.to_json(orient=\"records\"))\n",
    "    data['annotations'] = json.loads(reduced_annotations.to_json(orient=\"records\"))\n",
    "\n",
    "    return data"
   ]
  },
  {
   "cell_type": "markdown",
   "metadata": {},
   "source": [
    "another helper function to reduce data in cls (we can use the previous function but it just take 10000 bar data)"
   ]
  },
  {
   "cell_type": "code",
   "execution_count": 6,
   "metadata": {},
   "outputs": [],
   "source": [
    "def reduced_annotation_cls(data, size, RATES = [0.45, 0.33, 0.22]):\n",
    "    \"\"\"\n",
    "    Reduces the cls data to the given size \n",
    "    Keep the rate of 0 1 and 2 the same (0.45, 0.33, 0.22)\n",
    "    \n",
    "    Args:\n",
    "        data (dict): The data to be reduced\n",
    "        size (int): The size to reduce the data to \n",
    "\n",
    "    Returns:\n",
    "        dict: The reduced data\n",
    "    \"\"\"\n",
    "\n",
    "    annotations_df = pd.DataFrame(data['annotations'])\n",
    "    images_df = pd.DataFrame(data['images'])    \n",
    "\n",
    "    # Take each class index for images and annotations\n",
    "    cls0_image_ids = images_df[images_df['data_type'] == 0]['id']\n",
    "    cls1_image_ids = images_df[images_df['data_type'] == 1]['id']\n",
    "    cls2_image_ids = images_df[images_df['data_type'] == 2]['id']\n",
    "\n",
    "    cls0_annotation_ids = annotations_df[annotations_df['category_id'] == 0]['image_id']\n",
    "    cls1_annotation_ids = annotations_df[annotations_df['category_id'] == 1]['image_id']\n",
    "    cls2_annotation_ids = annotations_df[annotations_df['category_id'] == 2]['image_id']\n",
    "\n",
    "    # Take the intersection of image ids and annotation ids\n",
    "    cls0_ids = cls0_image_ids[cls0_image_ids.isin(cls0_annotation_ids)]\n",
    "    cls1_ids = cls1_image_ids[cls1_image_ids.isin(cls1_annotation_ids)]\n",
    "    cls2_ids = cls2_image_ids[cls2_image_ids.isin(cls2_annotation_ids)]\n",
    "\n",
    "    # Take the first size * RATE of the ids\n",
    "    reduced_cls0_ids = cls0_ids[:int(size * RATES[0])]\n",
    "    reduced_cls1_ids = cls1_ids[:int(size * RATES[1])]\n",
    "    reduced_cls2_ids = cls2_ids[:int(size * RATES[2])]\n",
    "\n",
    "    ids = pd.concat([reduced_cls0_ids, reduced_cls1_ids, reduced_cls2_ids])\n",
    "\n",
    "    # Filter the annotations based on the image ids\n",
    "    reduced_annotations = annotations_df[annotations_df['image_id'].isin(ids)]\n",
    "    reduced_images = images_df[images_df['id'].isin(ids)]\n",
    "\n",
    "    data['images'] = json.loads(reduced_images.to_json(orient=\"records\"))\n",
    "    \n",
    "    data['annotations'] = json.loads(reduced_annotations.to_json(orient=\"records\"))\n",
    "    \n",
    "    return data\n",
    "    "
   ]
  },
  {
   "cell_type": "code",
   "execution_count": 7,
   "metadata": {},
   "outputs": [],
   "source": [
    "data_path = 'dataset/data'\n",
    "output_path = 'dataset/tested_data'"
   ]
  },
  {
   "cell_type": "code",
   "execution_count": 8,
   "metadata": {},
   "outputs": [
    {
     "name": "stdout",
     "output_type": "stream",
     "text": [
      "CPU times: user 3.57 s, sys: 578 ms, total: 4.15 s\n",
      "Wall time: 4.27 s\n"
     ]
    }
   ],
   "source": [
    "%%time\n",
    "\n",
    "for folder in os.listdir(data_path):\n",
    "    main_folder_path = os.path.join(data_path, folder)\n",
    "\n",
    "    # Check if it is a folder\n",
    "    if not os.path.isdir(main_folder_path):\n",
    "        continue\n",
    "\n",
    "    sub_folders = os.listdir(main_folder_path)\n",
    "\n",
    "    sub_folder = sub_folders[0] \n",
    "    sub_folder_path = os.path.join(main_folder_path, sub_folder)\n",
    "    annotations_path = os.path.join(sub_folder_path, \"annotations\")\n",
    "\n",
    "\n",
    "    output_annotations_path = os.path.join(output_path, folder, sub_folder, \"annotations\")\n",
    "\n",
    "    for file_name in os.listdir(annotations_path):\n",
    "        if file_name.endswith(\".json\"):\n",
    "            input_file = os.path.join(annotations_path, file_name)\n",
    "            output_file = os.path.join(output_annotations_path, file_name)\n",
    "\n",
    "            with open(input_file, \"r\", encoding=\"utf-8\") as f:\n",
    "                data = json.load(f)\n",
    "\n",
    "            if \"train\" in file_name:\n",
    "                size = TRAIN_SIZE\n",
    "            elif \"val\" in file_name:\n",
    "                size = VAL_SIZE\n",
    "            elif \"test\" in file_name:\n",
    "                size = TEST_SIZE\n",
    "\n",
    "            # Check startwith cls\n",
    "            if folder.startswith(\"cls\"):\n",
    "                reduced_json = reduced_annotation_cls(data, size)\n",
    "            else:\n",
    "                reduced_json = reduced_annotation(data, size)\n",
    "\n",
    "            with open(output_file, \"w\", encoding=\"utf-8\") as f:\n",
    "                json.dump(reduced_json, f, ensure_ascii=False)\n"
   ]
  },
  {
   "cell_type": "markdown",
   "metadata": {},
   "source": [
    "## Images folder"
   ]
  },
  {
   "cell_type": "code",
   "execution_count": 9,
   "metadata": {},
   "outputs": [],
   "source": [
    "def copy_images(data, type, split):\n",
    "    \"\"\"\n",
    "    Copies the images from the original dataset to the reduced dataset\n",
    "\n",
    "    Args:\n",
    "        data (dict): The data containing the image filenames\n",
    "        type (str): The type of the data (bar, pie, line, cls)\n",
    "        split (str): The split of the data (train, val, test)\n",
    "    \"\"\"\n",
    "    image_filenames = {img[\"file_name\"] for img in data.get(\"images\", [])}\n",
    "\n",
    "    if type == 'bar':\n",
    "        if split == 'train':\n",
    "            src_path = 'dataset/data/bardata(1031)/bar/images/train2019'\n",
    "            copy_path = 'dataset/tested_data/bardata(1031)/bar/images/train2019'\n",
    "        elif split == 'val':\n",
    "            src_path = 'dataset/data/bardata(1031)/bar/images/val2019'\n",
    "            copy_path = 'dataset/tested_data/bardata(1031)/bar/images/val2019'\n",
    "        elif split == 'test':\n",
    "            src_path = 'dataset/data/bardata(1031)/bar/images/test2019'\n",
    "            copy_path = 'dataset/tested_data/bardata(1031)/bar/images/test2019'\n",
    "\n",
    "    elif type == 'pie':\n",
    "        if split == 'train':\n",
    "            src_path = 'dataset/data/piedata(1008)/pie/images/train2019'\n",
    "            copy_path = 'dataset/tested_data/piedata(1008)/pie/images/train2019'\n",
    "        elif split == 'val':\n",
    "            src_path = 'dataset/data/piedata(1008)/pie/images/val2019'\n",
    "            copy_path = 'dataset/tested_data/piedata(1008)/pie/images/val2019'\n",
    "        elif split == 'test':\n",
    "            src_path = 'dataset/data/piedata(1008)/pie/images/test2019'\n",
    "            copy_path = 'dataset/tested_data/piedata(1008)/pie/images/test2019'\n",
    "    \n",
    "    elif type == 'line':\n",
    "        if split == 'train':\n",
    "            src_path = 'dataset/data/linedata(1028)/line/images/train2019'\n",
    "            copy_path = 'dataset/tested_data/linedata(1028)/line/images/train2019'\n",
    "        elif split == 'val':\n",
    "            src_path = 'dataset/data/linedata(1028)/line/images/val2019'\n",
    "            copy_path = 'dataset/tested_data/linedata(1028)/line/images/val2019'\n",
    "        elif split == 'test':\n",
    "            src_path = 'dataset/data/linedata(1028)/line/images/test2019'\n",
    "            copy_path = 'dataset/tested_data/linedata(1028)/line/images/test2019'\n",
    "\n",
    "    elif type == 'cls':\n",
    "        if split == 'train':\n",
    "            src_path = 'dataset/data/clsdata(1031)/cls/images/train2019'\n",
    "            copy_path = 'dataset/tested_data/clsdata(1031)/cls/images/train2019'\n",
    "        elif split == 'val':\n",
    "            src_path = 'dataset/data/clsdata(1031)/cls/images/val2019'\n",
    "            copy_path = 'dataset/tested_data/clsdata(1031)/cls/images/val2019'\n",
    "        elif split == 'test':\n",
    "            src_path = 'dataset/data/clsdata(1031)/cls/images/test2019'\n",
    "            copy_path = 'dataset/tested_data/clsdata(1031)/cls/images/test2019'\n",
    "\n",
    "    copy_image_path = None  \n",
    "    copied_count = 0\n",
    "\n",
    "    for image_name in image_filenames:\n",
    "        src_image_path = os.path.join(src_path, image_name)\n",
    "        copy_image_path = os.path.join(copy_path, image_name)\n",
    "\n",
    "        if os.path.exists(src_image_path):  \n",
    "            shutil.copy2(src_image_path, copy_image_path)\n",
    "            copied_count += 1\n",
    "        else:\n",
    "            print(f\"Cannot found any images in: {src_image_path}\")\n",
    "\n",
    "    if copied_count > 0:\n",
    "        print(f\"{copied_count}/{len(image_filenames)} images copied to {copy_path}\\n\")\n",
    "    else:\n",
    "        print(f\"No images are copied to {copy_path}\\n\")"
   ]
  },
  {
   "cell_type": "code",
   "execution_count": 10,
   "metadata": {},
   "outputs": [],
   "source": [
    "# Bar\n",
    "with open('dataset/tested_data/bardata(1031)/bar/annotations/instancesBar(1031)_train2019.json', \"r\", encoding=\"utf-8\") as f:\n",
    "    bar_train = json.load(f)\n",
    "\n",
    "with open('dataset/tested_data/bardata(1031)/bar/annotations/instancesBar(1031)_val2019.json', \"r\", encoding=\"utf-8\") as f:\n",
    "    bar_val = json.load(f)\n",
    "\n",
    "with open('dataset/tested_data/bardata(1031)/bar/annotations/instancesBar(1031)_test2019.json', \"r\", encoding=\"utf-8\") as f:\n",
    "    bar_test = json.load(f)\n",
    "\n",
    "# Pie\n",
    "with open('dataset/tested_data/piedata(1008)/pie/annotations/instancesPie(1008)_train2019.json', \"r\", encoding=\"utf-8\") as f:\n",
    "    pie_train = json.load(f)\n",
    "\n",
    "with open('dataset/tested_data/piedata(1008)/pie/annotations/instancesPie(1008)_val2019.json', \"r\", encoding=\"utf-8\") as f:\n",
    "    pie_val = json.load(f)\n",
    "\n",
    "with open('dataset/tested_data/piedata(1008)/pie/annotations/instancesPie(1008)_test2019.json', \"r\", encoding=\"utf-8\") as f:\n",
    "    pie_test = json.load(f)\n",
    "\n",
    "# Line\n",
    "with open('dataset/tested_data/linedata(1028)/line/annotations/instancesLine(1023)_train2019.json', \"r\", encoding=\"utf-8\") as f:\n",
    "    line_train = json.load(f)\n",
    "\n",
    "with open('dataset/tested_data/linedata(1028)/line/annotations/instancesLine(1023)_val2019.json', \"r\", encoding=\"utf-8\") as f:\n",
    "    line_val = json.load(f)\n",
    "\n",
    "with open('dataset/tested_data/linedata(1028)/line/annotations/instancesLine(1023)_test2019.json', \"r\", encoding=\"utf-8\") as f:\n",
    "    line_test = json.load(f)\n",
    "\n",
    "# Cls\n",
    "with open('dataset/tested_data/clsdata(1031)/cls/annotations/instancesCls(1031)_train2019.json', \"r\", encoding=\"utf-8\") as f:\n",
    "    cls_train = json.load(f)\n",
    "\n",
    "with open('dataset/tested_data/clsdata(1031)/cls/annotations/instancesCls(1031)_val2019.json', \"r\", encoding=\"utf-8\") as f:\n",
    "    cls_val = json.load(f)\n",
    "\n",
    "with open('dataset/tested_data/clsdata(1031)/cls/annotations/instancesCls(1031)_test2019.json', \"r\", encoding=\"utf-8\") as f:\n",
    "    cls_test = json.load(f)"
   ]
  },
  {
   "cell_type": "code",
   "execution_count": 11,
   "metadata": {},
   "outputs": [
    {
     "name": "stdout",
     "output_type": "stream",
     "text": [
      "Cannot found any images in: dataset/data/bardata(1031)/bar/images/train2019/010e66b87ddb5db07bcca1006d09e6ef_aGVwLnVjc2IuZWR1CTEyOC4xMTEuMTkuMzU=.xls-1-0.png\n",
      "Cannot found any images in: dataset/data/bardata(1031)/bar/images/train2019/011364fc1d615bc0ccba7f816c2c2a1d_d3d3LnByZWYua2Fnb3NoaW1hLmpwCTYxLjIwOC4yMDQuMzU=-9-0.png\n",
      "Cannot found any images in: dataset/data/bardata(1031)/bar/images/train2019/010de2766e1fb3e4899f75bf7c2c3e1f_c3RhdGljLWNvbnRlbnQuc3ByaW5nZXIuY29tCTIzLjYuMTA1LjIxNw==-1-0.png\n",
      "Cannot found any images in: dataset/data/bardata(1031)/bar/images/train2019/0113d4623b390271ad21c8ddc42da828_d3d3LnJndS5hYy51awkxOTMuNjMuMjM1LjE0Mg==.xls-2-0.png\n",
      "Cannot found any images in: dataset/data/bardata(1031)/bar/images/train2019/0113d4623b390271ad21c8ddc42da828_d3d3LnJndS5hYy51awkxOTMuNjMuMjM1LjE0Mg==.xls-3-0.png\n",
      "Cannot found any images in: dataset/data/bardata(1031)/bar/images/train2019/0111ad6be767e299d7f7ca8157c8fd9d_bm9pLWl0YWxpYTIwMTUuaXN0YXQuaXQJMTkzLjIwNC45MC4yMg==.xls-0-0.png\n",
      "Cannot found any images in: dataset/data/bardata(1031)/bar/images/train2019/01130970a08615a9292bbf2261da2240_d3d3LnRvLmNhbWNvbS5pdAk4MC44Mi45Ljcw.xls-0-0.png\n",
      "Cannot found any images in: dataset/data/bardata(1031)/bar/images/train2019/01113deadec2ac3e954631763c5717bc_d3d3LnByZWYuZ3VubWEuanAJMTExLjg3Ljg5Ljcw-7-0.png\n",
      "Cannot found any images in: dataset/data/bardata(1031)/bar/images/train2019/0113d4623b390271ad21c8ddc42da828_d3d3LnJndS5hYy51awkxOTMuNjMuMjM1LjE0Mg==.xls-1-0.png\n",
      "Cannot found any images in: dataset/data/bardata(1031)/bar/images/train2019/010fcb58eb927a215aec28834a7a4591_d3d3LmlzcHYuY3oJMjEyLjExMS4yOS4xMDM=.xls-21-0.png\n",
      "Cannot found any images in: dataset/data/bardata(1031)/bar/images/train2019/01124e8fb2a271159a0700322cf89172_c3RhdGlzdGlrLmFyYmVpdHNhZ2VudHVyLmRlCTE5NS44OC4xMTcuMTQ4.xls-5-1.png\n",
      "Cannot found any images in: dataset/data/bardata(1031)/bar/images/train2019/010fcb58eb927a215aec28834a7a4591_d3d3LmlzcHYuY3oJMjEyLjExMS4yOS4xMDM=.xls-23-0.png\n",
      "Cannot found any images in: dataset/data/bardata(1031)/bar/images/train2019/011022f318a3482e67eb81e1ee8d89c8_d3d3LmNhZi5mcgkxOTUuMTAxLjkyLjEw-0-0.png\n",
      "Cannot found any images in: dataset/data/bardata(1031)/bar/images/train2019/0113544983abc9c4ac20b5276ab05206_c3RhZHNtb25pdG9yLnZsYWFuZGVyZW4uYmUJMzEuMTkzLjE3OS4xNDI=-1-0.png\n",
      "Cannot found any images in: dataset/data/bardata(1031)/bar/images/train2019/01112914b1821f13c1cedfe006dde370_d3d3LnVzaXQudWlvLm5vCTEyOS4yNDAuMTcxLjIz-6-0.png\n",
      "Cannot found any images in: dataset/data/bardata(1031)/bar/images/train2019/01134ac8c266ee70bdf1a365e72848df_b3BzLmZod2EuZG90LmdvdgkyMDQuNjguMTk0LjIyNg==.xls-1-0.png\n",
      "Cannot found any images in: dataset/data/bardata(1031)/bar/images/train2019/01134ac8c266ee70bdf1a365e72848df_b3BzLmZod2EuZG90LmdvdgkyMDQuNjguMTk0LjIyNg==.xls-1-1.png\n",
      "Cannot found any images in: dataset/data/bardata(1031)/bar/images/train2019/010fcb58eb927a215aec28834a7a4591_d3d3LmlzcHYuY3oJMjEyLjExMS4yOS4xMDM=.xls-22-0.png\n",
      "Cannot found any images in: dataset/data/bardata(1031)/bar/images/train2019/010e66b87ddb5db07bcca1006d09e6ef_aGVwLnVjc2IuZWR1CTEyOC4xMTEuMTkuMzU=.xls-0-0.png\n",
      "Cannot found any images in: dataset/data/bardata(1031)/bar/images/train2019/01140ea69f7e2072bff323905b71c52c_d3d3LmNhZC5nby50aAkxMDMuNTUuMTQwLjM1-0-0.png\n",
      "No images are copied to dataset/tested_data/bardata(1031)/bar/images/train2019\n",
      "\n",
      "Cannot found any images in: dataset/data/bardata(1031)/bar/images/val2019/c49285ca77f6aff6214dad492b688113_d3d3LmRhbmUuZ292LmNvCTE3MC4yMzguNjQuNzg=.xls-0-0.png\n",
      "Cannot found any images in: dataset/data/bardata(1031)/bar/images/val2019/c49bfcb997437ebb0afc13986b889817_d3d3LndpbmVwaS5jb20JMjA3LjE1MC4yMTIuOTk=.xls-1-0.png\n",
      "Cannot found any images in: dataset/data/bardata(1031)/bar/images/val2019/c49830551627d9220fc08c5e9fe007b6_d3d3Lmdvdi5zY290CTEzNC4xOS4xNjEuMjQ5.xls-25-0.png\n",
      "Cannot found any images in: dataset/data/bardata(1031)/bar/images/val2019/c49285ca77f6aff6214dad492b688113_d3d3LmRhbmUuZ292LmNvCTE3MC4yMzguNjQuNzg=.xls-0-1.png\n",
      "Cannot found any images in: dataset/data/bardata(1031)/bar/images/val2019/c49bfcb997437ebb0afc13986b889817_d3d3LndpbmVwaS5jb20JMjA3LjE1MC4yMTIuOTk=.xls-0-0.png\n",
      "No images are copied to dataset/tested_data/bardata(1031)/bar/images/val2019\n",
      "\n",
      "Cannot found any images in: dataset/data/bardata(1031)/bar/images/test2019/8763f43082006c32874b58150a0bc2de_d3d3LnNpZ3JoLnNwLmdvdi5icgkyMDEuNTUuOC4xOA==.xls-4-0.png\n",
      "Cannot found any images in: dataset/data/bardata(1031)/bar/images/test2019/8763f43082006c32874b58150a0bc2de_d3d3LnNpZ3JoLnNwLmdvdi5icgkyMDEuNTUuOC4xOA==.xls-5-0.png\n",
      "Cannot found any images in: dataset/data/bardata(1031)/bar/images/test2019/8763309d9af01abde80aed0d82bd4a97_d3d3LnZvbGtzZ2V6b25kaGVpZGVuem9yZy5pbmZvCTEzMS4yMjQuMjUwLjEyMA==.xls-7-1.png\n",
      "Cannot found any images in: dataset/data/bardata(1031)/bar/images/test2019/8763f43082006c32874b58150a0bc2de_d3d3LnNpZ3JoLnNwLmdvdi5icgkyMDEuNTUuOC4xOA==.xls-3-0.png\n",
      "Cannot found any images in: dataset/data/bardata(1031)/bar/images/test2019/8763f43082006c32874b58150a0bc2de_d3d3LnNpZ3JoLnNwLmdvdi5icgkyMDEuNTUuOC4xOA==.xls-2-0.png\n",
      "No images are copied to dataset/tested_data/bardata(1031)/bar/images/test2019\n",
      "\n",
      "20/20 images copied to dataset/tested_data/piedata(1008)/pie/images/train2019\n",
      "\n",
      "5/5 images copied to dataset/tested_data/piedata(1008)/pie/images/val2019\n",
      "\n",
      "5/5 images copied to dataset/tested_data/piedata(1008)/pie/images/test2019\n",
      "\n",
      "Cannot found any images in: dataset/data/linedata(1028)/line/images/train2019/011be1b70b8c250e4480ee8869dc0e28_d3d3LmhlcmFmbHV4LmNvbQk2Ny4yMDUuMTkuMTYy-1-2.png\n",
      "Cannot found any images in: dataset/data/linedata(1028)/line/images/train2019/011c2152453331ddfd58060d76ac655d_d3d3LnRpbGx2YXh0YW5hbHlzLnNlCTE5My4xMy43NS4xNjc=.xls-3-0.png\n",
      "Cannot found any images in: dataset/data/linedata(1028)/line/images/train2019/01150a274cde5d6348861ac25981d0c9_d2lhbi5zZQk0Ni4zMC4yMTMuMTU5-0-0.png\n",
      "Cannot found any images in: dataset/data/linedata(1028)/line/images/train2019/011be1b70b8c250e4480ee8869dc0e28_d3d3LmhlcmFmbHV4LmNvbQk2Ny4yMDUuMTkuMTYy-1-1.png\n",
      "Cannot found any images in: dataset/data/linedata(1028)/line/images/train2019/011d7e67e65a0c5442ac74e66205e23c_d3d3Lmp1bnRhZGVhbmRhbHVjaWEuZXMJMjE3LjEyLjIwLjgx.xls-0-0.png\n",
      "Cannot found any images in: dataset/data/linedata(1028)/line/images/train2019/010dc67e1b26f32783db66d4f5adedde_d3d3LndlYXRoZXJmb3JzY2hvb2xzLm1lLnVrCTk0LjEzNi40MC4xMDM=.xls-0-0.png\n",
      "Cannot found any images in: dataset/data/linedata(1028)/line/images/train2019/011675e40a81a81b3ffe17645cd9dd20_Z2VlbG9uZ2F1c3RyYWxpYS5jb20uYXUJMTAzLjU0LjExMS4xNDE=.xls-0-0.png\n",
      "Cannot found any images in: dataset/data/linedata(1028)/line/images/train2019/011675e40a81a81b3ffe17645cd9dd20_Z2VlbG9uZ2F1c3RyYWxpYS5jb20uYXUJMTAzLjU0LjExMS4xNDE=.xls-0-2.png\n",
      "Cannot found any images in: dataset/data/linedata(1028)/line/images/train2019/011675e40a81a81b3ffe17645cd9dd20_Z2VlbG9uZ2F1c3RyYWxpYS5jb20uYXUJMTAzLjU0LjExMS4xNDE=.xls-0-3.png\n",
      "Cannot found any images in: dataset/data/linedata(1028)/line/images/train2019/011d873614682946593c32d2f218e68c_d3d3Lmxha2VtYWNodWIuY29tCTE5OS4zNC4yMjguNzg=-1-4.png\n",
      "Cannot found any images in: dataset/data/linedata(1028)/line/images/train2019/0117489cdedb6cf607e7d4d6e3bd1603_d3d3LnpkcmF2bGplLXNtLm9yZy5ycwkxOTQuOS45NC4yMzQ=.xls-1-1.png\n",
      "Cannot found any images in: dataset/data/linedata(1028)/line/images/train2019/011be1b70b8c250e4480ee8869dc0e28_d3d3LmhlcmFmbHV4LmNvbQk2Ny4yMDUuMTkuMTYy-1-0.png\n",
      "Cannot found any images in: dataset/data/linedata(1028)/line/images/train2019/011be1b70b8c250e4480ee8869dc0e28_d3d3LmhlcmFmbHV4LmNvbQk2Ny4yMDUuMTkuMTYy-2-1.png\n",
      "Cannot found any images in: dataset/data/linedata(1028)/line/images/train2019/011be1b70b8c250e4480ee8869dc0e28_d3d3LmhlcmFmbHV4LmNvbQk2Ny4yMDUuMTkuMTYy-2-0.png\n",
      "Cannot found any images in: dataset/data/linedata(1028)/line/images/train2019/011675e40a81a81b3ffe17645cd9dd20_Z2VlbG9uZ2F1c3RyYWxpYS5jb20uYXUJMTAzLjU0LjExMS4xNDE=.xls-0-4.png\n",
      "Cannot found any images in: dataset/data/linedata(1028)/line/images/train2019/0117fc3aacff3be3ff8dea9d51fbb73a_d3d3Lm1nZXguY29tCTIwOS40MS4xOTAuMTk1-1-1.png\n",
      "Cannot found any images in: dataset/data/linedata(1028)/line/images/train2019/011cfa71ee6a40347c27b3f23b6a327b_ZmlsZWRiLmV4cGVydHMtZXhjaGFuZ2UuY29tCTEzLjMyLjE3OS4zMw==.xls-2-0.png\n",
      "Cannot found any images in: dataset/data/linedata(1028)/line/images/train2019/011381777662f91281bb84a0bc2c69d6_bHV1bmphLmVlCTg1LjIyMi4yMzQuMTE=.xls-6-4.png\n",
      "Cannot found any images in: dataset/data/linedata(1028)/line/images/train2019/011802d532178cd81a62e2d135ebca79_d3d3Lm9zcy5jYwk5Ni4zMS4zMy4yOA==.xls-0-1.png\n",
      "Cannot found any images in: dataset/data/linedata(1028)/line/images/train2019/011802d532178cd81a62e2d135ebca79_d3d3Lm9zcy5jYwk5Ni4zMS4zMy4yOA==.xls-0-3.png\n",
      "No images are copied to dataset/tested_data/linedata(1028)/line/images/train2019\n",
      "\n",
      "Cannot found any images in: dataset/data/linedata(1028)/line/images/val2019/fa17e7508c43142828276534a0335fa8_d3d3LnNjYi5zZQkxOTMuMTgwLjEyNC45MQ==-3-0.png\n",
      "Cannot found any images in: dataset/data/linedata(1028)/line/images/val2019/fa15b8d2e1f1c2fe0a1768ae04c30f16_d3d3LmZhcmluLmNvbQk2NC4yNTEuMjA4LjI5-3-3.png\n",
      "Cannot found any images in: dataset/data/linedata(1028)/line/images/val2019/fa17e7508c43142828276534a0335fa8_d3d3LnNjYi5zZQkxOTMuMTgwLjEyNC45MQ==-3-2.png\n",
      "Cannot found any images in: dataset/data/linedata(1028)/line/images/val2019/fa17e7508c43142828276534a0335fa8_d3d3LnNjYi5zZQkxOTMuMTgwLjEyNC45MQ==-3-1.png\n",
      "Cannot found any images in: dataset/data/linedata(1028)/line/images/val2019/fa164d26f664703f96ed07dda2a05b48_d3d3LnByZWYuZnVrdWkuanAJMjIwLjIxMy4xODguMw==.xls-1-0.png\n",
      "No images are copied to dataset/tested_data/linedata(1028)/line/images/val2019\n",
      "\n",
      "Cannot found any images in: dataset/data/linedata(1028)/line/images/test2019/f4225b4df53bb3fdebc333923ffae00e_Z2VucHJvay1zemZvLnJ1CTMxLjMxLjE5Ni4yMDU=.xls-2-0.png\n",
      "Cannot found any images in: dataset/data/linedata(1028)/line/images/test2019/f4225b4df53bb3fdebc333923ffae00e_Z2VucHJvay1zemZvLnJ1CTMxLjMxLjE5Ni4yMDU=.xls-3-1.png\n",
      "Cannot found any images in: dataset/data/linedata(1028)/line/images/test2019/f4225b4df53bb3fdebc333923ffae00e_Z2VucHJvay1zemZvLnJ1CTMxLjMxLjE5Ni4yMDU=.xls-4-0.png\n",
      "Cannot found any images in: dataset/data/linedata(1028)/line/images/test2019/f4225b4df53bb3fdebc333923ffae00e_Z2VucHJvay1zemZvLnJ1CTMxLjMxLjE5Ni4yMDU=.xls-3-0.png\n",
      "Cannot found any images in: dataset/data/linedata(1028)/line/images/test2019/f4226061824545abea6f8b236d592c67_YmVzdGFuZGVuLm5vb3JkLWhvbGxhbmQubmwJMTk0LjMzLjExMi4xNzk=-0-0.png\n",
      "No images are copied to dataset/tested_data/linedata(1028)/line/images/test2019\n",
      "\n",
      "19/19 images copied to dataset/tested_data/clsdata(1031)/cls/images/train2019\n",
      "\n",
      "4/4 images copied to dataset/tested_data/clsdata(1031)/cls/images/val2019\n",
      "\n",
      "4/4 images copied to dataset/tested_data/clsdata(1031)/cls/images/test2019\n",
      "\n",
      "CPU times: user 5.89 ms, sys: 5.79 ms, total: 11.7 ms\n",
      "Wall time: 23.4 ms\n"
     ]
    }
   ],
   "source": [
    "%%time\n",
    "\n",
    "copy_images(bar_train, 'bar', 'train')\n",
    "copy_images(bar_val, 'bar', 'val')\n",
    "copy_images(bar_test, 'bar', 'test')\n",
    "\n",
    "copy_images(pie_train, 'pie', 'train')\n",
    "copy_images(pie_val, 'pie', 'val')\n",
    "copy_images(pie_test, 'pie', 'test')\n",
    "\n",
    "copy_images(line_train, 'line', 'train')\n",
    "copy_images(line_val, 'line', 'val')\n",
    "copy_images(line_test, 'line', 'test')\n",
    "\n",
    "copy_images(cls_train, 'cls', 'train')\n",
    "copy_images(cls_val, 'cls', 'val')\n",
    "copy_images(cls_test, 'cls', 'test')"
   ]
  },
  {
   "cell_type": "code",
   "execution_count": null,
   "metadata": {},
   "outputs": [],
   "source": [
    "import json\n",
    "import pandas as pd"
   ]
  },
  {
   "cell_type": "code",
   "execution_count": 17,
   "metadata": {},
   "outputs": [],
   "source": [
    "with open(\"./dataset/test1/piedata(1008)/pie//annotations/instancesPie(1008)_val2019.json\") as f:   \n",
    "    data = json.load(f)\n",
    "    \n",
    "annotations_df = pd.DataFrame(data['annotations'])"
   ]
  },
  {
   "cell_type": "code",
   "execution_count": 14,
   "metadata": {},
   "outputs": [
    {
     "data": {
      "text/plain": [
       "dict_keys(['licenses', 'images', 'annotations', 'categories'])"
      ]
     },
     "execution_count": 14,
     "metadata": {},
     "output_type": "execute_result"
    }
   ],
   "source": [
    "data.keys()"
   ]
  },
  {
   "cell_type": "code",
   "execution_count": 28,
   "metadata": {},
   "outputs": [
    {
     "data": {
      "text/plain": [
       "{'file_name': 'fa266c2d49db01fdb7ce6ea711764300_d3d3Lmdvdi5zY290CTEzNC4xOS4xNjEuMjQ5-37-0.png',\n",
       " 'height': 209,\n",
       " 'width': 417,\n",
       " 'id': 75000}"
      ]
     },
     "execution_count": 28,
     "metadata": {},
     "output_type": "execute_result"
    }
   ],
   "source": [
    "data[\"images\"][1]"
   ]
  },
  {
   "cell_type": "code",
   "execution_count": 19,
   "metadata": {},
   "outputs": [],
   "source": [
    "import cv2\n",
    "import matplotlib.pyplot as plt"
   ]
  },
  {
   "cell_type": "code",
   "execution_count": 27,
   "metadata": {},
   "outputs": [
    {
     "data": {
      "text/plain": [
       "<matplotlib.image.AxesImage at 0x7efd99bceb10>"
      ]
     },
     "execution_count": 27,
     "metadata": {},
     "output_type": "execute_result"
    },
    {
     "data": {
      "image/png": "[encoded data removed]",
      "text/plain": [
       "<Figure size 640x480 with 1 Axes>"
      ]
     },
     "metadata": {},
     "output_type": "display_data"
    }
   ],
   "source": [
    "img = cv2.imread(\"./dataset/data/piedata(1008)/pie/images/val2019/\" + data[\"images\"][1][\"file_name\"])\n",
    "plt.imshow(img)"
   ]
  },
  {
   "cell_type": "code",
   "execution_count": 29,
   "metadata": {},
   "outputs": [
    {
     "data": {
      "application/vnd.microsoft.datawrangler.viewer.v0+json": {
       "columns": [
        {
         "name": "index",
         "rawType": "int64",
         "type": "integer"
        },
        {
         "name": "image_id",
         "rawType": "int64",
         "type": "integer"
        },
        {
         "name": "category_id",
         "rawType": "int64",
         "type": "integer"
        },
        {
         "name": "bbox",
         "rawType": "object",
         "type": "unknown"
        },
        {
         "name": "area",
         "rawType": "float64",
         "type": "float"
        },
        {
         "name": "id",
         "rawType": "int64",
         "type": "integer"
        }
       ],
       "conversionMethod": "pd.DataFrame",
       "ref": "794f6703-cd7a-409c-9a10-ecd34c5b8ca7",
       "rows": [
        [
         "2",
         "75000",
         "0",
         "[202.0, 37.0, 126.0, 96.0, 202.0, 115.0]",
         "4050.6662618012",
         "433874"
        ],
        [
         "3",
         "75000",
         "0",
         "[126.0, 96.0, 202.0, 37.0, 202.0, 115.0]",
         "4050.6662618012",
         "433875"
        ]
       ],
       "shape": {
        "columns": 5,
        "rows": 2
       }
      },
      "text/html": [
       "<div>\n",
       "<style scoped>\n",
       "    .dataframe tbody tr th:only-of-type {\n",
       "        vertical-align: middle;\n",
       "    }\n",
       "\n",
       "    .dataframe tbody tr th {\n",
       "        vertical-align: top;\n",
       "    }\n",
       "\n",
       "    .dataframe thead th {\n",
       "        text-align: right;\n",
       "    }\n",
       "</style>\n",
       "<table border=\"1\" class=\"dataframe\">\n",
       "  <thead>\n",
       "    <tr style=\"text-align: right;\">\n",
       "      <th></th>\n",
       "      <th>image_id</th>\n",
       "      <th>category_id</th>\n",
       "      <th>bbox</th>\n",
       "      <th>area</th>\n",
       "      <th>id</th>\n",
       "    </tr>\n",
       "  </thead>\n",
       "  <tbody>\n",
       "    <tr>\n",
       "      <th>2</th>\n",
       "      <td>75000</td>\n",
       "      <td>0</td>\n",
       "      <td>[202.0, 37.0, 126.0, 96.0, 202.0, 115.0]</td>\n",
       "      <td>4050.666262</td>\n",
       "      <td>433874</td>\n",
       "    </tr>\n",
       "    <tr>\n",
       "      <th>3</th>\n",
       "      <td>75000</td>\n",
       "      <td>0</td>\n",
       "      <td>[126.0, 96.0, 202.0, 37.0, 202.0, 115.0]</td>\n",
       "      <td>4050.666262</td>\n",
       "      <td>433875</td>\n",
       "    </tr>\n",
       "  </tbody>\n",
       "</table>\n",
       "</div>"
      ],
      "text/plain": [
       "   image_id  category_id                                      bbox  \\\n",
       "2     75000            0  [202.0, 37.0, 126.0, 96.0, 202.0, 115.0]   \n",
       "3     75000            0  [126.0, 96.0, 202.0, 37.0, 202.0, 115.0]   \n",
       "\n",
       "          area      id  \n",
       "2  4050.666262  433874  \n",
       "3  4050.666262  433875  "
      ]
     },
     "execution_count": 29,
     "metadata": {},
     "output_type": "execute_result"
    }
   ],
   "source": [
    "annotations_df[annotations_df[\"image_id\"] == 75000]"
   ]
  },
  {
   "cell_type": "code",
   "execution_count": null,
   "metadata": {},
   "outputs": [],
   "source": []
  }
 ],
 "metadata": {
  "kernelspec": {
   "display_name": "base",
   "language": "python",
   "name": "python3"
  },
  "language_info": {
   "codemirror_mode": {
    "name": "ipython",
    "version": 3
   },
   "file_extension": ".py",
   "mimetype": "text/x-python",
   "name": "python",
   "nbconvert_exporter": "python",
   "pygments_lexer": "ipython3",
   "version": "3.12.2"
  }
 },
 "nbformat": 4,
 "nbformat_minor": 2
}
