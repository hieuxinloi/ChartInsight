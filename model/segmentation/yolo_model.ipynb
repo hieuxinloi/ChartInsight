{
 "cells": [
  {
   "cell_type": "code",
   "execution_count": 2,
   "metadata": {},
   "outputs": [],
   "source": [
    "from ultralytics import YOLO"
   ]
  },
  {
   "cell_type": "code",
   "execution_count": 3,
   "metadata": {},
   "outputs": [],
   "source": [
    "model = YOLO(\"./yolo11n-seg.pt\")"
   ]
  },
  {
   "cell_type": "code",
   "execution_count": 5,
   "metadata": {},
   "outputs": [
    {
     "name": "stdout",
     "output_type": "stream",
     "text": [
      "Ultralytics 8.3.78  Python-3.12.4 torch-2.6.0+cu118 CUDA:0 (NVIDIA GeForce RTX 2050, 4096MiB)\n",
      "\u001b[34m\u001b[1mengine\\trainer: \u001b[0mtask=segment, mode=train, model=./yolo11n-seg.pt, data=./segmentation.yaml, epochs=20, time=None, patience=100, batch=8, imgsz=640, save=True, save_period=-1, cache=False, device=None, workers=8, project=None, name=train6, exist_ok=False, pretrained=True, optimizer=auto, verbose=True, seed=0, deterministic=True, single_cls=False, rect=False, cos_lr=False, close_mosaic=10, resume=False, amp=True, fraction=1.0, profile=False, freeze=None, multi_scale=False, overlap_mask=True, mask_ratio=4, dropout=0.0, val=True, split=val, save_json=False, save_hybrid=False, conf=None, iou=0.7, max_det=300, half=False, dnn=False, plots=True, source=None, vid_stride=1, stream_buffer=False, visualize=False, augment=False, agnostic_nms=False, classes=None, retina_masks=False, embed=None, show=False, save_frames=False, save_txt=False, save_conf=False, save_crop=False, show_labels=True, show_conf=True, show_boxes=True, line_width=None, format=torchscript, keras=False, optimize=False, int8=False, dynamic=False, simplify=True, opset=None, workspace=None, nms=False, lr0=0.01, lrf=0.01, momentum=0.937, weight_decay=0.0005, warmup_epochs=3.0, warmup_momentum=0.8, warmup_bias_lr=0.1, box=7.5, cls=0.5, dfl=1.5, pose=12.0, kobj=1.0, nbs=64, hsv_h=0.015, hsv_s=0.7, hsv_v=0.4, degrees=0.0, translate=0.1, scale=0.5, shear=0.0, perspective=0.0, flipud=0.0, fliplr=0.5, bgr=0.0, mosaic=1.0, mixup=0.0, copy_paste=0.0, copy_paste_mode=flip, auto_augment=randaugment, erasing=0.4, crop_fraction=1.0, cfg=None, tracker=botsort.yaml, save_dir=runs\\segment\\train6\n",
      "Overriding model.yaml nc=80 with nc=1\n",
      "\n",
      "                   from  n    params  module                                       arguments                     \n",
      "  0                  -1  1       464  ultralytics.nn.modules.conv.Conv             [3, 16, 3, 2]                 \n",
      "  1                  -1  1      4672  ultralytics.nn.modules.conv.Conv             [16, 32, 3, 2]                \n",
      "  2                  -1  1      6640  ultralytics.nn.modules.block.C3k2            [32, 64, 1, False, 0.25]      \n",
      "  3                  -1  1     36992  ultralytics.nn.modules.conv.Conv             [64, 64, 3, 2]                \n",
      "  4                  -1  1     26080  ultralytics.nn.modules.block.C3k2            [64, 128, 1, False, 0.25]     \n",
      "  5                  -1  1    147712  ultralytics.nn.modules.conv.Conv             [128, 128, 3, 2]              \n",
      "  6                  -1  1     87040  ultralytics.nn.modules.block.C3k2            [128, 128, 1, True]           \n",
      "  7                  -1  1    295424  ultralytics.nn.modules.conv.Conv             [128, 256, 3, 2]              \n",
      "  8                  -1  1    346112  ultralytics.nn.modules.block.C3k2            [256, 256, 1, True]           \n",
      "  9                  -1  1    164608  ultralytics.nn.modules.block.SPPF            [256, 256, 5]                 \n",
      " 10                  -1  1    249728  ultralytics.nn.modules.block.C2PSA           [256, 256, 1]                 \n",
      " 11                  -1  1         0  torch.nn.modules.upsampling.Upsample         [None, 2, 'nearest']          \n",
      " 12             [-1, 6]  1         0  ultralytics.nn.modules.conv.Concat           [1]                           \n",
      " 13                  -1  1    111296  ultralytics.nn.modules.block.C3k2            [384, 128, 1, False]          \n",
      " 14                  -1  1         0  torch.nn.modules.upsampling.Upsample         [None, 2, 'nearest']          \n",
      " 15             [-1, 4]  1         0  ultralytics.nn.modules.conv.Concat           [1]                           \n",
      " 16                  -1  1     32096  ultralytics.nn.modules.block.C3k2            [256, 64, 1, False]           \n",
      " 17                  -1  1     36992  ultralytics.nn.modules.conv.Conv             [64, 64, 3, 2]                \n",
      " 18            [-1, 13]  1         0  ultralytics.nn.modules.conv.Concat           [1]                           \n",
      " 19                  -1  1     86720  ultralytics.nn.modules.block.C3k2            [192, 128, 1, False]          \n",
      " 20                  -1  1    147712  ultralytics.nn.modules.conv.Conv             [128, 128, 3, 2]              \n",
      " 21            [-1, 10]  1         0  ultralytics.nn.modules.conv.Concat           [1]                           \n",
      " 22                  -1  1    378880  ultralytics.nn.modules.block.C3k2            [384, 256, 1, True]           \n",
      " 23        [16, 19, 22]  1    683635  ultralytics.nn.modules.head.Segment          [1, 32, 64, [64, 128, 256]]   \n",
      "YOLO11n-seg summary: 203 layers, 2,842,803 parameters, 2,842,787 gradients, 10.4 GFLOPs\n",
      "\n",
      "Transferred 510/561 items from pretrained weights\n",
      "\u001b[34m\u001b[1mTensorBoard: \u001b[0mStart with 'tensorboard --logdir runs\\segment\\train6', view at http://localhost:6006/\n",
      "Freezing layer 'model.23.dfl.conv.weight'\n",
      "\u001b[34m\u001b[1mAMP: \u001b[0mrunning Automatic Mixed Precision (AMP) checks...\n",
      "\u001b[34m\u001b[1mAMP: \u001b[0mchecks passed \n"
     ]
    },
    {
     "name": "stderr",
     "output_type": "stream",
     "text": [
      "\u001b[34m\u001b[1mtrain: \u001b[0mScanning D:\\FPT\\2025\\SPRING\\DPL302m\\ASSIGNMENTS_AND_EXAMS\\PROJECTS\\ChartInsight\\assets\\dataset\\test1\\piedata(1008)\\pie\\labels\\train2019.cache... 200 images, 0 backgrounds, 0 corrupt: 100%|██████████| 200/200 [00:00<?, ?it/s]"
     ]
    },
    {
     "name": "stdout",
     "output_type": "stream",
     "text": [
      "\u001b[34m\u001b[1mtrain: \u001b[0mWARNING  D:\\FPT\\2025\\SPRING\\DPL302m\\ASSIGNMENTS_AND_EXAMS\\PROJECTS\\ChartInsight\\assets\\dataset\\test1\\piedata(1008)\\pie\\images\\train2019\\010efb92d7359b4ac0568fcfd0ed4335_d3d3LmluZWdpLm9yZy5teAkyMDAuMzMuMTA5LjU=.xls-12-0.png: 1 duplicate labels removed\n",
      "\u001b[34m\u001b[1mtrain: \u001b[0mWARNING  D:\\FPT\\2025\\SPRING\\DPL302m\\ASSIGNMENTS_AND_EXAMS\\PROJECTS\\ChartInsight\\assets\\dataset\\test1\\piedata(1008)\\pie\\images\\train2019\\010efb92d7359b4ac0568fcfd0ed4335_d3d3LmluZWdpLm9yZy5teAkyMDAuMzMuMTA5LjU=.xls-12-1.png: 1 duplicate labels removed\n",
      "\u001b[34m\u001b[1mtrain: \u001b[0mWARNING  D:\\FPT\\2025\\SPRING\\DPL302m\\ASSIGNMENTS_AND_EXAMS\\PROJECTS\\ChartInsight\\assets\\dataset\\test1\\piedata(1008)\\pie\\images\\train2019\\0113320311f66e1c6a22aa1a830eb25e_d3d3Lmdlb2NpdGllcy5qcAkxMTguMTUxLjIzMS4xNzk=.xls-2-1.png: 1 duplicate labels removed\n",
      "\u001b[34m\u001b[1mtrain: \u001b[0mWARNING  D:\\FPT\\2025\\SPRING\\DPL302m\\ASSIGNMENTS_AND_EXAMS\\PROJECTS\\ChartInsight\\assets\\dataset\\test1\\piedata(1008)\\pie\\images\\train2019\\0113320311f66e1c6a22aa1a830eb25e_d3d3Lmdlb2NpdGllcy5qcAkxMTguMTUxLjIzMS4xNzk=.xls-2-2.png: 1 duplicate labels removed\n",
      "\u001b[34m\u001b[1mtrain: \u001b[0mWARNING  D:\\FPT\\2025\\SPRING\\DPL302m\\ASSIGNMENTS_AND_EXAMS\\PROJECTS\\ChartInsight\\assets\\dataset\\test1\\piedata(1008)\\pie\\images\\train2019\\0117534fc68e9993f3224513a30802f4_Y3VuZGluZXQuY3VuZGluYW1hcmNhLmdvdi5jbwkxOTAuMjcuMjM5LjEzOA==.xls-0-1.png: 1 duplicate labels removed\n",
      "\u001b[34m\u001b[1mtrain: \u001b[0mWARNING  D:\\FPT\\2025\\SPRING\\DPL302m\\ASSIGNMENTS_AND_EXAMS\\PROJECTS\\ChartInsight\\assets\\dataset\\test1\\piedata(1008)\\pie\\images\\train2019\\01183e1ea47750ceb3cfe06ebfcfb7b2_cGRzdC5pZQkxNDQuNzYuMjAyLjQ=.xls-1-2.png: 1 duplicate labels removed\n",
      "\u001b[34m\u001b[1mtrain: \u001b[0mWARNING  D:\\FPT\\2025\\SPRING\\DPL302m\\ASSIGNMENTS_AND_EXAMS\\PROJECTS\\ChartInsight\\assets\\dataset\\test1\\piedata(1008)\\pie\\images\\train2019\\011b34b6325ea1cd48a7a0cb9023370c_cGRzdC5pZQkxNDQuNzYuMjAyLjQ=.xls-1-2.png: 1 duplicate labels removed\n",
      "\u001b[34m\u001b[1mtrain: \u001b[0mWARNING  D:\\FPT\\2025\\SPRING\\DPL302m\\ASSIGNMENTS_AND_EXAMS\\PROJECTS\\ChartInsight\\assets\\dataset\\test1\\piedata(1008)\\pie\\images\\train2019\\012192ea1e4ad8ab14264f0092c249a3_d3d3LmNsZmEuY3oJODkuMTg3LjE0Mi4xMjU=.xls-0-2.png: 1 duplicate labels removed\n",
      "\u001b[34m\u001b[1mtrain: \u001b[0mWARNING  D:\\FPT\\2025\\SPRING\\DPL302m\\ASSIGNMENTS_AND_EXAMS\\PROJECTS\\ChartInsight\\assets\\dataset\\test1\\piedata(1008)\\pie\\images\\train2019\\01229506ff90ddbc474224422649abd3_d3d3Lm1hZHJpZC5vcmcJNC4yNy44LjEyNg==.xls-3-0.png: 1 duplicate labels removed\n",
      "\u001b[34m\u001b[1mtrain: \u001b[0mWARNING  D:\\FPT\\2025\\SPRING\\DPL302m\\ASSIGNMENTS_AND_EXAMS\\PROJECTS\\ChartInsight\\assets\\dataset\\test1\\piedata(1008)\\pie\\images\\train2019\\01229506ff90ddbc474224422649abd3_d3d3Lm1hZHJpZC5vcmcJNC4yNy44LjEyNg==.xls-3-1.png: 1 duplicate labels removed\n",
      "\u001b[34m\u001b[1mtrain: \u001b[0mWARNING  D:\\FPT\\2025\\SPRING\\DPL302m\\ASSIGNMENTS_AND_EXAMS\\PROJECTS\\ChartInsight\\assets\\dataset\\test1\\piedata(1008)\\pie\\images\\train2019\\01229506ff90ddbc474224422649abd3_d3d3Lm1hZHJpZC5vcmcJNC4yNy44LjEyNg==.xls-3-2.png: 1 duplicate labels removed\n",
      "\u001b[34m\u001b[1mtrain: \u001b[0mWARNING  D:\\FPT\\2025\\SPRING\\DPL302m\\ASSIGNMENTS_AND_EXAMS\\PROJECTS\\ChartInsight\\assets\\dataset\\test1\\piedata(1008)\\pie\\images\\train2019\\01229506ff90ddbc474224422649abd3_d3d3Lm1hZHJpZC5vcmcJNC4yNy44LjEyNg==.xls-3-3.png: 1 duplicate labels removed\n",
      "\u001b[34m\u001b[1mtrain: \u001b[0mWARNING  D:\\FPT\\2025\\SPRING\\DPL302m\\ASSIGNMENTS_AND_EXAMS\\PROJECTS\\ChartInsight\\assets\\dataset\\test1\\piedata(1008)\\pie\\images\\train2019\\01229506ff90ddbc474224422649abd3_d3d3Lm1hZHJpZC5vcmcJNC4yNy44LjEyNg==.xls-3-4.png: 1 duplicate labels removed\n",
      "\u001b[34m\u001b[1mtrain: \u001b[0mWARNING  D:\\FPT\\2025\\SPRING\\DPL302m\\ASSIGNMENTS_AND_EXAMS\\PROJECTS\\ChartInsight\\assets\\dataset\\test1\\piedata(1008)\\pie\\images\\train2019\\0123ce69801a6f4a2e1b8ca4ddf8c556_d3d3LmFyY290ZWwuZ29iLmVjCTE3OS40OS4yLjEzMQ==-4-0.png: 1 duplicate labels removed\n",
      "\u001b[34m\u001b[1mtrain: \u001b[0mWARNING  D:\\FPT\\2025\\SPRING\\DPL302m\\ASSIGNMENTS_AND_EXAMS\\PROJECTS\\ChartInsight\\assets\\dataset\\test1\\piedata(1008)\\pie\\images\\train2019\\0126da41a07a65efe1b74237f6018d90_d3d3Lmp1bnRhZGVhbmRhbHVjaWEuZXMJMjE3LjEyLjE2Ljgx.xls-0-0.png: 1 duplicate labels removed\n",
      "\u001b[34m\u001b[1mtrain: \u001b[0mWARNING  D:\\FPT\\2025\\SPRING\\DPL302m\\ASSIGNMENTS_AND_EXAMS\\PROJECTS\\ChartInsight\\assets\\dataset\\test1\\piedata(1008)\\pie\\images\\train2019\\0126da41a07a65efe1b74237f6018d90_d3d3Lmp1bnRhZGVhbmRhbHVjaWEuZXMJMjE3LjEyLjE2Ljgx.xls-1-0.png: 1 duplicate labels removed\n",
      "\u001b[34m\u001b[1mtrain: \u001b[0mWARNING  D:\\FPT\\2025\\SPRING\\DPL302m\\ASSIGNMENTS_AND_EXAMS\\PROJECTS\\ChartInsight\\assets\\dataset\\test1\\piedata(1008)\\pie\\images\\train2019\\0126da41a07a65efe1b74237f6018d90_d3d3Lmp1bnRhZGVhbmRhbHVjaWEuZXMJMjE3LjEyLjE2Ljgx.xls-2-0.png: 1 duplicate labels removed\n",
      "\u001b[34m\u001b[1mtrain: \u001b[0mWARNING  D:\\FPT\\2025\\SPRING\\DPL302m\\ASSIGNMENTS_AND_EXAMS\\PROJECTS\\ChartInsight\\assets\\dataset\\test1\\piedata(1008)\\pie\\images\\train2019\\0126da41a07a65efe1b74237f6018d90_d3d3Lmp1bnRhZGVhbmRhbHVjaWEuZXMJMjE3LjEyLjE2Ljgx.xls-3-0.png: 1 duplicate labels removed\n",
      "\u001b[34m\u001b[1mtrain: \u001b[0mWARNING  D:\\FPT\\2025\\SPRING\\DPL302m\\ASSIGNMENTS_AND_EXAMS\\PROJECTS\\ChartInsight\\assets\\dataset\\test1\\piedata(1008)\\pie\\images\\train2019\\0126da41a07a65efe1b74237f6018d90_d3d3Lmp1bnRhZGVhbmRhbHVjaWEuZXMJMjE3LjEyLjE2Ljgx.xls-4-0.png: 1 duplicate labels removed\n",
      "\u001b[34m\u001b[1mtrain: \u001b[0mWARNING  D:\\FPT\\2025\\SPRING\\DPL302m\\ASSIGNMENTS_AND_EXAMS\\PROJECTS\\ChartInsight\\assets\\dataset\\test1\\piedata(1008)\\pie\\images\\train2019\\012dff5d944b4f79007068556e93198f_b2xkLnpzZG9icmljaG92aWNlLmN6CTIxMy4xNTEuODcuMTI=.xls-0-1.png: 1 duplicate labels removed\n",
      "\u001b[34m\u001b[1mtrain: \u001b[0mWARNING  D:\\FPT\\2025\\SPRING\\DPL302m\\ASSIGNMENTS_AND_EXAMS\\PROJECTS\\ChartInsight\\assets\\dataset\\test1\\piedata(1008)\\pie\\images\\train2019\\012dff5d944b4f79007068556e93198f_b2xkLnpzZG9icmljaG92aWNlLmN6CTIxMy4xNTEuODcuMTI=.xls-1-1.png: 1 duplicate labels removed\n",
      "\u001b[34m\u001b[1mtrain: \u001b[0mWARNING  D:\\FPT\\2025\\SPRING\\DPL302m\\ASSIGNMENTS_AND_EXAMS\\PROJECTS\\ChartInsight\\assets\\dataset\\test1\\piedata(1008)\\pie\\images\\train2019\\013b10dbfaba64957d8c5a026c8502d1_d3d3LmluZWdpLm9yZy5teAkyMDAuMzMuMTA5LjU=.xls-18-1.png: 1 duplicate labels removed\n",
      "\u001b[34m\u001b[1mtrain: \u001b[0mWARNING  D:\\FPT\\2025\\SPRING\\DPL302m\\ASSIGNMENTS_AND_EXAMS\\PROJECTS\\ChartInsight\\assets\\dataset\\test1\\piedata(1008)\\pie\\images\\train2019\\013b10dbfaba64957d8c5a026c8502d1_d3d3LmluZWdpLm9yZy5teAkyMDAuMzMuMTA5LjU=.xls-18-3.png: 1 duplicate labels removed\n",
      "\u001b[34m\u001b[1mtrain: \u001b[0mWARNING  D:\\FPT\\2025\\SPRING\\DPL302m\\ASSIGNMENTS_AND_EXAMS\\PROJECTS\\ChartInsight\\assets\\dataset\\test1\\piedata(1008)\\pie\\images\\train2019\\013e5323ef82cc7f79628d75b643f546_d3d3Lndpc2hybS5vcmcJNjYuMTcwLjMxLjk2.xls-5-0.png: 1 duplicate labels removed\n",
      "\u001b[34m\u001b[1mtrain: \u001b[0mWARNING  D:\\FPT\\2025\\SPRING\\DPL302m\\ASSIGNMENTS_AND_EXAMS\\PROJECTS\\ChartInsight\\assets\\dataset\\test1\\piedata(1008)\\pie\\images\\train2019\\0140288114fc1ff2b3f7baed967f1436_cmlvLmFuZHJldy5hYy5qcAkyMDIuNDguMTI4Ljkw.xls-5-1.png: 1 duplicate labels removed\n",
      "\u001b[34m\u001b[1mtrain: \u001b[0mWARNING  D:\\FPT\\2025\\SPRING\\DPL302m\\ASSIGNMENTS_AND_EXAMS\\PROJECTS\\ChartInsight\\assets\\dataset\\test1\\piedata(1008)\\pie\\images\\train2019\\014348c647aee71d7dbc3e25a18cc2b3_d3d3LmxhZW1vbnQuY29tCTQwLjEwOC4xMzcuMjg=-0-2.png: 1 duplicate labels removed\n",
      "\u001b[34m\u001b[1mtrain: \u001b[0mWARNING  D:\\FPT\\2025\\SPRING\\DPL302m\\ASSIGNMENTS_AND_EXAMS\\PROJECTS\\ChartInsight\\assets\\dataset\\test1\\piedata(1008)\\pie\\images\\train2019\\0151a2a1d44d33220a3be212bd4d265b_d3d3LnJ1Y293b21lbi5vcmcJMjE5Ljk0LjEyOC4xODQ=-0-0.png: 1 duplicate labels removed\n",
      "\u001b[34m\u001b[1mtrain: \u001b[0mWARNING  D:\\FPT\\2025\\SPRING\\DPL302m\\ASSIGNMENTS_AND_EXAMS\\PROJECTS\\ChartInsight\\assets\\dataset\\test1\\piedata(1008)\\pie\\images\\train2019\\015447e0cfb1bd66e07b23f5c619fcc4_d3d3LnN0YXJpbmRpYXJlc2VhcmNoLmNvbQk2NS42MC4xMC41NA==-0-0.png: 1 duplicate labels removed\n",
      "\u001b[34m\u001b[1mtrain: \u001b[0mWARNING  D:\\FPT\\2025\\SPRING\\DPL302m\\ASSIGNMENTS_AND_EXAMS\\PROJECTS\\ChartInsight\\assets\\dataset\\test1\\piedata(1008)\\pie\\images\\train2019\\0155923c210d7b1e9c8588de9b709aa1_d3d3LnByZWYua3VtYW1vdG8uanAJMTE4LjEwMy4zNC4xMDk=.xls-0-0.png: 1 duplicate labels removed\n",
      "\u001b[34m\u001b[1mtrain: \u001b[0mWARNING  D:\\FPT\\2025\\SPRING\\DPL302m\\ASSIGNMENTS_AND_EXAMS\\PROJECTS\\ChartInsight\\assets\\dataset\\test1\\piedata(1008)\\pie\\images\\train2019\\015ade24f21b89f9de2b63835e3aeaea_d3d3LnNvaS5zawkyMTcuMzEuNTguNTM=.xls-6-0.png: 1 duplicate labels removed\n",
      "\u001b[34m\u001b[1mtrain: \u001b[0mWARNING  D:\\FPT\\2025\\SPRING\\DPL302m\\ASSIGNMENTS_AND_EXAMS\\PROJECTS\\ChartInsight\\assets\\dataset\\test1\\piedata(1008)\\pie\\images\\train2019\\01685c31c9fef83b55946f0e548d4198_d3d3LnplbmpvaGt5b3UubmV0CTE1Ny43LjEwNy44Nw==.xls-0-1.png: 1 duplicate labels removed\n",
      "\u001b[34m\u001b[1mtrain: \u001b[0mWARNING  D:\\FPT\\2025\\SPRING\\DPL302m\\ASSIGNMENTS_AND_EXAMS\\PROJECTS\\ChartInsight\\assets\\dataset\\test1\\piedata(1008)\\pie\\images\\train2019\\01685c31c9fef83b55946f0e548d4198_d3d3LnplbmpvaGt5b3UubmV0CTE1Ny43LjEwNy44Nw==.xls-0-2.png: 1 duplicate labels removed\n",
      "\u001b[34m\u001b[1mtrain: \u001b[0mWARNING  D:\\FPT\\2025\\SPRING\\DPL302m\\ASSIGNMENTS_AND_EXAMS\\PROJECTS\\ChartInsight\\assets\\dataset\\test1\\piedata(1008)\\pie\\images\\train2019\\01685c31c9fef83b55946f0e548d4198_d3d3LnplbmpvaGt5b3UubmV0CTE1Ny43LjEwNy44Nw==.xls-0-3.png: 1 duplicate labels removed\n",
      "\u001b[34m\u001b[1mtrain: \u001b[0mWARNING  D:\\FPT\\2025\\SPRING\\DPL302m\\ASSIGNMENTS_AND_EXAMS\\PROJECTS\\ChartInsight\\assets\\dataset\\test1\\piedata(1008)\\pie\\images\\train2019\\01685c31c9fef83b55946f0e548d4198_d3d3LnplbmpvaGt5b3UubmV0CTE1Ny43LjEwNy44Nw==.xls-1-0.png: 1 duplicate labels removed\n",
      "\u001b[34m\u001b[1mtrain: \u001b[0mWARNING  D:\\FPT\\2025\\SPRING\\DPL302m\\ASSIGNMENTS_AND_EXAMS\\PROJECTS\\ChartInsight\\assets\\dataset\\test1\\piedata(1008)\\pie\\images\\train2019\\016bbc86c67133f1c4c412797a84c5ad_d3d3LmNpdHkubmVyaW1hLnRva3lvLmpwCTI3LjExMC40Mi4xNDg=.xls-34-1.png: 1 duplicate labels removed\n",
      "\u001b[34m\u001b[1mtrain: \u001b[0mWARNING  D:\\FPT\\2025\\SPRING\\DPL302m\\ASSIGNMENTS_AND_EXAMS\\PROJECTS\\ChartInsight\\assets\\dataset\\test1\\piedata(1008)\\pie\\images\\train2019\\016bbc86c67133f1c4c412797a84c5ad_d3d3LmNpdHkubmVyaW1hLnRva3lvLmpwCTI3LjExMC40Mi4xNDg=.xls-34-2.png: 1 duplicate labels removed\n",
      "\u001b[34m\u001b[1mtrain: \u001b[0mWARNING  D:\\FPT\\2025\\SPRING\\DPL302m\\ASSIGNMENTS_AND_EXAMS\\PROJECTS\\ChartInsight\\assets\\dataset\\test1\\piedata(1008)\\pie\\images\\train2019\\016edd8c8c411ac63ad4dba12c28e94b_d3d3LnN0YXJpbmRpYXJlc2VhcmNoLmNvbQk2NS42MC4xMC41NA==-0-0.png: 1 duplicate labels removed\n",
      "\u001b[34m\u001b[1mtrain: \u001b[0mWARNING  D:\\FPT\\2025\\SPRING\\DPL302m\\ASSIGNMENTS_AND_EXAMS\\PROJECTS\\ChartInsight\\assets\\dataset\\test1\\piedata(1008)\\pie\\images\\train2019\\0170005ecf3f2105023fea587850c840_d3d3LnN0YXJpbmRpYXJlc2VhcmNoLmNvbQk2NS42MC4xMC41NA==-0-0.png: 1 duplicate labels removed\n",
      "\u001b[34m\u001b[1mtrain: \u001b[0mWARNING  D:\\FPT\\2025\\SPRING\\DPL302m\\ASSIGNMENTS_AND_EXAMS\\PROJECTS\\ChartInsight\\assets\\dataset\\test1\\piedata(1008)\\pie\\images\\train2019\\017806b2813cd952491e3e9777692e30_d3d3LmNiYy5nb3YudHcJMjEwLjY5LjEyMC4yNTI=-4-0.png: 1 duplicate labels removed\n",
      "\u001b[34m\u001b[1mtrain: \u001b[0mWARNING  D:\\FPT\\2025\\SPRING\\DPL302m\\ASSIGNMENTS_AND_EXAMS\\PROJECTS\\ChartInsight\\assets\\dataset\\test1\\piedata(1008)\\pie\\images\\train2019\\017806b2813cd952491e3e9777692e30_d3d3LmNiYy5nb3YudHcJMjEwLjY5LjEyMC4yNTI=-4-1.png: 1 duplicate labels removed\n",
      "\u001b[34m\u001b[1mtrain: \u001b[0mWARNING  D:\\FPT\\2025\\SPRING\\DPL302m\\ASSIGNMENTS_AND_EXAMS\\PROJECTS\\ChartInsight\\assets\\dataset\\test1\\piedata(1008)\\pie\\images\\train2019\\01789aa7b84577c645ee35b65a6e3c0c_Y21zbmV3LnBkc3QuaWUJMTQ0Ljc2LjIwMi40.xls-1-2.png: 1 duplicate labels removed\n",
      "\u001b[34m\u001b[1mtrain: \u001b[0mWARNING  D:\\FPT\\2025\\SPRING\\DPL302m\\ASSIGNMENTS_AND_EXAMS\\PROJECTS\\ChartInsight\\assets\\dataset\\test1\\piedata(1008)\\pie\\images\\train2019\\01790e1ffed9f404d10c6503303a1d8d_d3d3LnByZWYuaWJhcmFraS5qcAkyMTAuMTQwLjcyLjcy.xls-0-0.png: 1 duplicate labels removed\n",
      "\u001b[34m\u001b[1mtrain: \u001b[0mWARNING  D:\\FPT\\2025\\SPRING\\DPL302m\\ASSIGNMENTS_AND_EXAMS\\PROJECTS\\ChartInsight\\assets\\dataset\\test1\\piedata(1008)\\pie\\images\\train2019\\01790e1ffed9f404d10c6503303a1d8d_d3d3LnByZWYuaWJhcmFraS5qcAkyMTAuMTQwLjcyLjcy.xls-0-4.png: 1 duplicate labels removed\n",
      "\u001b[34m\u001b[1mtrain: \u001b[0mWARNING  D:\\FPT\\2025\\SPRING\\DPL302m\\ASSIGNMENTS_AND_EXAMS\\PROJECTS\\ChartInsight\\assets\\dataset\\test1\\piedata(1008)\\pie\\images\\train2019\\017b653862d21250a2d3048d635276dd_cGwtc3RhdGljLnotZG4ubmV0CTEwNC4xNi4yMzMuMjA1-0-0.png: 1 duplicate labels removed\n",
      "\u001b[34m\u001b[1mtrain: \u001b[0mWARNING  D:\\FPT\\2025\\SPRING\\DPL302m\\ASSIGNMENTS_AND_EXAMS\\PROJECTS\\ChartInsight\\assets\\dataset\\test1\\piedata(1008)\\pie\\images\\train2019\\017d5b05777276e206b9cf5131da701a_d3d3LnByZWYuaWJhcmFraS5qcAkyMTAuMTQwLjcyLjcy-0-2.png: 1 duplicate labels removed\n",
      "\u001b[34m\u001b[1mtrain: \u001b[0mWARNING  D:\\FPT\\2025\\SPRING\\DPL302m\\ASSIGNMENTS_AND_EXAMS\\PROJECTS\\ChartInsight\\assets\\dataset\\test1\\piedata(1008)\\pie\\images\\train2019\\017d84b5cb1ca7333bf27616d8e7d77e_d3d3LmZlbGluLnJlCTIxMy4xODYuMzMuODc=.xls-1-3.png: 1 duplicate labels removed\n",
      "\u001b[34m\u001b[1mtrain: \u001b[0mWARNING  D:\\FPT\\2025\\SPRING\\DPL302m\\ASSIGNMENTS_AND_EXAMS\\PROJECTS\\ChartInsight\\assets\\dataset\\test1\\piedata(1008)\\pie\\images\\train2019\\01827569139af92ef2a5d0244ac29643_d3d3LnN0YXJpbmRpYXJlc2VhcmNoLmNvbQk2NS42MC4xMC41NA==-0-0.png: 1 duplicate labels removed\n"
     ]
    },
    {
     "name": "stderr",
     "output_type": "stream",
     "text": [
      "\n",
      "\u001b[34m\u001b[1mval: \u001b[0mScanning D:\\FPT\\2025\\SPRING\\DPL302m\\ASSIGNMENTS_AND_EXAMS\\PROJECTS\\ChartInsight\\assets\\dataset\\test1\\piedata(1008)\\pie\\labels\\val2019.cache... 10 images, 0 backgrounds, 0 corrupt: 100%|██████████| 10/10 [00:00<?, ?it/s]"
     ]
    },
    {
     "name": "stdout",
     "output_type": "stream",
     "text": [
      "\u001b[34m\u001b[1mval: \u001b[0mWARNING  D:\\FPT\\2025\\SPRING\\DPL302m\\ASSIGNMENTS_AND_EXAMS\\PROJECTS\\ChartInsight\\assets\\dataset\\test1\\piedata(1008)\\pie\\images\\val2019\\fa24976c77e27de00464f38e61a996af_d3d3LmNpdHkudGFrYW1hdHN1LmthZ2F3YS5qcAkxMDEuMTAyLjIxOC4zOQ==.xls-0-1.png: 1 duplicate labels removed\n",
      "\u001b[34m\u001b[1mval: \u001b[0mWARNING  D:\\FPT\\2025\\SPRING\\DPL302m\\ASSIGNMENTS_AND_EXAMS\\PROJECTS\\ChartInsight\\assets\\dataset\\test1\\piedata(1008)\\pie\\images\\val2019\\fa266c2d49db01fdb7ce6ea711764300_d3d3Lmdvdi5zY290CTEzNC4xOS4xNjEuMjQ5-37-0.png: 1 duplicate labels removed\n"
     ]
    },
    {
     "name": "stderr",
     "output_type": "stream",
     "text": [
      "\n"
     ]
    },
    {
     "name": "stdout",
     "output_type": "stream",
     "text": [
      "Plotting labels to runs\\segment\\train6\\labels.jpg... \n"
     ]
    },
    {
     "ename": "",
     "evalue": "",
     "output_type": "error",
     "traceback": [
      "\u001b[1;31mThe Kernel crashed while executing code in the current cell or a previous cell. \n",
      "\u001b[1;31mPlease review the code in the cell(s) to identify a possible cause of the failure. \n",
      "\u001b[1;31mClick <a href='https://aka.ms/vscodeJupyterKernelCrash'>here</a> for more info. \n",
      "\u001b[1;31mView Jupyter <a href='command:jupyter.viewOutput'>log</a> for further details."
     ]
    }
   ],
   "source": [
    "model.train(\n",
    "    data = \"./segmentation.yaml\",\n",
    "    epochs = 20, \n",
    "    batch = 8,\n",
    "    imgsz = 640\n",
    ")"
   ]
  },
  {
   "cell_type": "code",
   "execution_count": null,
   "metadata": {},
   "outputs": [],
   "source": []
  }
 ],
 "metadata": {
  "kernelspec": {
   "display_name": "base",
   "language": "python",
   "name": "python3"
  },
  "language_info": {
   "codemirror_mode": {
    "name": "ipython",
    "version": 3
   },
   "file_extension": ".py",
   "mimetype": "text/x-python",
   "name": "python",
   "nbconvert_exporter": "python",
   "pygments_lexer": "ipython3",
   "version": "3.12.4"
  }
 },
 "nbformat": 4,
 "nbformat_minor": 2
}
