{
 "cells": [
  {
   "cell_type": "code",
   "execution_count": 3,
   "metadata": {},
   "outputs": [],
   "source": [
    "from ultralytics import YOLO"
   ]
  },
  {
   "cell_type": "code",
   "execution_count": 4,
   "metadata": {},
   "outputs": [],
   "source": [
    "model = YOLO(\"./yolov8n-seg.pt\")"
   ]
  },
  {
   "cell_type": "code",
   "execution_count": 5,
   "metadata": {},
   "outputs": [
    {
     "name": "stdout",
     "output_type": "stream",
     "text": [
      "Sun Feb 23 16:03:09 2025       \n",
      "+-----------------------------------------------------------------------------------------+\n",
      "| NVIDIA-SMI 550.120                Driver Version: 550.120        CUDA Version: 12.4     |\n",
      "|-----------------------------------------+------------------------+----------------------+\n",
      "| GPU  Name                 Persistence-M | Bus-Id          Disp.A | Volatile Uncorr. ECC |\n",
      "| Fan  Temp   Perf          Pwr:Usage/Cap |           Memory-Usage | GPU-Util  Compute M. |\n",
      "|                                         |                        |               MIG M. |\n",
      "|=========================================+========================+======================|\n",
      "|   0  NVIDIA GeForce RTX 2050        Off |   00000000:01:00.0 Off |                  N/A |\n",
      "| N/A   39C    P0            748W /   50W |       5MiB /   4096MiB |      0%      Default |\n",
      "|                                         |                        |                  N/A |\n",
      "+-----------------------------------------+------------------------+----------------------+\n",
      "                                                                                         \n",
      "+-----------------------------------------------------------------------------------------+\n",
      "| Processes:                                                                              |\n",
      "|  GPU   GI   CI        PID   Type   Process name                              GPU Memory |\n",
      "|        ID   ID                                                               Usage      |\n",
      "|=========================================================================================|\n",
      "|    0   N/A  N/A      2166      G   /usr/bin/gnome-shell                            1MiB |\n",
      "+-----------------------------------------------------------------------------------------+\n"
     ]
    }
   ],
   "source": [
    "!nvidia-smi"
   ]
  },
  {
   "cell_type": "code",
   "execution_count": 6,
   "metadata": {},
   "outputs": [
    {
     "name": "stdout",
     "output_type": "stream",
     "text": [
      "Ultralytics 8.3.78 🚀 Python-3.12.2 torch-2.5.1+cu124 CUDA:0 (NVIDIA GeForce RTX 2050, 3895MiB)\n",
      "\u001b[34m\u001b[1mengine/trainer: \u001b[0mtask=segment, mode=train, model=./yolov8n-seg.pt, data=./segmentation.yaml, epochs=20, time=None, patience=100, batch=5, imgsz=640, save=True, save_period=-1, cache=False, device=None, workers=2, project=None, name=train4, exist_ok=False, pretrained=True, optimizer=auto, verbose=True, seed=0, deterministic=True, single_cls=False, rect=False, cos_lr=False, close_mosaic=10, resume=False, amp=True, fraction=1.0, profile=False, freeze=None, multi_scale=False, overlap_mask=True, mask_ratio=4, dropout=0.0, val=True, split=val, save_json=False, save_hybrid=False, conf=None, iou=0.7, max_det=300, half=False, dnn=False, plots=True, source=None, vid_stride=1, stream_buffer=False, visualize=False, augment=False, agnostic_nms=False, classes=None, retina_masks=False, embed=None, show=False, save_frames=False, save_txt=False, save_conf=False, save_crop=False, show_labels=True, show_conf=True, show_boxes=True, line_width=None, format=torchscript, keras=False, optimize=False, int8=False, dynamic=False, simplify=True, opset=None, workspace=None, nms=False, lr0=0.01, lrf=0.01, momentum=0.937, weight_decay=0.0005, warmup_epochs=3.0, warmup_momentum=0.8, warmup_bias_lr=0.1, box=7.5, cls=0.5, dfl=1.5, pose=12.0, kobj=1.0, nbs=64, hsv_h=0.015, hsv_s=0.7, hsv_v=0.4, degrees=0.0, translate=0.1, scale=0.5, shear=0.0, perspective=0.0, flipud=0.0, fliplr=0.5, bgr=0.0, mosaic=1.0, mixup=0.0, copy_paste=0.0, copy_paste_mode=flip, auto_augment=randaugment, erasing=0.4, crop_fraction=1.0, cfg=None, tracker=botsort.yaml, save_dir=runs/segment/train4\n",
      "Overriding model.yaml nc=80 with nc=1\n",
      "\n",
      "                   from  n    params  module                                       arguments                     \n",
      "  0                  -1  1       464  ultralytics.nn.modules.conv.Conv             [3, 16, 3, 2]                 \n",
      "  1                  -1  1      4672  ultralytics.nn.modules.conv.Conv             [16, 32, 3, 2]                \n",
      "  2                  -1  1      7360  ultralytics.nn.modules.block.C2f             [32, 32, 1, True]             \n",
      "  3                  -1  1     18560  ultralytics.nn.modules.conv.Conv             [32, 64, 3, 2]                \n",
      "  4                  -1  2     49664  ultralytics.nn.modules.block.C2f             [64, 64, 2, True]             \n",
      "  5                  -1  1     73984  ultralytics.nn.modules.conv.Conv             [64, 128, 3, 2]               \n",
      "  6                  -1  2    197632  ultralytics.nn.modules.block.C2f             [128, 128, 2, True]           \n",
      "  7                  -1  1    295424  ultralytics.nn.modules.conv.Conv             [128, 256, 3, 2]              \n",
      "  8                  -1  1    460288  ultralytics.nn.modules.block.C2f             [256, 256, 1, True]           \n",
      "  9                  -1  1    164608  ultralytics.nn.modules.block.SPPF            [256, 256, 5]                 \n",
      " 10                  -1  1         0  torch.nn.modules.upsampling.Upsample         [None, 2, 'nearest']          \n",
      " 11             [-1, 6]  1         0  ultralytics.nn.modules.conv.Concat           [1]                           \n",
      " 12                  -1  1    148224  ultralytics.nn.modules.block.C2f             [384, 128, 1]                 \n",
      " 13                  -1  1         0  torch.nn.modules.upsampling.Upsample         [None, 2, 'nearest']          \n",
      " 14             [-1, 4]  1         0  ultralytics.nn.modules.conv.Concat           [1]                           \n",
      " 15                  -1  1     37248  ultralytics.nn.modules.block.C2f             [192, 64, 1]                  \n",
      " 16                  -1  1     36992  ultralytics.nn.modules.conv.Conv             [64, 64, 3, 2]                \n",
      " 17            [-1, 12]  1         0  ultralytics.nn.modules.conv.Concat           [1]                           \n",
      " 18                  -1  1    123648  ultralytics.nn.modules.block.C2f             [192, 128, 1]                 \n",
      " 19                  -1  1    147712  ultralytics.nn.modules.conv.Conv             [128, 128, 3, 2]              \n",
      " 20             [-1, 9]  1         0  ultralytics.nn.modules.conv.Concat           [1]                           \n",
      " 21                  -1  1    493056  ultralytics.nn.modules.block.C2f             [384, 256, 1]                 \n",
      " 22        [15, 18, 21]  1   1004275  ultralytics.nn.modules.head.Segment          [1, 32, 64, [64, 128, 256]]   \n",
      "YOLOv8n-seg summary: 151 layers, 3,263,811 parameters, 3,263,795 gradients, 12.1 GFLOPs\n",
      "\n",
      "Transferred 381/417 items from pretrained weights\n",
      "\u001b[34m\u001b[1mTensorBoard: \u001b[0mStart with 'tensorboard --logdir runs/segment/train4', view at http://localhost:6006/\n",
      "Freezing layer 'model.22.dfl.conv.weight'\n",
      "\u001b[34m\u001b[1mAMP: \u001b[0mrunning Automatic Mixed Precision (AMP) checks...\n",
      "\u001b[34m\u001b[1mAMP: \u001b[0mchecks passed ✅\n"
     ]
    },
    {
     "name": "stderr",
     "output_type": "stream",
     "text": [
      "\u001b[34m\u001b[1mtrain: \u001b[0mScanning /media/vietz/Data5/FPT/2025/SPRING/DPL302m/ASSIGNMENTS_AND_EXAMS/PROJECTS/ChartInsight/assets/dataset/test1/piedata(1008)/pie/labels/train2019... 200 images, 0 backgrounds, 0 corrupt: 100%|██████████| 200/200 [00:00<00:00, 1430.60it/s]"
     ]
    },
    {
     "name": "stdout",
     "output_type": "stream",
     "text": [
      "\u001b[34m\u001b[1mtrain: \u001b[0mWARNING ⚠️ /media/vietz/Data5/FPT/2025/SPRING/DPL302m/ASSIGNMENTS_AND_EXAMS/PROJECTS/ChartInsight/assets/dataset/test1/piedata(1008)/pie/images/train2019/010efb92d7359b4ac0568fcfd0ed4335_d3d3LmluZWdpLm9yZy5teAkyMDAuMzMuMTA5LjU=.xls-12-0.png: 1 duplicate labels removed\n",
      "\u001b[34m\u001b[1mtrain: \u001b[0mWARNING ⚠️ /media/vietz/Data5/FPT/2025/SPRING/DPL302m/ASSIGNMENTS_AND_EXAMS/PROJECTS/ChartInsight/assets/dataset/test1/piedata(1008)/pie/images/train2019/010efb92d7359b4ac0568fcfd0ed4335_d3d3LmluZWdpLm9yZy5teAkyMDAuMzMuMTA5LjU=.xls-12-1.png: 1 duplicate labels removed\n",
      "\u001b[34m\u001b[1mtrain: \u001b[0mWARNING ⚠️ /media/vietz/Data5/FPT/2025/SPRING/DPL302m/ASSIGNMENTS_AND_EXAMS/PROJECTS/ChartInsight/assets/dataset/test1/piedata(1008)/pie/images/train2019/0113320311f66e1c6a22aa1a830eb25e_d3d3Lmdlb2NpdGllcy5qcAkxMTguMTUxLjIzMS4xNzk=.xls-2-1.png: 1 duplicate labels removed\n",
      "\u001b[34m\u001b[1mtrain: \u001b[0mWARNING ⚠️ /media/vietz/Data5/FPT/2025/SPRING/DPL302m/ASSIGNMENTS_AND_EXAMS/PROJECTS/ChartInsight/assets/dataset/test1/piedata(1008)/pie/images/train2019/0113320311f66e1c6a22aa1a830eb25e_d3d3Lmdlb2NpdGllcy5qcAkxMTguMTUxLjIzMS4xNzk=.xls-2-2.png: 1 duplicate labels removed\n",
      "\u001b[34m\u001b[1mtrain: \u001b[0mWARNING ⚠️ /media/vietz/Data5/FPT/2025/SPRING/DPL302m/ASSIGNMENTS_AND_EXAMS/PROJECTS/ChartInsight/assets/dataset/test1/piedata(1008)/pie/images/train2019/0117534fc68e9993f3224513a30802f4_Y3VuZGluZXQuY3VuZGluYW1hcmNhLmdvdi5jbwkxOTAuMjcuMjM5LjEzOA==.xls-0-1.png: 1 duplicate labels removed\n",
      "\u001b[34m\u001b[1mtrain: \u001b[0mWARNING ⚠️ /media/vietz/Data5/FPT/2025/SPRING/DPL302m/ASSIGNMENTS_AND_EXAMS/PROJECTS/ChartInsight/assets/dataset/test1/piedata(1008)/pie/images/train2019/01183e1ea47750ceb3cfe06ebfcfb7b2_cGRzdC5pZQkxNDQuNzYuMjAyLjQ=.xls-1-2.png: 1 duplicate labels removed\n",
      "\u001b[34m\u001b[1mtrain: \u001b[0mWARNING ⚠️ /media/vietz/Data5/FPT/2025/SPRING/DPL302m/ASSIGNMENTS_AND_EXAMS/PROJECTS/ChartInsight/assets/dataset/test1/piedata(1008)/pie/images/train2019/011b34b6325ea1cd48a7a0cb9023370c_cGRzdC5pZQkxNDQuNzYuMjAyLjQ=.xls-1-2.png: 1 duplicate labels removed\n",
      "\u001b[34m\u001b[1mtrain: \u001b[0mWARNING ⚠️ /media/vietz/Data5/FPT/2025/SPRING/DPL302m/ASSIGNMENTS_AND_EXAMS/PROJECTS/ChartInsight/assets/dataset/test1/piedata(1008)/pie/images/train2019/012192ea1e4ad8ab14264f0092c249a3_d3d3LmNsZmEuY3oJODkuMTg3LjE0Mi4xMjU=.xls-0-2.png: 1 duplicate labels removed\n",
      "\u001b[34m\u001b[1mtrain: \u001b[0mWARNING ⚠️ /media/vietz/Data5/FPT/2025/SPRING/DPL302m/ASSIGNMENTS_AND_EXAMS/PROJECTS/ChartInsight/assets/dataset/test1/piedata(1008)/pie/images/train2019/01229506ff90ddbc474224422649abd3_d3d3Lm1hZHJpZC5vcmcJNC4yNy44LjEyNg==.xls-3-0.png: 1 duplicate labels removed\n",
      "\u001b[34m\u001b[1mtrain: \u001b[0mWARNING ⚠️ /media/vietz/Data5/FPT/2025/SPRING/DPL302m/ASSIGNMENTS_AND_EXAMS/PROJECTS/ChartInsight/assets/dataset/test1/piedata(1008)/pie/images/train2019/01229506ff90ddbc474224422649abd3_d3d3Lm1hZHJpZC5vcmcJNC4yNy44LjEyNg==.xls-3-1.png: 1 duplicate labels removed\n",
      "\u001b[34m\u001b[1mtrain: \u001b[0mWARNING ⚠️ /media/vietz/Data5/FPT/2025/SPRING/DPL302m/ASSIGNMENTS_AND_EXAMS/PROJECTS/ChartInsight/assets/dataset/test1/piedata(1008)/pie/images/train2019/01229506ff90ddbc474224422649abd3_d3d3Lm1hZHJpZC5vcmcJNC4yNy44LjEyNg==.xls-3-2.png: 1 duplicate labels removed\n",
      "\u001b[34m\u001b[1mtrain: \u001b[0mWARNING ⚠️ /media/vietz/Data5/FPT/2025/SPRING/DPL302m/ASSIGNMENTS_AND_EXAMS/PROJECTS/ChartInsight/assets/dataset/test1/piedata(1008)/pie/images/train2019/01229506ff90ddbc474224422649abd3_d3d3Lm1hZHJpZC5vcmcJNC4yNy44LjEyNg==.xls-3-3.png: 1 duplicate labels removed\n",
      "\u001b[34m\u001b[1mtrain: \u001b[0mWARNING ⚠️ /media/vietz/Data5/FPT/2025/SPRING/DPL302m/ASSIGNMENTS_AND_EXAMS/PROJECTS/ChartInsight/assets/dataset/test1/piedata(1008)/pie/images/train2019/01229506ff90ddbc474224422649abd3_d3d3Lm1hZHJpZC5vcmcJNC4yNy44LjEyNg==.xls-3-4.png: 1 duplicate labels removed\n",
      "\u001b[34m\u001b[1mtrain: \u001b[0mWARNING ⚠️ /media/vietz/Data5/FPT/2025/SPRING/DPL302m/ASSIGNMENTS_AND_EXAMS/PROJECTS/ChartInsight/assets/dataset/test1/piedata(1008)/pie/images/train2019/0123ce69801a6f4a2e1b8ca4ddf8c556_d3d3LmFyY290ZWwuZ29iLmVjCTE3OS40OS4yLjEzMQ==-4-0.png: 1 duplicate labels removed\n",
      "\u001b[34m\u001b[1mtrain: \u001b[0mWARNING ⚠️ /media/vietz/Data5/FPT/2025/SPRING/DPL302m/ASSIGNMENTS_AND_EXAMS/PROJECTS/ChartInsight/assets/dataset/test1/piedata(1008)/pie/images/train2019/0126da41a07a65efe1b74237f6018d90_d3d3Lmp1bnRhZGVhbmRhbHVjaWEuZXMJMjE3LjEyLjE2Ljgx.xls-0-0.png: 1 duplicate labels removed\n",
      "\u001b[34m\u001b[1mtrain: \u001b[0mWARNING ⚠️ /media/vietz/Data5/FPT/2025/SPRING/DPL302m/ASSIGNMENTS_AND_EXAMS/PROJECTS/ChartInsight/assets/dataset/test1/piedata(1008)/pie/images/train2019/0126da41a07a65efe1b74237f6018d90_d3d3Lmp1bnRhZGVhbmRhbHVjaWEuZXMJMjE3LjEyLjE2Ljgx.xls-1-0.png: 1 duplicate labels removed\n",
      "\u001b[34m\u001b[1mtrain: \u001b[0mWARNING ⚠️ /media/vietz/Data5/FPT/2025/SPRING/DPL302m/ASSIGNMENTS_AND_EXAMS/PROJECTS/ChartInsight/assets/dataset/test1/piedata(1008)/pie/images/train2019/0126da41a07a65efe1b74237f6018d90_d3d3Lmp1bnRhZGVhbmRhbHVjaWEuZXMJMjE3LjEyLjE2Ljgx.xls-2-0.png: 1 duplicate labels removed\n",
      "\u001b[34m\u001b[1mtrain: \u001b[0mWARNING ⚠️ /media/vietz/Data5/FPT/2025/SPRING/DPL302m/ASSIGNMENTS_AND_EXAMS/PROJECTS/ChartInsight/assets/dataset/test1/piedata(1008)/pie/images/train2019/0126da41a07a65efe1b74237f6018d90_d3d3Lmp1bnRhZGVhbmRhbHVjaWEuZXMJMjE3LjEyLjE2Ljgx.xls-3-0.png: 1 duplicate labels removed\n",
      "\u001b[34m\u001b[1mtrain: \u001b[0mWARNING ⚠️ /media/vietz/Data5/FPT/2025/SPRING/DPL302m/ASSIGNMENTS_AND_EXAMS/PROJECTS/ChartInsight/assets/dataset/test1/piedata(1008)/pie/images/train2019/0126da41a07a65efe1b74237f6018d90_d3d3Lmp1bnRhZGVhbmRhbHVjaWEuZXMJMjE3LjEyLjE2Ljgx.xls-4-0.png: 1 duplicate labels removed\n",
      "\u001b[34m\u001b[1mtrain: \u001b[0mWARNING ⚠️ /media/vietz/Data5/FPT/2025/SPRING/DPL302m/ASSIGNMENTS_AND_EXAMS/PROJECTS/ChartInsight/assets/dataset/test1/piedata(1008)/pie/images/train2019/012dff5d944b4f79007068556e93198f_b2xkLnpzZG9icmljaG92aWNlLmN6CTIxMy4xNTEuODcuMTI=.xls-0-1.png: 1 duplicate labels removed\n",
      "\u001b[34m\u001b[1mtrain: \u001b[0mWARNING ⚠️ /media/vietz/Data5/FPT/2025/SPRING/DPL302m/ASSIGNMENTS_AND_EXAMS/PROJECTS/ChartInsight/assets/dataset/test1/piedata(1008)/pie/images/train2019/012dff5d944b4f79007068556e93198f_b2xkLnpzZG9icmljaG92aWNlLmN6CTIxMy4xNTEuODcuMTI=.xls-1-1.png: 1 duplicate labels removed\n",
      "\u001b[34m\u001b[1mtrain: \u001b[0mWARNING ⚠️ /media/vietz/Data5/FPT/2025/SPRING/DPL302m/ASSIGNMENTS_AND_EXAMS/PROJECTS/ChartInsight/assets/dataset/test1/piedata(1008)/pie/images/train2019/013b10dbfaba64957d8c5a026c8502d1_d3d3LmluZWdpLm9yZy5teAkyMDAuMzMuMTA5LjU=.xls-18-1.png: 1 duplicate labels removed\n",
      "\u001b[34m\u001b[1mtrain: \u001b[0mWARNING ⚠️ /media/vietz/Data5/FPT/2025/SPRING/DPL302m/ASSIGNMENTS_AND_EXAMS/PROJECTS/ChartInsight/assets/dataset/test1/piedata(1008)/pie/images/train2019/013b10dbfaba64957d8c5a026c8502d1_d3d3LmluZWdpLm9yZy5teAkyMDAuMzMuMTA5LjU=.xls-18-3.png: 1 duplicate labels removed\n",
      "\u001b[34m\u001b[1mtrain: \u001b[0mWARNING ⚠️ /media/vietz/Data5/FPT/2025/SPRING/DPL302m/ASSIGNMENTS_AND_EXAMS/PROJECTS/ChartInsight/assets/dataset/test1/piedata(1008)/pie/images/train2019/013e5323ef82cc7f79628d75b643f546_d3d3Lndpc2hybS5vcmcJNjYuMTcwLjMxLjk2.xls-5-0.png: 1 duplicate labels removed\n",
      "\u001b[34m\u001b[1mtrain: \u001b[0mWARNING ⚠️ /media/vietz/Data5/FPT/2025/SPRING/DPL302m/ASSIGNMENTS_AND_EXAMS/PROJECTS/ChartInsight/assets/dataset/test1/piedata(1008)/pie/images/train2019/0140288114fc1ff2b3f7baed967f1436_cmlvLmFuZHJldy5hYy5qcAkyMDIuNDguMTI4Ljkw.xls-5-1.png: 1 duplicate labels removed\n",
      "\u001b[34m\u001b[1mtrain: \u001b[0mWARNING ⚠️ /media/vietz/Data5/FPT/2025/SPRING/DPL302m/ASSIGNMENTS_AND_EXAMS/PROJECTS/ChartInsight/assets/dataset/test1/piedata(1008)/pie/images/train2019/014348c647aee71d7dbc3e25a18cc2b3_d3d3LmxhZW1vbnQuY29tCTQwLjEwOC4xMzcuMjg=-0-2.png: 1 duplicate labels removed\n",
      "\u001b[34m\u001b[1mtrain: \u001b[0mWARNING ⚠️ /media/vietz/Data5/FPT/2025/SPRING/DPL302m/ASSIGNMENTS_AND_EXAMS/PROJECTS/ChartInsight/assets/dataset/test1/piedata(1008)/pie/images/train2019/0151a2a1d44d33220a3be212bd4d265b_d3d3LnJ1Y293b21lbi5vcmcJMjE5Ljk0LjEyOC4xODQ=-0-0.png: 1 duplicate labels removed\n",
      "\u001b[34m\u001b[1mtrain: \u001b[0mWARNING ⚠️ /media/vietz/Data5/FPT/2025/SPRING/DPL302m/ASSIGNMENTS_AND_EXAMS/PROJECTS/ChartInsight/assets/dataset/test1/piedata(1008)/pie/images/train2019/015447e0cfb1bd66e07b23f5c619fcc4_d3d3LnN0YXJpbmRpYXJlc2VhcmNoLmNvbQk2NS42MC4xMC41NA==-0-0.png: 1 duplicate labels removed\n",
      "\u001b[34m\u001b[1mtrain: \u001b[0mWARNING ⚠️ /media/vietz/Data5/FPT/2025/SPRING/DPL302m/ASSIGNMENTS_AND_EXAMS/PROJECTS/ChartInsight/assets/dataset/test1/piedata(1008)/pie/images/train2019/0155923c210d7b1e9c8588de9b709aa1_d3d3LnByZWYua3VtYW1vdG8uanAJMTE4LjEwMy4zNC4xMDk=.xls-0-0.png: 1 duplicate labels removed\n",
      "\u001b[34m\u001b[1mtrain: \u001b[0mWARNING ⚠️ /media/vietz/Data5/FPT/2025/SPRING/DPL302m/ASSIGNMENTS_AND_EXAMS/PROJECTS/ChartInsight/assets/dataset/test1/piedata(1008)/pie/images/train2019/015ade24f21b89f9de2b63835e3aeaea_d3d3LnNvaS5zawkyMTcuMzEuNTguNTM=.xls-6-0.png: 1 duplicate labels removed\n",
      "\u001b[34m\u001b[1mtrain: \u001b[0mWARNING ⚠️ /media/vietz/Data5/FPT/2025/SPRING/DPL302m/ASSIGNMENTS_AND_EXAMS/PROJECTS/ChartInsight/assets/dataset/test1/piedata(1008)/pie/images/train2019/01685c31c9fef83b55946f0e548d4198_d3d3LnplbmpvaGt5b3UubmV0CTE1Ny43LjEwNy44Nw==.xls-0-1.png: 1 duplicate labels removed\n",
      "\u001b[34m\u001b[1mtrain: \u001b[0mWARNING ⚠️ /media/vietz/Data5/FPT/2025/SPRING/DPL302m/ASSIGNMENTS_AND_EXAMS/PROJECTS/ChartInsight/assets/dataset/test1/piedata(1008)/pie/images/train2019/01685c31c9fef83b55946f0e548d4198_d3d3LnplbmpvaGt5b3UubmV0CTE1Ny43LjEwNy44Nw==.xls-0-2.png: 1 duplicate labels removed\n",
      "\u001b[34m\u001b[1mtrain: \u001b[0mWARNING ⚠️ /media/vietz/Data5/FPT/2025/SPRING/DPL302m/ASSIGNMENTS_AND_EXAMS/PROJECTS/ChartInsight/assets/dataset/test1/piedata(1008)/pie/images/train2019/01685c31c9fef83b55946f0e548d4198_d3d3LnplbmpvaGt5b3UubmV0CTE1Ny43LjEwNy44Nw==.xls-0-3.png: 1 duplicate labels removed\n",
      "\u001b[34m\u001b[1mtrain: \u001b[0mWARNING ⚠️ /media/vietz/Data5/FPT/2025/SPRING/DPL302m/ASSIGNMENTS_AND_EXAMS/PROJECTS/ChartInsight/assets/dataset/test1/piedata(1008)/pie/images/train2019/01685c31c9fef83b55946f0e548d4198_d3d3LnplbmpvaGt5b3UubmV0CTE1Ny43LjEwNy44Nw==.xls-1-0.png: 1 duplicate labels removed\n",
      "\u001b[34m\u001b[1mtrain: \u001b[0mWARNING ⚠️ /media/vietz/Data5/FPT/2025/SPRING/DPL302m/ASSIGNMENTS_AND_EXAMS/PROJECTS/ChartInsight/assets/dataset/test1/piedata(1008)/pie/images/train2019/016bbc86c67133f1c4c412797a84c5ad_d3d3LmNpdHkubmVyaW1hLnRva3lvLmpwCTI3LjExMC40Mi4xNDg=.xls-34-1.png: 1 duplicate labels removed\n",
      "\u001b[34m\u001b[1mtrain: \u001b[0mWARNING ⚠️ /media/vietz/Data5/FPT/2025/SPRING/DPL302m/ASSIGNMENTS_AND_EXAMS/PROJECTS/ChartInsight/assets/dataset/test1/piedata(1008)/pie/images/train2019/016bbc86c67133f1c4c412797a84c5ad_d3d3LmNpdHkubmVyaW1hLnRva3lvLmpwCTI3LjExMC40Mi4xNDg=.xls-34-2.png: 1 duplicate labels removed\n",
      "\u001b[34m\u001b[1mtrain: \u001b[0mWARNING ⚠️ /media/vietz/Data5/FPT/2025/SPRING/DPL302m/ASSIGNMENTS_AND_EXAMS/PROJECTS/ChartInsight/assets/dataset/test1/piedata(1008)/pie/images/train2019/016edd8c8c411ac63ad4dba12c28e94b_d3d3LnN0YXJpbmRpYXJlc2VhcmNoLmNvbQk2NS42MC4xMC41NA==-0-0.png: 1 duplicate labels removed\n",
      "\u001b[34m\u001b[1mtrain: \u001b[0mWARNING ⚠️ /media/vietz/Data5/FPT/2025/SPRING/DPL302m/ASSIGNMENTS_AND_EXAMS/PROJECTS/ChartInsight/assets/dataset/test1/piedata(1008)/pie/images/train2019/0170005ecf3f2105023fea587850c840_d3d3LnN0YXJpbmRpYXJlc2VhcmNoLmNvbQk2NS42MC4xMC41NA==-0-0.png: 1 duplicate labels removed\n",
      "\u001b[34m\u001b[1mtrain: \u001b[0mWARNING ⚠️ /media/vietz/Data5/FPT/2025/SPRING/DPL302m/ASSIGNMENTS_AND_EXAMS/PROJECTS/ChartInsight/assets/dataset/test1/piedata(1008)/pie/images/train2019/017806b2813cd952491e3e9777692e30_d3d3LmNiYy5nb3YudHcJMjEwLjY5LjEyMC4yNTI=-4-0.png: 1 duplicate labels removed\n",
      "\u001b[34m\u001b[1mtrain: \u001b[0mWARNING ⚠️ /media/vietz/Data5/FPT/2025/SPRING/DPL302m/ASSIGNMENTS_AND_EXAMS/PROJECTS/ChartInsight/assets/dataset/test1/piedata(1008)/pie/images/train2019/017806b2813cd952491e3e9777692e30_d3d3LmNiYy5nb3YudHcJMjEwLjY5LjEyMC4yNTI=-4-1.png: 1 duplicate labels removed\n",
      "\u001b[34m\u001b[1mtrain: \u001b[0mWARNING ⚠️ /media/vietz/Data5/FPT/2025/SPRING/DPL302m/ASSIGNMENTS_AND_EXAMS/PROJECTS/ChartInsight/assets/dataset/test1/piedata(1008)/pie/images/train2019/01789aa7b84577c645ee35b65a6e3c0c_Y21zbmV3LnBkc3QuaWUJMTQ0Ljc2LjIwMi40.xls-1-2.png: 1 duplicate labels removed\n",
      "\u001b[34m\u001b[1mtrain: \u001b[0mWARNING ⚠️ /media/vietz/Data5/FPT/2025/SPRING/DPL302m/ASSIGNMENTS_AND_EXAMS/PROJECTS/ChartInsight/assets/dataset/test1/piedata(1008)/pie/images/train2019/01790e1ffed9f404d10c6503303a1d8d_d3d3LnByZWYuaWJhcmFraS5qcAkyMTAuMTQwLjcyLjcy.xls-0-0.png: 1 duplicate labels removed\n",
      "\u001b[34m\u001b[1mtrain: \u001b[0mWARNING ⚠️ /media/vietz/Data5/FPT/2025/SPRING/DPL302m/ASSIGNMENTS_AND_EXAMS/PROJECTS/ChartInsight/assets/dataset/test1/piedata(1008)/pie/images/train2019/01790e1ffed9f404d10c6503303a1d8d_d3d3LnByZWYuaWJhcmFraS5qcAkyMTAuMTQwLjcyLjcy.xls-0-4.png: 1 duplicate labels removed\n",
      "\u001b[34m\u001b[1mtrain: \u001b[0mWARNING ⚠️ /media/vietz/Data5/FPT/2025/SPRING/DPL302m/ASSIGNMENTS_AND_EXAMS/PROJECTS/ChartInsight/assets/dataset/test1/piedata(1008)/pie/images/train2019/017b653862d21250a2d3048d635276dd_cGwtc3RhdGljLnotZG4ubmV0CTEwNC4xNi4yMzMuMjA1-0-0.png: 1 duplicate labels removed\n",
      "\u001b[34m\u001b[1mtrain: \u001b[0mWARNING ⚠️ /media/vietz/Data5/FPT/2025/SPRING/DPL302m/ASSIGNMENTS_AND_EXAMS/PROJECTS/ChartInsight/assets/dataset/test1/piedata(1008)/pie/images/train2019/017d5b05777276e206b9cf5131da701a_d3d3LnByZWYuaWJhcmFraS5qcAkyMTAuMTQwLjcyLjcy-0-2.png: 1 duplicate labels removed\n",
      "\u001b[34m\u001b[1mtrain: \u001b[0mWARNING ⚠️ /media/vietz/Data5/FPT/2025/SPRING/DPL302m/ASSIGNMENTS_AND_EXAMS/PROJECTS/ChartInsight/assets/dataset/test1/piedata(1008)/pie/images/train2019/017d84b5cb1ca7333bf27616d8e7d77e_d3d3LmZlbGluLnJlCTIxMy4xODYuMzMuODc=.xls-1-3.png: 1 duplicate labels removed\n",
      "\u001b[34m\u001b[1mtrain: \u001b[0mWARNING ⚠️ /media/vietz/Data5/FPT/2025/SPRING/DPL302m/ASSIGNMENTS_AND_EXAMS/PROJECTS/ChartInsight/assets/dataset/test1/piedata(1008)/pie/images/train2019/01827569139af92ef2a5d0244ac29643_d3d3LnN0YXJpbmRpYXJlc2VhcmNoLmNvbQk2NS42MC4xMC41NA==-0-0.png: 1 duplicate labels removed\n",
      "\u001b[34m\u001b[1mtrain: \u001b[0mNew cache created: /media/vietz/Data5/FPT/2025/SPRING/DPL302m/ASSIGNMENTS_AND_EXAMS/PROJECTS/ChartInsight/assets/dataset/test1/piedata(1008)/pie/labels/train2019.cache\n"
     ]
    },
    {
     "name": "stderr",
     "output_type": "stream",
     "text": [
      "\n"
     ]
    },
    {
     "name": "stdout",
     "output_type": "stream",
     "text": [
      "\u001b[34m\u001b[1malbumentations: \u001b[0mBlur(p=0.01, blur_limit=(3, 7)), MedianBlur(p=0.01, blur_limit=(3, 7)), ToGray(p=0.01, num_output_channels=3, method='weighted_average'), CLAHE(p=0.01, clip_limit=(1.0, 4.0), tile_grid_size=(8, 8))\n"
     ]
    },
    {
     "name": "stderr",
     "output_type": "stream",
     "text": [
      "/home/vietz/miniconda3/lib/python3.12/site-packages/albumentations/__init__.py:24: UserWarning: A new version of Albumentations is available: '2.0.4' (you have '2.0.0'). Upgrade using: pip install -U albumentations. To disable automatic update checks, set the environment variable NO_ALBUMENTATIONS_UPDATE to 1.\n",
      "  check_for_updates()\n",
      "\u001b[34m\u001b[1mval: \u001b[0mScanning /media/vietz/Data5/FPT/2025/SPRING/DPL302m/ASSIGNMENTS_AND_EXAMS/PROJECTS/ChartInsight/assets/dataset/test1/piedata(1008)/pie/labels/val2019... 10 images, 0 backgrounds, 0 corrupt: 100%|██████████| 10/10 [00:00<00:00, 832.32it/s]"
     ]
    },
    {
     "name": "stdout",
     "output_type": "stream",
     "text": [
      "\u001b[34m\u001b[1mval: \u001b[0mWARNING ⚠️ /media/vietz/Data5/FPT/2025/SPRING/DPL302m/ASSIGNMENTS_AND_EXAMS/PROJECTS/ChartInsight/assets/dataset/test1/piedata(1008)/pie/images/val2019/fa24976c77e27de00464f38e61a996af_d3d3LmNpdHkudGFrYW1hdHN1LmthZ2F3YS5qcAkxMDEuMTAyLjIxOC4zOQ==.xls-0-1.png: 1 duplicate labels removed\n",
      "\u001b[34m\u001b[1mval: \u001b[0mWARNING ⚠️ /media/vietz/Data5/FPT/2025/SPRING/DPL302m/ASSIGNMENTS_AND_EXAMS/PROJECTS/ChartInsight/assets/dataset/test1/piedata(1008)/pie/images/val2019/fa266c2d49db01fdb7ce6ea711764300_d3d3Lmdvdi5zY290CTEzNC4xOS4xNjEuMjQ5-37-0.png: 1 duplicate labels removed\n",
      "\u001b[34m\u001b[1mval: \u001b[0mNew cache created: /media/vietz/Data5/FPT/2025/SPRING/DPL302m/ASSIGNMENTS_AND_EXAMS/PROJECTS/ChartInsight/assets/dataset/test1/piedata(1008)/pie/labels/val2019.cache\n"
     ]
    },
    {
     "name": "stderr",
     "output_type": "stream",
     "text": [
      "\n"
     ]
    },
    {
     "name": "stdout",
     "output_type": "stream",
     "text": [
      "Plotting labels to runs/segment/train4/labels.jpg... \n",
      "\u001b[34m\u001b[1moptimizer:\u001b[0m 'optimizer=auto' found, ignoring 'lr0=0.01' and 'momentum=0.937' and determining best 'optimizer', 'lr0' and 'momentum' automatically... \n",
      "\u001b[34m\u001b[1moptimizer:\u001b[0m AdamW(lr=0.002, momentum=0.9) with parameter groups 66 weight(decay=0.0), 77 weight(decay=0.0005078125), 76 bias(decay=0.0)\n",
      "\u001b[34m\u001b[1mTensorBoard: \u001b[0mmodel graph visualization added ✅\n",
      "Image sizes 640 train, 640 val\n",
      "Using 2 dataloader workers\n",
      "Logging results to \u001b[1mruns/segment/train4\u001b[0m\n",
      "Starting training for 20 epochs...\n",
      "\n",
      "      Epoch    GPU_mem   box_loss   seg_loss   cls_loss   dfl_loss  Instances       Size\n"
     ]
    },
    {
     "name": "stderr",
     "output_type": "stream",
     "text": [
      "       1/20      1.35G      1.275      3.674      2.322      1.314         56        640: 100%|██████████| 40/40 [00:05<00:00,  6.91it/s]\n",
      "                 Class     Images  Instances      Box(P          R      mAP50  mAP50-95)     Mask(P          R      mAP50  mAP50-95): 100%|██████████| 1/1 [00:00<00:00,  5.50it/s]"
     ]
    },
    {
     "name": "stdout",
     "output_type": "stream",
     "text": [
      "                   all         10         64      0.811      0.268      0.491      0.244      0.469      0.152      0.156     0.0598\n"
     ]
    },
    {
     "name": "stderr",
     "output_type": "stream",
     "text": [
      "\n"
     ]
    },
    {
     "name": "stdout",
     "output_type": "stream",
     "text": [
      "\n",
      "      Epoch    GPU_mem   box_loss   seg_loss   cls_loss   dfl_loss  Instances       Size\n"
     ]
    },
    {
     "name": "stderr",
     "output_type": "stream",
     "text": [
      "       2/20      1.12G      1.066      2.964      1.378      1.139         44        640: 100%|██████████| 40/40 [00:04<00:00,  8.00it/s]\n",
      "                 Class     Images  Instances      Box(P          R      mAP50  mAP50-95)     Mask(P          R      mAP50  mAP50-95): 100%|██████████| 1/1 [00:00<00:00,  7.10it/s]"
     ]
    },
    {
     "name": "stdout",
     "output_type": "stream",
     "text": [
      "                   all         10         64       0.69      0.469      0.553      0.202      0.436      0.266       0.29     0.0827\n"
     ]
    },
    {
     "name": "stderr",
     "output_type": "stream",
     "text": [
      "\n"
     ]
    },
    {
     "name": "stdout",
     "output_type": "stream",
     "text": [
      "\n",
      "      Epoch    GPU_mem   box_loss   seg_loss   cls_loss   dfl_loss  Instances       Size\n"
     ]
    },
    {
     "name": "stderr",
     "output_type": "stream",
     "text": [
      "       3/20      1.14G      1.108      3.082      1.355      1.166         54        640: 100%|██████████| 40/40 [00:04<00:00,  8.04it/s]\n",
      "                 Class     Images  Instances      Box(P          R      mAP50  mAP50-95)     Mask(P          R      mAP50  mAP50-95): 100%|██████████| 1/1 [00:00<00:00,  6.92it/s]"
     ]
    },
    {
     "name": "stdout",
     "output_type": "stream",
     "text": [
      "                   all         10         64      0.361      0.531      0.402      0.189      0.252      0.188      0.104     0.0306\n"
     ]
    },
    {
     "name": "stderr",
     "output_type": "stream",
     "text": [
      "\n"
     ]
    },
    {
     "name": "stdout",
     "output_type": "stream",
     "text": [
      "\n",
      "      Epoch    GPU_mem   box_loss   seg_loss   cls_loss   dfl_loss  Instances       Size\n"
     ]
    },
    {
     "name": "stderr",
     "output_type": "stream",
     "text": [
      "       4/20       1.2G     0.9932      2.721      1.254      1.101         53        640: 100%|██████████| 40/40 [00:04<00:00,  8.13it/s]\n",
      "                 Class     Images  Instances      Box(P          R      mAP50  mAP50-95)     Mask(P          R      mAP50  mAP50-95): 100%|██████████| 1/1 [00:00<00:00,  7.08it/s]"
     ]
    },
    {
     "name": "stdout",
     "output_type": "stream",
     "text": [
      "                   all         10         64       0.86      0.672      0.736        0.3      0.592      0.391      0.335      0.115\n"
     ]
    },
    {
     "name": "stderr",
     "output_type": "stream",
     "text": [
      "\n"
     ]
    },
    {
     "name": "stdout",
     "output_type": "stream",
     "text": [
      "\n",
      "      Epoch    GPU_mem   box_loss   seg_loss   cls_loss   dfl_loss  Instances       Size\n"
     ]
    },
    {
     "name": "stderr",
     "output_type": "stream",
     "text": [
      "       5/20       1.2G      1.048      2.603      1.238      1.178         44        640: 100%|██████████| 40/40 [00:04<00:00,  8.03it/s]\n",
      "                 Class     Images  Instances      Box(P          R      mAP50  mAP50-95)     Mask(P          R      mAP50  mAP50-95): 100%|██████████| 1/1 [00:00<00:00,  7.08it/s]"
     ]
    },
    {
     "name": "stdout",
     "output_type": "stream",
     "text": [
      "                   all         10         64      0.882        0.7       0.77      0.309      0.672      0.512      0.469      0.225\n"
     ]
    },
    {
     "name": "stderr",
     "output_type": "stream",
     "text": [
      "\n"
     ]
    },
    {
     "name": "stdout",
     "output_type": "stream",
     "text": [
      "\n",
      "      Epoch    GPU_mem   box_loss   seg_loss   cls_loss   dfl_loss  Instances       Size\n"
     ]
    },
    {
     "name": "stderr",
     "output_type": "stream",
     "text": [
      "       6/20      1.06G     0.9154      2.489      1.174      1.083         38        640: 100%|██████████| 40/40 [00:04<00:00,  8.26it/s]\n",
      "                 Class     Images  Instances      Box(P          R      mAP50  mAP50-95)     Mask(P          R      mAP50  mAP50-95): 100%|██████████| 1/1 [00:00<00:00,  6.64it/s]"
     ]
    },
    {
     "name": "stdout",
     "output_type": "stream",
     "text": [
      "                   all         10         64       0.82      0.688      0.757      0.271       0.69      0.557      0.555      0.228\n"
     ]
    },
    {
     "name": "stderr",
     "output_type": "stream",
     "text": [
      "\n"
     ]
    },
    {
     "name": "stdout",
     "output_type": "stream",
     "text": [
      "\n",
      "      Epoch    GPU_mem   box_loss   seg_loss   cls_loss   dfl_loss  Instances       Size\n"
     ]
    },
    {
     "name": "stderr",
     "output_type": "stream",
     "text": [
      "       7/20      1.29G     0.9685      2.368      1.134      1.116         28        640: 100%|██████████| 40/40 [00:04<00:00,  8.14it/s]\n",
      "                 Class     Images  Instances      Box(P          R      mAP50  mAP50-95)     Mask(P          R      mAP50  mAP50-95): 100%|██████████| 1/1 [00:00<00:00,  7.08it/s]"
     ]
    },
    {
     "name": "stdout",
     "output_type": "stream",
     "text": [
      "                   all         10         64      0.883      0.766      0.818      0.349      0.866      0.625      0.649       0.28\n"
     ]
    },
    {
     "name": "stderr",
     "output_type": "stream",
     "text": [
      "\n"
     ]
    },
    {
     "name": "stdout",
     "output_type": "stream",
     "text": [
      "\n",
      "      Epoch    GPU_mem   box_loss   seg_loss   cls_loss   dfl_loss  Instances       Size\n"
     ]
    },
    {
     "name": "stderr",
     "output_type": "stream",
     "text": [
      "       8/20      1.11G     0.9153       2.27      1.072      1.089         63        640: 100%|██████████| 40/40 [00:04<00:00,  8.09it/s]\n",
      "                 Class     Images  Instances      Box(P          R      mAP50  mAP50-95)     Mask(P          R      mAP50  mAP50-95): 100%|██████████| 1/1 [00:00<00:00,  7.06it/s]"
     ]
    },
    {
     "name": "stdout",
     "output_type": "stream",
     "text": [
      "                   all         10         64      0.961      0.778      0.841      0.415      0.806      0.609      0.637       0.32\n"
     ]
    },
    {
     "name": "stderr",
     "output_type": "stream",
     "text": [
      "\n"
     ]
    },
    {
     "name": "stdout",
     "output_type": "stream",
     "text": [
      "\n",
      "      Epoch    GPU_mem   box_loss   seg_loss   cls_loss   dfl_loss  Instances       Size\n"
     ]
    },
    {
     "name": "stderr",
     "output_type": "stream",
     "text": [
      "       9/20      1.23G     0.9237      2.162      1.049       1.07          9        640: 100%|██████████| 40/40 [00:04<00:00,  8.07it/s]\n",
      "                 Class     Images  Instances      Box(P          R      mAP50  mAP50-95)     Mask(P          R      mAP50  mAP50-95): 100%|██████████| 1/1 [00:00<00:00,  7.08it/s]"
     ]
    },
    {
     "name": "stdout",
     "output_type": "stream",
     "text": [
      "                   all         10         64      0.852      0.797      0.842      0.332      0.804      0.625       0.67      0.332\n"
     ]
    },
    {
     "name": "stderr",
     "output_type": "stream",
     "text": [
      "\n"
     ]
    },
    {
     "name": "stdout",
     "output_type": "stream",
     "text": [
      "\n",
      "      Epoch    GPU_mem   box_loss   seg_loss   cls_loss   dfl_loss  Instances       Size\n"
     ]
    },
    {
     "name": "stderr",
     "output_type": "stream",
     "text": [
      "      10/20      1.24G     0.8607      2.229      1.061      1.065         67        640: 100%|██████████| 40/40 [00:04<00:00,  8.11it/s]\n",
      "                 Class     Images  Instances      Box(P          R      mAP50  mAP50-95)     Mask(P          R      mAP50  mAP50-95): 100%|██████████| 1/1 [00:00<00:00,  7.09it/s]"
     ]
    },
    {
     "name": "stdout",
     "output_type": "stream",
     "text": [
      "                   all         10         64       0.94       0.75      0.834      0.374      0.842      0.669      0.695      0.346\n"
     ]
    },
    {
     "name": "stderr",
     "output_type": "stream",
     "text": [
      "\n"
     ]
    },
    {
     "name": "stdout",
     "output_type": "stream",
     "text": [
      "Closing dataloader mosaic\n",
      "\u001b[34m\u001b[1malbumentations: \u001b[0mBlur(p=0.01, blur_limit=(3, 7)), MedianBlur(p=0.01, blur_limit=(3, 7)), ToGray(p=0.01, num_output_channels=3, method='weighted_average'), CLAHE(p=0.01, clip_limit=(1.0, 4.0), tile_grid_size=(8, 8))\n",
      "\n",
      "      Epoch    GPU_mem   box_loss   seg_loss   cls_loss   dfl_loss  Instances       Size\n"
     ]
    },
    {
     "name": "stderr",
     "output_type": "stream",
     "text": [
      "      11/20      1.01G     0.7466      1.793     0.9593      1.017         23        640: 100%|██████████| 40/40 [00:04<00:00,  8.53it/s]\n",
      "                 Class     Images  Instances      Box(P          R      mAP50  mAP50-95)     Mask(P          R      mAP50  mAP50-95): 100%|██████████| 1/1 [00:00<00:00,  7.00it/s]"
     ]
    },
    {
     "name": "stdout",
     "output_type": "stream",
     "text": [
      "                   all         10         64      0.892       0.75      0.789      0.407      0.953       0.64      0.681      0.369\n"
     ]
    },
    {
     "name": "stderr",
     "output_type": "stream",
     "text": [
      "\n"
     ]
    },
    {
     "name": "stdout",
     "output_type": "stream",
     "text": [
      "\n",
      "      Epoch    GPU_mem   box_loss   seg_loss   cls_loss   dfl_loss  Instances       Size\n"
     ]
    },
    {
     "name": "stderr",
     "output_type": "stream",
     "text": [
      "      12/20      1.04G     0.7374      1.692     0.9194      1.006         28        640: 100%|██████████| 40/40 [00:04<00:00,  8.69it/s]\n",
      "                 Class     Images  Instances      Box(P          R      mAP50  mAP50-95)     Mask(P          R      mAP50  mAP50-95): 100%|██████████| 1/1 [00:00<00:00,  7.08it/s]"
     ]
    },
    {
     "name": "stdout",
     "output_type": "stream",
     "text": [
      "                   all         10         64      0.923      0.719        0.8      0.373      0.821      0.641      0.643       0.35\n"
     ]
    },
    {
     "name": "stderr",
     "output_type": "stream",
     "text": [
      "\n"
     ]
    },
    {
     "name": "stdout",
     "output_type": "stream",
     "text": [
      "\n",
      "      Epoch    GPU_mem   box_loss   seg_loss   cls_loss   dfl_loss  Instances       Size\n"
     ]
    },
    {
     "name": "stderr",
     "output_type": "stream",
     "text": [
      "      13/20       1.1G     0.6946       1.63     0.8812     0.9876         29        640: 100%|██████████| 40/40 [00:04<00:00,  8.67it/s]\n",
      "                 Class     Images  Instances      Box(P          R      mAP50  mAP50-95)     Mask(P          R      mAP50  mAP50-95): 100%|██████████| 1/1 [00:00<00:00,  7.07it/s]"
     ]
    },
    {
     "name": "stdout",
     "output_type": "stream",
     "text": [
      "                   all         10         64      0.937      0.766      0.857      0.415      0.888      0.656      0.732      0.438\n"
     ]
    },
    {
     "name": "stderr",
     "output_type": "stream",
     "text": [
      "\n"
     ]
    },
    {
     "name": "stdout",
     "output_type": "stream",
     "text": [
      "\n",
      "      Epoch    GPU_mem   box_loss   seg_loss   cls_loss   dfl_loss  Instances       Size\n"
     ]
    },
    {
     "name": "stderr",
     "output_type": "stream",
     "text": [
      "      14/20      1.02G     0.6868      1.582     0.8619     0.9669         62        640: 100%|██████████| 40/40 [00:04<00:00,  8.70it/s]\n",
      "                 Class     Images  Instances      Box(P          R      mAP50  mAP50-95)     Mask(P          R      mAP50  mAP50-95): 100%|██████████| 1/1 [00:00<00:00,  7.09it/s]"
     ]
    },
    {
     "name": "stdout",
     "output_type": "stream",
     "text": [
      "                   all         10         64      0.982      0.734      0.843      0.445      0.875      0.656      0.692      0.424\n"
     ]
    },
    {
     "name": "stderr",
     "output_type": "stream",
     "text": [
      "\n"
     ]
    },
    {
     "name": "stdout",
     "output_type": "stream",
     "text": [
      "\n",
      "      Epoch    GPU_mem   box_loss   seg_loss   cls_loss   dfl_loss  Instances       Size\n"
     ]
    },
    {
     "name": "stderr",
     "output_type": "stream",
     "text": [
      "      15/20      1.13G     0.6534      1.505     0.8129     0.9668         21        640: 100%|██████████| 40/40 [00:04<00:00,  8.71it/s]\n",
      "                 Class     Images  Instances      Box(P          R      mAP50  mAP50-95)     Mask(P          R      mAP50  mAP50-95): 100%|██████████| 1/1 [00:00<00:00,  7.05it/s]"
     ]
    },
    {
     "name": "stdout",
     "output_type": "stream",
     "text": [
      "                   all         10         64      0.934       0.75      0.844      0.444      0.913      0.703      0.755      0.416\n"
     ]
    },
    {
     "name": "stderr",
     "output_type": "stream",
     "text": [
      "\n"
     ]
    },
    {
     "name": "stdout",
     "output_type": "stream",
     "text": [
      "\n",
      "      Epoch    GPU_mem   box_loss   seg_loss   cls_loss   dfl_loss  Instances       Size\n"
     ]
    },
    {
     "name": "stderr",
     "output_type": "stream",
     "text": [
      "      16/20     0.992G      0.641      1.453     0.8031     0.9485         29        640: 100%|██████████| 40/40 [00:04<00:00,  8.70it/s]\n",
      "                 Class     Images  Instances      Box(P          R      mAP50  mAP50-95)     Mask(P          R      mAP50  mAP50-95): 100%|██████████| 1/1 [00:00<00:00,  7.09it/s]"
     ]
    },
    {
     "name": "stdout",
     "output_type": "stream",
     "text": [
      "                   all         10         64      0.908      0.771      0.845      0.446      0.854      0.734      0.733       0.44\n"
     ]
    },
    {
     "name": "stderr",
     "output_type": "stream",
     "text": [
      "\n"
     ]
    },
    {
     "name": "stdout",
     "output_type": "stream",
     "text": [
      "\n",
      "      Epoch    GPU_mem   box_loss   seg_loss   cls_loss   dfl_loss  Instances       Size\n"
     ]
    },
    {
     "name": "stderr",
     "output_type": "stream",
     "text": [
      "      17/20     0.955G     0.6096      1.403      0.773     0.9333         47        640: 100%|██████████| 40/40 [00:04<00:00,  8.68it/s]\n",
      "                 Class     Images  Instances      Box(P          R      mAP50  mAP50-95)     Mask(P          R      mAP50  mAP50-95): 100%|██████████| 1/1 [00:00<00:00,  7.13it/s]"
     ]
    },
    {
     "name": "stdout",
     "output_type": "stream",
     "text": [
      "                   all         10         64      0.975      0.734      0.837      0.482      0.866      0.656      0.674      0.457\n"
     ]
    },
    {
     "name": "stderr",
     "output_type": "stream",
     "text": [
      "\n"
     ]
    },
    {
     "name": "stdout",
     "output_type": "stream",
     "text": [
      "\n",
      "      Epoch    GPU_mem   box_loss   seg_loss   cls_loss   dfl_loss  Instances       Size\n"
     ]
    },
    {
     "name": "stderr",
     "output_type": "stream",
     "text": [
      "      18/20      1.06G     0.5927      1.358      0.744     0.9289         23        640: 100%|██████████| 40/40 [00:04<00:00,  8.75it/s]\n",
      "                 Class     Images  Instances      Box(P          R      mAP50  mAP50-95)     Mask(P          R      mAP50  mAP50-95): 100%|██████████| 1/1 [00:00<00:00,  7.14it/s]"
     ]
    },
    {
     "name": "stdout",
     "output_type": "stream",
     "text": [
      "                   all         10         64      0.979      0.745      0.854      0.507      0.929      0.688      0.746      0.476\n"
     ]
    },
    {
     "name": "stderr",
     "output_type": "stream",
     "text": [
      "\n"
     ]
    },
    {
     "name": "stdout",
     "output_type": "stream",
     "text": [
      "\n",
      "      Epoch    GPU_mem   box_loss   seg_loss   cls_loss   dfl_loss  Instances       Size\n"
     ]
    },
    {
     "name": "stderr",
     "output_type": "stream",
     "text": [
      "      19/20      1.04G     0.5666      1.287     0.7185     0.9285         26        640: 100%|██████████| 40/40 [00:04<00:00,  8.70it/s]\n",
      "                 Class     Images  Instances      Box(P          R      mAP50  mAP50-95)     Mask(P          R      mAP50  mAP50-95): 100%|██████████| 1/1 [00:00<00:00,  7.12it/s]"
     ]
    },
    {
     "name": "stdout",
     "output_type": "stream",
     "text": [
      "                   all         10         64      0.942      0.828      0.873      0.521      0.932      0.688       0.74      0.493\n"
     ]
    },
    {
     "name": "stderr",
     "output_type": "stream",
     "text": [
      "\n"
     ]
    },
    {
     "name": "stdout",
     "output_type": "stream",
     "text": [
      "\n",
      "      Epoch    GPU_mem   box_loss   seg_loss   cls_loss   dfl_loss  Instances       Size\n"
     ]
    },
    {
     "name": "stderr",
     "output_type": "stream",
     "text": [
      "      20/20     0.986G     0.5646      1.288     0.7049     0.9342         16        640: 100%|██████████| 40/40 [00:04<00:00,  8.73it/s]\n",
      "                 Class     Images  Instances      Box(P          R      mAP50  mAP50-95)     Mask(P          R      mAP50  mAP50-95): 100%|██████████| 1/1 [00:00<00:00,  7.11it/s]"
     ]
    },
    {
     "name": "stdout",
     "output_type": "stream",
     "text": [
      "                   all         10         64      0.942      0.828      0.875      0.515      0.933      0.688      0.739      0.495\n"
     ]
    },
    {
     "name": "stderr",
     "output_type": "stream",
     "text": [
      "\n"
     ]
    },
    {
     "name": "stdout",
     "output_type": "stream",
     "text": [
      "\n",
      "20 epochs completed in 0.030 hours.\n",
      "Optimizer stripped from runs/segment/train4/weights/last.pt, 6.8MB\n",
      "Optimizer stripped from runs/segment/train4/weights/best.pt, 6.8MB\n",
      "\n",
      "Validating runs/segment/train4/weights/best.pt...\n",
      "Ultralytics 8.3.78 🚀 Python-3.12.2 torch-2.5.1+cu124 CUDA:0 (NVIDIA GeForce RTX 2050, 3895MiB)\n",
      "YOLOv8n-seg summary (fused): 85 layers, 3,258,259 parameters, 0 gradients, 12.0 GFLOPs\n"
     ]
    },
    {
     "name": "stderr",
     "output_type": "stream",
     "text": [
      "                 Class     Images  Instances      Box(P          R      mAP50  mAP50-95)     Mask(P          R      mAP50  mAP50-95): 100%|██████████| 1/1 [00:00<00:00,  8.32it/s]\n"
     ]
    },
    {
     "name": "stdout",
     "output_type": "stream",
     "text": [
      "                   all         10         64      0.942      0.828      0.873       0.52      0.932      0.688      0.741      0.493\n",
      "Speed: 0.3ms preprocess, 5.2ms inference, 0.0ms loss, 0.6ms postprocess per image\n",
      "Results saved to \u001b[1mruns/segment/train4\u001b[0m\n"
     ]
    },
    {
     "data": {
      "text/plain": [
       "ultralytics.utils.metrics.SegmentMetrics object with attributes:\n",
       "\n",
       "ap_class_index: array([0])\n",
       "box: ultralytics.utils.metrics.Metric object\n",
       "confusion_matrix: <ultralytics.utils.metrics.ConfusionMatrix object at 0x7c4b88d26a20>\n",
       "curves: ['Precision-Recall(B)', 'F1-Confidence(B)', 'Precision-Confidence(B)', 'Recall-Confidence(B)', 'Precision-Recall(M)', 'F1-Confidence(M)', 'Precision-Confidence(M)', 'Recall-Confidence(M)']\n",
       "curves_results: [[array([          0,    0.001001,    0.002002,    0.003003,    0.004004,    0.005005,    0.006006,    0.007007,    0.008008,    0.009009,     0.01001,    0.011011,    0.012012,    0.013013,    0.014014,    0.015015,    0.016016,    0.017017,    0.018018,    0.019019,     0.02002,    0.021021,    0.022022,    0.023023,\n",
       "          0.024024,    0.025025,    0.026026,    0.027027,    0.028028,    0.029029,     0.03003,    0.031031,    0.032032,    0.033033,    0.034034,    0.035035,    0.036036,    0.037037,    0.038038,    0.039039,     0.04004,    0.041041,    0.042042,    0.043043,    0.044044,    0.045045,    0.046046,    0.047047,\n",
       "          0.048048,    0.049049,     0.05005,    0.051051,    0.052052,    0.053053,    0.054054,    0.055055,    0.056056,    0.057057,    0.058058,    0.059059,     0.06006,    0.061061,    0.062062,    0.063063,    0.064064,    0.065065,    0.066066,    0.067067,    0.068068,    0.069069,     0.07007,    0.071071,\n",
       "          0.072072,    0.073073,    0.074074,    0.075075,    0.076076,    0.077077,    0.078078,    0.079079,     0.08008,    0.081081,    0.082082,    0.083083,    0.084084,    0.085085,    0.086086,    0.087087,    0.088088,    0.089089,     0.09009,    0.091091,    0.092092,    0.093093,    0.094094,    0.095095,\n",
       "          0.096096,    0.097097,    0.098098,    0.099099,      0.1001,      0.1011,      0.1021,      0.1031,      0.1041,     0.10511,     0.10611,     0.10711,     0.10811,     0.10911,     0.11011,     0.11111,     0.11211,     0.11311,     0.11411,     0.11512,     0.11612,     0.11712,     0.11812,     0.11912,\n",
       "           0.12012,     0.12112,     0.12212,     0.12312,     0.12412,     0.12513,     0.12613,     0.12713,     0.12813,     0.12913,     0.13013,     0.13113,     0.13213,     0.13313,     0.13413,     0.13514,     0.13614,     0.13714,     0.13814,     0.13914,     0.14014,     0.14114,     0.14214,     0.14314,\n",
       "           0.14414,     0.14515,     0.14615,     0.14715,     0.14815,     0.14915,     0.15015,     0.15115,     0.15215,     0.15315,     0.15415,     0.15516,     0.15616,     0.15716,     0.15816,     0.15916,     0.16016,     0.16116,     0.16216,     0.16316,     0.16416,     0.16517,     0.16617,     0.16717,\n",
       "           0.16817,     0.16917,     0.17017,     0.17117,     0.17217,     0.17317,     0.17417,     0.17518,     0.17618,     0.17718,     0.17818,     0.17918,     0.18018,     0.18118,     0.18218,     0.18318,     0.18418,     0.18519,     0.18619,     0.18719,     0.18819,     0.18919,     0.19019,     0.19119,\n",
       "           0.19219,     0.19319,     0.19419,      0.1952,      0.1962,      0.1972,      0.1982,      0.1992,      0.2002,      0.2012,      0.2022,      0.2032,      0.2042,     0.20521,     0.20621,     0.20721,     0.20821,     0.20921,     0.21021,     0.21121,     0.21221,     0.21321,     0.21421,     0.21522,\n",
       "           0.21622,     0.21722,     0.21822,     0.21922,     0.22022,     0.22122,     0.22222,     0.22322,     0.22422,     0.22523,     0.22623,     0.22723,     0.22823,     0.22923,     0.23023,     0.23123,     0.23223,     0.23323,     0.23423,     0.23524,     0.23624,     0.23724,     0.23824,     0.23924,\n",
       "           0.24024,     0.24124,     0.24224,     0.24324,     0.24424,     0.24525,     0.24625,     0.24725,     0.24825,     0.24925,     0.25025,     0.25125,     0.25225,     0.25325,     0.25425,     0.25526,     0.25626,     0.25726,     0.25826,     0.25926,     0.26026,     0.26126,     0.26226,     0.26326,\n",
       "           0.26426,     0.26527,     0.26627,     0.26727,     0.26827,     0.26927,     0.27027,     0.27127,     0.27227,     0.27327,     0.27427,     0.27528,     0.27628,     0.27728,     0.27828,     0.27928,     0.28028,     0.28128,     0.28228,     0.28328,     0.28428,     0.28529,     0.28629,     0.28729,\n",
       "           0.28829,     0.28929,     0.29029,     0.29129,     0.29229,     0.29329,     0.29429,      0.2953,      0.2963,      0.2973,      0.2983,      0.2993,      0.3003,      0.3013,      0.3023,      0.3033,      0.3043,     0.30531,     0.30631,     0.30731,     0.30831,     0.30931,     0.31031,     0.31131,\n",
       "           0.31231,     0.31331,     0.31431,     0.31532,     0.31632,     0.31732,     0.31832,     0.31932,     0.32032,     0.32132,     0.32232,     0.32332,     0.32432,     0.32533,     0.32633,     0.32733,     0.32833,     0.32933,     0.33033,     0.33133,     0.33233,     0.33333,     0.33433,     0.33534,\n",
       "           0.33634,     0.33734,     0.33834,     0.33934,     0.34034,     0.34134,     0.34234,     0.34334,     0.34434,     0.34535,     0.34635,     0.34735,     0.34835,     0.34935,     0.35035,     0.35135,     0.35235,     0.35335,     0.35435,     0.35536,     0.35636,     0.35736,     0.35836,     0.35936,\n",
       "           0.36036,     0.36136,     0.36236,     0.36336,     0.36436,     0.36537,     0.36637,     0.36737,     0.36837,     0.36937,     0.37037,     0.37137,     0.37237,     0.37337,     0.37437,     0.37538,     0.37638,     0.37738,     0.37838,     0.37938,     0.38038,     0.38138,     0.38238,     0.38338,\n",
       "           0.38438,     0.38539,     0.38639,     0.38739,     0.38839,     0.38939,     0.39039,     0.39139,     0.39239,     0.39339,     0.39439,      0.3954,      0.3964,      0.3974,      0.3984,      0.3994,      0.4004,      0.4014,      0.4024,      0.4034,      0.4044,     0.40541,     0.40641,     0.40741,\n",
       "           0.40841,     0.40941,     0.41041,     0.41141,     0.41241,     0.41341,     0.41441,     0.41542,     0.41642,     0.41742,     0.41842,     0.41942,     0.42042,     0.42142,     0.42242,     0.42342,     0.42442,     0.42543,     0.42643,     0.42743,     0.42843,     0.42943,     0.43043,     0.43143,\n",
       "           0.43243,     0.43343,     0.43443,     0.43544,     0.43644,     0.43744,     0.43844,     0.43944,     0.44044,     0.44144,     0.44244,     0.44344,     0.44444,     0.44545,     0.44645,     0.44745,     0.44845,     0.44945,     0.45045,     0.45145,     0.45245,     0.45345,     0.45445,     0.45546,\n",
       "           0.45646,     0.45746,     0.45846,     0.45946,     0.46046,     0.46146,     0.46246,     0.46346,     0.46446,     0.46547,     0.46647,     0.46747,     0.46847,     0.46947,     0.47047,     0.47147,     0.47247,     0.47347,     0.47447,     0.47548,     0.47648,     0.47748,     0.47848,     0.47948,\n",
       "           0.48048,     0.48148,     0.48248,     0.48348,     0.48448,     0.48549,     0.48649,     0.48749,     0.48849,     0.48949,     0.49049,     0.49149,     0.49249,     0.49349,     0.49449,      0.4955,      0.4965,      0.4975,      0.4985,      0.4995,      0.5005,      0.5015,      0.5025,      0.5035,\n",
       "            0.5045,     0.50551,     0.50651,     0.50751,     0.50851,     0.50951,     0.51051,     0.51151,     0.51251,     0.51351,     0.51451,     0.51552,     0.51652,     0.51752,     0.51852,     0.51952,     0.52052,     0.52152,     0.52252,     0.52352,     0.52452,     0.52553,     0.52653,     0.52753,\n",
       "           0.52853,     0.52953,     0.53053,     0.53153,     0.53253,     0.53353,     0.53453,     0.53554,     0.53654,     0.53754,     0.53854,     0.53954,     0.54054,     0.54154,     0.54254,     0.54354,     0.54454,     0.54555,     0.54655,     0.54755,     0.54855,     0.54955,     0.55055,     0.55155,\n",
       "           0.55255,     0.55355,     0.55455,     0.55556,     0.55656,     0.55756,     0.55856,     0.55956,     0.56056,     0.56156,     0.56256,     0.56356,     0.56456,     0.56557,     0.56657,     0.56757,     0.56857,     0.56957,     0.57057,     0.57157,     0.57257,     0.57357,     0.57457,     0.57558,\n",
       "           0.57658,     0.57758,     0.57858,     0.57958,     0.58058,     0.58158,     0.58258,     0.58358,     0.58458,     0.58559,     0.58659,     0.58759,     0.58859,     0.58959,     0.59059,     0.59159,     0.59259,     0.59359,     0.59459,      0.5956,      0.5966,      0.5976,      0.5986,      0.5996,\n",
       "            0.6006,      0.6016,      0.6026,      0.6036,      0.6046,     0.60561,     0.60661,     0.60761,     0.60861,     0.60961,     0.61061,     0.61161,     0.61261,     0.61361,     0.61461,     0.61562,     0.61662,     0.61762,     0.61862,     0.61962,     0.62062,     0.62162,     0.62262,     0.62362,\n",
       "           0.62462,     0.62563,     0.62663,     0.62763,     0.62863,     0.62963,     0.63063,     0.63163,     0.63263,     0.63363,     0.63463,     0.63564,     0.63664,     0.63764,     0.63864,     0.63964,     0.64064,     0.64164,     0.64264,     0.64364,     0.64464,     0.64565,     0.64665,     0.64765,\n",
       "           0.64865,     0.64965,     0.65065,     0.65165,     0.65265,     0.65365,     0.65465,     0.65566,     0.65666,     0.65766,     0.65866,     0.65966,     0.66066,     0.66166,     0.66266,     0.66366,     0.66466,     0.66567,     0.66667,     0.66767,     0.66867,     0.66967,     0.67067,     0.67167,\n",
       "           0.67267,     0.67367,     0.67467,     0.67568,     0.67668,     0.67768,     0.67868,     0.67968,     0.68068,     0.68168,     0.68268,     0.68368,     0.68468,     0.68569,     0.68669,     0.68769,     0.68869,     0.68969,     0.69069,     0.69169,     0.69269,     0.69369,     0.69469,      0.6957,\n",
       "            0.6967,      0.6977,      0.6987,      0.6997,      0.7007,      0.7017,      0.7027,      0.7037,      0.7047,     0.70571,     0.70671,     0.70771,     0.70871,     0.70971,     0.71071,     0.71171,     0.71271,     0.71371,     0.71471,     0.71572,     0.71672,     0.71772,     0.71872,     0.71972,\n",
       "           0.72072,     0.72172,     0.72272,     0.72372,     0.72472,     0.72573,     0.72673,     0.72773,     0.72873,     0.72973,     0.73073,     0.73173,     0.73273,     0.73373,     0.73473,     0.73574,     0.73674,     0.73774,     0.73874,     0.73974,     0.74074,     0.74174,     0.74274,     0.74374,\n",
       "           0.74474,     0.74575,     0.74675,     0.74775,     0.74875,     0.74975,     0.75075,     0.75175,     0.75275,     0.75375,     0.75475,     0.75576,     0.75676,     0.75776,     0.75876,     0.75976,     0.76076,     0.76176,     0.76276,     0.76376,     0.76476,     0.76577,     0.76677,     0.76777,\n",
       "           0.76877,     0.76977,     0.77077,     0.77177,     0.77277,     0.77377,     0.77477,     0.77578,     0.77678,     0.77778,     0.77878,     0.77978,     0.78078,     0.78178,     0.78278,     0.78378,     0.78478,     0.78579,     0.78679,     0.78779,     0.78879,     0.78979,     0.79079,     0.79179,\n",
       "           0.79279,     0.79379,     0.79479,      0.7958,      0.7968,      0.7978,      0.7988,      0.7998,      0.8008,      0.8018,      0.8028,      0.8038,      0.8048,     0.80581,     0.80681,     0.80781,     0.80881,     0.80981,     0.81081,     0.81181,     0.81281,     0.81381,     0.81481,     0.81582,\n",
       "           0.81682,     0.81782,     0.81882,     0.81982,     0.82082,     0.82182,     0.82282,     0.82382,     0.82482,     0.82583,     0.82683,     0.82783,     0.82883,     0.82983,     0.83083,     0.83183,     0.83283,     0.83383,     0.83483,     0.83584,     0.83684,     0.83784,     0.83884,     0.83984,\n",
       "           0.84084,     0.84184,     0.84284,     0.84384,     0.84484,     0.84585,     0.84685,     0.84785,     0.84885,     0.84985,     0.85085,     0.85185,     0.85285,     0.85385,     0.85485,     0.85586,     0.85686,     0.85786,     0.85886,     0.85986,     0.86086,     0.86186,     0.86286,     0.86386,\n",
       "           0.86486,     0.86587,     0.86687,     0.86787,     0.86887,     0.86987,     0.87087,     0.87187,     0.87287,     0.87387,     0.87487,     0.87588,     0.87688,     0.87788,     0.87888,     0.87988,     0.88088,     0.88188,     0.88288,     0.88388,     0.88488,     0.88589,     0.88689,     0.88789,\n",
       "           0.88889,     0.88989,     0.89089,     0.89189,     0.89289,     0.89389,     0.89489,      0.8959,      0.8969,      0.8979,      0.8989,      0.8999,      0.9009,      0.9019,      0.9029,      0.9039,      0.9049,     0.90591,     0.90691,     0.90791,     0.90891,     0.90991,     0.91091,     0.91191,\n",
       "           0.91291,     0.91391,     0.91491,     0.91592,     0.91692,     0.91792,     0.91892,     0.91992,     0.92092,     0.92192,     0.92292,     0.92392,     0.92492,     0.92593,     0.92693,     0.92793,     0.92893,     0.92993,     0.93093,     0.93193,     0.93293,     0.93393,     0.93493,     0.93594,\n",
       "           0.93694,     0.93794,     0.93894,     0.93994,     0.94094,     0.94194,     0.94294,     0.94394,     0.94494,     0.94595,     0.94695,     0.94795,     0.94895,     0.94995,     0.95095,     0.95195,     0.95295,     0.95395,     0.95495,     0.95596,     0.95696,     0.95796,     0.95896,     0.95996,\n",
       "           0.96096,     0.96196,     0.96296,     0.96396,     0.96496,     0.96597,     0.96697,     0.96797,     0.96897,     0.96997,     0.97097,     0.97197,     0.97297,     0.97397,     0.97497,     0.97598,     0.97698,     0.97798,     0.97898,     0.97998,     0.98098,     0.98198,     0.98298,     0.98398,\n",
       "           0.98498,     0.98599,     0.98699,     0.98799,     0.98899,     0.98999,     0.99099,     0.99199,     0.99299,     0.99399,     0.99499,       0.996,       0.997,       0.998,       0.999,           1]), array([[          1,           1,           1,           1,           1,           1,           1,           1,           1,           1,           1,           1,           1,           1,           1,           1,           1,           1,           1,           1,           1,           1,           1,\n",
       "                  1,           1,           1,           1,           1,           1,           1,           1,           1,           1,           1,           1,           1,           1,           1,           1,           1,           1,           1,           1,           1,           1,           1,\n",
       "                  1,           1,           1,           1,           1,           1,           1,           1,           1,           1,           1,           1,           1,           1,           1,           1,           1,           1,           1,           1,           1,           1,           1,\n",
       "                  1,           1,           1,           1,           1,           1,           1,           1,           1,           1,           1,           1,           1,           1,           1,           1,           1,           1,           1,           1,           1,           1,           1,\n",
       "                  1,           1,           1,           1,           1,           1,           1,           1,           1,           1,           1,           1,           1,           1,           1,           1,           1,           1,           1,           1,           1,           1,           1,\n",
       "                  1,           1,           1,           1,           1,           1,           1,           1,           1,           1,           1,           1,           1,           1,           1,           1,           1,           1,           1,           1,           1,           1,           1,\n",
       "                  1,           1,           1,           1,           1,           1,           1,           1,           1,           1,           1,           1,           1,           1,           1,           1,           1,           1,           1,           1,           1,           1,           1,\n",
       "                  1,           1,           1,           1,           1,           1,           1,           1,           1,           1,           1,           1,           1,           1,           1,           1,           1,           1,           1,           1,           1,           1,           1,\n",
       "                  1,           1,           1,           1,           1,           1,           1,           1,           1,           1,           1,           1,           1,           1,           1,           1,           1,           1,           1,           1,           1,           1,           1,\n",
       "                  1,           1,           1,           1,           1,           1,           1,           1,           1,           1,           1,           1,           1,           1,           1,           1,           1,           1,           1,           1,           1,           1,           1,\n",
       "                  1,           1,           1,           1,           1,           1,           1,           1,           1,           1,           1,           1,           1,           1,           1,           1,           1,           1,           1,           1,           1,           1,           1,\n",
       "                  1,           1,           1,           1,           1,           1,           1,           1,           1,           1,           1,           1,           1,           1,           1,           1,           1,           1,           1,           1,           1,           1,           1,\n",
       "                  1,           1,           1,           1,           1,           1,           1,           1,           1,           1,           1,           1,           1,           1,           1,           1,           1,           1,           1,           1,           1,           1,           1,\n",
       "                  1,           1,           1,           1,           1,           1,           1,           1,           1,           1,           1,           1,           1,           1,           1,           1,           1,           1,           1,           1,           1,           1,           1,\n",
       "                  1,           1,           1,           1,           1,           1,           1,           1,           1,           1,           1,           1,           1,           1,           1,           1,           1,           1,           1,           1,           1,           1,           1,\n",
       "                  1,           1,           1,           1,           1,           1,           1,           1,           1,           1,           1,           1,           1,           1,           1,           1,           1,           1,           1,           1,           1,           1,           1,\n",
       "                  1,           1,           1,           1,           1,           1,           1,           1,           1,           1,           1,           1,           1,           1,           1,           1,           1,           1,           1,           1,           1,           1,           1,\n",
       "                  1,           1,           1,           1,           1,           1,           1,           1,           1,           1,           1,           1,           1,           1,           1,           1,           1,           1,           1,           1,           1,           1,           1,\n",
       "                  1,           1,           1,           1,           1,           1,           1,           1,           1,           1,           1,           1,           1,           1,           1,           1,           1,           1,           1,           1,           1,           1,           1,\n",
       "                  1,           1,           1,           1,           1,           1,           1,           1,           1,           1,           1,           1,           1,           1,           1,           1,           1,           1,           1,           1,           1,           1,           1,\n",
       "                  1,           1,           1,           1,           1,           1,           1,           1,           1,           1,           1,           1,           1,           1,           1,           1,           1,           1,           1,           1,           1,           1,           1,\n",
       "                  1,           1,           1,           1,           1,           1,           1,           1,           1,           1,           1,           1,           1,           1,           1,           1,           1,           1,           1,           1,           1,           1,           1,\n",
       "                  1,           1,           1,           1,           1,           1,           1,           1,           1,           1,           1,           1,           1,           1,           1,           1,           1,           1,           1,           1,           1,           1,           1,\n",
       "                  1,           1,           1,           1,           1,           1,           1,           1,           1,           1,           1,           1,           1,           1,           1,           1,           1,           1,           1,           1,           1,           1,           1,\n",
       "                  1,           1,           1,           1,           1,           1,           1,           1,           1,           1,           1,           1,           1,           1,           1,           1,           1,           1,           1,           1,           1,           1,           1,\n",
       "                  1,           1,           1,           1,           1,           1,           1,           1,           1,           1,           1,           1,           1,           1,           1,           1,           1,           1,           1,           1,           1,           1,           1,\n",
       "                  1,           1,           1,           1,           1,           1,           1,           1,           1,           1,           1,           1,           1,           1,           1,           1,           1,           1,           1,           1,           1,           1,           1,\n",
       "                  1,           1,           1,           1,           1,           1,           1,           1,           1,           1,           1,           1,           1,           1,           1,           1,           1,           1,           1,           1,           1,           1,           1,\n",
       "                  1,           1,           1,           1,           1,           1,           1,           1,           1,           1,           1,           1,           1,           1,           1,           1,           1,           1,           1,           1,           1,           1,           1,\n",
       "                  1,           1,           1,           1,           1,           1,           1,           1,           1,           1,           1,           1,           1,           1,           1,           1,           1,           1,           1,           1,           1,           1,           1,\n",
       "                  1,           1,           1,           1,           1,           1,           1,           1,           1,           1,           1,           1,           1,           1,           1,           1,           1,           1,           1,           1,           1,           1,           1,\n",
       "                  1,           1,           1,           1,           1,           1,           1,           1,           1,           1,           1,           1,           1,           1,           1,           1,           1,           1,           1,           1,           1,     0.96226,     0.96226,\n",
       "            0.96226,     0.96226,     0.96226,     0.96226,     0.96226,     0.96226,     0.96226,     0.96226,     0.96226,     0.96226,     0.96226,     0.96226,     0.96226,     0.96226,     0.96226,     0.96226,     0.96226,     0.96226,     0.96226,     0.96226,     0.96226,     0.96226,     0.96226,\n",
       "            0.96226,     0.96226,     0.96226,     0.96226,     0.96226,     0.96226,     0.96226,     0.96226,     0.96226,     0.96226,     0.96226,     0.96226,     0.96226,     0.96226,     0.96226,     0.96226,     0.96226,     0.96226,     0.96226,     0.96226,     0.96226,     0.96226,     0.96226,\n",
       "            0.96226,     0.96226,     0.96226,     0.96226,     0.96226,     0.96226,     0.96226,     0.96226,     0.96226,     0.96226,     0.96226,     0.96226,     0.96226,     0.96226,     0.96226,     0.94643,     0.94643,     0.94643,     0.94643,     0.94643,     0.94643,     0.94643,     0.94643,\n",
       "            0.94643,     0.94643,     0.94643,     0.94643,     0.94643,     0.94643,     0.94643,     0.94643,     0.94643,     0.94643,     0.94643,     0.94643,     0.94643,     0.94643,     0.94643,     0.94643,     0.94643,     0.94643,     0.94643,     0.94643,     0.94643,     0.94643,     0.94643,\n",
       "            0.83333,     0.83333,     0.83333,     0.83333,     0.83333,     0.83333,     0.83333,     0.83333,     0.83333,     0.83333,     0.83333,     0.83333,     0.83333,     0.83333,     0.83333,     0.83333,     0.83333,     0.83333,     0.83333,     0.83333,     0.83333,     0.83333,     0.83333,\n",
       "            0.83333,     0.83333,     0.83333,     0.83333,     0.83333,     0.83333,     0.83333,     0.83333,     0.70886,     0.70886,     0.70886,     0.70886,     0.70886,     0.70886,     0.70886,     0.70886,     0.70886,     0.70886,     0.70886,     0.70886,     0.70886,     0.70886,     0.70886,\n",
       "            0.70886,     0.34337,     0.34337,     0.34337,     0.34337,     0.34337,     0.34337,     0.34337,     0.34337,     0.34337,     0.34337,     0.34337,     0.34337,     0.34337,     0.34337,     0.34337,     0.17957,     0.17957,     0.17957,     0.17957,     0.17957,     0.17957,     0.17957,\n",
       "            0.17957,     0.17957,     0.17957,     0.17957,     0.17957,     0.17957,     0.17957,     0.17957,     0.17957,     0.10806,     0.10806,     0.10806,     0.10806,     0.10806,     0.10806,     0.10806,     0.10806,     0.10806,     0.10806,     0.10806,     0.10806,     0.10806,     0.10806,\n",
       "            0.10806,     0.08596,     0.08596,     0.08596,     0.08596,     0.08596,     0.08596,     0.08596,     0.08596,     0.08596,     0.08596,     0.08596,     0.08596,     0.08596,     0.08596,     0.08596,     0.08596,    0.021786,    0.021786,    0.021786,    0.021786,    0.021786,    0.021786,\n",
       "           0.021786,    0.021786,    0.021786,    0.021786,    0.021786,    0.021786,    0.021786,    0.021786,    0.021786,    0.021786,    0.019974,     0.01954,    0.019105,    0.018671,    0.018237,    0.017803,    0.017368,    0.016934,      0.0165,    0.016066,    0.015632,    0.015197,    0.014763,\n",
       "           0.014329,    0.013895,    0.013461,    0.013026,    0.012592,    0.012158,    0.011724,     0.01129,    0.010855,    0.010421,   0.0099869,   0.0095527,   0.0091185,   0.0086842,     0.00825,   0.0078158,   0.0073816,   0.0069474,   0.0065132,    0.006079,   0.0056448,   0.0052105,   0.0047763,\n",
       "          0.0043421,   0.0039079,   0.0034737,   0.0030395,   0.0026053,   0.0021711,   0.0017368,   0.0013026,  0.00086842,  0.00043421,           0]]), 'Recall', 'Precision'], [array([          0,    0.001001,    0.002002,    0.003003,    0.004004,    0.005005,    0.006006,    0.007007,    0.008008,    0.009009,     0.01001,    0.011011,    0.012012,    0.013013,    0.014014,    0.015015,    0.016016,    0.017017,    0.018018,    0.019019,     0.02002,    0.021021,    0.022022,    0.023023,\n",
       "          0.024024,    0.025025,    0.026026,    0.027027,    0.028028,    0.029029,     0.03003,    0.031031,    0.032032,    0.033033,    0.034034,    0.035035,    0.036036,    0.037037,    0.038038,    0.039039,     0.04004,    0.041041,    0.042042,    0.043043,    0.044044,    0.045045,    0.046046,    0.047047,\n",
       "          0.048048,    0.049049,     0.05005,    0.051051,    0.052052,    0.053053,    0.054054,    0.055055,    0.056056,    0.057057,    0.058058,    0.059059,     0.06006,    0.061061,    0.062062,    0.063063,    0.064064,    0.065065,    0.066066,    0.067067,    0.068068,    0.069069,     0.07007,    0.071071,\n",
       "          0.072072,    0.073073,    0.074074,    0.075075,    0.076076,    0.077077,    0.078078,    0.079079,     0.08008,    0.081081,    0.082082,    0.083083,    0.084084,    0.085085,    0.086086,    0.087087,    0.088088,    0.089089,     0.09009,    0.091091,    0.092092,    0.093093,    0.094094,    0.095095,\n",
       "          0.096096,    0.097097,    0.098098,    0.099099,      0.1001,      0.1011,      0.1021,      0.1031,      0.1041,     0.10511,     0.10611,     0.10711,     0.10811,     0.10911,     0.11011,     0.11111,     0.11211,     0.11311,     0.11411,     0.11512,     0.11612,     0.11712,     0.11812,     0.11912,\n",
       "           0.12012,     0.12112,     0.12212,     0.12312,     0.12412,     0.12513,     0.12613,     0.12713,     0.12813,     0.12913,     0.13013,     0.13113,     0.13213,     0.13313,     0.13413,     0.13514,     0.13614,     0.13714,     0.13814,     0.13914,     0.14014,     0.14114,     0.14214,     0.14314,\n",
       "           0.14414,     0.14515,     0.14615,     0.14715,     0.14815,     0.14915,     0.15015,     0.15115,     0.15215,     0.15315,     0.15415,     0.15516,     0.15616,     0.15716,     0.15816,     0.15916,     0.16016,     0.16116,     0.16216,     0.16316,     0.16416,     0.16517,     0.16617,     0.16717,\n",
       "           0.16817,     0.16917,     0.17017,     0.17117,     0.17217,     0.17317,     0.17417,     0.17518,     0.17618,     0.17718,     0.17818,     0.17918,     0.18018,     0.18118,     0.18218,     0.18318,     0.18418,     0.18519,     0.18619,     0.18719,     0.18819,     0.18919,     0.19019,     0.19119,\n",
       "           0.19219,     0.19319,     0.19419,      0.1952,      0.1962,      0.1972,      0.1982,      0.1992,      0.2002,      0.2012,      0.2022,      0.2032,      0.2042,     0.20521,     0.20621,     0.20721,     0.20821,     0.20921,     0.21021,     0.21121,     0.21221,     0.21321,     0.21421,     0.21522,\n",
       "           0.21622,     0.21722,     0.21822,     0.21922,     0.22022,     0.22122,     0.22222,     0.22322,     0.22422,     0.22523,     0.22623,     0.22723,     0.22823,     0.22923,     0.23023,     0.23123,     0.23223,     0.23323,     0.23423,     0.23524,     0.23624,     0.23724,     0.23824,     0.23924,\n",
       "           0.24024,     0.24124,     0.24224,     0.24324,     0.24424,     0.24525,     0.24625,     0.24725,     0.24825,     0.24925,     0.25025,     0.25125,     0.25225,     0.25325,     0.25425,     0.25526,     0.25626,     0.25726,     0.25826,     0.25926,     0.26026,     0.26126,     0.26226,     0.26326,\n",
       "           0.26426,     0.26527,     0.26627,     0.26727,     0.26827,     0.26927,     0.27027,     0.27127,     0.27227,     0.27327,     0.27427,     0.27528,     0.27628,     0.27728,     0.27828,     0.27928,     0.28028,     0.28128,     0.28228,     0.28328,     0.28428,     0.28529,     0.28629,     0.28729,\n",
       "           0.28829,     0.28929,     0.29029,     0.29129,     0.29229,     0.29329,     0.29429,      0.2953,      0.2963,      0.2973,      0.2983,      0.2993,      0.3003,      0.3013,      0.3023,      0.3033,      0.3043,     0.30531,     0.30631,     0.30731,     0.30831,     0.30931,     0.31031,     0.31131,\n",
       "           0.31231,     0.31331,     0.31431,     0.31532,     0.31632,     0.31732,     0.31832,     0.31932,     0.32032,     0.32132,     0.32232,     0.32332,     0.32432,     0.32533,     0.32633,     0.32733,     0.32833,     0.32933,     0.33033,     0.33133,     0.33233,     0.33333,     0.33433,     0.33534,\n",
       "           0.33634,     0.33734,     0.33834,     0.33934,     0.34034,     0.34134,     0.34234,     0.34334,     0.34434,     0.34535,     0.34635,     0.34735,     0.34835,     0.34935,     0.35035,     0.35135,     0.35235,     0.35335,     0.35435,     0.35536,     0.35636,     0.35736,     0.35836,     0.35936,\n",
       "           0.36036,     0.36136,     0.36236,     0.36336,     0.36436,     0.36537,     0.36637,     0.36737,     0.36837,     0.36937,     0.37037,     0.37137,     0.37237,     0.37337,     0.37437,     0.37538,     0.37638,     0.37738,     0.37838,     0.37938,     0.38038,     0.38138,     0.38238,     0.38338,\n",
       "           0.38438,     0.38539,     0.38639,     0.38739,     0.38839,     0.38939,     0.39039,     0.39139,     0.39239,     0.39339,     0.39439,      0.3954,      0.3964,      0.3974,      0.3984,      0.3994,      0.4004,      0.4014,      0.4024,      0.4034,      0.4044,     0.40541,     0.40641,     0.40741,\n",
       "           0.40841,     0.40941,     0.41041,     0.41141,     0.41241,     0.41341,     0.41441,     0.41542,     0.41642,     0.41742,     0.41842,     0.41942,     0.42042,     0.42142,     0.42242,     0.42342,     0.42442,     0.42543,     0.42643,     0.42743,     0.42843,     0.42943,     0.43043,     0.43143,\n",
       "           0.43243,     0.43343,     0.43443,     0.43544,     0.43644,     0.43744,     0.43844,     0.43944,     0.44044,     0.44144,     0.44244,     0.44344,     0.44444,     0.44545,     0.44645,     0.44745,     0.44845,     0.44945,     0.45045,     0.45145,     0.45245,     0.45345,     0.45445,     0.45546,\n",
       "           0.45646,     0.45746,     0.45846,     0.45946,     0.46046,     0.46146,     0.46246,     0.46346,     0.46446,     0.46547,     0.46647,     0.46747,     0.46847,     0.46947,     0.47047,     0.47147,     0.47247,     0.47347,     0.47447,     0.47548,     0.47648,     0.47748,     0.47848,     0.47948,\n",
       "           0.48048,     0.48148,     0.48248,     0.48348,     0.48448,     0.48549,     0.48649,     0.48749,     0.48849,     0.48949,     0.49049,     0.49149,     0.49249,     0.49349,     0.49449,      0.4955,      0.4965,      0.4975,      0.4985,      0.4995,      0.5005,      0.5015,      0.5025,      0.5035,\n",
       "            0.5045,     0.50551,     0.50651,     0.50751,     0.50851,     0.50951,     0.51051,     0.51151,     0.51251,     0.51351,     0.51451,     0.51552,     0.51652,     0.51752,     0.51852,     0.51952,     0.52052,     0.52152,     0.52252,     0.52352,     0.52452,     0.52553,     0.52653,     0.52753,\n",
       "           0.52853,     0.52953,     0.53053,     0.53153,     0.53253,     0.53353,     0.53453,     0.53554,     0.53654,     0.53754,     0.53854,     0.53954,     0.54054,     0.54154,     0.54254,     0.54354,     0.54454,     0.54555,     0.54655,     0.54755,     0.54855,     0.54955,     0.55055,     0.55155,\n",
       "           0.55255,     0.55355,     0.55455,     0.55556,     0.55656,     0.55756,     0.55856,     0.55956,     0.56056,     0.56156,     0.56256,     0.56356,     0.56456,     0.56557,     0.56657,     0.56757,     0.56857,     0.56957,     0.57057,     0.57157,     0.57257,     0.57357,     0.57457,     0.57558,\n",
       "           0.57658,     0.57758,     0.57858,     0.57958,     0.58058,     0.58158,     0.58258,     0.58358,     0.58458,     0.58559,     0.58659,     0.58759,     0.58859,     0.58959,     0.59059,     0.59159,     0.59259,     0.59359,     0.59459,      0.5956,      0.5966,      0.5976,      0.5986,      0.5996,\n",
       "            0.6006,      0.6016,      0.6026,      0.6036,      0.6046,     0.60561,     0.60661,     0.60761,     0.60861,     0.60961,     0.61061,     0.61161,     0.61261,     0.61361,     0.61461,     0.61562,     0.61662,     0.61762,     0.61862,     0.61962,     0.62062,     0.62162,     0.62262,     0.62362,\n",
       "           0.62462,     0.62563,     0.62663,     0.62763,     0.62863,     0.62963,     0.63063,     0.63163,     0.63263,     0.63363,     0.63463,     0.63564,     0.63664,     0.63764,     0.63864,     0.63964,     0.64064,     0.64164,     0.64264,     0.64364,     0.64464,     0.64565,     0.64665,     0.64765,\n",
       "           0.64865,     0.64965,     0.65065,     0.65165,     0.65265,     0.65365,     0.65465,     0.65566,     0.65666,     0.65766,     0.65866,     0.65966,     0.66066,     0.66166,     0.66266,     0.66366,     0.66466,     0.66567,     0.66667,     0.66767,     0.66867,     0.66967,     0.67067,     0.67167,\n",
       "           0.67267,     0.67367,     0.67467,     0.67568,     0.67668,     0.67768,     0.67868,     0.67968,     0.68068,     0.68168,     0.68268,     0.68368,     0.68468,     0.68569,     0.68669,     0.68769,     0.68869,     0.68969,     0.69069,     0.69169,     0.69269,     0.69369,     0.69469,      0.6957,\n",
       "            0.6967,      0.6977,      0.6987,      0.6997,      0.7007,      0.7017,      0.7027,      0.7037,      0.7047,     0.70571,     0.70671,     0.70771,     0.70871,     0.70971,     0.71071,     0.71171,     0.71271,     0.71371,     0.71471,     0.71572,     0.71672,     0.71772,     0.71872,     0.71972,\n",
       "           0.72072,     0.72172,     0.72272,     0.72372,     0.72472,     0.72573,     0.72673,     0.72773,     0.72873,     0.72973,     0.73073,     0.73173,     0.73273,     0.73373,     0.73473,     0.73574,     0.73674,     0.73774,     0.73874,     0.73974,     0.74074,     0.74174,     0.74274,     0.74374,\n",
       "           0.74474,     0.74575,     0.74675,     0.74775,     0.74875,     0.74975,     0.75075,     0.75175,     0.75275,     0.75375,     0.75475,     0.75576,     0.75676,     0.75776,     0.75876,     0.75976,     0.76076,     0.76176,     0.76276,     0.76376,     0.76476,     0.76577,     0.76677,     0.76777,\n",
       "           0.76877,     0.76977,     0.77077,     0.77177,     0.77277,     0.77377,     0.77477,     0.77578,     0.77678,     0.77778,     0.77878,     0.77978,     0.78078,     0.78178,     0.78278,     0.78378,     0.78478,     0.78579,     0.78679,     0.78779,     0.78879,     0.78979,     0.79079,     0.79179,\n",
       "           0.79279,     0.79379,     0.79479,      0.7958,      0.7968,      0.7978,      0.7988,      0.7998,      0.8008,      0.8018,      0.8028,      0.8038,      0.8048,     0.80581,     0.80681,     0.80781,     0.80881,     0.80981,     0.81081,     0.81181,     0.81281,     0.81381,     0.81481,     0.81582,\n",
       "           0.81682,     0.81782,     0.81882,     0.81982,     0.82082,     0.82182,     0.82282,     0.82382,     0.82482,     0.82583,     0.82683,     0.82783,     0.82883,     0.82983,     0.83083,     0.83183,     0.83283,     0.83383,     0.83483,     0.83584,     0.83684,     0.83784,     0.83884,     0.83984,\n",
       "           0.84084,     0.84184,     0.84284,     0.84384,     0.84484,     0.84585,     0.84685,     0.84785,     0.84885,     0.84985,     0.85085,     0.85185,     0.85285,     0.85385,     0.85485,     0.85586,     0.85686,     0.85786,     0.85886,     0.85986,     0.86086,     0.86186,     0.86286,     0.86386,\n",
       "           0.86486,     0.86587,     0.86687,     0.86787,     0.86887,     0.86987,     0.87087,     0.87187,     0.87287,     0.87387,     0.87487,     0.87588,     0.87688,     0.87788,     0.87888,     0.87988,     0.88088,     0.88188,     0.88288,     0.88388,     0.88488,     0.88589,     0.88689,     0.88789,\n",
       "           0.88889,     0.88989,     0.89089,     0.89189,     0.89289,     0.89389,     0.89489,      0.8959,      0.8969,      0.8979,      0.8989,      0.8999,      0.9009,      0.9019,      0.9029,      0.9039,      0.9049,     0.90591,     0.90691,     0.90791,     0.90891,     0.90991,     0.91091,     0.91191,\n",
       "           0.91291,     0.91391,     0.91491,     0.91592,     0.91692,     0.91792,     0.91892,     0.91992,     0.92092,     0.92192,     0.92292,     0.92392,     0.92492,     0.92593,     0.92693,     0.92793,     0.92893,     0.92993,     0.93093,     0.93193,     0.93293,     0.93393,     0.93493,     0.93594,\n",
       "           0.93694,     0.93794,     0.93894,     0.93994,     0.94094,     0.94194,     0.94294,     0.94394,     0.94494,     0.94595,     0.94695,     0.94795,     0.94895,     0.94995,     0.95095,     0.95195,     0.95295,     0.95395,     0.95495,     0.95596,     0.95696,     0.95796,     0.95896,     0.95996,\n",
       "           0.96096,     0.96196,     0.96296,     0.96396,     0.96496,     0.96597,     0.96697,     0.96797,     0.96897,     0.96997,     0.97097,     0.97197,     0.97297,     0.97397,     0.97497,     0.97598,     0.97698,     0.97798,     0.97898,     0.97998,     0.98098,     0.98198,     0.98298,     0.98398,\n",
       "           0.98498,     0.98599,     0.98699,     0.98799,     0.98899,     0.98999,     0.99099,     0.99199,     0.99299,     0.99399,     0.99499,       0.996,       0.997,       0.998,       0.999,           1]), array([[   0.039817,    0.039817,    0.042507,    0.057469,    0.075945,     0.12027,     0.18822,       0.231,     0.27369,     0.30376,     0.32853,     0.35092,     0.36836,     0.37995,      0.4016,     0.41273,     0.42694,     0.44947,     0.46499,      0.4737,     0.48247,     0.48687,     0.49068,\n",
       "            0.50531,     0.51599,     0.52982,      0.5441,     0.55028,     0.56994,     0.58158,     0.59478,     0.61081,     0.61913,      0.6262,     0.63245,     0.64077,     0.65513,     0.66379,     0.67101,     0.67711,     0.68573,     0.70928,      0.7129,     0.73441,      0.7391,     0.74344,\n",
       "            0.76412,     0.77202,     0.77698,     0.78189,     0.77834,     0.77477,     0.78064,     0.78127,     0.78191,     0.78254,     0.78317,     0.78381,     0.78444,     0.78507,      0.7857,     0.78758,     0.78949,     0.79139,     0.79314,     0.79488,     0.79662,     0.79902,     0.80167,\n",
       "            0.80359,     0.80487,     0.80615,     0.80742,     0.80869,     0.81108,      0.8136,     0.82107,     0.82311,     0.82513,     0.82725,     0.83193,     0.83407,     0.83511,     0.83616,      0.8372,     0.83824,     0.83928,     0.84088,     0.84284,      0.8448,       0.846,     0.84548,\n",
       "            0.84496,     0.84445,     0.84393,     0.84341,      0.8429,     0.84238,     0.84186,     0.84134,     0.84082,      0.8403,     0.83978,     0.83926,     0.83874,     0.83822,      0.8377,      0.8372,     0.83697,     0.83673,      0.8365,     0.83627,     0.83604,     0.83581,     0.83558,\n",
       "            0.83534,     0.83511,     0.83488,     0.83465,     0.83441,     0.83418,     0.83395,     0.83372,     0.83348,     0.83325,     0.83302,     0.83279,     0.83255,     0.83232,     0.83209,     0.83186,     0.83162,     0.83139,     0.83116,     0.83092,     0.83069,     0.83046,     0.83022,\n",
       "            0.82999,     0.82976,     0.82952,     0.82929,     0.82905,     0.82882,     0.82859,     0.82835,     0.82828,     0.83363,     0.83523,     0.83595,     0.83666,     0.83738,      0.8381,     0.83881,     0.83952,     0.84023,     0.84094,     0.84227,     0.84412,     0.84596,     0.84778,\n",
       "            0.85092,     0.85421,     0.85508,     0.85538,     0.85567,     0.85597,     0.85627,     0.85657,     0.85686,     0.85716,     0.85745,     0.85775,     0.85805,     0.85834,     0.85864,     0.85893,     0.85923,     0.85952,     0.85981,     0.86011,      0.8604,      0.8607,     0.86099,\n",
       "            0.86128,     0.86158,     0.86195,     0.86253,     0.86311,      0.8637,     0.86428,     0.86486,     0.86544,     0.86602,     0.86659,     0.86717,     0.86775,     0.86832,     0.86891,     0.86958,     0.87025,     0.87093,      0.8716,     0.87227,     0.87294,      0.8736,     0.87427,\n",
       "            0.87494,      0.8756,     0.87608,     0.87621,     0.87634,     0.87647,      0.8766,     0.87672,     0.87685,     0.87698,     0.87711,     0.87724,     0.87737,      0.8775,     0.87763,     0.87776,     0.87789,     0.87801,     0.87814,     0.87827,      0.8784,     0.87853,     0.87866,\n",
       "            0.87879,     0.87891,     0.87904,     0.87917,      0.8793,     0.87943,     0.87956,     0.87968,     0.87981,     0.87994,     0.88007,      0.8802,     0.88032,     0.88045,     0.88058,     0.88071,     0.88084,     0.88096,     0.88109,     0.88122,     0.88135,     0.88147,      0.8816,\n",
       "            0.88173,     0.88186,     0.88198,     0.88211,     0.88224,     0.88237,     0.88249,     0.88262,     0.88275,     0.88288,       0.883,     0.88313,     0.88326,     0.88311,     0.88254,     0.88197,     0.88139,     0.88082,     0.88025,     0.87968,      0.8791,     0.87853,     0.87795,\n",
       "            0.87738,      0.8768,     0.87623,     0.87565,     0.87507,      0.8745,     0.87394,     0.87378,     0.87361,     0.87345,     0.87328,     0.87312,     0.87295,     0.87279,     0.87262,     0.87246,     0.87229,     0.87213,     0.87196,      0.8718,     0.87163,     0.87147,      0.8713,\n",
       "            0.87114,     0.87097,     0.87081,     0.87064,     0.87048,     0.87031,     0.87014,     0.86998,     0.86981,     0.86965,     0.86948,     0.86932,     0.86915,     0.86898,     0.86882,     0.86865,     0.86849,     0.86832,     0.86816,     0.86799,     0.86782,     0.86766,     0.86749,\n",
       "            0.86732,     0.86716,     0.86699,     0.86683,     0.86666,     0.86649,     0.86633,     0.86616,     0.86599,     0.86583,     0.86566,     0.86549,     0.86533,     0.86516,     0.86499,     0.86482,     0.86466,     0.86449,     0.86456,     0.86487,     0.86519,      0.8655,     0.86581,\n",
       "            0.86612,     0.86643,     0.86674,     0.86705,     0.86736,     0.86767,     0.86798,     0.86829,      0.8686,     0.86891,     0.86921,     0.86952,     0.86983,     0.87014,     0.87044,     0.87075,     0.87106,     0.87136,     0.87167,     0.87174,     0.87164,     0.87155,     0.87145,\n",
       "            0.87136,     0.87127,     0.87117,     0.87108,     0.87098,     0.87089,     0.87079,      0.8707,      0.8706,     0.87051,     0.87041,     0.87032,     0.87022,     0.87013,     0.87003,     0.86994,     0.86984,     0.86975,     0.86965,     0.86956,     0.86946,     0.86937,     0.86927,\n",
       "            0.86918,     0.86908,     0.86899,     0.86889,      0.8688,      0.8687,     0.86861,     0.86851,     0.86842,     0.86832,     0.86823,     0.86813,     0.86804,     0.86794,     0.86785,     0.86775,     0.86766,     0.86756,     0.86746,     0.86737,     0.86727,     0.86718,     0.86708,\n",
       "            0.86699,     0.86689,      0.8668,      0.8667,     0.86661,     0.86651,     0.86642,     0.86632,     0.86622,     0.86613,     0.86603,     0.86594,     0.86584,     0.86575,     0.86565,     0.86556,     0.86546,     0.86536,     0.86527,     0.86517,     0.86508,     0.86498,     0.86489,\n",
       "            0.86479,     0.86469,      0.8646,      0.8645,     0.86441,     0.86431,     0.86421,     0.86412,     0.86402,     0.86393,     0.86383,     0.86374,     0.86364,     0.86354,     0.86345,     0.86335,     0.86326,     0.86316,     0.86306,     0.86297,     0.86287,     0.86278,     0.86268,\n",
       "            0.86258,     0.86249,     0.86239,      0.8623,      0.8622,      0.8621,     0.86184,     0.86148,     0.86112,     0.86076,      0.8604,     0.86004,     0.85968,     0.85932,     0.85895,     0.85859,     0.85823,     0.85787,     0.85751,     0.85715,     0.85678,     0.85642,     0.85606,\n",
       "             0.8557,     0.85533,     0.85497,     0.85461,     0.85424,     0.85388,     0.85351,     0.85315,     0.85278,     0.85242,     0.85169,     0.85023,     0.84876,     0.84729,     0.84581,     0.84433,     0.84285,     0.84194,      0.8416,     0.84126,     0.84093,     0.84059,     0.84025,\n",
       "            0.83992,     0.83958,     0.83924,      0.8389,     0.83857,     0.83823,     0.83789,     0.83755,     0.83721,     0.83687,     0.83654,      0.8362,     0.83586,     0.83552,     0.83518,     0.83484,      0.8345,     0.83416,     0.83382,     0.83348,     0.83314,     0.83279,     0.83245,\n",
       "            0.83211,     0.83187,     0.83193,     0.83199,     0.83205,     0.83211,     0.83217,     0.83223,     0.83229,     0.83235,     0.83241,     0.83247,     0.83253,     0.83259,     0.83265,     0.83271,     0.83276,     0.83282,     0.83288,     0.83294,       0.833,     0.83306,     0.83312,\n",
       "            0.83318,     0.83324,      0.8333,     0.83336,     0.83342,     0.83348,     0.83353,     0.83359,     0.83365,     0.83371,     0.83377,     0.83383,     0.83389,     0.83395,     0.83401,     0.83407,     0.83413,     0.83418,     0.83424,      0.8343,     0.83436,     0.83442,     0.83448,\n",
       "            0.83454,      0.8346,     0.83466,     0.83472,     0.83477,     0.83483,     0.83489,     0.83495,     0.83501,     0.83507,     0.83513,     0.83519,     0.83525,      0.8353,     0.83536,     0.83542,     0.83548,     0.83554,      0.8356,     0.83566,     0.83572,     0.83578,     0.83583,\n",
       "            0.83589,     0.83595,     0.83601,     0.83607,     0.83613,     0.83619,     0.83624,      0.8363,     0.83636,     0.83642,     0.83648,     0.83654,      0.8366,     0.83666,     0.83671,     0.83677,     0.83683,     0.83689,     0.83695,     0.83701,     0.83707,     0.83712,     0.83718,\n",
       "            0.83724,      0.8373,     0.83736,     0.83742,     0.83747,     0.83753,     0.83759,     0.83765,     0.83771,     0.83777,     0.83783,     0.83788,     0.83794,       0.838,     0.83806,     0.83812,     0.83818,     0.83823,     0.83829,     0.83835,     0.83841,     0.83847,     0.83852,\n",
       "            0.83858,     0.83864,      0.8387,     0.83876,     0.83882,     0.83887,     0.83893,     0.83899,     0.83905,     0.83911,     0.83916,     0.83922,     0.83928,     0.83933,     0.83938,     0.83942,     0.83947,     0.83952,     0.83956,     0.83961,     0.83966,     0.83971,     0.83975,\n",
       "             0.8398,     0.83985,     0.83989,     0.83994,     0.83999,     0.84003,     0.84008,     0.84013,     0.84018,     0.84022,     0.84027,     0.84032,     0.84036,     0.84041,     0.84046,      0.8405,     0.84055,      0.8406,     0.84065,     0.84069,     0.84074,     0.84079,     0.84083,\n",
       "            0.84088,     0.84093,     0.84097,     0.84102,     0.84107,     0.84111,     0.84116,     0.84121,     0.84125,      0.8413,     0.84135,     0.84139,     0.84144,     0.84149,     0.84154,     0.84158,     0.84163,     0.84168,     0.84172,     0.84177,     0.84182,     0.84186,     0.84191,\n",
       "            0.84196,       0.842,     0.84205,      0.8421,     0.84214,     0.84219,     0.84224,     0.84228,     0.84233,     0.84238,     0.84242,     0.84247,     0.84252,     0.84256,     0.84261,     0.84266,      0.8427,     0.84275,      0.8428,     0.84284,     0.84289,     0.84294,     0.84298,\n",
       "            0.84303,     0.84308,     0.84312,     0.84317,     0.84321,     0.84326,     0.84331,     0.84335,      0.8434,     0.84345,     0.84349,     0.84354,     0.84359,     0.84363,     0.84368,     0.84373,     0.84377,     0.84382,     0.84387,     0.84391,     0.84396,       0.844,     0.84405,\n",
       "             0.8441,     0.84414,     0.84419,     0.84424,     0.84428,     0.84433,     0.84438,     0.84442,     0.84447,     0.84451,     0.84456,     0.84461,     0.84465,      0.8447,     0.84475,     0.84479,     0.84484,     0.84489,     0.84493,     0.84498,     0.84502,     0.84507,     0.84512,\n",
       "            0.84516,     0.84521,     0.84526,      0.8453,     0.84535,     0.84539,     0.84544,     0.84549,     0.84553,     0.84558,     0.84562,     0.84567,     0.84572,     0.84576,     0.84581,     0.84586,      0.8459,     0.84595,     0.84599,     0.84604,     0.84609,     0.84613,     0.84618,\n",
       "            0.84622,     0.84627,     0.84632,     0.84636,     0.84641,     0.84645,      0.8465,     0.84655,     0.84659,     0.84664,     0.84669,     0.84673,     0.84678,     0.84682,     0.84673,      0.8465,     0.84627,     0.84604,     0.84581,     0.84558,     0.84534,     0.84511,     0.84488,\n",
       "            0.84465,     0.84441,     0.84418,     0.84395,     0.84372,     0.84348,     0.84325,     0.84302,     0.84279,     0.84255,     0.84232,     0.84209,     0.84185,     0.84162,     0.84138,     0.84115,     0.84092,     0.84068,     0.84045,     0.84022,     0.83998,     0.83975,     0.83951,\n",
       "            0.83928,     0.83904,     0.83881,     0.83857,     0.83834,      0.8381,     0.83787,     0.83763,      0.8374,     0.83716,     0.83693,     0.83669,     0.83646,     0.83196,     0.81159,     0.79871,     0.79219,     0.79081,     0.78943,     0.78805,     0.78667,     0.78528,     0.78389,\n",
       "            0.78249,     0.78109,     0.78021,     0.77939,     0.77857,     0.77774,     0.77692,     0.77609,     0.77526,     0.77443,      0.7736,     0.77277,     0.77194,     0.77111,     0.77027,     0.76944,     0.76871,     0.76801,     0.76732,     0.76662,     0.76593,     0.76523,     0.76453,\n",
       "            0.76383,     0.76313,     0.76243,     0.76173,     0.76103,     0.76033,     0.75962,     0.75892,     0.75821,     0.75751,     0.74469,     0.74259,     0.74047,     0.73835,     0.73622,     0.73409,     0.73122,      0.7269,     0.72256,     0.71783,     0.71254,     0.70721,     0.68944,\n",
       "            0.68031,     0.67564,     0.67094,     0.66599,     0.65882,     0.64842,     0.63439,     0.62839,     0.62145,     0.61123,       0.604,     0.59773,     0.58839,     0.57594,     0.57051,     0.56503,     0.55837,        0.55,     0.53759,     0.50875,     0.50279,     0.49678,     0.48389,\n",
       "            0.47308,     0.46773,     0.46234,     0.45135,     0.41781,     0.40773,     0.39501,      0.3785,     0.37381,     0.36909,     0.36434,     0.35956,     0.33984,     0.33481,     0.33163,     0.32844,     0.32524,     0.32202,     0.31879,     0.31524,     0.30763,     0.29995,     0.26327,\n",
       "            0.24252,     0.23631,     0.23006,     0.22377,     0.22021,     0.21753,     0.21485,     0.21216,     0.20946,     0.20676,     0.20404,     0.20132,     0.19859,     0.17145,     0.15341,     0.13503,    0.089302,    0.085856,    0.082398,    0.078928,    0.075444,    0.071949,     0.06844,\n",
       "           0.064919,    0.061384,           0,           0,           0,           0,           0,           0,           0,           0,           0]]), 'Confidence', 'F1'], [array([          0,    0.001001,    0.002002,    0.003003,    0.004004,    0.005005,    0.006006,    0.007007,    0.008008,    0.009009,     0.01001,    0.011011,    0.012012,    0.013013,    0.014014,    0.015015,    0.016016,    0.017017,    0.018018,    0.019019,     0.02002,    0.021021,    0.022022,    0.023023,\n",
       "          0.024024,    0.025025,    0.026026,    0.027027,    0.028028,    0.029029,     0.03003,    0.031031,    0.032032,    0.033033,    0.034034,    0.035035,    0.036036,    0.037037,    0.038038,    0.039039,     0.04004,    0.041041,    0.042042,    0.043043,    0.044044,    0.045045,    0.046046,    0.047047,\n",
       "          0.048048,    0.049049,     0.05005,    0.051051,    0.052052,    0.053053,    0.054054,    0.055055,    0.056056,    0.057057,    0.058058,    0.059059,     0.06006,    0.061061,    0.062062,    0.063063,    0.064064,    0.065065,    0.066066,    0.067067,    0.068068,    0.069069,     0.07007,    0.071071,\n",
       "          0.072072,    0.073073,    0.074074,    0.075075,    0.076076,    0.077077,    0.078078,    0.079079,     0.08008,    0.081081,    0.082082,    0.083083,    0.084084,    0.085085,    0.086086,    0.087087,    0.088088,    0.089089,     0.09009,    0.091091,    0.092092,    0.093093,    0.094094,    0.095095,\n",
       "          0.096096,    0.097097,    0.098098,    0.099099,      0.1001,      0.1011,      0.1021,      0.1031,      0.1041,     0.10511,     0.10611,     0.10711,     0.10811,     0.10911,     0.11011,     0.11111,     0.11211,     0.11311,     0.11411,     0.11512,     0.11612,     0.11712,     0.11812,     0.11912,\n",
       "           0.12012,     0.12112,     0.12212,     0.12312,     0.12412,     0.12513,     0.12613,     0.12713,     0.12813,     0.12913,     0.13013,     0.13113,     0.13213,     0.13313,     0.13413,     0.13514,     0.13614,     0.13714,     0.13814,     0.13914,     0.14014,     0.14114,     0.14214,     0.14314,\n",
       "           0.14414,     0.14515,     0.14615,     0.14715,     0.14815,     0.14915,     0.15015,     0.15115,     0.15215,     0.15315,     0.15415,     0.15516,     0.15616,     0.15716,     0.15816,     0.15916,     0.16016,     0.16116,     0.16216,     0.16316,     0.16416,     0.16517,     0.16617,     0.16717,\n",
       "           0.16817,     0.16917,     0.17017,     0.17117,     0.17217,     0.17317,     0.17417,     0.17518,     0.17618,     0.17718,     0.17818,     0.17918,     0.18018,     0.18118,     0.18218,     0.18318,     0.18418,     0.18519,     0.18619,     0.18719,     0.18819,     0.18919,     0.19019,     0.19119,\n",
       "           0.19219,     0.19319,     0.19419,      0.1952,      0.1962,      0.1972,      0.1982,      0.1992,      0.2002,      0.2012,      0.2022,      0.2032,      0.2042,     0.20521,     0.20621,     0.20721,     0.20821,     0.20921,     0.21021,     0.21121,     0.21221,     0.21321,     0.21421,     0.21522,\n",
       "           0.21622,     0.21722,     0.21822,     0.21922,     0.22022,     0.22122,     0.22222,     0.22322,     0.22422,     0.22523,     0.22623,     0.22723,     0.22823,     0.22923,     0.23023,     0.23123,     0.23223,     0.23323,     0.23423,     0.23524,     0.23624,     0.23724,     0.23824,     0.23924,\n",
       "           0.24024,     0.24124,     0.24224,     0.24324,     0.24424,     0.24525,     0.24625,     0.24725,     0.24825,     0.24925,     0.25025,     0.25125,     0.25225,     0.25325,     0.25425,     0.25526,     0.25626,     0.25726,     0.25826,     0.25926,     0.26026,     0.26126,     0.26226,     0.26326,\n",
       "           0.26426,     0.26527,     0.26627,     0.26727,     0.26827,     0.26927,     0.27027,     0.27127,     0.27227,     0.27327,     0.27427,     0.27528,     0.27628,     0.27728,     0.27828,     0.27928,     0.28028,     0.28128,     0.28228,     0.28328,     0.28428,     0.28529,     0.28629,     0.28729,\n",
       "           0.28829,     0.28929,     0.29029,     0.29129,     0.29229,     0.29329,     0.29429,      0.2953,      0.2963,      0.2973,      0.2983,      0.2993,      0.3003,      0.3013,      0.3023,      0.3033,      0.3043,     0.30531,     0.30631,     0.30731,     0.30831,     0.30931,     0.31031,     0.31131,\n",
       "           0.31231,     0.31331,     0.31431,     0.31532,     0.31632,     0.31732,     0.31832,     0.31932,     0.32032,     0.32132,     0.32232,     0.32332,     0.32432,     0.32533,     0.32633,     0.32733,     0.32833,     0.32933,     0.33033,     0.33133,     0.33233,     0.33333,     0.33433,     0.33534,\n",
       "           0.33634,     0.33734,     0.33834,     0.33934,     0.34034,     0.34134,     0.34234,     0.34334,     0.34434,     0.34535,     0.34635,     0.34735,     0.34835,     0.34935,     0.35035,     0.35135,     0.35235,     0.35335,     0.35435,     0.35536,     0.35636,     0.35736,     0.35836,     0.35936,\n",
       "           0.36036,     0.36136,     0.36236,     0.36336,     0.36436,     0.36537,     0.36637,     0.36737,     0.36837,     0.36937,     0.37037,     0.37137,     0.37237,     0.37337,     0.37437,     0.37538,     0.37638,     0.37738,     0.37838,     0.37938,     0.38038,     0.38138,     0.38238,     0.38338,\n",
       "           0.38438,     0.38539,     0.38639,     0.38739,     0.38839,     0.38939,     0.39039,     0.39139,     0.39239,     0.39339,     0.39439,      0.3954,      0.3964,      0.3974,      0.3984,      0.3994,      0.4004,      0.4014,      0.4024,      0.4034,      0.4044,     0.40541,     0.40641,     0.40741,\n",
       "           0.40841,     0.40941,     0.41041,     0.41141,     0.41241,     0.41341,     0.41441,     0.41542,     0.41642,     0.41742,     0.41842,     0.41942,     0.42042,     0.42142,     0.42242,     0.42342,     0.42442,     0.42543,     0.42643,     0.42743,     0.42843,     0.42943,     0.43043,     0.43143,\n",
       "           0.43243,     0.43343,     0.43443,     0.43544,     0.43644,     0.43744,     0.43844,     0.43944,     0.44044,     0.44144,     0.44244,     0.44344,     0.44444,     0.44545,     0.44645,     0.44745,     0.44845,     0.44945,     0.45045,     0.45145,     0.45245,     0.45345,     0.45445,     0.45546,\n",
       "           0.45646,     0.45746,     0.45846,     0.45946,     0.46046,     0.46146,     0.46246,     0.46346,     0.46446,     0.46547,     0.46647,     0.46747,     0.46847,     0.46947,     0.47047,     0.47147,     0.47247,     0.47347,     0.47447,     0.47548,     0.47648,     0.47748,     0.47848,     0.47948,\n",
       "           0.48048,     0.48148,     0.48248,     0.48348,     0.48448,     0.48549,     0.48649,     0.48749,     0.48849,     0.48949,     0.49049,     0.49149,     0.49249,     0.49349,     0.49449,      0.4955,      0.4965,      0.4975,      0.4985,      0.4995,      0.5005,      0.5015,      0.5025,      0.5035,\n",
       "            0.5045,     0.50551,     0.50651,     0.50751,     0.50851,     0.50951,     0.51051,     0.51151,     0.51251,     0.51351,     0.51451,     0.51552,     0.51652,     0.51752,     0.51852,     0.51952,     0.52052,     0.52152,     0.52252,     0.52352,     0.52452,     0.52553,     0.52653,     0.52753,\n",
       "           0.52853,     0.52953,     0.53053,     0.53153,     0.53253,     0.53353,     0.53453,     0.53554,     0.53654,     0.53754,     0.53854,     0.53954,     0.54054,     0.54154,     0.54254,     0.54354,     0.54454,     0.54555,     0.54655,     0.54755,     0.54855,     0.54955,     0.55055,     0.55155,\n",
       "           0.55255,     0.55355,     0.55455,     0.55556,     0.55656,     0.55756,     0.55856,     0.55956,     0.56056,     0.56156,     0.56256,     0.56356,     0.56456,     0.56557,     0.56657,     0.56757,     0.56857,     0.56957,     0.57057,     0.57157,     0.57257,     0.57357,     0.57457,     0.57558,\n",
       "           0.57658,     0.57758,     0.57858,     0.57958,     0.58058,     0.58158,     0.58258,     0.58358,     0.58458,     0.58559,     0.58659,     0.58759,     0.58859,     0.58959,     0.59059,     0.59159,     0.59259,     0.59359,     0.59459,      0.5956,      0.5966,      0.5976,      0.5986,      0.5996,\n",
       "            0.6006,      0.6016,      0.6026,      0.6036,      0.6046,     0.60561,     0.60661,     0.60761,     0.60861,     0.60961,     0.61061,     0.61161,     0.61261,     0.61361,     0.61461,     0.61562,     0.61662,     0.61762,     0.61862,     0.61962,     0.62062,     0.62162,     0.62262,     0.62362,\n",
       "           0.62462,     0.62563,     0.62663,     0.62763,     0.62863,     0.62963,     0.63063,     0.63163,     0.63263,     0.63363,     0.63463,     0.63564,     0.63664,     0.63764,     0.63864,     0.63964,     0.64064,     0.64164,     0.64264,     0.64364,     0.64464,     0.64565,     0.64665,     0.64765,\n",
       "           0.64865,     0.64965,     0.65065,     0.65165,     0.65265,     0.65365,     0.65465,     0.65566,     0.65666,     0.65766,     0.65866,     0.65966,     0.66066,     0.66166,     0.66266,     0.66366,     0.66466,     0.66567,     0.66667,     0.66767,     0.66867,     0.66967,     0.67067,     0.67167,\n",
       "           0.67267,     0.67367,     0.67467,     0.67568,     0.67668,     0.67768,     0.67868,     0.67968,     0.68068,     0.68168,     0.68268,     0.68368,     0.68468,     0.68569,     0.68669,     0.68769,     0.68869,     0.68969,     0.69069,     0.69169,     0.69269,     0.69369,     0.69469,      0.6957,\n",
       "            0.6967,      0.6977,      0.6987,      0.6997,      0.7007,      0.7017,      0.7027,      0.7037,      0.7047,     0.70571,     0.70671,     0.70771,     0.70871,     0.70971,     0.71071,     0.71171,     0.71271,     0.71371,     0.71471,     0.71572,     0.71672,     0.71772,     0.71872,     0.71972,\n",
       "           0.72072,     0.72172,     0.72272,     0.72372,     0.72472,     0.72573,     0.72673,     0.72773,     0.72873,     0.72973,     0.73073,     0.73173,     0.73273,     0.73373,     0.73473,     0.73574,     0.73674,     0.73774,     0.73874,     0.73974,     0.74074,     0.74174,     0.74274,     0.74374,\n",
       "           0.74474,     0.74575,     0.74675,     0.74775,     0.74875,     0.74975,     0.75075,     0.75175,     0.75275,     0.75375,     0.75475,     0.75576,     0.75676,     0.75776,     0.75876,     0.75976,     0.76076,     0.76176,     0.76276,     0.76376,     0.76476,     0.76577,     0.76677,     0.76777,\n",
       "           0.76877,     0.76977,     0.77077,     0.77177,     0.77277,     0.77377,     0.77477,     0.77578,     0.77678,     0.77778,     0.77878,     0.77978,     0.78078,     0.78178,     0.78278,     0.78378,     0.78478,     0.78579,     0.78679,     0.78779,     0.78879,     0.78979,     0.79079,     0.79179,\n",
       "           0.79279,     0.79379,     0.79479,      0.7958,      0.7968,      0.7978,      0.7988,      0.7998,      0.8008,      0.8018,      0.8028,      0.8038,      0.8048,     0.80581,     0.80681,     0.80781,     0.80881,     0.80981,     0.81081,     0.81181,     0.81281,     0.81381,     0.81481,     0.81582,\n",
       "           0.81682,     0.81782,     0.81882,     0.81982,     0.82082,     0.82182,     0.82282,     0.82382,     0.82482,     0.82583,     0.82683,     0.82783,     0.82883,     0.82983,     0.83083,     0.83183,     0.83283,     0.83383,     0.83483,     0.83584,     0.83684,     0.83784,     0.83884,     0.83984,\n",
       "           0.84084,     0.84184,     0.84284,     0.84384,     0.84484,     0.84585,     0.84685,     0.84785,     0.84885,     0.84985,     0.85085,     0.85185,     0.85285,     0.85385,     0.85485,     0.85586,     0.85686,     0.85786,     0.85886,     0.85986,     0.86086,     0.86186,     0.86286,     0.86386,\n",
       "           0.86486,     0.86587,     0.86687,     0.86787,     0.86887,     0.86987,     0.87087,     0.87187,     0.87287,     0.87387,     0.87487,     0.87588,     0.87688,     0.87788,     0.87888,     0.87988,     0.88088,     0.88188,     0.88288,     0.88388,     0.88488,     0.88589,     0.88689,     0.88789,\n",
       "           0.88889,     0.88989,     0.89089,     0.89189,     0.89289,     0.89389,     0.89489,      0.8959,      0.8969,      0.8979,      0.8989,      0.8999,      0.9009,      0.9019,      0.9029,      0.9039,      0.9049,     0.90591,     0.90691,     0.90791,     0.90891,     0.90991,     0.91091,     0.91191,\n",
       "           0.91291,     0.91391,     0.91491,     0.91592,     0.91692,     0.91792,     0.91892,     0.91992,     0.92092,     0.92192,     0.92292,     0.92392,     0.92492,     0.92593,     0.92693,     0.92793,     0.92893,     0.92993,     0.93093,     0.93193,     0.93293,     0.93393,     0.93493,     0.93594,\n",
       "           0.93694,     0.93794,     0.93894,     0.93994,     0.94094,     0.94194,     0.94294,     0.94394,     0.94494,     0.94595,     0.94695,     0.94795,     0.94895,     0.94995,     0.95095,     0.95195,     0.95295,     0.95395,     0.95495,     0.95596,     0.95696,     0.95796,     0.95896,     0.95996,\n",
       "           0.96096,     0.96196,     0.96296,     0.96396,     0.96496,     0.96597,     0.96697,     0.96797,     0.96897,     0.96997,     0.97097,     0.97197,     0.97297,     0.97397,     0.97497,     0.97598,     0.97698,     0.97798,     0.97898,     0.97998,     0.98098,     0.98198,     0.98298,     0.98398,\n",
       "           0.98498,     0.98599,     0.98699,     0.98799,     0.98899,     0.98999,     0.99099,     0.99199,     0.99299,     0.99399,     0.99499,       0.996,       0.997,       0.998,       0.999,           1]), array([[   0.020333,    0.020333,    0.021738,    0.029643,    0.039575,    0.064254,     0.10481,     0.13237,     0.16118,     0.18311,     0.20142,     0.21851,      0.2322,     0.24148,     0.25925,      0.2686,     0.28077,     0.30058,     0.31463,     0.32265,     0.33085,       0.335,     0.34094,\n",
       "            0.35523,     0.36587,     0.37993,      0.3948,     0.40134,      0.4226,     0.43553,     0.45051,     0.46915,     0.47905,     0.48757,     0.49519,     0.50547,     0.52357,     0.53472,     0.54415,     0.55222,     0.56379,     0.59634,     0.60147,     0.63275,     0.63974,     0.64626,\n",
       "            0.67818,     0.69072,      0.6987,     0.70828,     0.70673,     0.70518,     0.71512,     0.71619,     0.71725,     0.71832,     0.71939,     0.72045,     0.72152,     0.72259,     0.72365,     0.72685,     0.73012,     0.73337,     0.73638,     0.73939,      0.7424,     0.74659,     0.75123,\n",
       "            0.75461,     0.75687,     0.75913,     0.76139,     0.76365,     0.76792,     0.77245,     0.78604,     0.78978,     0.79351,     0.79744,     0.80618,      0.8102,     0.81218,     0.81416,     0.81614,     0.81812,      0.8201,     0.82316,     0.82694,     0.83072,     0.83329,     0.83314,\n",
       "            0.83299,     0.83284,     0.83269,     0.83254,      0.8324,     0.83225,      0.8321,     0.83195,      0.8318,     0.83165,      0.8315,     0.83136,     0.83121,     0.83106,     0.83091,     0.83077,      0.8307,     0.83063,     0.83056,     0.83049,     0.83043,     0.83036,     0.83029,\n",
       "            0.83022,     0.83016,     0.83009,     0.83002,     0.82995,     0.82988,     0.82982,     0.82975,     0.82968,     0.82961,     0.82955,     0.82948,     0.82941,     0.82934,     0.82928,     0.82921,     0.82914,     0.82907,       0.829,     0.82894,     0.82887,      0.8288,     0.82873,\n",
       "            0.82867,      0.8286,     0.82853,     0.82846,     0.82839,     0.82833,     0.82826,     0.82819,     0.82843,     0.83921,     0.84245,     0.84392,     0.84538,     0.84685,     0.84831,     0.84977,     0.85124,      0.8527,     0.85417,     0.85691,     0.86074,     0.86457,      0.8684,\n",
       "            0.87501,       0.882,     0.88385,     0.88448,     0.88512,     0.88576,     0.88639,     0.88703,     0.88766,      0.8883,     0.88894,     0.88957,     0.89021,     0.89085,     0.89148,     0.89212,     0.89275,     0.89339,     0.89403,     0.89466,      0.8953,     0.89593,     0.89657,\n",
       "            0.89721,     0.89784,     0.89865,     0.89992,     0.90119,     0.90246,     0.90373,       0.905,     0.90627,     0.90754,     0.90881,     0.91008,     0.91135,     0.91262,     0.91391,      0.9154,      0.9169,     0.91839,     0.91989,     0.92138,     0.92287,     0.92437,     0.92586,\n",
       "            0.92735,     0.92885,     0.92993,     0.93022,     0.93051,      0.9308,     0.93109,     0.93138,     0.93167,     0.93197,     0.93226,     0.93255,     0.93284,     0.93313,     0.93342,     0.93372,     0.93401,      0.9343,     0.93459,     0.93488,     0.93517,     0.93547,     0.93576,\n",
       "            0.93605,     0.93634,     0.93663,     0.93692,     0.93721,     0.93751,      0.9378,     0.93809,     0.93838,     0.93867,     0.93896,     0.93926,     0.93955,     0.93984,     0.94013,     0.94042,     0.94071,       0.941,      0.9413,     0.94159,     0.94188,     0.94217,     0.94246,\n",
       "            0.94275,     0.94305,     0.94334,     0.94363,     0.94392,     0.94421,      0.9445,     0.94479,     0.94509,     0.94538,     0.94567,     0.94596,     0.94625,      0.9464,     0.94635,     0.94629,     0.94623,     0.94617,     0.94611,     0.94605,     0.94599,     0.94593,     0.94587,\n",
       "            0.94581,     0.94575,     0.94569,     0.94563,     0.94557,     0.94551,     0.94545,     0.94544,     0.94542,      0.9454,     0.94538,     0.94537,     0.94535,     0.94533,     0.94531,      0.9453,     0.94528,     0.94526,     0.94524,     0.94523,     0.94521,     0.94519,     0.94517,\n",
       "            0.94516,     0.94514,     0.94512,      0.9451,     0.94509,     0.94507,     0.94505,     0.94503,     0.94501,       0.945,     0.94498,     0.94496,     0.94494,     0.94493,     0.94491,     0.94489,     0.94487,     0.94486,     0.94484,     0.94482,      0.9448,     0.94479,     0.94477,\n",
       "            0.94475,     0.94473,     0.94472,      0.9447,     0.94468,     0.94466,     0.94465,     0.94463,     0.94461,     0.94459,     0.94458,     0.94456,     0.94454,     0.94452,     0.94451,     0.94449,     0.94447,     0.94445,     0.94481,     0.94556,     0.94631,     0.94705,      0.9478,\n",
       "            0.94854,     0.94929,     0.95003,     0.95078,     0.95152,     0.95227,     0.95302,     0.95376,     0.95451,     0.95525,       0.956,     0.95674,     0.95749,     0.95823,     0.95898,     0.95973,     0.96047,     0.96122,     0.96196,     0.96226,     0.96225,     0.96225,     0.96224,\n",
       "            0.96223,     0.96222,     0.96222,     0.96221,      0.9622,      0.9622,     0.96219,     0.96218,     0.96217,     0.96217,     0.96216,     0.96215,     0.96215,     0.96214,     0.96213,     0.96212,     0.96212,     0.96211,      0.9621,      0.9621,     0.96209,     0.96208,     0.96207,\n",
       "            0.96207,     0.96206,     0.96205,     0.96205,     0.96204,     0.96203,     0.96203,     0.96202,     0.96201,       0.962,       0.962,     0.96199,     0.96198,     0.96198,     0.96197,     0.96196,     0.96195,     0.96195,     0.96194,     0.96193,     0.96193,     0.96192,     0.96191,\n",
       "             0.9619,      0.9619,     0.96189,     0.96188,     0.96188,     0.96187,     0.96186,     0.96185,     0.96185,     0.96184,     0.96183,     0.96183,     0.96182,     0.96181,      0.9618,      0.9618,     0.96179,     0.96178,     0.96178,     0.96177,     0.96176,     0.96175,     0.96175,\n",
       "            0.96174,     0.96173,     0.96173,     0.96172,     0.96171,      0.9617,      0.9617,     0.96169,     0.96168,     0.96168,     0.96167,     0.96166,     0.96165,     0.96165,     0.96164,     0.96163,     0.96163,     0.96162,     0.96161,     0.96161,      0.9616,     0.96159,     0.96158,\n",
       "            0.96158,     0.96157,     0.96156,     0.96156,     0.96155,     0.96154,     0.96152,     0.96149,     0.96147,     0.96144,     0.96141,     0.96138,     0.96135,     0.96133,      0.9613,     0.96127,     0.96124,     0.96122,     0.96119,     0.96116,     0.96113,     0.96111,     0.96108,\n",
       "            0.96105,     0.96102,       0.961,     0.96097,     0.96094,     0.96091,     0.96089,     0.96086,     0.96083,      0.9608,     0.96075,     0.96063,     0.96052,      0.9604,     0.96029,     0.96017,     0.96006,     0.95999,     0.95996,     0.95993,     0.95991,     0.95988,     0.95985,\n",
       "            0.95982,      0.9598,     0.95977,     0.95974,     0.95972,     0.95969,     0.95966,     0.95964,     0.95961,     0.95958,     0.95955,     0.95953,      0.9595,     0.95947,     0.95945,     0.95942,     0.95939,     0.95937,     0.95934,     0.95931,     0.95928,     0.95926,     0.95923,\n",
       "             0.9592,     0.95922,     0.95938,     0.95954,      0.9597,     0.95986,     0.96002,     0.96017,     0.96033,     0.96049,     0.96065,     0.96081,     0.96096,     0.96112,     0.96128,     0.96144,      0.9616,     0.96176,     0.96191,     0.96207,     0.96223,     0.96239,     0.96255,\n",
       "             0.9627,     0.96286,     0.96302,     0.96318,     0.96334,     0.96349,     0.96365,     0.96381,     0.96397,     0.96413,     0.96429,     0.96444,      0.9646,     0.96476,     0.96492,     0.96508,     0.96523,     0.96539,     0.96555,     0.96571,     0.96587,     0.96603,     0.96618,\n",
       "            0.96634,      0.9665,     0.96666,     0.96682,     0.96697,     0.96713,     0.96729,     0.96745,     0.96761,     0.96777,     0.96792,     0.96808,     0.96824,      0.9684,     0.96856,     0.96871,     0.96887,     0.96903,     0.96919,     0.96935,     0.96951,     0.96966,     0.96982,\n",
       "            0.96998,     0.97014,      0.9703,     0.97045,     0.97061,     0.97077,     0.97093,     0.97109,     0.97125,      0.9714,     0.97156,     0.97172,     0.97188,     0.97204,     0.97219,     0.97235,     0.97251,     0.97267,     0.97283,     0.97299,     0.97314,      0.9733,     0.97346,\n",
       "            0.97362,     0.97378,     0.97393,     0.97409,     0.97425,     0.97441,     0.97457,     0.97472,     0.97488,     0.97504,      0.9752,     0.97536,     0.97552,     0.97567,     0.97583,     0.97599,     0.97615,     0.97631,     0.97646,     0.97662,     0.97678,     0.97694,      0.9771,\n",
       "            0.97726,     0.97741,     0.97757,     0.97773,     0.97789,     0.97805,      0.9782,     0.97836,     0.97852,     0.97868,     0.97884,       0.979,     0.97915,     0.97928,     0.97941,     0.97954,     0.97967,      0.9798,     0.97993,     0.98005,     0.98018,     0.98031,     0.98044,\n",
       "            0.98057,      0.9807,     0.98082,     0.98095,     0.98108,     0.98121,     0.98134,     0.98146,     0.98159,     0.98172,     0.98185,     0.98198,     0.98211,     0.98223,     0.98236,     0.98249,     0.98262,     0.98275,     0.98288,       0.983,     0.98313,     0.98326,     0.98339,\n",
       "            0.98352,     0.98365,     0.98377,      0.9839,     0.98403,     0.98416,     0.98429,     0.98441,     0.98454,     0.98467,      0.9848,     0.98493,     0.98506,     0.98518,     0.98531,     0.98544,     0.98557,      0.9857,     0.98583,     0.98595,     0.98608,     0.98621,     0.98634,\n",
       "            0.98647,      0.9866,     0.98672,     0.98685,     0.98698,     0.98711,     0.98724,     0.98736,     0.98749,     0.98762,     0.98775,     0.98788,     0.98801,     0.98813,     0.98826,     0.98839,     0.98852,     0.98865,     0.98878,      0.9889,     0.98903,     0.98916,     0.98929,\n",
       "            0.98942,     0.98954,     0.98967,      0.9898,     0.98993,     0.99006,     0.99019,     0.99031,     0.99044,     0.99057,      0.9907,     0.99083,     0.99096,     0.99108,     0.99121,     0.99134,     0.99147,      0.9916,     0.99173,     0.99185,     0.99198,     0.99211,     0.99224,\n",
       "            0.99237,     0.99249,     0.99262,     0.99275,     0.99288,     0.99301,     0.99314,     0.99326,     0.99339,     0.99352,     0.99365,     0.99378,     0.99391,     0.99403,     0.99416,     0.99429,     0.99442,     0.99455,     0.99468,      0.9948,     0.99493,     0.99506,     0.99519,\n",
       "            0.99532,     0.99544,     0.99557,      0.9957,     0.99583,     0.99596,     0.99609,     0.99621,     0.99634,     0.99647,      0.9966,     0.99673,     0.99686,     0.99698,     0.99711,     0.99724,     0.99737,      0.9975,     0.99763,     0.99775,     0.99788,     0.99801,     0.99814,\n",
       "            0.99827,     0.99839,     0.99852,     0.99865,     0.99878,     0.99891,     0.99904,     0.99916,     0.99929,     0.99942,     0.99955,     0.99968,     0.99981,     0.99993,           1,           1,           1,           1,           1,           1,           1,           1,           1,\n",
       "                  1,           1,           1,           1,           1,           1,           1,           1,           1,           1,           1,           1,           1,           1,           1,           1,           1,           1,           1,           1,           1,           1,           1,\n",
       "                  1,           1,           1,           1,           1,           1,           1,           1,           1,           1,           1,           1,           1,           1,           1,           1,           1,           1,           1,           1,           1,           1,           1,\n",
       "                  1,           1,           1,           1,           1,           1,           1,           1,           1,           1,           1,           1,           1,           1,           1,           1,           1,           1,           1,           1,           1,           1,           1,\n",
       "                  1,           1,           1,           1,           1,           1,           1,           1,           1,           1,           1,           1,           1,           1,           1,           1,           1,           1,           1,           1,           1,           1,           1,\n",
       "                  1,           1,           1,           1,           1,           1,           1,           1,           1,           1,           1,           1,           1,           1,           1,           1,           1,           1,           1,           1,           1,           1,           1,\n",
       "                  1,           1,           1,           1,           1,           1,           1,           1,           1,           1,           1,           1,           1,           1,           1,           1,           1,           1,           1,           1,           1,           1,           1,\n",
       "                  1,           1,           1,           1,           1,           1,           1,           1,           1,           1,           1,           1,           1,           1,           1,           1,           1,           1,           1,           1,           1,           1,           1,\n",
       "                  1,           1,           1,           1,           1,           1,           1,           1,           1,           1,           1]]), 'Confidence', 'Precision'], [array([          0,    0.001001,    0.002002,    0.003003,    0.004004,    0.005005,    0.006006,    0.007007,    0.008008,    0.009009,     0.01001,    0.011011,    0.012012,    0.013013,    0.014014,    0.015015,    0.016016,    0.017017,    0.018018,    0.019019,     0.02002,    0.021021,    0.022022,    0.023023,\n",
       "          0.024024,    0.025025,    0.026026,    0.027027,    0.028028,    0.029029,     0.03003,    0.031031,    0.032032,    0.033033,    0.034034,    0.035035,    0.036036,    0.037037,    0.038038,    0.039039,     0.04004,    0.041041,    0.042042,    0.043043,    0.044044,    0.045045,    0.046046,    0.047047,\n",
       "          0.048048,    0.049049,     0.05005,    0.051051,    0.052052,    0.053053,    0.054054,    0.055055,    0.056056,    0.057057,    0.058058,    0.059059,     0.06006,    0.061061,    0.062062,    0.063063,    0.064064,    0.065065,    0.066066,    0.067067,    0.068068,    0.069069,     0.07007,    0.071071,\n",
       "          0.072072,    0.073073,    0.074074,    0.075075,    0.076076,    0.077077,    0.078078,    0.079079,     0.08008,    0.081081,    0.082082,    0.083083,    0.084084,    0.085085,    0.086086,    0.087087,    0.088088,    0.089089,     0.09009,    0.091091,    0.092092,    0.093093,    0.094094,    0.095095,\n",
       "          0.096096,    0.097097,    0.098098,    0.099099,      0.1001,      0.1011,      0.1021,      0.1031,      0.1041,     0.10511,     0.10611,     0.10711,     0.10811,     0.10911,     0.11011,     0.11111,     0.11211,     0.11311,     0.11411,     0.11512,     0.11612,     0.11712,     0.11812,     0.11912,\n",
       "           0.12012,     0.12112,     0.12212,     0.12312,     0.12412,     0.12513,     0.12613,     0.12713,     0.12813,     0.12913,     0.13013,     0.13113,     0.13213,     0.13313,     0.13413,     0.13514,     0.13614,     0.13714,     0.13814,     0.13914,     0.14014,     0.14114,     0.14214,     0.14314,\n",
       "           0.14414,     0.14515,     0.14615,     0.14715,     0.14815,     0.14915,     0.15015,     0.15115,     0.15215,     0.15315,     0.15415,     0.15516,     0.15616,     0.15716,     0.15816,     0.15916,     0.16016,     0.16116,     0.16216,     0.16316,     0.16416,     0.16517,     0.16617,     0.16717,\n",
       "           0.16817,     0.16917,     0.17017,     0.17117,     0.17217,     0.17317,     0.17417,     0.17518,     0.17618,     0.17718,     0.17818,     0.17918,     0.18018,     0.18118,     0.18218,     0.18318,     0.18418,     0.18519,     0.18619,     0.18719,     0.18819,     0.18919,     0.19019,     0.19119,\n",
       "           0.19219,     0.19319,     0.19419,      0.1952,      0.1962,      0.1972,      0.1982,      0.1992,      0.2002,      0.2012,      0.2022,      0.2032,      0.2042,     0.20521,     0.20621,     0.20721,     0.20821,     0.20921,     0.21021,     0.21121,     0.21221,     0.21321,     0.21421,     0.21522,\n",
       "           0.21622,     0.21722,     0.21822,     0.21922,     0.22022,     0.22122,     0.22222,     0.22322,     0.22422,     0.22523,     0.22623,     0.22723,     0.22823,     0.22923,     0.23023,     0.23123,     0.23223,     0.23323,     0.23423,     0.23524,     0.23624,     0.23724,     0.23824,     0.23924,\n",
       "           0.24024,     0.24124,     0.24224,     0.24324,     0.24424,     0.24525,     0.24625,     0.24725,     0.24825,     0.24925,     0.25025,     0.25125,     0.25225,     0.25325,     0.25425,     0.25526,     0.25626,     0.25726,     0.25826,     0.25926,     0.26026,     0.26126,     0.26226,     0.26326,\n",
       "           0.26426,     0.26527,     0.26627,     0.26727,     0.26827,     0.26927,     0.27027,     0.27127,     0.27227,     0.27327,     0.27427,     0.27528,     0.27628,     0.27728,     0.27828,     0.27928,     0.28028,     0.28128,     0.28228,     0.28328,     0.28428,     0.28529,     0.28629,     0.28729,\n",
       "           0.28829,     0.28929,     0.29029,     0.29129,     0.29229,     0.29329,     0.29429,      0.2953,      0.2963,      0.2973,      0.2983,      0.2993,      0.3003,      0.3013,      0.3023,      0.3033,      0.3043,     0.30531,     0.30631,     0.30731,     0.30831,     0.30931,     0.31031,     0.31131,\n",
       "           0.31231,     0.31331,     0.31431,     0.31532,     0.31632,     0.31732,     0.31832,     0.31932,     0.32032,     0.32132,     0.32232,     0.32332,     0.32432,     0.32533,     0.32633,     0.32733,     0.32833,     0.32933,     0.33033,     0.33133,     0.33233,     0.33333,     0.33433,     0.33534,\n",
       "           0.33634,     0.33734,     0.33834,     0.33934,     0.34034,     0.34134,     0.34234,     0.34334,     0.34434,     0.34535,     0.34635,     0.34735,     0.34835,     0.34935,     0.35035,     0.35135,     0.35235,     0.35335,     0.35435,     0.35536,     0.35636,     0.35736,     0.35836,     0.35936,\n",
       "           0.36036,     0.36136,     0.36236,     0.36336,     0.36436,     0.36537,     0.36637,     0.36737,     0.36837,     0.36937,     0.37037,     0.37137,     0.37237,     0.37337,     0.37437,     0.37538,     0.37638,     0.37738,     0.37838,     0.37938,     0.38038,     0.38138,     0.38238,     0.38338,\n",
       "           0.38438,     0.38539,     0.38639,     0.38739,     0.38839,     0.38939,     0.39039,     0.39139,     0.39239,     0.39339,     0.39439,      0.3954,      0.3964,      0.3974,      0.3984,      0.3994,      0.4004,      0.4014,      0.4024,      0.4034,      0.4044,     0.40541,     0.40641,     0.40741,\n",
       "           0.40841,     0.40941,     0.41041,     0.41141,     0.41241,     0.41341,     0.41441,     0.41542,     0.41642,     0.41742,     0.41842,     0.41942,     0.42042,     0.42142,     0.42242,     0.42342,     0.42442,     0.42543,     0.42643,     0.42743,     0.42843,     0.42943,     0.43043,     0.43143,\n",
       "           0.43243,     0.43343,     0.43443,     0.43544,     0.43644,     0.43744,     0.43844,     0.43944,     0.44044,     0.44144,     0.44244,     0.44344,     0.44444,     0.44545,     0.44645,     0.44745,     0.44845,     0.44945,     0.45045,     0.45145,     0.45245,     0.45345,     0.45445,     0.45546,\n",
       "           0.45646,     0.45746,     0.45846,     0.45946,     0.46046,     0.46146,     0.46246,     0.46346,     0.46446,     0.46547,     0.46647,     0.46747,     0.46847,     0.46947,     0.47047,     0.47147,     0.47247,     0.47347,     0.47447,     0.47548,     0.47648,     0.47748,     0.47848,     0.47948,\n",
       "           0.48048,     0.48148,     0.48248,     0.48348,     0.48448,     0.48549,     0.48649,     0.48749,     0.48849,     0.48949,     0.49049,     0.49149,     0.49249,     0.49349,     0.49449,      0.4955,      0.4965,      0.4975,      0.4985,      0.4995,      0.5005,      0.5015,      0.5025,      0.5035,\n",
       "            0.5045,     0.50551,     0.50651,     0.50751,     0.50851,     0.50951,     0.51051,     0.51151,     0.51251,     0.51351,     0.51451,     0.51552,     0.51652,     0.51752,     0.51852,     0.51952,     0.52052,     0.52152,     0.52252,     0.52352,     0.52452,     0.52553,     0.52653,     0.52753,\n",
       "           0.52853,     0.52953,     0.53053,     0.53153,     0.53253,     0.53353,     0.53453,     0.53554,     0.53654,     0.53754,     0.53854,     0.53954,     0.54054,     0.54154,     0.54254,     0.54354,     0.54454,     0.54555,     0.54655,     0.54755,     0.54855,     0.54955,     0.55055,     0.55155,\n",
       "           0.55255,     0.55355,     0.55455,     0.55556,     0.55656,     0.55756,     0.55856,     0.55956,     0.56056,     0.56156,     0.56256,     0.56356,     0.56456,     0.56557,     0.56657,     0.56757,     0.56857,     0.56957,     0.57057,     0.57157,     0.57257,     0.57357,     0.57457,     0.57558,\n",
       "           0.57658,     0.57758,     0.57858,     0.57958,     0.58058,     0.58158,     0.58258,     0.58358,     0.58458,     0.58559,     0.58659,     0.58759,     0.58859,     0.58959,     0.59059,     0.59159,     0.59259,     0.59359,     0.59459,      0.5956,      0.5966,      0.5976,      0.5986,      0.5996,\n",
       "            0.6006,      0.6016,      0.6026,      0.6036,      0.6046,     0.60561,     0.60661,     0.60761,     0.60861,     0.60961,     0.61061,     0.61161,     0.61261,     0.61361,     0.61461,     0.61562,     0.61662,     0.61762,     0.61862,     0.61962,     0.62062,     0.62162,     0.62262,     0.62362,\n",
       "           0.62462,     0.62563,     0.62663,     0.62763,     0.62863,     0.62963,     0.63063,     0.63163,     0.63263,     0.63363,     0.63463,     0.63564,     0.63664,     0.63764,     0.63864,     0.63964,     0.64064,     0.64164,     0.64264,     0.64364,     0.64464,     0.64565,     0.64665,     0.64765,\n",
       "           0.64865,     0.64965,     0.65065,     0.65165,     0.65265,     0.65365,     0.65465,     0.65566,     0.65666,     0.65766,     0.65866,     0.65966,     0.66066,     0.66166,     0.66266,     0.66366,     0.66466,     0.66567,     0.66667,     0.66767,     0.66867,     0.66967,     0.67067,     0.67167,\n",
       "           0.67267,     0.67367,     0.67467,     0.67568,     0.67668,     0.67768,     0.67868,     0.67968,     0.68068,     0.68168,     0.68268,     0.68368,     0.68468,     0.68569,     0.68669,     0.68769,     0.68869,     0.68969,     0.69069,     0.69169,     0.69269,     0.69369,     0.69469,      0.6957,\n",
       "            0.6967,      0.6977,      0.6987,      0.6997,      0.7007,      0.7017,      0.7027,      0.7037,      0.7047,     0.70571,     0.70671,     0.70771,     0.70871,     0.70971,     0.71071,     0.71171,     0.71271,     0.71371,     0.71471,     0.71572,     0.71672,     0.71772,     0.71872,     0.71972,\n",
       "           0.72072,     0.72172,     0.72272,     0.72372,     0.72472,     0.72573,     0.72673,     0.72773,     0.72873,     0.72973,     0.73073,     0.73173,     0.73273,     0.73373,     0.73473,     0.73574,     0.73674,     0.73774,     0.73874,     0.73974,     0.74074,     0.74174,     0.74274,     0.74374,\n",
       "           0.74474,     0.74575,     0.74675,     0.74775,     0.74875,     0.74975,     0.75075,     0.75175,     0.75275,     0.75375,     0.75475,     0.75576,     0.75676,     0.75776,     0.75876,     0.75976,     0.76076,     0.76176,     0.76276,     0.76376,     0.76476,     0.76577,     0.76677,     0.76777,\n",
       "           0.76877,     0.76977,     0.77077,     0.77177,     0.77277,     0.77377,     0.77477,     0.77578,     0.77678,     0.77778,     0.77878,     0.77978,     0.78078,     0.78178,     0.78278,     0.78378,     0.78478,     0.78579,     0.78679,     0.78779,     0.78879,     0.78979,     0.79079,     0.79179,\n",
       "           0.79279,     0.79379,     0.79479,      0.7958,      0.7968,      0.7978,      0.7988,      0.7998,      0.8008,      0.8018,      0.8028,      0.8038,      0.8048,     0.80581,     0.80681,     0.80781,     0.80881,     0.80981,     0.81081,     0.81181,     0.81281,     0.81381,     0.81481,     0.81582,\n",
       "           0.81682,     0.81782,     0.81882,     0.81982,     0.82082,     0.82182,     0.82282,     0.82382,     0.82482,     0.82583,     0.82683,     0.82783,     0.82883,     0.82983,     0.83083,     0.83183,     0.83283,     0.83383,     0.83483,     0.83584,     0.83684,     0.83784,     0.83884,     0.83984,\n",
       "           0.84084,     0.84184,     0.84284,     0.84384,     0.84484,     0.84585,     0.84685,     0.84785,     0.84885,     0.84985,     0.85085,     0.85185,     0.85285,     0.85385,     0.85485,     0.85586,     0.85686,     0.85786,     0.85886,     0.85986,     0.86086,     0.86186,     0.86286,     0.86386,\n",
       "           0.86486,     0.86587,     0.86687,     0.86787,     0.86887,     0.86987,     0.87087,     0.87187,     0.87287,     0.87387,     0.87487,     0.87588,     0.87688,     0.87788,     0.87888,     0.87988,     0.88088,     0.88188,     0.88288,     0.88388,     0.88488,     0.88589,     0.88689,     0.88789,\n",
       "           0.88889,     0.88989,     0.89089,     0.89189,     0.89289,     0.89389,     0.89489,      0.8959,      0.8969,      0.8979,      0.8989,      0.8999,      0.9009,      0.9019,      0.9029,      0.9039,      0.9049,     0.90591,     0.90691,     0.90791,     0.90891,     0.90991,     0.91091,     0.91191,\n",
       "           0.91291,     0.91391,     0.91491,     0.91592,     0.91692,     0.91792,     0.91892,     0.91992,     0.92092,     0.92192,     0.92292,     0.92392,     0.92492,     0.92593,     0.92693,     0.92793,     0.92893,     0.92993,     0.93093,     0.93193,     0.93293,     0.93393,     0.93493,     0.93594,\n",
       "           0.93694,     0.93794,     0.93894,     0.93994,     0.94094,     0.94194,     0.94294,     0.94394,     0.94494,     0.94595,     0.94695,     0.94795,     0.94895,     0.94995,     0.95095,     0.95195,     0.95295,     0.95395,     0.95495,     0.95596,     0.95696,     0.95796,     0.95896,     0.95996,\n",
       "           0.96096,     0.96196,     0.96296,     0.96396,     0.96496,     0.96597,     0.96697,     0.96797,     0.96897,     0.96997,     0.97097,     0.97197,     0.97297,     0.97397,     0.97497,     0.97598,     0.97698,     0.97798,     0.97898,     0.97998,     0.98098,     0.98198,     0.98298,     0.98398,\n",
       "           0.98498,     0.98599,     0.98699,     0.98799,     0.98899,     0.98999,     0.99099,     0.99199,     0.99299,     0.99399,     0.99499,       0.996,       0.997,       0.998,       0.999,           1]), array([[    0.95312,     0.95312,     0.95312,      0.9375,      0.9375,      0.9375,     0.92188,     0.90625,     0.90625,     0.89062,     0.89062,     0.89062,     0.89062,     0.89062,     0.89062,     0.89062,     0.89062,     0.89062,     0.89062,     0.89062,     0.89062,     0.89062,       0.875,\n",
       "              0.875,       0.875,       0.875,       0.875,       0.875,       0.875,       0.875,       0.875,       0.875,       0.875,       0.875,       0.875,       0.875,       0.875,       0.875,       0.875,       0.875,       0.875,       0.875,       0.875,       0.875,       0.875,       0.875,\n",
       "              0.875,       0.875,       0.875,     0.87258,     0.86609,      0.8596,     0.85938,     0.85938,     0.85938,     0.85938,     0.85938,     0.85938,     0.85938,     0.85938,     0.85938,     0.85938,     0.85938,     0.85938,     0.85938,     0.85938,     0.85938,     0.85938,     0.85938,\n",
       "            0.85938,     0.85938,     0.85938,     0.85938,     0.85938,     0.85938,     0.85938,     0.85938,     0.85938,     0.85938,     0.85938,     0.85938,     0.85938,     0.85938,     0.85938,     0.85938,     0.85938,     0.85938,     0.85938,     0.85938,     0.85938,      0.8591,     0.85819,\n",
       "            0.85729,     0.85638,     0.85547,     0.85457,     0.85366,     0.85276,     0.85185,     0.85095,     0.85004,     0.84914,     0.84823,     0.84733,     0.84642,     0.84551,     0.84461,     0.84373,     0.84333,     0.84293,     0.84253,     0.84213,     0.84173,     0.84133,     0.84093,\n",
       "            0.84053,     0.84013,     0.83973,     0.83933,     0.83892,     0.83852,     0.83812,     0.83772,     0.83732,     0.83692,     0.83652,     0.83612,     0.83572,     0.83532,     0.83492,     0.83452,     0.83412,     0.83372,     0.83332,     0.83292,     0.83252,     0.83212,     0.83172,\n",
       "            0.83132,     0.83092,     0.83052,     0.83012,     0.82972,     0.82932,     0.82891,     0.82851,     0.82812,     0.82812,     0.82812,     0.82812,     0.82812,     0.82812,     0.82812,     0.82812,     0.82812,     0.82812,     0.82812,     0.82812,     0.82812,     0.82812,     0.82812,\n",
       "            0.82812,     0.82812,     0.82812,     0.82812,     0.82812,     0.82812,     0.82812,     0.82812,     0.82812,     0.82812,     0.82812,     0.82812,     0.82812,     0.82812,     0.82812,     0.82812,     0.82812,     0.82812,     0.82812,     0.82812,     0.82812,     0.82812,     0.82812,\n",
       "            0.82812,     0.82812,     0.82812,     0.82812,     0.82812,     0.82812,     0.82812,     0.82812,     0.82812,     0.82812,     0.82812,     0.82812,     0.82812,     0.82812,     0.82812,     0.82812,     0.82812,     0.82812,     0.82812,     0.82812,     0.82812,     0.82812,     0.82812,\n",
       "            0.82812,     0.82812,     0.82812,     0.82812,     0.82812,     0.82812,     0.82812,     0.82812,     0.82812,     0.82812,     0.82812,     0.82812,     0.82812,     0.82812,     0.82812,     0.82812,     0.82812,     0.82812,     0.82812,     0.82812,     0.82812,     0.82812,     0.82812,\n",
       "            0.82812,     0.82812,     0.82812,     0.82812,     0.82812,     0.82812,     0.82812,     0.82812,     0.82812,     0.82812,     0.82812,     0.82812,     0.82812,     0.82812,     0.82812,     0.82812,     0.82812,     0.82812,     0.82812,     0.82812,     0.82812,     0.82812,     0.82812,\n",
       "            0.82812,     0.82812,     0.82812,     0.82812,     0.82812,     0.82812,     0.82812,     0.82812,     0.82812,     0.82812,     0.82812,     0.82812,     0.82812,     0.82775,     0.82679,     0.82583,     0.82488,     0.82392,     0.82296,     0.82201,     0.82105,      0.8201,     0.81914,\n",
       "            0.81818,     0.81723,     0.81627,     0.81532,     0.81436,      0.8134,     0.81248,     0.81221,     0.81194,     0.81167,      0.8114,     0.81113,     0.81086,     0.81058,     0.81031,     0.81004,     0.80977,      0.8095,     0.80923,     0.80896,     0.80868,     0.80841,     0.80814,\n",
       "            0.80787,      0.8076,     0.80733,     0.80706,     0.80678,     0.80651,     0.80624,     0.80597,      0.8057,     0.80543,     0.80516,     0.80488,     0.80461,     0.80434,     0.80407,      0.8038,     0.80353,     0.80326,     0.80298,     0.80271,     0.80244,     0.80217,      0.8019,\n",
       "            0.80163,     0.80136,     0.80108,     0.80081,     0.80054,     0.80027,         0.8,     0.79973,     0.79945,     0.79918,     0.79891,     0.79864,     0.79837,      0.7981,     0.79783,     0.79755,     0.79728,     0.79701,     0.79688,     0.79688,     0.79688,     0.79688,     0.79688,\n",
       "            0.79688,     0.79688,     0.79688,     0.79688,     0.79688,     0.79688,     0.79688,     0.79688,     0.79688,     0.79688,     0.79688,     0.79688,     0.79688,     0.79688,     0.79688,     0.79688,     0.79688,     0.79688,     0.79688,     0.79678,     0.79663,     0.79648,     0.79632,\n",
       "            0.79617,     0.79602,     0.79586,     0.79571,     0.79556,      0.7954,     0.79525,      0.7951,     0.79494,     0.79479,     0.79464,     0.79448,     0.79433,     0.79418,     0.79403,     0.79387,     0.79372,     0.79357,     0.79341,     0.79326,     0.79311,     0.79295,      0.7928,\n",
       "            0.79265,     0.79249,     0.79234,     0.79219,     0.79203,     0.79188,     0.79173,     0.79157,     0.79142,     0.79127,     0.79111,     0.79096,     0.79081,     0.79065,      0.7905,     0.79035,     0.79019,     0.79004,     0.78989,     0.78973,     0.78958,     0.78943,     0.78927,\n",
       "            0.78912,     0.78897,     0.78881,     0.78866,     0.78851,     0.78835,      0.7882,     0.78805,     0.78789,     0.78774,     0.78759,     0.78743,     0.78728,     0.78713,     0.78698,     0.78682,     0.78667,     0.78652,     0.78636,     0.78621,     0.78606,      0.7859,     0.78575,\n",
       "             0.7856,     0.78544,     0.78529,     0.78514,     0.78498,     0.78483,     0.78468,     0.78452,     0.78437,     0.78422,     0.78406,     0.78391,     0.78376,      0.7836,     0.78345,      0.7833,     0.78314,     0.78299,     0.78284,     0.78268,     0.78253,     0.78238,     0.78222,\n",
       "            0.78207,     0.78192,     0.78176,     0.78161,     0.78146,      0.7813,     0.78088,     0.78031,     0.77974,     0.77916,     0.77859,     0.77802,     0.77745,     0.77688,      0.7763,     0.77573,     0.77516,     0.77459,     0.77402,     0.77344,     0.77287,      0.7723,     0.77173,\n",
       "            0.77116,     0.77058,     0.77001,     0.76944,     0.76887,      0.7683,     0.76772,     0.76715,     0.76658,     0.76601,     0.76487,     0.76258,      0.7603,     0.75801,     0.75572,     0.75343,     0.75114,     0.74974,     0.74923,     0.74871,     0.74819,     0.74768,     0.74716,\n",
       "            0.74664,     0.74613,     0.74561,     0.74509,     0.74458,     0.74406,     0.74354,     0.74303,     0.74251,     0.74199,     0.74148,     0.74096,     0.74044,     0.73993,     0.73941,     0.73889,     0.73838,     0.73786,     0.73734,     0.73683,     0.73631,     0.73579,     0.73528,\n",
       "            0.73476,     0.73438,     0.73438,     0.73438,     0.73438,     0.73438,     0.73438,     0.73438,     0.73438,     0.73438,     0.73438,     0.73438,     0.73438,     0.73438,     0.73438,     0.73438,     0.73438,     0.73438,     0.73438,     0.73438,     0.73438,     0.73438,     0.73438,\n",
       "            0.73438,     0.73438,     0.73438,     0.73438,     0.73438,     0.73438,     0.73438,     0.73438,     0.73438,     0.73438,     0.73438,     0.73438,     0.73438,     0.73438,     0.73438,     0.73438,     0.73438,     0.73438,     0.73438,     0.73438,     0.73438,     0.73438,     0.73438,\n",
       "            0.73438,     0.73438,     0.73438,     0.73438,     0.73438,     0.73438,     0.73438,     0.73438,     0.73438,     0.73438,     0.73438,     0.73438,     0.73438,     0.73438,     0.73438,     0.73438,     0.73438,     0.73438,     0.73438,     0.73438,     0.73438,     0.73438,     0.73438,\n",
       "            0.73438,     0.73438,     0.73438,     0.73438,     0.73438,     0.73438,     0.73438,     0.73438,     0.73438,     0.73438,     0.73438,     0.73438,     0.73438,     0.73438,     0.73438,     0.73438,     0.73438,     0.73438,     0.73438,     0.73438,     0.73438,     0.73438,     0.73438,\n",
       "            0.73438,     0.73438,     0.73438,     0.73438,     0.73438,     0.73438,     0.73438,     0.73438,     0.73438,     0.73438,     0.73438,     0.73438,     0.73438,     0.73438,     0.73438,     0.73438,     0.73438,     0.73438,     0.73438,     0.73438,     0.73438,     0.73438,     0.73438,\n",
       "            0.73438,     0.73438,     0.73438,     0.73438,     0.73438,     0.73438,     0.73438,     0.73438,     0.73438,     0.73438,     0.73438,     0.73438,     0.73438,     0.73438,     0.73438,     0.73438,     0.73438,     0.73438,     0.73438,     0.73438,     0.73438,     0.73438,     0.73438,\n",
       "            0.73438,     0.73438,     0.73438,     0.73438,     0.73438,     0.73438,     0.73438,     0.73438,     0.73438,     0.73438,     0.73438,     0.73438,     0.73438,     0.73438,     0.73438,     0.73438,     0.73438,     0.73438,     0.73438,     0.73438,     0.73438,     0.73438,     0.73438,\n",
       "            0.73438,     0.73438,     0.73438,     0.73438,     0.73438,     0.73438,     0.73438,     0.73438,     0.73438,     0.73438,     0.73438,     0.73438,     0.73438,     0.73438,     0.73438,     0.73438,     0.73438,     0.73438,     0.73438,     0.73438,     0.73438,     0.73438,     0.73438,\n",
       "            0.73438,     0.73438,     0.73438,     0.73438,     0.73438,     0.73438,     0.73438,     0.73438,     0.73438,     0.73438,     0.73438,     0.73438,     0.73438,     0.73438,     0.73438,     0.73438,     0.73438,     0.73438,     0.73438,     0.73438,     0.73438,     0.73438,     0.73438,\n",
       "            0.73438,     0.73438,     0.73438,     0.73438,     0.73438,     0.73438,     0.73438,     0.73438,     0.73438,     0.73438,     0.73438,     0.73438,     0.73438,     0.73438,     0.73438,     0.73438,     0.73438,     0.73438,     0.73438,     0.73438,     0.73438,     0.73438,     0.73438,\n",
       "            0.73438,     0.73438,     0.73438,     0.73438,     0.73438,     0.73438,     0.73438,     0.73438,     0.73438,     0.73438,     0.73438,     0.73438,     0.73438,     0.73438,     0.73438,     0.73438,     0.73438,     0.73438,     0.73438,     0.73438,     0.73438,     0.73438,     0.73438,\n",
       "            0.73438,     0.73438,     0.73438,     0.73438,     0.73438,     0.73438,     0.73438,     0.73438,     0.73438,     0.73438,     0.73438,     0.73438,     0.73438,     0.73438,     0.73438,     0.73438,     0.73438,     0.73438,     0.73438,     0.73438,     0.73438,     0.73438,     0.73438,\n",
       "            0.73438,     0.73438,     0.73438,     0.73438,     0.73438,     0.73438,     0.73438,     0.73438,     0.73438,     0.73438,     0.73438,     0.73438,     0.73438,     0.73438,     0.73421,     0.73386,     0.73351,     0.73316,     0.73281,     0.73247,     0.73212,     0.73177,     0.73142,\n",
       "            0.73107,     0.73072,     0.73038,     0.73003,     0.72968,     0.72933,     0.72898,     0.72864,     0.72829,     0.72794,     0.72759,     0.72724,      0.7269,     0.72655,      0.7262,     0.72585,      0.7255,     0.72515,     0.72481,     0.72446,     0.72411,     0.72376,     0.72341,\n",
       "            0.72307,     0.72272,     0.72237,     0.72202,     0.72167,     0.72132,     0.72098,     0.72063,     0.72028,     0.71993,     0.71958,     0.71924,     0.71889,     0.71227,     0.68292,     0.66488,     0.65589,       0.654,     0.65212,     0.65024,     0.64835,     0.64647,     0.64458,\n",
       "             0.6427,     0.64081,     0.63963,     0.63853,     0.63742,     0.63632,     0.63521,     0.63411,       0.633,      0.6319,      0.6308,     0.62969,     0.62859,     0.62748,     0.62638,     0.62527,     0.62431,      0.6234,     0.62248,     0.62156,     0.62065,     0.61973,     0.61882,\n",
       "             0.6179,     0.61699,     0.61607,     0.61516,     0.61424,     0.61333,     0.61241,      0.6115,     0.61058,     0.60967,     0.59324,     0.59057,      0.5879,     0.58523,     0.58256,     0.57989,     0.57631,     0.57097,     0.56564,     0.55986,     0.55345,     0.54704,     0.52606,\n",
       "            0.51551,     0.51017,     0.50483,     0.49923,     0.49123,     0.47975,     0.46454,     0.45814,      0.4508,     0.44012,     0.43267,     0.42626,     0.41682,     0.40444,      0.3991,     0.39376,     0.38732,     0.37931,      0.3676,     0.34115,     0.33581,     0.33048,     0.31916,\n",
       "            0.30983,     0.30525,     0.30068,     0.29145,     0.26407,     0.25606,     0.24611,     0.23342,     0.22987,     0.22631,     0.22275,     0.21919,      0.2047,     0.20106,     0.19877,     0.19649,      0.1942,     0.19191,     0.18962,     0.18711,     0.18178,     0.17644,     0.15159,\n",
       "            0.13799,     0.13399,     0.12998,     0.12598,     0.12373,     0.12204,     0.12035,     0.11867,     0.11698,      0.1153,     0.11361,     0.11193,     0.11024,    0.093766,    0.083078,    0.072401,    0.046738,    0.044854,    0.042969,    0.041085,    0.039201,    0.037317,    0.035432,\n",
       "           0.033548,    0.031664,           0,           0,           0,           0,           0,           0,           0,           0,           0]]), 'Confidence', 'Recall'], [array([          0,    0.001001,    0.002002,    0.003003,    0.004004,    0.005005,    0.006006,    0.007007,    0.008008,    0.009009,     0.01001,    0.011011,    0.012012,    0.013013,    0.014014,    0.015015,    0.016016,    0.017017,    0.018018,    0.019019,     0.02002,    0.021021,    0.022022,    0.023023,\n",
       "          0.024024,    0.025025,    0.026026,    0.027027,    0.028028,    0.029029,     0.03003,    0.031031,    0.032032,    0.033033,    0.034034,    0.035035,    0.036036,    0.037037,    0.038038,    0.039039,     0.04004,    0.041041,    0.042042,    0.043043,    0.044044,    0.045045,    0.046046,    0.047047,\n",
       "          0.048048,    0.049049,     0.05005,    0.051051,    0.052052,    0.053053,    0.054054,    0.055055,    0.056056,    0.057057,    0.058058,    0.059059,     0.06006,    0.061061,    0.062062,    0.063063,    0.064064,    0.065065,    0.066066,    0.067067,    0.068068,    0.069069,     0.07007,    0.071071,\n",
       "          0.072072,    0.073073,    0.074074,    0.075075,    0.076076,    0.077077,    0.078078,    0.079079,     0.08008,    0.081081,    0.082082,    0.083083,    0.084084,    0.085085,    0.086086,    0.087087,    0.088088,    0.089089,     0.09009,    0.091091,    0.092092,    0.093093,    0.094094,    0.095095,\n",
       "          0.096096,    0.097097,    0.098098,    0.099099,      0.1001,      0.1011,      0.1021,      0.1031,      0.1041,     0.10511,     0.10611,     0.10711,     0.10811,     0.10911,     0.11011,     0.11111,     0.11211,     0.11311,     0.11411,     0.11512,     0.11612,     0.11712,     0.11812,     0.11912,\n",
       "           0.12012,     0.12112,     0.12212,     0.12312,     0.12412,     0.12513,     0.12613,     0.12713,     0.12813,     0.12913,     0.13013,     0.13113,     0.13213,     0.13313,     0.13413,     0.13514,     0.13614,     0.13714,     0.13814,     0.13914,     0.14014,     0.14114,     0.14214,     0.14314,\n",
       "           0.14414,     0.14515,     0.14615,     0.14715,     0.14815,     0.14915,     0.15015,     0.15115,     0.15215,     0.15315,     0.15415,     0.15516,     0.15616,     0.15716,     0.15816,     0.15916,     0.16016,     0.16116,     0.16216,     0.16316,     0.16416,     0.16517,     0.16617,     0.16717,\n",
       "           0.16817,     0.16917,     0.17017,     0.17117,     0.17217,     0.17317,     0.17417,     0.17518,     0.17618,     0.17718,     0.17818,     0.17918,     0.18018,     0.18118,     0.18218,     0.18318,     0.18418,     0.18519,     0.18619,     0.18719,     0.18819,     0.18919,     0.19019,     0.19119,\n",
       "           0.19219,     0.19319,     0.19419,      0.1952,      0.1962,      0.1972,      0.1982,      0.1992,      0.2002,      0.2012,      0.2022,      0.2032,      0.2042,     0.20521,     0.20621,     0.20721,     0.20821,     0.20921,     0.21021,     0.21121,     0.21221,     0.21321,     0.21421,     0.21522,\n",
       "           0.21622,     0.21722,     0.21822,     0.21922,     0.22022,     0.22122,     0.22222,     0.22322,     0.22422,     0.22523,     0.22623,     0.22723,     0.22823,     0.22923,     0.23023,     0.23123,     0.23223,     0.23323,     0.23423,     0.23524,     0.23624,     0.23724,     0.23824,     0.23924,\n",
       "           0.24024,     0.24124,     0.24224,     0.24324,     0.24424,     0.24525,     0.24625,     0.24725,     0.24825,     0.24925,     0.25025,     0.25125,     0.25225,     0.25325,     0.25425,     0.25526,     0.25626,     0.25726,     0.25826,     0.25926,     0.26026,     0.26126,     0.26226,     0.26326,\n",
       "           0.26426,     0.26527,     0.26627,     0.26727,     0.26827,     0.26927,     0.27027,     0.27127,     0.27227,     0.27327,     0.27427,     0.27528,     0.27628,     0.27728,     0.27828,     0.27928,     0.28028,     0.28128,     0.28228,     0.28328,     0.28428,     0.28529,     0.28629,     0.28729,\n",
       "           0.28829,     0.28929,     0.29029,     0.29129,     0.29229,     0.29329,     0.29429,      0.2953,      0.2963,      0.2973,      0.2983,      0.2993,      0.3003,      0.3013,      0.3023,      0.3033,      0.3043,     0.30531,     0.30631,     0.30731,     0.30831,     0.30931,     0.31031,     0.31131,\n",
       "           0.31231,     0.31331,     0.31431,     0.31532,     0.31632,     0.31732,     0.31832,     0.31932,     0.32032,     0.32132,     0.32232,     0.32332,     0.32432,     0.32533,     0.32633,     0.32733,     0.32833,     0.32933,     0.33033,     0.33133,     0.33233,     0.33333,     0.33433,     0.33534,\n",
       "           0.33634,     0.33734,     0.33834,     0.33934,     0.34034,     0.34134,     0.34234,     0.34334,     0.34434,     0.34535,     0.34635,     0.34735,     0.34835,     0.34935,     0.35035,     0.35135,     0.35235,     0.35335,     0.35435,     0.35536,     0.35636,     0.35736,     0.35836,     0.35936,\n",
       "           0.36036,     0.36136,     0.36236,     0.36336,     0.36436,     0.36537,     0.36637,     0.36737,     0.36837,     0.36937,     0.37037,     0.37137,     0.37237,     0.37337,     0.37437,     0.37538,     0.37638,     0.37738,     0.37838,     0.37938,     0.38038,     0.38138,     0.38238,     0.38338,\n",
       "           0.38438,     0.38539,     0.38639,     0.38739,     0.38839,     0.38939,     0.39039,     0.39139,     0.39239,     0.39339,     0.39439,      0.3954,      0.3964,      0.3974,      0.3984,      0.3994,      0.4004,      0.4014,      0.4024,      0.4034,      0.4044,     0.40541,     0.40641,     0.40741,\n",
       "           0.40841,     0.40941,     0.41041,     0.41141,     0.41241,     0.41341,     0.41441,     0.41542,     0.41642,     0.41742,     0.41842,     0.41942,     0.42042,     0.42142,     0.42242,     0.42342,     0.42442,     0.42543,     0.42643,     0.42743,     0.42843,     0.42943,     0.43043,     0.43143,\n",
       "           0.43243,     0.43343,     0.43443,     0.43544,     0.43644,     0.43744,     0.43844,     0.43944,     0.44044,     0.44144,     0.44244,     0.44344,     0.44444,     0.44545,     0.44645,     0.44745,     0.44845,     0.44945,     0.45045,     0.45145,     0.45245,     0.45345,     0.45445,     0.45546,\n",
       "           0.45646,     0.45746,     0.45846,     0.45946,     0.46046,     0.46146,     0.46246,     0.46346,     0.46446,     0.46547,     0.46647,     0.46747,     0.46847,     0.46947,     0.47047,     0.47147,     0.47247,     0.47347,     0.47447,     0.47548,     0.47648,     0.47748,     0.47848,     0.47948,\n",
       "           0.48048,     0.48148,     0.48248,     0.48348,     0.48448,     0.48549,     0.48649,     0.48749,     0.48849,     0.48949,     0.49049,     0.49149,     0.49249,     0.49349,     0.49449,      0.4955,      0.4965,      0.4975,      0.4985,      0.4995,      0.5005,      0.5015,      0.5025,      0.5035,\n",
       "            0.5045,     0.50551,     0.50651,     0.50751,     0.50851,     0.50951,     0.51051,     0.51151,     0.51251,     0.51351,     0.51451,     0.51552,     0.51652,     0.51752,     0.51852,     0.51952,     0.52052,     0.52152,     0.52252,     0.52352,     0.52452,     0.52553,     0.52653,     0.52753,\n",
       "           0.52853,     0.52953,     0.53053,     0.53153,     0.53253,     0.53353,     0.53453,     0.53554,     0.53654,     0.53754,     0.53854,     0.53954,     0.54054,     0.54154,     0.54254,     0.54354,     0.54454,     0.54555,     0.54655,     0.54755,     0.54855,     0.54955,     0.55055,     0.55155,\n",
       "           0.55255,     0.55355,     0.55455,     0.55556,     0.55656,     0.55756,     0.55856,     0.55956,     0.56056,     0.56156,     0.56256,     0.56356,     0.56456,     0.56557,     0.56657,     0.56757,     0.56857,     0.56957,     0.57057,     0.57157,     0.57257,     0.57357,     0.57457,     0.57558,\n",
       "           0.57658,     0.57758,     0.57858,     0.57958,     0.58058,     0.58158,     0.58258,     0.58358,     0.58458,     0.58559,     0.58659,     0.58759,     0.58859,     0.58959,     0.59059,     0.59159,     0.59259,     0.59359,     0.59459,      0.5956,      0.5966,      0.5976,      0.5986,      0.5996,\n",
       "            0.6006,      0.6016,      0.6026,      0.6036,      0.6046,     0.60561,     0.60661,     0.60761,     0.60861,     0.60961,     0.61061,     0.61161,     0.61261,     0.61361,     0.61461,     0.61562,     0.61662,     0.61762,     0.61862,     0.61962,     0.62062,     0.62162,     0.62262,     0.62362,\n",
       "           0.62462,     0.62563,     0.62663,     0.62763,     0.62863,     0.62963,     0.63063,     0.63163,     0.63263,     0.63363,     0.63463,     0.63564,     0.63664,     0.63764,     0.63864,     0.63964,     0.64064,     0.64164,     0.64264,     0.64364,     0.64464,     0.64565,     0.64665,     0.64765,\n",
       "           0.64865,     0.64965,     0.65065,     0.65165,     0.65265,     0.65365,     0.65465,     0.65566,     0.65666,     0.65766,     0.65866,     0.65966,     0.66066,     0.66166,     0.66266,     0.66366,     0.66466,     0.66567,     0.66667,     0.66767,     0.66867,     0.66967,     0.67067,     0.67167,\n",
       "           0.67267,     0.67367,     0.67467,     0.67568,     0.67668,     0.67768,     0.67868,     0.67968,     0.68068,     0.68168,     0.68268,     0.68368,     0.68468,     0.68569,     0.68669,     0.68769,     0.68869,     0.68969,     0.69069,     0.69169,     0.69269,     0.69369,     0.69469,      0.6957,\n",
       "            0.6967,      0.6977,      0.6987,      0.6997,      0.7007,      0.7017,      0.7027,      0.7037,      0.7047,     0.70571,     0.70671,     0.70771,     0.70871,     0.70971,     0.71071,     0.71171,     0.71271,     0.71371,     0.71471,     0.71572,     0.71672,     0.71772,     0.71872,     0.71972,\n",
       "           0.72072,     0.72172,     0.72272,     0.72372,     0.72472,     0.72573,     0.72673,     0.72773,     0.72873,     0.72973,     0.73073,     0.73173,     0.73273,     0.73373,     0.73473,     0.73574,     0.73674,     0.73774,     0.73874,     0.73974,     0.74074,     0.74174,     0.74274,     0.74374,\n",
       "           0.74474,     0.74575,     0.74675,     0.74775,     0.74875,     0.74975,     0.75075,     0.75175,     0.75275,     0.75375,     0.75475,     0.75576,     0.75676,     0.75776,     0.75876,     0.75976,     0.76076,     0.76176,     0.76276,     0.76376,     0.76476,     0.76577,     0.76677,     0.76777,\n",
       "           0.76877,     0.76977,     0.77077,     0.77177,     0.77277,     0.77377,     0.77477,     0.77578,     0.77678,     0.77778,     0.77878,     0.77978,     0.78078,     0.78178,     0.78278,     0.78378,     0.78478,     0.78579,     0.78679,     0.78779,     0.78879,     0.78979,     0.79079,     0.79179,\n",
       "           0.79279,     0.79379,     0.79479,      0.7958,      0.7968,      0.7978,      0.7988,      0.7998,      0.8008,      0.8018,      0.8028,      0.8038,      0.8048,     0.80581,     0.80681,     0.80781,     0.80881,     0.80981,     0.81081,     0.81181,     0.81281,     0.81381,     0.81481,     0.81582,\n",
       "           0.81682,     0.81782,     0.81882,     0.81982,     0.82082,     0.82182,     0.82282,     0.82382,     0.82482,     0.82583,     0.82683,     0.82783,     0.82883,     0.82983,     0.83083,     0.83183,     0.83283,     0.83383,     0.83483,     0.83584,     0.83684,     0.83784,     0.83884,     0.83984,\n",
       "           0.84084,     0.84184,     0.84284,     0.84384,     0.84484,     0.84585,     0.84685,     0.84785,     0.84885,     0.84985,     0.85085,     0.85185,     0.85285,     0.85385,     0.85485,     0.85586,     0.85686,     0.85786,     0.85886,     0.85986,     0.86086,     0.86186,     0.86286,     0.86386,\n",
       "           0.86486,     0.86587,     0.86687,     0.86787,     0.86887,     0.86987,     0.87087,     0.87187,     0.87287,     0.87387,     0.87487,     0.87588,     0.87688,     0.87788,     0.87888,     0.87988,     0.88088,     0.88188,     0.88288,     0.88388,     0.88488,     0.88589,     0.88689,     0.88789,\n",
       "           0.88889,     0.88989,     0.89089,     0.89189,     0.89289,     0.89389,     0.89489,      0.8959,      0.8969,      0.8979,      0.8989,      0.8999,      0.9009,      0.9019,      0.9029,      0.9039,      0.9049,     0.90591,     0.90691,     0.90791,     0.90891,     0.90991,     0.91091,     0.91191,\n",
       "           0.91291,     0.91391,     0.91491,     0.91592,     0.91692,     0.91792,     0.91892,     0.91992,     0.92092,     0.92192,     0.92292,     0.92392,     0.92492,     0.92593,     0.92693,     0.92793,     0.92893,     0.92993,     0.93093,     0.93193,     0.93293,     0.93393,     0.93493,     0.93594,\n",
       "           0.93694,     0.93794,     0.93894,     0.93994,     0.94094,     0.94194,     0.94294,     0.94394,     0.94494,     0.94595,     0.94695,     0.94795,     0.94895,     0.94995,     0.95095,     0.95195,     0.95295,     0.95395,     0.95495,     0.95596,     0.95696,     0.95796,     0.95896,     0.95996,\n",
       "           0.96096,     0.96196,     0.96296,     0.96396,     0.96496,     0.96597,     0.96697,     0.96797,     0.96897,     0.96997,     0.97097,     0.97197,     0.97297,     0.97397,     0.97497,     0.97598,     0.97698,     0.97798,     0.97898,     0.97998,     0.98098,     0.98198,     0.98298,     0.98398,\n",
       "           0.98498,     0.98599,     0.98699,     0.98799,     0.98899,     0.98999,     0.99099,     0.99199,     0.99299,     0.99399,     0.99499,       0.996,       0.997,       0.998,       0.999,           1]), array([[          1,           1,           1,           1,           1,           1,           1,           1,           1,           1,           1,           1,           1,           1,           1,           1,           1,           1,           1,           1,           1,           1,           1,\n",
       "                  1,           1,           1,           1,           1,           1,           1,           1,           1,           1,           1,           1,           1,           1,           1,           1,           1,           1,           1,           1,           1,           1,           1,\n",
       "                  1,           1,           1,           1,           1,           1,           1,           1,           1,           1,           1,           1,           1,           1,           1,           1,           1,           1,           1,           1,           1,           1,           1,\n",
       "                  1,           1,           1,           1,           1,           1,           1,           1,           1,           1,           1,           1,           1,           1,           1,           1,           1,           1,           1,           1,           1,           1,           1,\n",
       "                  1,           1,           1,           1,           1,           1,           1,           1,           1,           1,           1,           1,           1,           1,           1,           1,           1,           1,           1,           1,           1,           1,           1,\n",
       "                  1,           1,           1,           1,           1,           1,           1,           1,           1,           1,           1,           1,           1,           1,           1,           1,           1,           1,           1,           1,           1,           1,           1,\n",
       "                  1,           1,           1,           1,           1,           1,           1,           1,           1,           1,           1,           1,           1,           1,           1,           1,           1,           1,           1,           1,           1,           1,           1,\n",
       "                  1,           1,           1,           1,           1,           1,           1,           1,           1,           1,           1,           1,           1,           1,           1,           1,           1,           1,           1,           1,           1,           1,           1,\n",
       "                  1,           1,           1,           1,           1,           1,           1,           1,           1,           1,           1,           1,           1,           1,           1,           1,           1,           1,           1,           1,           1,           1,           1,\n",
       "                  1,           1,           1,           1,           1,           1,           1,           1,           1,           1,           1,           1,           1,           1,           1,           1,           1,           1,           1,           1,           1,           1,           1,\n",
       "                  1,           1,           1,           1,           1,           1,           1,           1,           1,           1,           1,           1,           1,           1,           1,           1,           1,           1,           1,           1,           1,           1,           1,\n",
       "                  1,           1,           1,           1,           1,           1,           1,           1,           1,           1,           1,           1,           1,           1,           1,           1,           1,           1,           1,           1,           1,           1,           1,\n",
       "                  1,           1,           1,           1,           1,           1,           1,           1,           1,           1,           1,           1,           1,           1,           1,           1,           1,           1,           1,           1,           1,           1,           1,\n",
       "                  1,           1,           1,           1,           1,           1,           1,           1,           1,           1,           1,           1,           1,           1,           1,           1,           1,           1,           1,           1,           1,           1,           1,\n",
       "                  1,           1,           1,           1,           1,           1,           1,           1,           1,           1,           1,           1,           1,           1,           1,           1,           1,           1,           1,           1,           1,           1,           1,\n",
       "                  1,           1,           1,           1,           1,           1,           1,           1,           1,           1,           1,           1,           1,           1,           1,           1,           1,           1,           1,           1,           1,           1,           1,\n",
       "                  1,           1,           1,           1,           1,           1,           1,           1,           1,           1,           1,           1,           1,           1,           1,           1,           1,           1,           1,           1,           1,           1,           1,\n",
       "                  1,           1,           1,           1,           1,           1,           1,           1,           1,           1,           1,           1,           1,           1,           1,     0.96667,     0.96667,     0.96667,     0.96667,     0.96667,     0.96667,     0.96667,     0.96667,\n",
       "            0.96667,     0.96667,     0.96667,     0.96667,     0.96667,     0.96667,     0.96667,     0.96667,     0.96667,     0.96667,     0.96667,     0.96667,     0.96667,     0.96667,     0.96667,     0.96667,     0.96667,     0.96667,     0.96667,     0.96667,     0.96667,     0.96667,     0.96667,\n",
       "            0.96667,     0.96667,     0.96667,     0.96667,     0.96667,     0.96667,     0.96667,     0.96667,     0.96667,     0.96667,     0.96667,     0.96667,     0.96667,     0.96667,     0.96667,     0.96667,     0.93939,     0.93939,     0.93939,     0.93939,     0.93939,     0.93939,     0.93939,\n",
       "            0.93939,     0.93939,     0.93939,     0.93939,     0.93939,     0.93939,     0.93939,     0.93939,     0.93939,     0.93939,     0.93939,     0.93939,     0.93939,     0.93939,     0.93939,     0.93939,     0.93939,     0.93939,     0.93939,     0.93939,     0.93939,     0.93939,     0.93939,\n",
       "            0.93939,     0.93617,     0.93617,     0.93617,     0.93617,     0.93617,     0.93617,     0.93617,     0.93617,     0.93617,     0.93617,     0.93617,     0.93617,     0.93617,     0.93617,     0.93617,     0.93617,     0.93617,     0.93617,     0.93617,     0.93617,     0.93617,     0.93617,\n",
       "            0.93617,     0.93617,     0.93617,     0.93617,     0.93617,     0.93617,     0.93617,     0.93617,     0.93617,     0.93617,     0.93617,     0.93617,     0.93617,     0.93617,     0.93617,     0.93617,     0.93617,     0.93617,     0.93617,     0.93617,     0.93617,     0.93617,     0.93617,\n",
       "            0.93617,     0.93617,     0.93617,     0.93617,     0.93617,     0.93617,     0.93617,     0.93617,     0.93617,     0.93617,     0.93617,     0.93617,     0.93617,     0.93617,     0.93617,     0.93617,     0.93617,     0.93617,     0.93617,     0.93617,     0.93617,     0.93617,     0.93617,\n",
       "            0.93617,     0.93617,     0.93617,     0.93617,     0.93617,     0.93617,     0.93617,     0.93617,     0.93617,     0.93617,     0.93617,     0.93617,     0.93617,     0.93617,     0.93617,     0.93617,     0.93617,     0.93617,     0.93617,     0.93617,     0.93617,     0.93617,     0.93617,\n",
       "            0.93617,     0.93617,     0.93617,     0.93617,     0.93617,     0.93617,     0.93617,     0.93617,     0.93617,     0.93617,     0.93617,     0.93617,     0.93617,     0.93617,     0.93617,     0.93617,     0.93617,     0.93617,     0.93617,     0.93617,     0.93617,     0.93617,     0.93617,\n",
       "            0.93617,     0.93617,     0.93617,     0.93617,     0.93617,     0.93617,     0.93617,     0.93617,     0.93617,     0.93617,     0.93617,     0.93617,     0.93617,     0.93617,     0.93617,     0.93617,     0.93617,     0.93617,     0.93617,     0.93617,     0.93617,     0.93617,     0.93617,\n",
       "            0.93617,     0.93617,     0.93617,     0.93617,     0.93617,     0.93617,     0.93617,     0.93617,     0.93617,     0.93617,     0.93617,     0.93617,     0.93617,     0.93617,     0.93617,     0.93617,     0.93617,     0.93617,     0.93617,     0.93617,     0.93617,     0.93617,     0.93617,\n",
       "            0.93617,     0.93617,     0.93617,     0.93617,     0.93617,     0.93617,     0.93617,     0.93617,     0.93617,     0.93617,     0.93617,     0.93617,     0.93617,     0.93617,     0.93617,     0.93617,     0.93617,     0.93617,     0.93617,     0.93617,     0.93617,     0.93617,     0.93617,\n",
       "            0.93617,     0.93617,     0.93617,     0.93617,     0.93617,     0.93617,     0.93617,     0.93617,     0.93617,     0.93617,     0.93617,     0.93617,     0.93617,     0.93617,     0.93617,     0.93617,     0.93617,     0.93617,     0.93617,     0.93617,     0.86538,     0.86538,     0.86538,\n",
       "            0.86538,     0.86538,     0.86538,     0.86538,     0.86538,     0.86538,     0.86538,     0.86538,     0.86538,     0.86538,     0.86538,     0.86538,     0.86538,     0.82143,     0.82143,     0.82143,     0.82143,     0.82143,     0.82143,     0.82143,     0.82143,     0.82143,     0.82143,\n",
       "            0.82143,     0.82143,     0.82143,     0.82143,     0.82143,     0.82143,     0.77049,     0.77049,     0.77049,     0.77049,     0.77049,     0.77049,     0.77049,     0.77049,     0.77049,     0.77049,     0.77049,     0.77049,     0.77049,     0.77049,     0.77049,     0.73846,     0.73846,\n",
       "            0.73846,     0.73846,     0.73846,     0.73846,     0.73846,     0.73846,     0.73846,     0.73846,     0.73846,     0.73846,     0.73846,     0.73846,     0.73846,     0.73846,     0.66216,     0.66216,     0.66216,     0.66216,     0.66216,     0.66216,     0.66216,     0.66216,     0.66216,\n",
       "            0.66216,     0.66216,     0.66216,     0.66216,     0.66216,     0.66216,     0.43103,     0.43103,     0.43103,     0.43103,     0.43103,     0.43103,     0.43103,     0.43103,     0.43103,     0.43103,     0.43103,     0.43103,     0.43103,     0.43103,     0.43103,     0.43103,    0.017126,\n",
       "           0.017126,    0.017126,    0.017126,    0.017126,    0.017126,    0.017126,    0.017126,    0.017126,    0.017126,    0.017126,    0.017126,    0.017126,    0.017126,    0.017126,    0.017126,    0.016923,    0.016839,    0.016755,    0.016671,    0.016588,    0.016504,     0.01642,    0.016336,\n",
       "           0.016253,    0.016169,    0.016085,    0.016001,    0.015917,    0.015834,     0.01575,    0.015666,    0.015582,    0.015499,    0.015415,    0.015331,    0.015247,    0.015163,     0.01508,    0.014996,    0.014912,    0.014828,    0.014745,    0.014661,    0.014577,    0.014493,    0.014409,\n",
       "           0.014326,    0.014242,    0.014158,    0.014074,    0.013991,    0.013907,    0.013823,    0.013739,    0.013656,    0.013572,    0.013488,    0.013404,     0.01332,    0.013237,    0.013153,    0.013069,    0.012985,    0.012902,    0.012818,    0.012734,     0.01265,    0.012566,    0.012483,\n",
       "           0.012399,    0.012315,    0.012231,    0.012148,    0.012064,     0.01198,    0.011896,    0.011812,    0.011729,    0.011645,    0.011561,    0.011477,    0.011394,     0.01131,    0.011226,    0.011142,    0.011058,    0.010975,    0.010891,    0.010807,    0.010723,     0.01064,    0.010556,\n",
       "           0.010472,    0.010388,    0.010304,    0.010221,    0.010137,    0.010053,   0.0099694,   0.0098856,   0.0098018,    0.009718,   0.0096342,   0.0095505,   0.0094667,   0.0093829,   0.0092991,   0.0092154,   0.0091316,   0.0090478,    0.008964,   0.0088803,   0.0087965,   0.0087127,   0.0086289,\n",
       "          0.0085452,   0.0084614,   0.0083776,   0.0082938,   0.0082101,   0.0081263,   0.0080425,   0.0079587,    0.007875,   0.0077912,   0.0077074,   0.0076236,   0.0075398,   0.0074561,   0.0073723,   0.0072885,   0.0072047,    0.007121,   0.0070372,   0.0069534,   0.0068696,   0.0067859,   0.0067021,\n",
       "          0.0066183,   0.0065345,   0.0064508,    0.006367,   0.0062832,   0.0061994,   0.0061157,   0.0060319,   0.0059481,   0.0058643,   0.0057805,   0.0056968,    0.005613,   0.0055292,   0.0054454,   0.0053617,   0.0052779,   0.0051941,   0.0051103,   0.0050266,   0.0049428,    0.004859,   0.0047752,\n",
       "          0.0046915,   0.0046077,   0.0045239,   0.0044401,   0.0043564,   0.0042726,   0.0041888,    0.004105,   0.0040213,   0.0039375,   0.0038537,   0.0037699,   0.0036861,   0.0036024,   0.0035186,   0.0034348,    0.003351,   0.0032673,   0.0031835,   0.0030997,   0.0030159,   0.0029322,   0.0028484,\n",
       "          0.0027646,   0.0026808,   0.0025971,   0.0025133,   0.0024295,   0.0023457,    0.002262,   0.0021782,   0.0020944,   0.0020106,   0.0019268,   0.0018431,   0.0017593,   0.0016755,   0.0015917,    0.001508,   0.0014242,   0.0013404,   0.0012566,   0.0011729,   0.0010891,   0.0010053,  0.00092154,\n",
       "         0.00083776,  0.00075398,  0.00067021,  0.00058643,  0.00050266,  0.00041888,   0.0003351,  0.00025133,  0.00016755,  8.3776e-05,           0]]), 'Recall', 'Precision'], [array([          0,    0.001001,    0.002002,    0.003003,    0.004004,    0.005005,    0.006006,    0.007007,    0.008008,    0.009009,     0.01001,    0.011011,    0.012012,    0.013013,    0.014014,    0.015015,    0.016016,    0.017017,    0.018018,    0.019019,     0.02002,    0.021021,    0.022022,    0.023023,\n",
       "          0.024024,    0.025025,    0.026026,    0.027027,    0.028028,    0.029029,     0.03003,    0.031031,    0.032032,    0.033033,    0.034034,    0.035035,    0.036036,    0.037037,    0.038038,    0.039039,     0.04004,    0.041041,    0.042042,    0.043043,    0.044044,    0.045045,    0.046046,    0.047047,\n",
       "          0.048048,    0.049049,     0.05005,    0.051051,    0.052052,    0.053053,    0.054054,    0.055055,    0.056056,    0.057057,    0.058058,    0.059059,     0.06006,    0.061061,    0.062062,    0.063063,    0.064064,    0.065065,    0.066066,    0.067067,    0.068068,    0.069069,     0.07007,    0.071071,\n",
       "          0.072072,    0.073073,    0.074074,    0.075075,    0.076076,    0.077077,    0.078078,    0.079079,     0.08008,    0.081081,    0.082082,    0.083083,    0.084084,    0.085085,    0.086086,    0.087087,    0.088088,    0.089089,     0.09009,    0.091091,    0.092092,    0.093093,    0.094094,    0.095095,\n",
       "          0.096096,    0.097097,    0.098098,    0.099099,      0.1001,      0.1011,      0.1021,      0.1031,      0.1041,     0.10511,     0.10611,     0.10711,     0.10811,     0.10911,     0.11011,     0.11111,     0.11211,     0.11311,     0.11411,     0.11512,     0.11612,     0.11712,     0.11812,     0.11912,\n",
       "           0.12012,     0.12112,     0.12212,     0.12312,     0.12412,     0.12513,     0.12613,     0.12713,     0.12813,     0.12913,     0.13013,     0.13113,     0.13213,     0.13313,     0.13413,     0.13514,     0.13614,     0.13714,     0.13814,     0.13914,     0.14014,     0.14114,     0.14214,     0.14314,\n",
       "           0.14414,     0.14515,     0.14615,     0.14715,     0.14815,     0.14915,     0.15015,     0.15115,     0.15215,     0.15315,     0.15415,     0.15516,     0.15616,     0.15716,     0.15816,     0.15916,     0.16016,     0.16116,     0.16216,     0.16316,     0.16416,     0.16517,     0.16617,     0.16717,\n",
       "           0.16817,     0.16917,     0.17017,     0.17117,     0.17217,     0.17317,     0.17417,     0.17518,     0.17618,     0.17718,     0.17818,     0.17918,     0.18018,     0.18118,     0.18218,     0.18318,     0.18418,     0.18519,     0.18619,     0.18719,     0.18819,     0.18919,     0.19019,     0.19119,\n",
       "           0.19219,     0.19319,     0.19419,      0.1952,      0.1962,      0.1972,      0.1982,      0.1992,      0.2002,      0.2012,      0.2022,      0.2032,      0.2042,     0.20521,     0.20621,     0.20721,     0.20821,     0.20921,     0.21021,     0.21121,     0.21221,     0.21321,     0.21421,     0.21522,\n",
       "           0.21622,     0.21722,     0.21822,     0.21922,     0.22022,     0.22122,     0.22222,     0.22322,     0.22422,     0.22523,     0.22623,     0.22723,     0.22823,     0.22923,     0.23023,     0.23123,     0.23223,     0.23323,     0.23423,     0.23524,     0.23624,     0.23724,     0.23824,     0.23924,\n",
       "           0.24024,     0.24124,     0.24224,     0.24324,     0.24424,     0.24525,     0.24625,     0.24725,     0.24825,     0.24925,     0.25025,     0.25125,     0.25225,     0.25325,     0.25425,     0.25526,     0.25626,     0.25726,     0.25826,     0.25926,     0.26026,     0.26126,     0.26226,     0.26326,\n",
       "           0.26426,     0.26527,     0.26627,     0.26727,     0.26827,     0.26927,     0.27027,     0.27127,     0.27227,     0.27327,     0.27427,     0.27528,     0.27628,     0.27728,     0.27828,     0.27928,     0.28028,     0.28128,     0.28228,     0.28328,     0.28428,     0.28529,     0.28629,     0.28729,\n",
       "           0.28829,     0.28929,     0.29029,     0.29129,     0.29229,     0.29329,     0.29429,      0.2953,      0.2963,      0.2973,      0.2983,      0.2993,      0.3003,      0.3013,      0.3023,      0.3033,      0.3043,     0.30531,     0.30631,     0.30731,     0.30831,     0.30931,     0.31031,     0.31131,\n",
       "           0.31231,     0.31331,     0.31431,     0.31532,     0.31632,     0.31732,     0.31832,     0.31932,     0.32032,     0.32132,     0.32232,     0.32332,     0.32432,     0.32533,     0.32633,     0.32733,     0.32833,     0.32933,     0.33033,     0.33133,     0.33233,     0.33333,     0.33433,     0.33534,\n",
       "           0.33634,     0.33734,     0.33834,     0.33934,     0.34034,     0.34134,     0.34234,     0.34334,     0.34434,     0.34535,     0.34635,     0.34735,     0.34835,     0.34935,     0.35035,     0.35135,     0.35235,     0.35335,     0.35435,     0.35536,     0.35636,     0.35736,     0.35836,     0.35936,\n",
       "           0.36036,     0.36136,     0.36236,     0.36336,     0.36436,     0.36537,     0.36637,     0.36737,     0.36837,     0.36937,     0.37037,     0.37137,     0.37237,     0.37337,     0.37437,     0.37538,     0.37638,     0.37738,     0.37838,     0.37938,     0.38038,     0.38138,     0.38238,     0.38338,\n",
       "           0.38438,     0.38539,     0.38639,     0.38739,     0.38839,     0.38939,     0.39039,     0.39139,     0.39239,     0.39339,     0.39439,      0.3954,      0.3964,      0.3974,      0.3984,      0.3994,      0.4004,      0.4014,      0.4024,      0.4034,      0.4044,     0.40541,     0.40641,     0.40741,\n",
       "           0.40841,     0.40941,     0.41041,     0.41141,     0.41241,     0.41341,     0.41441,     0.41542,     0.41642,     0.41742,     0.41842,     0.41942,     0.42042,     0.42142,     0.42242,     0.42342,     0.42442,     0.42543,     0.42643,     0.42743,     0.42843,     0.42943,     0.43043,     0.43143,\n",
       "           0.43243,     0.43343,     0.43443,     0.43544,     0.43644,     0.43744,     0.43844,     0.43944,     0.44044,     0.44144,     0.44244,     0.44344,     0.44444,     0.44545,     0.44645,     0.44745,     0.44845,     0.44945,     0.45045,     0.45145,     0.45245,     0.45345,     0.45445,     0.45546,\n",
       "           0.45646,     0.45746,     0.45846,     0.45946,     0.46046,     0.46146,     0.46246,     0.46346,     0.46446,     0.46547,     0.46647,     0.46747,     0.46847,     0.46947,     0.47047,     0.47147,     0.47247,     0.47347,     0.47447,     0.47548,     0.47648,     0.47748,     0.47848,     0.47948,\n",
       "           0.48048,     0.48148,     0.48248,     0.48348,     0.48448,     0.48549,     0.48649,     0.48749,     0.48849,     0.48949,     0.49049,     0.49149,     0.49249,     0.49349,     0.49449,      0.4955,      0.4965,      0.4975,      0.4985,      0.4995,      0.5005,      0.5015,      0.5025,      0.5035,\n",
       "            0.5045,     0.50551,     0.50651,     0.50751,     0.50851,     0.50951,     0.51051,     0.51151,     0.51251,     0.51351,     0.51451,     0.51552,     0.51652,     0.51752,     0.51852,     0.51952,     0.52052,     0.52152,     0.52252,     0.52352,     0.52452,     0.52553,     0.52653,     0.52753,\n",
       "           0.52853,     0.52953,     0.53053,     0.53153,     0.53253,     0.53353,     0.53453,     0.53554,     0.53654,     0.53754,     0.53854,     0.53954,     0.54054,     0.54154,     0.54254,     0.54354,     0.54454,     0.54555,     0.54655,     0.54755,     0.54855,     0.54955,     0.55055,     0.55155,\n",
       "           0.55255,     0.55355,     0.55455,     0.55556,     0.55656,     0.55756,     0.55856,     0.55956,     0.56056,     0.56156,     0.56256,     0.56356,     0.56456,     0.56557,     0.56657,     0.56757,     0.56857,     0.56957,     0.57057,     0.57157,     0.57257,     0.57357,     0.57457,     0.57558,\n",
       "           0.57658,     0.57758,     0.57858,     0.57958,     0.58058,     0.58158,     0.58258,     0.58358,     0.58458,     0.58559,     0.58659,     0.58759,     0.58859,     0.58959,     0.59059,     0.59159,     0.59259,     0.59359,     0.59459,      0.5956,      0.5966,      0.5976,      0.5986,      0.5996,\n",
       "            0.6006,      0.6016,      0.6026,      0.6036,      0.6046,     0.60561,     0.60661,     0.60761,     0.60861,     0.60961,     0.61061,     0.61161,     0.61261,     0.61361,     0.61461,     0.61562,     0.61662,     0.61762,     0.61862,     0.61962,     0.62062,     0.62162,     0.62262,     0.62362,\n",
       "           0.62462,     0.62563,     0.62663,     0.62763,     0.62863,     0.62963,     0.63063,     0.63163,     0.63263,     0.63363,     0.63463,     0.63564,     0.63664,     0.63764,     0.63864,     0.63964,     0.64064,     0.64164,     0.64264,     0.64364,     0.64464,     0.64565,     0.64665,     0.64765,\n",
       "           0.64865,     0.64965,     0.65065,     0.65165,     0.65265,     0.65365,     0.65465,     0.65566,     0.65666,     0.65766,     0.65866,     0.65966,     0.66066,     0.66166,     0.66266,     0.66366,     0.66466,     0.66567,     0.66667,     0.66767,     0.66867,     0.66967,     0.67067,     0.67167,\n",
       "           0.67267,     0.67367,     0.67467,     0.67568,     0.67668,     0.67768,     0.67868,     0.67968,     0.68068,     0.68168,     0.68268,     0.68368,     0.68468,     0.68569,     0.68669,     0.68769,     0.68869,     0.68969,     0.69069,     0.69169,     0.69269,     0.69369,     0.69469,      0.6957,\n",
       "            0.6967,      0.6977,      0.6987,      0.6997,      0.7007,      0.7017,      0.7027,      0.7037,      0.7047,     0.70571,     0.70671,     0.70771,     0.70871,     0.70971,     0.71071,     0.71171,     0.71271,     0.71371,     0.71471,     0.71572,     0.71672,     0.71772,     0.71872,     0.71972,\n",
       "           0.72072,     0.72172,     0.72272,     0.72372,     0.72472,     0.72573,     0.72673,     0.72773,     0.72873,     0.72973,     0.73073,     0.73173,     0.73273,     0.73373,     0.73473,     0.73574,     0.73674,     0.73774,     0.73874,     0.73974,     0.74074,     0.74174,     0.74274,     0.74374,\n",
       "           0.74474,     0.74575,     0.74675,     0.74775,     0.74875,     0.74975,     0.75075,     0.75175,     0.75275,     0.75375,     0.75475,     0.75576,     0.75676,     0.75776,     0.75876,     0.75976,     0.76076,     0.76176,     0.76276,     0.76376,     0.76476,     0.76577,     0.76677,     0.76777,\n",
       "           0.76877,     0.76977,     0.77077,     0.77177,     0.77277,     0.77377,     0.77477,     0.77578,     0.77678,     0.77778,     0.77878,     0.77978,     0.78078,     0.78178,     0.78278,     0.78378,     0.78478,     0.78579,     0.78679,     0.78779,     0.78879,     0.78979,     0.79079,     0.79179,\n",
       "           0.79279,     0.79379,     0.79479,      0.7958,      0.7968,      0.7978,      0.7988,      0.7998,      0.8008,      0.8018,      0.8028,      0.8038,      0.8048,     0.80581,     0.80681,     0.80781,     0.80881,     0.80981,     0.81081,     0.81181,     0.81281,     0.81381,     0.81481,     0.81582,\n",
       "           0.81682,     0.81782,     0.81882,     0.81982,     0.82082,     0.82182,     0.82282,     0.82382,     0.82482,     0.82583,     0.82683,     0.82783,     0.82883,     0.82983,     0.83083,     0.83183,     0.83283,     0.83383,     0.83483,     0.83584,     0.83684,     0.83784,     0.83884,     0.83984,\n",
       "           0.84084,     0.84184,     0.84284,     0.84384,     0.84484,     0.84585,     0.84685,     0.84785,     0.84885,     0.84985,     0.85085,     0.85185,     0.85285,     0.85385,     0.85485,     0.85586,     0.85686,     0.85786,     0.85886,     0.85986,     0.86086,     0.86186,     0.86286,     0.86386,\n",
       "           0.86486,     0.86587,     0.86687,     0.86787,     0.86887,     0.86987,     0.87087,     0.87187,     0.87287,     0.87387,     0.87487,     0.87588,     0.87688,     0.87788,     0.87888,     0.87988,     0.88088,     0.88188,     0.88288,     0.88388,     0.88488,     0.88589,     0.88689,     0.88789,\n",
       "           0.88889,     0.88989,     0.89089,     0.89189,     0.89289,     0.89389,     0.89489,      0.8959,      0.8969,      0.8979,      0.8989,      0.8999,      0.9009,      0.9019,      0.9029,      0.9039,      0.9049,     0.90591,     0.90691,     0.90791,     0.90891,     0.90991,     0.91091,     0.91191,\n",
       "           0.91291,     0.91391,     0.91491,     0.91592,     0.91692,     0.91792,     0.91892,     0.91992,     0.92092,     0.92192,     0.92292,     0.92392,     0.92492,     0.92593,     0.92693,     0.92793,     0.92893,     0.92993,     0.93093,     0.93193,     0.93293,     0.93393,     0.93493,     0.93594,\n",
       "           0.93694,     0.93794,     0.93894,     0.93994,     0.94094,     0.94194,     0.94294,     0.94394,     0.94494,     0.94595,     0.94695,     0.94795,     0.94895,     0.94995,     0.95095,     0.95195,     0.95295,     0.95395,     0.95495,     0.95596,     0.95696,     0.95796,     0.95896,     0.95996,\n",
       "           0.96096,     0.96196,     0.96296,     0.96396,     0.96496,     0.96597,     0.96697,     0.96797,     0.96897,     0.96997,     0.97097,     0.97197,     0.97297,     0.97397,     0.97497,     0.97598,     0.97698,     0.97798,     0.97898,     0.97998,     0.98098,     0.98198,     0.98298,     0.98398,\n",
       "           0.98498,     0.98599,     0.98699,     0.98799,     0.98899,     0.98999,     0.99099,     0.99199,     0.99299,     0.99399,     0.99499,       0.996,       0.997,       0.998,       0.999,           1]), array([[    0.03329,     0.03329,    0.034842,    0.047891,    0.063287,     0.10022,     0.15951,     0.19914,     0.23594,     0.26646,     0.28819,     0.30783,     0.32312,     0.33329,     0.35228,     0.36205,     0.37451,     0.39427,     0.40789,     0.41552,     0.42322,     0.42708,     0.43811,\n",
       "            0.45117,      0.4607,     0.47305,      0.4858,     0.49132,     0.50887,     0.51926,     0.53106,     0.54536,      0.5528,     0.54793,      0.5534,     0.56068,     0.57324,     0.58081,     0.58713,     0.59247,     0.60002,     0.62062,     0.62378,     0.64261,     0.64671,     0.65051,\n",
       "             0.6686,     0.67551,     0.67985,     0.68607,     0.68807,     0.69007,     0.69548,     0.69604,     0.69661,     0.69717,     0.69774,      0.6983,     0.69886,     0.69942,     0.69998,     0.70166,     0.70336,     0.70506,     0.70662,     0.70817,     0.70971,     0.70706,     0.70277,\n",
       "            0.70132,     0.70243,     0.70355,     0.70466,     0.70576,     0.70785,     0.71005,     0.71657,     0.71835,     0.72011,     0.72196,     0.72604,     0.72791,     0.72883,     0.72974,     0.73065,     0.73156,     0.73246,     0.73386,     0.73557,     0.73728,     0.73856,      0.7389,\n",
       "            0.73923,     0.73957,      0.7399,     0.74023,     0.74056,      0.7409,     0.74123,     0.74156,     0.74189,     0.74222,     0.74255,     0.74288,     0.74321,     0.74354,     0.74387,     0.74417,     0.74392,     0.74367,     0.74342,     0.74317,     0.74292,     0.74267,     0.74242,\n",
       "            0.74217,     0.74192,     0.74167,     0.74142,     0.74117,     0.74091,     0.74066,     0.74041,     0.74016,     0.73991,     0.73966,     0.73941,     0.73916,      0.7389,     0.73865,      0.7384,     0.73815,      0.7379,     0.73765,     0.73739,     0.73714,     0.73689,     0.73664,\n",
       "            0.73639,     0.73613,     0.73588,     0.73563,     0.73538,     0.73513,     0.73487,     0.73462,     0.73451,     0.73926,     0.74067,     0.74131,     0.74195,     0.74258,     0.74322,     0.74385,     0.74448,     0.74511,     0.74574,     0.74692,     0.74856,     0.75019,     0.75181,\n",
       "            0.74773,     0.74287,     0.74214,      0.7424,     0.74266,     0.74292,     0.74318,     0.74343,     0.74369,     0.74395,     0.74421,     0.74446,     0.74472,     0.74498,     0.74523,     0.74549,     0.74574,       0.746,     0.74625,     0.74651,     0.74676,     0.74702,     0.74727,\n",
       "            0.74753,     0.74778,     0.74811,     0.74861,     0.74912,     0.74962,     0.75013,     0.75063,     0.75113,     0.75164,     0.75214,     0.75264,     0.75314,     0.75364,     0.75414,     0.75473,     0.75531,      0.7559,     0.75648,     0.75706,     0.75764,     0.75822,      0.7588,\n",
       "            0.75938,     0.75995,     0.76037,     0.76048,     0.76059,     0.76071,     0.76082,     0.76093,     0.76104,     0.76115,     0.76127,     0.76138,     0.76149,      0.7616,     0.76171,     0.76183,     0.76194,     0.76205,     0.76216,     0.76227,     0.76238,      0.7625,     0.76261,\n",
       "            0.76272,     0.76283,     0.76294,     0.76305,     0.76317,     0.76328,     0.76339,      0.7635,     0.76361,     0.76372,     0.76383,     0.76394,     0.76406,     0.76417,     0.76428,     0.76439,      0.7645,     0.76461,     0.76472,     0.76483,     0.76494,     0.76505,     0.76516,\n",
       "            0.76527,     0.76539,      0.7655,     0.76561,     0.76572,     0.76583,     0.76594,     0.76605,     0.76616,     0.76627,     0.76638,     0.76649,      0.7666,     0.76642,     0.76579,     0.76515,     0.76452,     0.76389,     0.76326,     0.76262,     0.76199,     0.76136,     0.76072,\n",
       "            0.76009,     0.75945,     0.75882,     0.75818,     0.75754,      0.7569,     0.75631,     0.75642,     0.75653,     0.75665,     0.75676,     0.75687,     0.75698,      0.7571,     0.75721,     0.75732,     0.75743,     0.75754,     0.75766,     0.75777,     0.75788,     0.75799,      0.7581,\n",
       "            0.75821,     0.75833,     0.75844,     0.75855,     0.75866,     0.75877,     0.75889,       0.759,     0.75911,     0.75922,     0.75933,     0.75944,     0.75955,     0.75967,     0.75978,     0.75989,        0.76,     0.76011,     0.76022,     0.76033,     0.76044,     0.76055,     0.76067,\n",
       "            0.76078,     0.76089,       0.761,     0.76111,     0.76122,     0.76133,     0.76144,     0.76155,     0.76166,     0.76177,     0.76188,     0.76199,      0.7621,     0.76221,     0.76233,     0.76244,     0.76255,     0.76266,     0.76285,     0.76312,      0.7634,     0.76367,     0.76395,\n",
       "            0.76422,      0.7645,     0.76477,     0.76504,     0.76532,     0.76559,     0.76586,     0.76614,     0.76641,     0.76668,     0.76695,     0.76723,      0.7675,     0.76777,     0.76804,     0.76831,     0.76858,     0.76885,     0.76912,     0.76927,     0.76934,      0.7694,     0.76947,\n",
       "            0.76953,      0.7696,     0.76966,     0.76973,      0.7698,     0.76986,     0.76993,     0.76999,     0.77006,     0.77012,     0.77019,     0.77025,     0.77032,     0.77039,     0.77045,     0.77052,     0.77058,     0.77065,     0.77071,     0.77078,     0.77084,     0.77091,     0.77097,\n",
       "            0.77104,      0.7711,     0.77117,     0.77124,      0.7713,     0.77137,     0.77143,      0.7715,     0.77156,     0.77163,     0.77169,     0.77176,     0.77182,     0.77189,     0.77195,     0.77202,     0.77208,     0.77215,     0.77221,     0.77228,     0.77234,     0.77241,     0.77247,\n",
       "            0.77254,      0.7726,     0.77267,     0.77273,      0.7728,     0.77286,     0.77293,     0.77299,     0.77306,     0.77312,     0.77319,     0.77325,     0.77332,     0.77338,     0.77345,     0.77351,     0.77358,     0.77364,     0.77371,     0.77377,     0.77384,      0.7739,     0.77397,\n",
       "            0.77403,      0.7741,     0.77416,     0.77423,     0.77429,     0.77436,     0.77442,     0.77448,     0.77455,     0.77461,     0.77468,     0.77474,     0.77481,     0.77487,     0.77494,       0.775,     0.77507,     0.77513,     0.77519,     0.77526,     0.77532,     0.77539,     0.77545,\n",
       "            0.77552,     0.77558,     0.77565,     0.77571,     0.77577,     0.77584,     0.77561,     0.77522,     0.77484,     0.77445,     0.77406,     0.77367,     0.77329,      0.7729,     0.77251,     0.77212,     0.77173,     0.77134,     0.77095,     0.77056,     0.77017,     0.76978,     0.76939,\n",
       "              0.769,     0.76861,     0.76822,     0.76783,     0.76744,     0.76705,     0.76666,     0.76626,     0.76587,     0.76548,     0.76554,     0.76654,     0.76752,     0.76851,     0.76949,     0.77047,     0.77144,     0.77204,     0.77227,      0.7725,     0.77273,     0.77296,     0.77318,\n",
       "            0.77341,     0.77364,     0.77387,     0.77409,     0.77432,     0.77455,     0.77477,       0.775,     0.77522,     0.77545,     0.77568,      0.7759,     0.77613,     0.77635,     0.77658,      0.7768,     0.77703,     0.77725,     0.77748,      0.7777,     0.77792,     0.77815,     0.77837,\n",
       "             0.7786,     0.77878,     0.77883,     0.77889,     0.77894,       0.779,     0.77905,     0.77911,     0.77916,     0.77922,     0.77928,     0.77933,     0.77939,     0.77944,      0.7795,     0.77955,     0.77961,     0.77966,     0.77972,     0.77978,     0.77983,     0.77989,     0.77994,\n",
       "               0.78,     0.78005,     0.78011,     0.78016,     0.78022,     0.78028,     0.78033,     0.78039,     0.78044,      0.7805,     0.78055,     0.78061,     0.78066,     0.78072,     0.78077,     0.78083,     0.78088,     0.78094,     0.78099,     0.78105,      0.7811,     0.78116,     0.78122,\n",
       "            0.78127,     0.78133,     0.78138,     0.78144,     0.78149,     0.78155,      0.7816,     0.78166,     0.78171,     0.78177,     0.78182,     0.78188,     0.78193,     0.78199,     0.78204,      0.7821,     0.78215,     0.78221,     0.78226,     0.78232,     0.78237,     0.78243,     0.78248,\n",
       "            0.78254,     0.78259,     0.78265,      0.7827,     0.78276,     0.78281,     0.78287,     0.78292,     0.78298,     0.78303,     0.78309,     0.78314,      0.7832,     0.78325,     0.78331,     0.78336,     0.78342,     0.78347,     0.78353,     0.78358,     0.78364,     0.78369,     0.78375,\n",
       "             0.7838,     0.78385,     0.78391,     0.78396,     0.78402,     0.78407,     0.78413,     0.78418,     0.78424,     0.78429,     0.78435,      0.7844,     0.78446,     0.78451,     0.78457,     0.78462,     0.78467,     0.78473,     0.78478,     0.78484,     0.78489,     0.78495,       0.785,\n",
       "            0.78506,     0.78511,     0.78517,     0.78522,     0.78527,     0.78533,     0.78538,     0.78544,     0.78549,     0.78555,      0.7856,     0.78566,     0.78571,     0.78575,      0.7858,     0.78584,     0.78589,     0.78593,     0.78598,     0.78602,     0.78606,     0.78611,     0.78615,\n",
       "             0.7862,     0.78624,     0.78628,     0.78633,     0.78637,     0.78642,     0.78646,      0.7865,     0.78655,     0.78659,     0.78664,     0.78668,     0.78672,     0.78677,     0.78681,     0.78686,      0.7869,     0.78694,     0.78699,     0.78703,     0.78707,     0.78712,     0.78716,\n",
       "            0.78721,     0.78725,     0.78729,     0.78734,     0.78738,     0.78743,     0.78747,     0.78751,     0.78756,      0.7876,     0.78765,     0.78769,     0.78773,     0.78778,     0.78782,     0.78786,     0.78791,     0.78795,       0.788,     0.78804,     0.78808,     0.78813,     0.78817,\n",
       "            0.78821,     0.78826,      0.7883,     0.78835,     0.78839,     0.78843,     0.78848,     0.78852,     0.78856,     0.78861,     0.78865,     0.78869,     0.78874,     0.78878,     0.78883,     0.78887,     0.78891,     0.78896,       0.789,     0.78904,     0.78909,     0.78913,     0.78917,\n",
       "            0.78922,     0.78926,     0.78931,     0.78935,     0.78939,     0.78944,     0.78948,     0.78952,     0.78957,     0.78961,     0.78965,      0.7897,     0.78974,     0.78978,     0.78983,     0.78987,     0.78991,     0.78996,        0.79,     0.79005,     0.79009,     0.79013,     0.79018,\n",
       "            0.79022,     0.79026,     0.79031,     0.79035,     0.79039,     0.79044,     0.79048,     0.79052,     0.79057,     0.79061,     0.79065,      0.7907,     0.79074,     0.79078,     0.79083,     0.79087,     0.79091,     0.79096,       0.791,     0.79104,     0.79109,     0.79113,     0.79117,\n",
       "            0.79122,     0.79126,      0.7913,     0.79135,     0.79139,     0.79143,     0.79148,     0.79152,     0.79156,     0.79161,     0.79165,     0.79169,     0.79174,     0.79178,     0.79182,     0.79186,     0.79191,     0.79195,     0.79199,     0.79204,     0.79208,     0.79212,     0.79217,\n",
       "            0.79221,     0.79225,      0.7923,     0.79234,     0.79238,     0.79243,     0.79247,     0.79251,     0.79256,      0.7926,     0.79264,     0.79268,     0.79273,     0.79277,     0.79268,     0.79243,     0.79219,     0.79195,      0.7917,     0.79146,     0.79122,     0.79098,     0.79073,\n",
       "            0.79049,     0.79024,        0.79,     0.78976,     0.78951,     0.78927,     0.78903,     0.78878,     0.78854,     0.78829,     0.78805,     0.78781,     0.78756,     0.78732,     0.78707,     0.78683,     0.78658,     0.78634,     0.78609,     0.78585,      0.7856,     0.78536,     0.78511,\n",
       "            0.78487,     0.78462,     0.78438,     0.78413,     0.78388,     0.78364,     0.78339,     0.78315,      0.7829,     0.78265,     0.78241,     0.78216,     0.78192,     0.77721,     0.75588,      0.7424,     0.73557,     0.73413,     0.73269,     0.73124,     0.72979,     0.72833,     0.72688,\n",
       "            0.72542,     0.72396,     0.72304,     0.72217,     0.72131,     0.72045,     0.71958,     0.71872,     0.71785,     0.71698,     0.71611,     0.71524,     0.71437,      0.7135,     0.71263,     0.71175,     0.71099,     0.71026,     0.70954,     0.70881,     0.70808,     0.70735,     0.70662,\n",
       "            0.70588,     0.70515,     0.70442,     0.70368,     0.70295,     0.70221,     0.70148,     0.70074,         0.7,     0.69927,     0.68585,     0.68364,     0.68143,     0.67921,     0.67698,     0.67475,     0.67174,     0.66722,     0.66268,     0.65773,     0.65219,     0.64661,     0.63485,\n",
       "            0.63907,     0.63425,     0.62941,      0.6243,     0.61691,     0.61248,     0.61305,     0.60695,     0.59991,     0.58953,     0.58219,     0.57582,     0.57352,     0.57594,     0.57051,     0.56503,     0.55837,        0.55,     0.53759,     0.50875,     0.50279,     0.49678,     0.48389,\n",
       "            0.47308,     0.46773,     0.46234,     0.45135,     0.41781,     0.40773,     0.39501,      0.3785,     0.37381,     0.36909,     0.36434,     0.35956,     0.33984,     0.33481,     0.33163,     0.32844,     0.32524,     0.32202,     0.31879,     0.31524,     0.30763,     0.29995,     0.26327,\n",
       "            0.24252,     0.23631,     0.23006,     0.22377,     0.22021,     0.21753,     0.21485,     0.21216,     0.20946,     0.20676,     0.20404,     0.20132,     0.19859,     0.17145,     0.15341,     0.13503,    0.089302,    0.085856,    0.082398,    0.078928,    0.075444,    0.071949,     0.06844,\n",
       "           0.064919,    0.061384,           0,           0,           0,           0,           0,           0,           0,           0,           0]]), 'Confidence', 'F1'], [array([          0,    0.001001,    0.002002,    0.003003,    0.004004,    0.005005,    0.006006,    0.007007,    0.008008,    0.009009,     0.01001,    0.011011,    0.012012,    0.013013,    0.014014,    0.015015,    0.016016,    0.017017,    0.018018,    0.019019,     0.02002,    0.021021,    0.022022,    0.023023,\n",
       "          0.024024,    0.025025,    0.026026,    0.027027,    0.028028,    0.029029,     0.03003,    0.031031,    0.032032,    0.033033,    0.034034,    0.035035,    0.036036,    0.037037,    0.038038,    0.039039,     0.04004,    0.041041,    0.042042,    0.043043,    0.044044,    0.045045,    0.046046,    0.047047,\n",
       "          0.048048,    0.049049,     0.05005,    0.051051,    0.052052,    0.053053,    0.054054,    0.055055,    0.056056,    0.057057,    0.058058,    0.059059,     0.06006,    0.061061,    0.062062,    0.063063,    0.064064,    0.065065,    0.066066,    0.067067,    0.068068,    0.069069,     0.07007,    0.071071,\n",
       "          0.072072,    0.073073,    0.074074,    0.075075,    0.076076,    0.077077,    0.078078,    0.079079,     0.08008,    0.081081,    0.082082,    0.083083,    0.084084,    0.085085,    0.086086,    0.087087,    0.088088,    0.089089,     0.09009,    0.091091,    0.092092,    0.093093,    0.094094,    0.095095,\n",
       "          0.096096,    0.097097,    0.098098,    0.099099,      0.1001,      0.1011,      0.1021,      0.1031,      0.1041,     0.10511,     0.10611,     0.10711,     0.10811,     0.10911,     0.11011,     0.11111,     0.11211,     0.11311,     0.11411,     0.11512,     0.11612,     0.11712,     0.11812,     0.11912,\n",
       "           0.12012,     0.12112,     0.12212,     0.12312,     0.12412,     0.12513,     0.12613,     0.12713,     0.12813,     0.12913,     0.13013,     0.13113,     0.13213,     0.13313,     0.13413,     0.13514,     0.13614,     0.13714,     0.13814,     0.13914,     0.14014,     0.14114,     0.14214,     0.14314,\n",
       "           0.14414,     0.14515,     0.14615,     0.14715,     0.14815,     0.14915,     0.15015,     0.15115,     0.15215,     0.15315,     0.15415,     0.15516,     0.15616,     0.15716,     0.15816,     0.15916,     0.16016,     0.16116,     0.16216,     0.16316,     0.16416,     0.16517,     0.16617,     0.16717,\n",
       "           0.16817,     0.16917,     0.17017,     0.17117,     0.17217,     0.17317,     0.17417,     0.17518,     0.17618,     0.17718,     0.17818,     0.17918,     0.18018,     0.18118,     0.18218,     0.18318,     0.18418,     0.18519,     0.18619,     0.18719,     0.18819,     0.18919,     0.19019,     0.19119,\n",
       "           0.19219,     0.19319,     0.19419,      0.1952,      0.1962,      0.1972,      0.1982,      0.1992,      0.2002,      0.2012,      0.2022,      0.2032,      0.2042,     0.20521,     0.20621,     0.20721,     0.20821,     0.20921,     0.21021,     0.21121,     0.21221,     0.21321,     0.21421,     0.21522,\n",
       "           0.21622,     0.21722,     0.21822,     0.21922,     0.22022,     0.22122,     0.22222,     0.22322,     0.22422,     0.22523,     0.22623,     0.22723,     0.22823,     0.22923,     0.23023,     0.23123,     0.23223,     0.23323,     0.23423,     0.23524,     0.23624,     0.23724,     0.23824,     0.23924,\n",
       "           0.24024,     0.24124,     0.24224,     0.24324,     0.24424,     0.24525,     0.24625,     0.24725,     0.24825,     0.24925,     0.25025,     0.25125,     0.25225,     0.25325,     0.25425,     0.25526,     0.25626,     0.25726,     0.25826,     0.25926,     0.26026,     0.26126,     0.26226,     0.26326,\n",
       "           0.26426,     0.26527,     0.26627,     0.26727,     0.26827,     0.26927,     0.27027,     0.27127,     0.27227,     0.27327,     0.27427,     0.27528,     0.27628,     0.27728,     0.27828,     0.27928,     0.28028,     0.28128,     0.28228,     0.28328,     0.28428,     0.28529,     0.28629,     0.28729,\n",
       "           0.28829,     0.28929,     0.29029,     0.29129,     0.29229,     0.29329,     0.29429,      0.2953,      0.2963,      0.2973,      0.2983,      0.2993,      0.3003,      0.3013,      0.3023,      0.3033,      0.3043,     0.30531,     0.30631,     0.30731,     0.30831,     0.30931,     0.31031,     0.31131,\n",
       "           0.31231,     0.31331,     0.31431,     0.31532,     0.31632,     0.31732,     0.31832,     0.31932,     0.32032,     0.32132,     0.32232,     0.32332,     0.32432,     0.32533,     0.32633,     0.32733,     0.32833,     0.32933,     0.33033,     0.33133,     0.33233,     0.33333,     0.33433,     0.33534,\n",
       "           0.33634,     0.33734,     0.33834,     0.33934,     0.34034,     0.34134,     0.34234,     0.34334,     0.34434,     0.34535,     0.34635,     0.34735,     0.34835,     0.34935,     0.35035,     0.35135,     0.35235,     0.35335,     0.35435,     0.35536,     0.35636,     0.35736,     0.35836,     0.35936,\n",
       "           0.36036,     0.36136,     0.36236,     0.36336,     0.36436,     0.36537,     0.36637,     0.36737,     0.36837,     0.36937,     0.37037,     0.37137,     0.37237,     0.37337,     0.37437,     0.37538,     0.37638,     0.37738,     0.37838,     0.37938,     0.38038,     0.38138,     0.38238,     0.38338,\n",
       "           0.38438,     0.38539,     0.38639,     0.38739,     0.38839,     0.38939,     0.39039,     0.39139,     0.39239,     0.39339,     0.39439,      0.3954,      0.3964,      0.3974,      0.3984,      0.3994,      0.4004,      0.4014,      0.4024,      0.4034,      0.4044,     0.40541,     0.40641,     0.40741,\n",
       "           0.40841,     0.40941,     0.41041,     0.41141,     0.41241,     0.41341,     0.41441,     0.41542,     0.41642,     0.41742,     0.41842,     0.41942,     0.42042,     0.42142,     0.42242,     0.42342,     0.42442,     0.42543,     0.42643,     0.42743,     0.42843,     0.42943,     0.43043,     0.43143,\n",
       "           0.43243,     0.43343,     0.43443,     0.43544,     0.43644,     0.43744,     0.43844,     0.43944,     0.44044,     0.44144,     0.44244,     0.44344,     0.44444,     0.44545,     0.44645,     0.44745,     0.44845,     0.44945,     0.45045,     0.45145,     0.45245,     0.45345,     0.45445,     0.45546,\n",
       "           0.45646,     0.45746,     0.45846,     0.45946,     0.46046,     0.46146,     0.46246,     0.46346,     0.46446,     0.46547,     0.46647,     0.46747,     0.46847,     0.46947,     0.47047,     0.47147,     0.47247,     0.47347,     0.47447,     0.47548,     0.47648,     0.47748,     0.47848,     0.47948,\n",
       "           0.48048,     0.48148,     0.48248,     0.48348,     0.48448,     0.48549,     0.48649,     0.48749,     0.48849,     0.48949,     0.49049,     0.49149,     0.49249,     0.49349,     0.49449,      0.4955,      0.4965,      0.4975,      0.4985,      0.4995,      0.5005,      0.5015,      0.5025,      0.5035,\n",
       "            0.5045,     0.50551,     0.50651,     0.50751,     0.50851,     0.50951,     0.51051,     0.51151,     0.51251,     0.51351,     0.51451,     0.51552,     0.51652,     0.51752,     0.51852,     0.51952,     0.52052,     0.52152,     0.52252,     0.52352,     0.52452,     0.52553,     0.52653,     0.52753,\n",
       "           0.52853,     0.52953,     0.53053,     0.53153,     0.53253,     0.53353,     0.53453,     0.53554,     0.53654,     0.53754,     0.53854,     0.53954,     0.54054,     0.54154,     0.54254,     0.54354,     0.54454,     0.54555,     0.54655,     0.54755,     0.54855,     0.54955,     0.55055,     0.55155,\n",
       "           0.55255,     0.55355,     0.55455,     0.55556,     0.55656,     0.55756,     0.55856,     0.55956,     0.56056,     0.56156,     0.56256,     0.56356,     0.56456,     0.56557,     0.56657,     0.56757,     0.56857,     0.56957,     0.57057,     0.57157,     0.57257,     0.57357,     0.57457,     0.57558,\n",
       "           0.57658,     0.57758,     0.57858,     0.57958,     0.58058,     0.58158,     0.58258,     0.58358,     0.58458,     0.58559,     0.58659,     0.58759,     0.58859,     0.58959,     0.59059,     0.59159,     0.59259,     0.59359,     0.59459,      0.5956,      0.5966,      0.5976,      0.5986,      0.5996,\n",
       "            0.6006,      0.6016,      0.6026,      0.6036,      0.6046,     0.60561,     0.60661,     0.60761,     0.60861,     0.60961,     0.61061,     0.61161,     0.61261,     0.61361,     0.61461,     0.61562,     0.61662,     0.61762,     0.61862,     0.61962,     0.62062,     0.62162,     0.62262,     0.62362,\n",
       "           0.62462,     0.62563,     0.62663,     0.62763,     0.62863,     0.62963,     0.63063,     0.63163,     0.63263,     0.63363,     0.63463,     0.63564,     0.63664,     0.63764,     0.63864,     0.63964,     0.64064,     0.64164,     0.64264,     0.64364,     0.64464,     0.64565,     0.64665,     0.64765,\n",
       "           0.64865,     0.64965,     0.65065,     0.65165,     0.65265,     0.65365,     0.65465,     0.65566,     0.65666,     0.65766,     0.65866,     0.65966,     0.66066,     0.66166,     0.66266,     0.66366,     0.66466,     0.66567,     0.66667,     0.66767,     0.66867,     0.66967,     0.67067,     0.67167,\n",
       "           0.67267,     0.67367,     0.67467,     0.67568,     0.67668,     0.67768,     0.67868,     0.67968,     0.68068,     0.68168,     0.68268,     0.68368,     0.68468,     0.68569,     0.68669,     0.68769,     0.68869,     0.68969,     0.69069,     0.69169,     0.69269,     0.69369,     0.69469,      0.6957,\n",
       "            0.6967,      0.6977,      0.6987,      0.6997,      0.7007,      0.7017,      0.7027,      0.7037,      0.7047,     0.70571,     0.70671,     0.70771,     0.70871,     0.70971,     0.71071,     0.71171,     0.71271,     0.71371,     0.71471,     0.71572,     0.71672,     0.71772,     0.71872,     0.71972,\n",
       "           0.72072,     0.72172,     0.72272,     0.72372,     0.72472,     0.72573,     0.72673,     0.72773,     0.72873,     0.72973,     0.73073,     0.73173,     0.73273,     0.73373,     0.73473,     0.73574,     0.73674,     0.73774,     0.73874,     0.73974,     0.74074,     0.74174,     0.74274,     0.74374,\n",
       "           0.74474,     0.74575,     0.74675,     0.74775,     0.74875,     0.74975,     0.75075,     0.75175,     0.75275,     0.75375,     0.75475,     0.75576,     0.75676,     0.75776,     0.75876,     0.75976,     0.76076,     0.76176,     0.76276,     0.76376,     0.76476,     0.76577,     0.76677,     0.76777,\n",
       "           0.76877,     0.76977,     0.77077,     0.77177,     0.77277,     0.77377,     0.77477,     0.77578,     0.77678,     0.77778,     0.77878,     0.77978,     0.78078,     0.78178,     0.78278,     0.78378,     0.78478,     0.78579,     0.78679,     0.78779,     0.78879,     0.78979,     0.79079,     0.79179,\n",
       "           0.79279,     0.79379,     0.79479,      0.7958,      0.7968,      0.7978,      0.7988,      0.7998,      0.8008,      0.8018,      0.8028,      0.8038,      0.8048,     0.80581,     0.80681,     0.80781,     0.80881,     0.80981,     0.81081,     0.81181,     0.81281,     0.81381,     0.81481,     0.81582,\n",
       "           0.81682,     0.81782,     0.81882,     0.81982,     0.82082,     0.82182,     0.82282,     0.82382,     0.82482,     0.82583,     0.82683,     0.82783,     0.82883,     0.82983,     0.83083,     0.83183,     0.83283,     0.83383,     0.83483,     0.83584,     0.83684,     0.83784,     0.83884,     0.83984,\n",
       "           0.84084,     0.84184,     0.84284,     0.84384,     0.84484,     0.84585,     0.84685,     0.84785,     0.84885,     0.84985,     0.85085,     0.85185,     0.85285,     0.85385,     0.85485,     0.85586,     0.85686,     0.85786,     0.85886,     0.85986,     0.86086,     0.86186,     0.86286,     0.86386,\n",
       "           0.86486,     0.86587,     0.86687,     0.86787,     0.86887,     0.86987,     0.87087,     0.87187,     0.87287,     0.87387,     0.87487,     0.87588,     0.87688,     0.87788,     0.87888,     0.87988,     0.88088,     0.88188,     0.88288,     0.88388,     0.88488,     0.88589,     0.88689,     0.88789,\n",
       "           0.88889,     0.88989,     0.89089,     0.89189,     0.89289,     0.89389,     0.89489,      0.8959,      0.8969,      0.8979,      0.8989,      0.8999,      0.9009,      0.9019,      0.9029,      0.9039,      0.9049,     0.90591,     0.90691,     0.90791,     0.90891,     0.90991,     0.91091,     0.91191,\n",
       "           0.91291,     0.91391,     0.91491,     0.91592,     0.91692,     0.91792,     0.91892,     0.91992,     0.92092,     0.92192,     0.92292,     0.92392,     0.92492,     0.92593,     0.92693,     0.92793,     0.92893,     0.92993,     0.93093,     0.93193,     0.93293,     0.93393,     0.93493,     0.93594,\n",
       "           0.93694,     0.93794,     0.93894,     0.93994,     0.94094,     0.94194,     0.94294,     0.94394,     0.94494,     0.94595,     0.94695,     0.94795,     0.94895,     0.94995,     0.95095,     0.95195,     0.95295,     0.95395,     0.95495,     0.95596,     0.95696,     0.95796,     0.95896,     0.95996,\n",
       "           0.96096,     0.96196,     0.96296,     0.96396,     0.96496,     0.96597,     0.96697,     0.96797,     0.96897,     0.96997,     0.97097,     0.97197,     0.97297,     0.97397,     0.97497,     0.97598,     0.97698,     0.97798,     0.97898,     0.97998,     0.98098,     0.98198,     0.98298,     0.98398,\n",
       "           0.98498,     0.98599,     0.98699,     0.98799,     0.98899,     0.98999,     0.99099,     0.99199,     0.99299,     0.99399,     0.99499,       0.996,       0.997,       0.998,       0.999,           1]), array([[      0.017,       0.017,    0.017818,    0.024702,    0.032979,    0.053545,    0.088821,     0.11411,     0.13895,     0.16062,     0.17668,     0.19167,     0.20368,     0.21183,     0.22742,     0.23562,     0.24629,     0.26367,     0.27599,     0.28303,     0.29022,     0.29386,     0.30441,\n",
       "            0.31717,     0.32667,     0.33923,      0.3525,     0.35834,     0.37732,     0.38886,     0.40224,     0.41889,     0.42772,     0.42662,     0.43329,     0.44228,     0.45812,     0.46788,     0.47613,     0.48319,     0.49331,      0.5218,     0.52628,     0.55365,     0.55977,     0.56548,\n",
       "            0.59341,     0.60438,     0.61136,     0.62149,     0.62479,     0.62809,     0.63711,     0.63806,     0.63901,     0.63996,     0.64091,     0.64186,     0.64281,     0.64376,     0.64471,     0.64756,     0.65047,     0.65337,     0.65605,     0.65873,     0.66141,     0.66064,     0.65853,\n",
       "            0.65857,     0.66054,     0.66251,     0.66448,     0.66645,     0.67019,     0.67414,       0.686,     0.68926,     0.69252,     0.69595,     0.70357,     0.70709,     0.70881,     0.71054,     0.71227,       0.714,     0.71573,     0.71839,     0.72169,     0.72499,     0.72747,     0.72812,\n",
       "            0.72877,     0.72942,     0.73007,     0.73071,     0.73136,     0.73201,     0.73266,     0.73331,     0.73396,      0.7346,     0.73525,      0.7359,     0.73655,      0.7372,     0.73785,     0.73846,     0.73835,     0.73825,     0.73814,     0.73804,     0.73793,     0.73783,     0.73772,\n",
       "            0.73762,     0.73751,     0.73741,      0.7373,      0.7372,     0.73709,     0.73699,     0.73689,     0.73678,     0.73668,     0.73657,     0.73647,     0.73636,     0.73626,     0.73615,     0.73605,     0.73594,     0.73584,     0.73573,     0.73563,     0.73552,     0.73542,     0.73531,\n",
       "            0.73521,     0.73511,       0.735,      0.7349,     0.73479,     0.73469,     0.73458,     0.73448,     0.73464,      0.7442,     0.74708,     0.74838,     0.74968,     0.75098,     0.75227,     0.75357,     0.75487,     0.75617,     0.75747,      0.7599,      0.7633,     0.76669,     0.77009,\n",
       "            0.76886,     0.76702,     0.76711,     0.76767,     0.76822,     0.76877,     0.76932,     0.76987,     0.77043,     0.77098,     0.77153,     0.77208,     0.77263,     0.77319,     0.77374,     0.77429,     0.77484,     0.77539,     0.77595,      0.7765,     0.77705,      0.7776,     0.77816,\n",
       "            0.77871,     0.77926,     0.77996,     0.78106,     0.78217,     0.78327,     0.78437,     0.78547,     0.78658,     0.78768,     0.78878,     0.78988,     0.79098,     0.79209,      0.7932,      0.7945,      0.7958,     0.79709,     0.79839,     0.79969,     0.80098,     0.80228,     0.80358,\n",
       "            0.80487,     0.80617,     0.80711,     0.80736,     0.80761,     0.80786,     0.80812,     0.80837,     0.80862,     0.80888,     0.80913,     0.80938,     0.80964,     0.80989,     0.81014,     0.81039,     0.81065,      0.8109,     0.81115,     0.81141,     0.81166,     0.81191,     0.81217,\n",
       "            0.81242,     0.81267,     0.81293,     0.81318,     0.81343,     0.81368,     0.81394,     0.81419,     0.81444,      0.8147,     0.81495,      0.8152,     0.81546,     0.81571,     0.81596,     0.81621,     0.81647,     0.81672,     0.81697,     0.81723,     0.81748,     0.81773,     0.81799,\n",
       "            0.81824,     0.81849,     0.81875,       0.819,     0.81925,      0.8195,     0.81976,     0.82001,     0.82026,     0.82052,     0.82077,     0.82102,     0.82128,     0.82135,     0.82115,     0.82095,     0.82075,     0.82055,     0.82036,     0.82016,     0.81996,     0.81976,     0.81956,\n",
       "            0.81936,     0.81916,     0.81897,     0.81877,     0.81857,     0.81837,      0.8182,     0.81846,     0.81872,     0.81899,     0.81925,     0.81951,     0.81978,     0.82004,      0.8203,     0.82057,     0.82083,     0.82109,     0.82136,     0.82162,     0.82188,     0.82214,     0.82241,\n",
       "            0.82267,     0.82293,      0.8232,     0.82346,     0.82372,     0.82399,     0.82425,     0.82451,     0.82478,     0.82504,      0.8253,     0.82557,     0.82583,     0.82609,     0.82636,     0.82662,     0.82688,     0.82715,     0.82741,     0.82767,     0.82794,      0.8282,     0.82846,\n",
       "            0.82873,     0.82899,     0.82925,     0.82952,     0.82978,     0.83004,     0.83031,     0.83057,     0.83083,     0.83109,     0.83136,     0.83162,     0.83188,     0.83215,     0.83241,     0.83267,     0.83294,      0.8332,     0.83366,     0.83432,     0.83498,     0.83563,     0.83629,\n",
       "            0.83695,     0.83761,     0.83826,     0.83892,     0.83958,     0.84024,      0.8409,     0.84155,     0.84221,     0.84287,     0.84353,     0.84418,     0.84484,      0.8455,     0.84616,     0.84682,     0.84747,     0.84813,     0.84879,     0.84915,     0.84931,     0.84947,     0.84963,\n",
       "            0.84979,     0.84995,     0.85011,     0.85027,     0.85043,     0.85059,     0.85075,     0.85091,     0.85107,     0.85123,     0.85139,     0.85155,     0.85171,     0.85187,     0.85203,     0.85219,     0.85235,     0.85252,     0.85268,     0.85284,       0.853,     0.85316,     0.85332,\n",
       "            0.85348,     0.85364,      0.8538,     0.85396,     0.85412,     0.85428,     0.85444,      0.8546,     0.85476,     0.85492,     0.85508,     0.85524,      0.8554,     0.85556,     0.85572,     0.85588,     0.85604,      0.8562,     0.85636,     0.85652,     0.85668,     0.85684,       0.857,\n",
       "            0.85716,     0.85732,     0.85748,     0.85764,      0.8578,     0.85796,     0.85812,     0.85828,     0.85844,      0.8586,     0.85876,     0.85892,     0.85908,     0.85924,      0.8594,     0.85956,     0.85972,     0.85988,     0.86004,      0.8602,     0.86036,     0.86052,     0.86068,\n",
       "            0.86084,       0.861,     0.86116,     0.86132,     0.86148,     0.86164,      0.8618,     0.86196,     0.86212,     0.86228,     0.86244,     0.86261,     0.86277,     0.86293,     0.86309,     0.86325,     0.86341,     0.86357,     0.86373,     0.86389,     0.86405,     0.86421,     0.86437,\n",
       "            0.86453,     0.86469,     0.86485,     0.86501,     0.86517,     0.86533,     0.86532,     0.86523,     0.86513,     0.86503,     0.86494,     0.86484,     0.86474,     0.86465,     0.86455,     0.86445,     0.86436,     0.86426,     0.86416,     0.86407,     0.86397,     0.86387,     0.86378,\n",
       "            0.86368,     0.86358,     0.86349,     0.86339,     0.86329,      0.8632,      0.8631,       0.863,     0.86291,     0.86281,     0.86358,      0.8661,     0.86863,     0.87116,     0.87368,     0.87621,     0.87874,      0.8803,     0.88089,     0.88148,     0.88208,     0.88267,     0.88327,\n",
       "            0.88386,     0.88445,     0.88505,     0.88564,     0.88624,     0.88683,     0.88742,     0.88802,     0.88861,      0.8892,      0.8898,     0.89039,     0.89099,     0.89158,     0.89217,     0.89277,     0.89336,     0.89395,     0.89455,     0.89514,     0.89574,     0.89633,     0.89692,\n",
       "            0.89752,       0.898,     0.89815,     0.89829,     0.89844,     0.89859,     0.89874,     0.89889,     0.89903,     0.89918,     0.89933,     0.89948,     0.89963,     0.89977,     0.89992,     0.90007,     0.90022,     0.90037,     0.90051,     0.90066,     0.90081,     0.90096,     0.90111,\n",
       "            0.90125,      0.9014,     0.90155,      0.9017,     0.90185,       0.902,     0.90214,     0.90229,     0.90244,     0.90259,     0.90274,     0.90288,     0.90303,     0.90318,     0.90333,     0.90348,     0.90362,     0.90377,     0.90392,     0.90407,     0.90422,     0.90436,     0.90451,\n",
       "            0.90466,     0.90481,     0.90496,      0.9051,     0.90525,      0.9054,     0.90555,      0.9057,     0.90585,     0.90599,     0.90614,     0.90629,     0.90644,     0.90659,     0.90673,     0.90688,     0.90703,     0.90718,     0.90733,     0.90747,     0.90762,     0.90777,     0.90792,\n",
       "            0.90807,     0.90821,     0.90836,     0.90851,     0.90866,     0.90881,     0.90895,      0.9091,     0.90925,      0.9094,     0.90955,      0.9097,     0.90984,     0.90999,     0.91014,     0.91029,     0.91044,     0.91058,     0.91073,     0.91088,     0.91103,     0.91118,     0.91132,\n",
       "            0.91147,     0.91162,     0.91177,     0.91192,     0.91206,     0.91221,     0.91236,     0.91251,     0.91266,      0.9128,     0.91295,      0.9131,     0.91325,      0.9134,     0.91355,     0.91369,     0.91384,     0.91399,     0.91414,     0.91429,     0.91443,     0.91458,     0.91473,\n",
       "            0.91488,     0.91503,     0.91517,     0.91532,     0.91547,     0.91562,     0.91577,     0.91591,     0.91606,     0.91621,     0.91636,     0.91651,     0.91665,     0.91678,      0.9169,     0.91702,     0.91714,     0.91726,     0.91738,      0.9175,     0.91762,     0.91774,     0.91786,\n",
       "            0.91798,      0.9181,     0.91822,     0.91834,     0.91846,     0.91858,      0.9187,     0.91882,     0.91894,     0.91906,     0.91918,      0.9193,     0.91942,     0.91954,     0.91966,     0.91978,      0.9199,     0.92002,     0.92014,     0.92026,     0.92038,      0.9205,     0.92062,\n",
       "            0.92074,     0.92086,     0.92098,      0.9211,     0.92122,     0.92134,     0.92146,     0.92158,      0.9217,     0.92182,     0.92194,     0.92206,     0.92218,      0.9223,     0.92242,     0.92254,     0.92266,     0.92278,      0.9229,     0.92302,     0.92314,     0.92326,     0.92338,\n",
       "             0.9235,     0.92362,     0.92374,     0.92386,     0.92398,      0.9241,     0.92422,     0.92434,     0.92446,     0.92458,      0.9247,     0.92482,     0.92494,     0.92506,     0.92518,      0.9253,     0.92542,     0.92554,     0.92566,     0.92578,      0.9259,     0.92602,     0.92614,\n",
       "            0.92626,     0.92638,      0.9265,     0.92662,     0.92674,     0.92686,     0.92698,      0.9271,     0.92722,     0.92734,     0.92746,     0.92758,      0.9277,     0.92782,     0.92794,     0.92806,     0.92818,      0.9283,     0.92842,     0.92854,     0.92866,     0.92878,      0.9289,\n",
       "            0.92902,     0.92914,     0.92926,     0.92938,      0.9295,     0.92962,     0.92974,     0.92986,     0.92998,      0.9301,     0.93022,     0.93034,     0.93046,     0.93058,     0.93071,     0.93083,     0.93095,     0.93107,     0.93119,     0.93131,     0.93143,     0.93155,     0.93167,\n",
       "            0.93179,     0.93191,     0.93203,     0.93215,     0.93227,     0.93239,     0.93251,     0.93263,     0.93275,     0.93287,     0.93299,     0.93311,     0.93323,     0.93335,     0.93347,     0.93359,     0.93371,     0.93383,     0.93395,     0.93407,     0.93419,     0.93431,     0.93443,\n",
       "            0.93455,     0.93467,     0.93479,     0.93491,     0.93503,     0.93515,     0.93527,     0.93539,     0.93551,     0.93563,     0.93575,     0.93587,     0.93599,     0.93611,     0.93616,     0.93612,     0.93609,     0.93606,     0.93603,       0.936,     0.93597,     0.93594,     0.93591,\n",
       "            0.93588,     0.93585,     0.93582,     0.93578,     0.93575,     0.93572,     0.93569,     0.93566,     0.93563,      0.9356,     0.93557,     0.93554,     0.93551,     0.93548,     0.93544,     0.93541,     0.93538,     0.93535,     0.93532,     0.93529,     0.93526,     0.93523,      0.9352,\n",
       "            0.93517,     0.93513,      0.9351,     0.93507,     0.93504,     0.93501,     0.93498,     0.93495,     0.93492,     0.93489,     0.93486,     0.93483,     0.93479,     0.93418,     0.93135,     0.92949,     0.92853,     0.92832,     0.92811,      0.9279,     0.92769,     0.92748,     0.92727,\n",
       "            0.92706,     0.92685,     0.92671,     0.92658,     0.92645,     0.92633,      0.9262,     0.92607,     0.92594,     0.92581,     0.92568,     0.92555,     0.92542,     0.92529,     0.92516,     0.92503,     0.92492,      0.9248,     0.92469,     0.92458,     0.92446,     0.92435,     0.92424,\n",
       "            0.92413,     0.92401,      0.9239,     0.92379,     0.92368,     0.92356,     0.92345,     0.92334,     0.92323,     0.92311,     0.92098,     0.92062,     0.92025,     0.91989,     0.91952,     0.91916,     0.91866,     0.91789,     0.91712,     0.91626,     0.91529,     0.91431,     0.92094,\n",
       "            0.93938,     0.93873,     0.93809,      0.9374,     0.93637,     0.94472,     0.96636,     0.96589,     0.96533,     0.96449,     0.96388,     0.96333,     0.97494,           1,           1,           1,           1,           1,           1,           1,           1,           1,           1,\n",
       "                  1,           1,           1,           1,           1,           1,           1,           1,           1,           1,           1,           1,           1,           1,           1,           1,           1,           1,           1,           1,           1,           1,           1,\n",
       "                  1,           1,           1,           1,           1,           1,           1,           1,           1,           1,           1,           1,           1,           1,           1,           1,           1,           1,           1,           1,           1,           1,           1,\n",
       "                  1,           1,           1,           1,           1,           1,           1,           1,           1,           1,           1]]), 'Confidence', 'Precision'], [array([          0,    0.001001,    0.002002,    0.003003,    0.004004,    0.005005,    0.006006,    0.007007,    0.008008,    0.009009,     0.01001,    0.011011,    0.012012,    0.013013,    0.014014,    0.015015,    0.016016,    0.017017,    0.018018,    0.019019,     0.02002,    0.021021,    0.022022,    0.023023,\n",
       "          0.024024,    0.025025,    0.026026,    0.027027,    0.028028,    0.029029,     0.03003,    0.031031,    0.032032,    0.033033,    0.034034,    0.035035,    0.036036,    0.037037,    0.038038,    0.039039,     0.04004,    0.041041,    0.042042,    0.043043,    0.044044,    0.045045,    0.046046,    0.047047,\n",
       "          0.048048,    0.049049,     0.05005,    0.051051,    0.052052,    0.053053,    0.054054,    0.055055,    0.056056,    0.057057,    0.058058,    0.059059,     0.06006,    0.061061,    0.062062,    0.063063,    0.064064,    0.065065,    0.066066,    0.067067,    0.068068,    0.069069,     0.07007,    0.071071,\n",
       "          0.072072,    0.073073,    0.074074,    0.075075,    0.076076,    0.077077,    0.078078,    0.079079,     0.08008,    0.081081,    0.082082,    0.083083,    0.084084,    0.085085,    0.086086,    0.087087,    0.088088,    0.089089,     0.09009,    0.091091,    0.092092,    0.093093,    0.094094,    0.095095,\n",
       "          0.096096,    0.097097,    0.098098,    0.099099,      0.1001,      0.1011,      0.1021,      0.1031,      0.1041,     0.10511,     0.10611,     0.10711,     0.10811,     0.10911,     0.11011,     0.11111,     0.11211,     0.11311,     0.11411,     0.11512,     0.11612,     0.11712,     0.11812,     0.11912,\n",
       "           0.12012,     0.12112,     0.12212,     0.12312,     0.12412,     0.12513,     0.12613,     0.12713,     0.12813,     0.12913,     0.13013,     0.13113,     0.13213,     0.13313,     0.13413,     0.13514,     0.13614,     0.13714,     0.13814,     0.13914,     0.14014,     0.14114,     0.14214,     0.14314,\n",
       "           0.14414,     0.14515,     0.14615,     0.14715,     0.14815,     0.14915,     0.15015,     0.15115,     0.15215,     0.15315,     0.15415,     0.15516,     0.15616,     0.15716,     0.15816,     0.15916,     0.16016,     0.16116,     0.16216,     0.16316,     0.16416,     0.16517,     0.16617,     0.16717,\n",
       "           0.16817,     0.16917,     0.17017,     0.17117,     0.17217,     0.17317,     0.17417,     0.17518,     0.17618,     0.17718,     0.17818,     0.17918,     0.18018,     0.18118,     0.18218,     0.18318,     0.18418,     0.18519,     0.18619,     0.18719,     0.18819,     0.18919,     0.19019,     0.19119,\n",
       "           0.19219,     0.19319,     0.19419,      0.1952,      0.1962,      0.1972,      0.1982,      0.1992,      0.2002,      0.2012,      0.2022,      0.2032,      0.2042,     0.20521,     0.20621,     0.20721,     0.20821,     0.20921,     0.21021,     0.21121,     0.21221,     0.21321,     0.21421,     0.21522,\n",
       "           0.21622,     0.21722,     0.21822,     0.21922,     0.22022,     0.22122,     0.22222,     0.22322,     0.22422,     0.22523,     0.22623,     0.22723,     0.22823,     0.22923,     0.23023,     0.23123,     0.23223,     0.23323,     0.23423,     0.23524,     0.23624,     0.23724,     0.23824,     0.23924,\n",
       "           0.24024,     0.24124,     0.24224,     0.24324,     0.24424,     0.24525,     0.24625,     0.24725,     0.24825,     0.24925,     0.25025,     0.25125,     0.25225,     0.25325,     0.25425,     0.25526,     0.25626,     0.25726,     0.25826,     0.25926,     0.26026,     0.26126,     0.26226,     0.26326,\n",
       "           0.26426,     0.26527,     0.26627,     0.26727,     0.26827,     0.26927,     0.27027,     0.27127,     0.27227,     0.27327,     0.27427,     0.27528,     0.27628,     0.27728,     0.27828,     0.27928,     0.28028,     0.28128,     0.28228,     0.28328,     0.28428,     0.28529,     0.28629,     0.28729,\n",
       "           0.28829,     0.28929,     0.29029,     0.29129,     0.29229,     0.29329,     0.29429,      0.2953,      0.2963,      0.2973,      0.2983,      0.2993,      0.3003,      0.3013,      0.3023,      0.3033,      0.3043,     0.30531,     0.30631,     0.30731,     0.30831,     0.30931,     0.31031,     0.31131,\n",
       "           0.31231,     0.31331,     0.31431,     0.31532,     0.31632,     0.31732,     0.31832,     0.31932,     0.32032,     0.32132,     0.32232,     0.32332,     0.32432,     0.32533,     0.32633,     0.32733,     0.32833,     0.32933,     0.33033,     0.33133,     0.33233,     0.33333,     0.33433,     0.33534,\n",
       "           0.33634,     0.33734,     0.33834,     0.33934,     0.34034,     0.34134,     0.34234,     0.34334,     0.34434,     0.34535,     0.34635,     0.34735,     0.34835,     0.34935,     0.35035,     0.35135,     0.35235,     0.35335,     0.35435,     0.35536,     0.35636,     0.35736,     0.35836,     0.35936,\n",
       "           0.36036,     0.36136,     0.36236,     0.36336,     0.36436,     0.36537,     0.36637,     0.36737,     0.36837,     0.36937,     0.37037,     0.37137,     0.37237,     0.37337,     0.37437,     0.37538,     0.37638,     0.37738,     0.37838,     0.37938,     0.38038,     0.38138,     0.38238,     0.38338,\n",
       "           0.38438,     0.38539,     0.38639,     0.38739,     0.38839,     0.38939,     0.39039,     0.39139,     0.39239,     0.39339,     0.39439,      0.3954,      0.3964,      0.3974,      0.3984,      0.3994,      0.4004,      0.4014,      0.4024,      0.4034,      0.4044,     0.40541,     0.40641,     0.40741,\n",
       "           0.40841,     0.40941,     0.41041,     0.41141,     0.41241,     0.41341,     0.41441,     0.41542,     0.41642,     0.41742,     0.41842,     0.41942,     0.42042,     0.42142,     0.42242,     0.42342,     0.42442,     0.42543,     0.42643,     0.42743,     0.42843,     0.42943,     0.43043,     0.43143,\n",
       "           0.43243,     0.43343,     0.43443,     0.43544,     0.43644,     0.43744,     0.43844,     0.43944,     0.44044,     0.44144,     0.44244,     0.44344,     0.44444,     0.44545,     0.44645,     0.44745,     0.44845,     0.44945,     0.45045,     0.45145,     0.45245,     0.45345,     0.45445,     0.45546,\n",
       "           0.45646,     0.45746,     0.45846,     0.45946,     0.46046,     0.46146,     0.46246,     0.46346,     0.46446,     0.46547,     0.46647,     0.46747,     0.46847,     0.46947,     0.47047,     0.47147,     0.47247,     0.47347,     0.47447,     0.47548,     0.47648,     0.47748,     0.47848,     0.47948,\n",
       "           0.48048,     0.48148,     0.48248,     0.48348,     0.48448,     0.48549,     0.48649,     0.48749,     0.48849,     0.48949,     0.49049,     0.49149,     0.49249,     0.49349,     0.49449,      0.4955,      0.4965,      0.4975,      0.4985,      0.4995,      0.5005,      0.5015,      0.5025,      0.5035,\n",
       "            0.5045,     0.50551,     0.50651,     0.50751,     0.50851,     0.50951,     0.51051,     0.51151,     0.51251,     0.51351,     0.51451,     0.51552,     0.51652,     0.51752,     0.51852,     0.51952,     0.52052,     0.52152,     0.52252,     0.52352,     0.52452,     0.52553,     0.52653,     0.52753,\n",
       "           0.52853,     0.52953,     0.53053,     0.53153,     0.53253,     0.53353,     0.53453,     0.53554,     0.53654,     0.53754,     0.53854,     0.53954,     0.54054,     0.54154,     0.54254,     0.54354,     0.54454,     0.54555,     0.54655,     0.54755,     0.54855,     0.54955,     0.55055,     0.55155,\n",
       "           0.55255,     0.55355,     0.55455,     0.55556,     0.55656,     0.55756,     0.55856,     0.55956,     0.56056,     0.56156,     0.56256,     0.56356,     0.56456,     0.56557,     0.56657,     0.56757,     0.56857,     0.56957,     0.57057,     0.57157,     0.57257,     0.57357,     0.57457,     0.57558,\n",
       "           0.57658,     0.57758,     0.57858,     0.57958,     0.58058,     0.58158,     0.58258,     0.58358,     0.58458,     0.58559,     0.58659,     0.58759,     0.58859,     0.58959,     0.59059,     0.59159,     0.59259,     0.59359,     0.59459,      0.5956,      0.5966,      0.5976,      0.5986,      0.5996,\n",
       "            0.6006,      0.6016,      0.6026,      0.6036,      0.6046,     0.60561,     0.60661,     0.60761,     0.60861,     0.60961,     0.61061,     0.61161,     0.61261,     0.61361,     0.61461,     0.61562,     0.61662,     0.61762,     0.61862,     0.61962,     0.62062,     0.62162,     0.62262,     0.62362,\n",
       "           0.62462,     0.62563,     0.62663,     0.62763,     0.62863,     0.62963,     0.63063,     0.63163,     0.63263,     0.63363,     0.63463,     0.63564,     0.63664,     0.63764,     0.63864,     0.63964,     0.64064,     0.64164,     0.64264,     0.64364,     0.64464,     0.64565,     0.64665,     0.64765,\n",
       "           0.64865,     0.64965,     0.65065,     0.65165,     0.65265,     0.65365,     0.65465,     0.65566,     0.65666,     0.65766,     0.65866,     0.65966,     0.66066,     0.66166,     0.66266,     0.66366,     0.66466,     0.66567,     0.66667,     0.66767,     0.66867,     0.66967,     0.67067,     0.67167,\n",
       "           0.67267,     0.67367,     0.67467,     0.67568,     0.67668,     0.67768,     0.67868,     0.67968,     0.68068,     0.68168,     0.68268,     0.68368,     0.68468,     0.68569,     0.68669,     0.68769,     0.68869,     0.68969,     0.69069,     0.69169,     0.69269,     0.69369,     0.69469,      0.6957,\n",
       "            0.6967,      0.6977,      0.6987,      0.6997,      0.7007,      0.7017,      0.7027,      0.7037,      0.7047,     0.70571,     0.70671,     0.70771,     0.70871,     0.70971,     0.71071,     0.71171,     0.71271,     0.71371,     0.71471,     0.71572,     0.71672,     0.71772,     0.71872,     0.71972,\n",
       "           0.72072,     0.72172,     0.72272,     0.72372,     0.72472,     0.72573,     0.72673,     0.72773,     0.72873,     0.72973,     0.73073,     0.73173,     0.73273,     0.73373,     0.73473,     0.73574,     0.73674,     0.73774,     0.73874,     0.73974,     0.74074,     0.74174,     0.74274,     0.74374,\n",
       "           0.74474,     0.74575,     0.74675,     0.74775,     0.74875,     0.74975,     0.75075,     0.75175,     0.75275,     0.75375,     0.75475,     0.75576,     0.75676,     0.75776,     0.75876,     0.75976,     0.76076,     0.76176,     0.76276,     0.76376,     0.76476,     0.76577,     0.76677,     0.76777,\n",
       "           0.76877,     0.76977,     0.77077,     0.77177,     0.77277,     0.77377,     0.77477,     0.77578,     0.77678,     0.77778,     0.77878,     0.77978,     0.78078,     0.78178,     0.78278,     0.78378,     0.78478,     0.78579,     0.78679,     0.78779,     0.78879,     0.78979,     0.79079,     0.79179,\n",
       "           0.79279,     0.79379,     0.79479,      0.7958,      0.7968,      0.7978,      0.7988,      0.7998,      0.8008,      0.8018,      0.8028,      0.8038,      0.8048,     0.80581,     0.80681,     0.80781,     0.80881,     0.80981,     0.81081,     0.81181,     0.81281,     0.81381,     0.81481,     0.81582,\n",
       "           0.81682,     0.81782,     0.81882,     0.81982,     0.82082,     0.82182,     0.82282,     0.82382,     0.82482,     0.82583,     0.82683,     0.82783,     0.82883,     0.82983,     0.83083,     0.83183,     0.83283,     0.83383,     0.83483,     0.83584,     0.83684,     0.83784,     0.83884,     0.83984,\n",
       "           0.84084,     0.84184,     0.84284,     0.84384,     0.84484,     0.84585,     0.84685,     0.84785,     0.84885,     0.84985,     0.85085,     0.85185,     0.85285,     0.85385,     0.85485,     0.85586,     0.85686,     0.85786,     0.85886,     0.85986,     0.86086,     0.86186,     0.86286,     0.86386,\n",
       "           0.86486,     0.86587,     0.86687,     0.86787,     0.86887,     0.86987,     0.87087,     0.87187,     0.87287,     0.87387,     0.87487,     0.87588,     0.87688,     0.87788,     0.87888,     0.87988,     0.88088,     0.88188,     0.88288,     0.88388,     0.88488,     0.88589,     0.88689,     0.88789,\n",
       "           0.88889,     0.88989,     0.89089,     0.89189,     0.89289,     0.89389,     0.89489,      0.8959,      0.8969,      0.8979,      0.8989,      0.8999,      0.9009,      0.9019,      0.9029,      0.9039,      0.9049,     0.90591,     0.90691,     0.90791,     0.90891,     0.90991,     0.91091,     0.91191,\n",
       "           0.91291,     0.91391,     0.91491,     0.91592,     0.91692,     0.91792,     0.91892,     0.91992,     0.92092,     0.92192,     0.92292,     0.92392,     0.92492,     0.92593,     0.92693,     0.92793,     0.92893,     0.92993,     0.93093,     0.93193,     0.93293,     0.93393,     0.93493,     0.93594,\n",
       "           0.93694,     0.93794,     0.93894,     0.93994,     0.94094,     0.94194,     0.94294,     0.94394,     0.94494,     0.94595,     0.94695,     0.94795,     0.94895,     0.94995,     0.95095,     0.95195,     0.95295,     0.95395,     0.95495,     0.95596,     0.95696,     0.95796,     0.95896,     0.95996,\n",
       "           0.96096,     0.96196,     0.96296,     0.96396,     0.96496,     0.96597,     0.96697,     0.96797,     0.96897,     0.96997,     0.97097,     0.97197,     0.97297,     0.97397,     0.97497,     0.97598,     0.97698,     0.97798,     0.97898,     0.97998,     0.98098,     0.98198,     0.98298,     0.98398,\n",
       "           0.98498,     0.98599,     0.98699,     0.98799,     0.98899,     0.98999,     0.99099,     0.99199,     0.99299,     0.99399,     0.99499,       0.996,       0.997,       0.998,       0.999,           1]), array([[    0.79688,     0.79688,     0.78125,     0.78125,     0.78125,     0.78125,     0.78125,     0.78125,     0.78125,     0.78125,     0.78125,     0.78125,     0.78125,     0.78125,     0.78125,     0.78125,     0.78125,     0.78125,     0.78125,     0.78125,     0.78125,     0.78125,     0.78125,\n",
       "            0.78125,     0.78125,     0.78125,     0.78125,     0.78125,     0.78125,     0.78125,     0.78125,     0.78125,     0.78125,     0.76562,     0.76562,     0.76562,     0.76562,     0.76562,     0.76562,     0.76562,     0.76562,     0.76562,     0.76562,     0.76562,     0.76562,     0.76562,\n",
       "            0.76562,     0.76562,     0.76562,     0.76562,     0.76562,     0.76562,     0.76562,     0.76562,     0.76562,     0.76562,     0.76562,     0.76562,     0.76562,     0.76562,     0.76562,     0.76562,     0.76562,     0.76562,     0.76562,     0.76562,     0.76562,     0.76049,     0.75337,\n",
       "               0.75,        0.75,        0.75,        0.75,        0.75,        0.75,        0.75,        0.75,        0.75,        0.75,        0.75,        0.75,        0.75,        0.75,        0.75,        0.75,        0.75,        0.75,        0.75,        0.75,        0.75,        0.75,        0.75,\n",
       "               0.75,        0.75,        0.75,        0.75,        0.75,        0.75,        0.75,        0.75,        0.75,        0.75,        0.75,        0.75,        0.75,        0.75,        0.75,     0.74998,     0.74958,     0.74918,     0.74878,     0.74838,     0.74798,     0.74758,     0.74718,\n",
       "            0.74678,     0.74638,     0.74598,     0.74558,     0.74517,     0.74477,     0.74437,     0.74397,     0.74357,     0.74317,     0.74277,     0.74237,     0.74197,     0.74157,     0.74117,     0.74077,     0.74037,     0.73997,     0.73957,     0.73917,     0.73877,     0.73837,     0.73797,\n",
       "            0.73757,     0.73717,     0.73677,     0.73637,     0.73597,     0.73557,     0.73516,     0.73476,     0.73438,     0.73438,     0.73438,     0.73438,     0.73438,     0.73438,     0.73438,     0.73438,     0.73438,     0.73438,     0.73438,     0.73438,     0.73438,     0.73438,     0.73438,\n",
       "            0.72773,     0.72019,     0.71875,     0.71875,     0.71875,     0.71875,     0.71875,     0.71875,     0.71875,     0.71875,     0.71875,     0.71875,     0.71875,     0.71875,     0.71875,     0.71875,     0.71875,     0.71875,     0.71875,     0.71875,     0.71875,     0.71875,     0.71875,\n",
       "            0.71875,     0.71875,     0.71875,     0.71875,     0.71875,     0.71875,     0.71875,     0.71875,     0.71875,     0.71875,     0.71875,     0.71875,     0.71875,     0.71875,     0.71875,     0.71875,     0.71875,     0.71875,     0.71875,     0.71875,     0.71875,     0.71875,     0.71875,\n",
       "            0.71875,     0.71875,     0.71875,     0.71875,     0.71875,     0.71875,     0.71875,     0.71875,     0.71875,     0.71875,     0.71875,     0.71875,     0.71875,     0.71875,     0.71875,     0.71875,     0.71875,     0.71875,     0.71875,     0.71875,     0.71875,     0.71875,     0.71875,\n",
       "            0.71875,     0.71875,     0.71875,     0.71875,     0.71875,     0.71875,     0.71875,     0.71875,     0.71875,     0.71875,     0.71875,     0.71875,     0.71875,     0.71875,     0.71875,     0.71875,     0.71875,     0.71875,     0.71875,     0.71875,     0.71875,     0.71875,     0.71875,\n",
       "            0.71875,     0.71875,     0.71875,     0.71875,     0.71875,     0.71875,     0.71875,     0.71875,     0.71875,     0.71875,     0.71875,     0.71875,     0.71875,     0.71837,     0.71741,     0.71646,      0.7155,     0.71455,     0.71359,     0.71263,     0.71168,     0.71072,     0.70977,\n",
       "            0.70881,     0.70785,      0.7069,     0.70594,     0.70498,     0.70403,     0.70312,     0.70312,     0.70312,     0.70312,     0.70312,     0.70312,     0.70312,     0.70312,     0.70312,     0.70312,     0.70312,     0.70312,     0.70312,     0.70312,     0.70312,     0.70312,     0.70312,\n",
       "            0.70312,     0.70312,     0.70312,     0.70312,     0.70312,     0.70312,     0.70312,     0.70312,     0.70312,     0.70312,     0.70312,     0.70312,     0.70312,     0.70312,     0.70312,     0.70312,     0.70312,     0.70312,     0.70312,     0.70312,     0.70312,     0.70312,     0.70312,\n",
       "            0.70312,     0.70312,     0.70312,     0.70312,     0.70312,     0.70312,     0.70312,     0.70312,     0.70312,     0.70312,     0.70312,     0.70312,     0.70312,     0.70312,     0.70312,     0.70312,     0.70312,     0.70312,     0.70312,     0.70312,     0.70312,     0.70312,     0.70312,\n",
       "            0.70312,     0.70312,     0.70312,     0.70312,     0.70312,     0.70312,     0.70312,     0.70312,     0.70312,     0.70312,     0.70312,     0.70312,     0.70312,     0.70312,     0.70312,     0.70312,     0.70312,     0.70312,     0.70312,     0.70312,     0.70312,     0.70312,     0.70312,\n",
       "            0.70312,     0.70312,     0.70312,     0.70312,     0.70312,     0.70312,     0.70312,     0.70312,     0.70312,     0.70312,     0.70312,     0.70312,     0.70312,     0.70312,     0.70312,     0.70312,     0.70312,     0.70312,     0.70312,     0.70312,     0.70312,     0.70312,     0.70312,\n",
       "            0.70312,     0.70312,     0.70312,     0.70312,     0.70312,     0.70312,     0.70312,     0.70312,     0.70312,     0.70312,     0.70312,     0.70312,     0.70312,     0.70312,     0.70312,     0.70312,     0.70312,     0.70312,     0.70312,     0.70312,     0.70312,     0.70312,     0.70312,\n",
       "            0.70312,     0.70312,     0.70312,     0.70312,     0.70312,     0.70312,     0.70312,     0.70312,     0.70312,     0.70312,     0.70312,     0.70312,     0.70312,     0.70312,     0.70312,     0.70312,     0.70312,     0.70312,     0.70312,     0.70312,     0.70312,     0.70312,     0.70312,\n",
       "            0.70312,     0.70312,     0.70312,     0.70312,     0.70312,     0.70312,     0.70312,     0.70312,     0.70312,     0.70312,     0.70312,     0.70312,     0.70312,     0.70312,     0.70312,     0.70312,     0.70312,     0.70312,     0.70312,     0.70312,     0.70312,     0.70312,     0.70312,\n",
       "            0.70312,     0.70312,     0.70312,     0.70312,     0.70312,     0.70312,     0.70276,     0.70218,     0.70161,     0.70104,     0.70047,      0.6999,     0.69932,     0.69875,     0.69818,     0.69761,     0.69704,     0.69646,     0.69589,     0.69532,     0.69475,     0.69418,      0.6936,\n",
       "            0.69303,     0.69246,     0.69189,     0.69132,     0.69074,     0.69017,      0.6896,     0.68903,     0.68846,     0.68788,      0.6875,      0.6875,      0.6875,      0.6875,      0.6875,      0.6875,      0.6875,      0.6875,      0.6875,      0.6875,      0.6875,      0.6875,      0.6875,\n",
       "             0.6875,      0.6875,      0.6875,      0.6875,      0.6875,      0.6875,      0.6875,      0.6875,      0.6875,      0.6875,      0.6875,      0.6875,      0.6875,      0.6875,      0.6875,      0.6875,      0.6875,      0.6875,      0.6875,      0.6875,      0.6875,      0.6875,      0.6875,\n",
       "             0.6875,      0.6875,      0.6875,      0.6875,      0.6875,      0.6875,      0.6875,      0.6875,      0.6875,      0.6875,      0.6875,      0.6875,      0.6875,      0.6875,      0.6875,      0.6875,      0.6875,      0.6875,      0.6875,      0.6875,      0.6875,      0.6875,      0.6875,\n",
       "             0.6875,      0.6875,      0.6875,      0.6875,      0.6875,      0.6875,      0.6875,      0.6875,      0.6875,      0.6875,      0.6875,      0.6875,      0.6875,      0.6875,      0.6875,      0.6875,      0.6875,      0.6875,      0.6875,      0.6875,      0.6875,      0.6875,      0.6875,\n",
       "             0.6875,      0.6875,      0.6875,      0.6875,      0.6875,      0.6875,      0.6875,      0.6875,      0.6875,      0.6875,      0.6875,      0.6875,      0.6875,      0.6875,      0.6875,      0.6875,      0.6875,      0.6875,      0.6875,      0.6875,      0.6875,      0.6875,      0.6875,\n",
       "             0.6875,      0.6875,      0.6875,      0.6875,      0.6875,      0.6875,      0.6875,      0.6875,      0.6875,      0.6875,      0.6875,      0.6875,      0.6875,      0.6875,      0.6875,      0.6875,      0.6875,      0.6875,      0.6875,      0.6875,      0.6875,      0.6875,      0.6875,\n",
       "             0.6875,      0.6875,      0.6875,      0.6875,      0.6875,      0.6875,      0.6875,      0.6875,      0.6875,      0.6875,      0.6875,      0.6875,      0.6875,      0.6875,      0.6875,      0.6875,      0.6875,      0.6875,      0.6875,      0.6875,      0.6875,      0.6875,      0.6875,\n",
       "             0.6875,      0.6875,      0.6875,      0.6875,      0.6875,      0.6875,      0.6875,      0.6875,      0.6875,      0.6875,      0.6875,      0.6875,      0.6875,      0.6875,      0.6875,      0.6875,      0.6875,      0.6875,      0.6875,      0.6875,      0.6875,      0.6875,      0.6875,\n",
       "             0.6875,      0.6875,      0.6875,      0.6875,      0.6875,      0.6875,      0.6875,      0.6875,      0.6875,      0.6875,      0.6875,      0.6875,      0.6875,      0.6875,      0.6875,      0.6875,      0.6875,      0.6875,      0.6875,      0.6875,      0.6875,      0.6875,      0.6875,\n",
       "             0.6875,      0.6875,      0.6875,      0.6875,      0.6875,      0.6875,      0.6875,      0.6875,      0.6875,      0.6875,      0.6875,      0.6875,      0.6875,      0.6875,      0.6875,      0.6875,      0.6875,      0.6875,      0.6875,      0.6875,      0.6875,      0.6875,      0.6875,\n",
       "             0.6875,      0.6875,      0.6875,      0.6875,      0.6875,      0.6875,      0.6875,      0.6875,      0.6875,      0.6875,      0.6875,      0.6875,      0.6875,      0.6875,      0.6875,      0.6875,      0.6875,      0.6875,      0.6875,      0.6875,      0.6875,      0.6875,      0.6875,\n",
       "             0.6875,      0.6875,      0.6875,      0.6875,      0.6875,      0.6875,      0.6875,      0.6875,      0.6875,      0.6875,      0.6875,      0.6875,      0.6875,      0.6875,      0.6875,      0.6875,      0.6875,      0.6875,      0.6875,      0.6875,      0.6875,      0.6875,      0.6875,\n",
       "             0.6875,      0.6875,      0.6875,      0.6875,      0.6875,      0.6875,      0.6875,      0.6875,      0.6875,      0.6875,      0.6875,      0.6875,      0.6875,      0.6875,      0.6875,      0.6875,      0.6875,      0.6875,      0.6875,      0.6875,      0.6875,      0.6875,      0.6875,\n",
       "             0.6875,      0.6875,      0.6875,      0.6875,      0.6875,      0.6875,      0.6875,      0.6875,      0.6875,      0.6875,      0.6875,      0.6875,      0.6875,      0.6875,      0.6875,      0.6875,      0.6875,      0.6875,      0.6875,      0.6875,      0.6875,      0.6875,      0.6875,\n",
       "             0.6875,      0.6875,      0.6875,      0.6875,      0.6875,      0.6875,      0.6875,      0.6875,      0.6875,      0.6875,      0.6875,      0.6875,      0.6875,      0.6875,     0.68733,     0.68698,     0.68664,     0.68629,     0.68594,     0.68559,     0.68524,     0.68489,     0.68455,\n",
       "             0.6842,     0.68385,      0.6835,     0.68315,     0.68281,     0.68246,     0.68211,     0.68176,     0.68141,     0.68106,     0.68072,     0.68037,     0.68002,     0.67967,     0.67932,     0.67898,     0.67863,     0.67828,     0.67793,     0.67758,     0.67723,     0.67689,     0.67654,\n",
       "            0.67619,     0.67584,     0.67549,     0.67515,      0.6748,     0.67445,      0.6741,     0.67375,      0.6734,     0.67306,     0.67271,     0.67236,     0.67201,      0.6654,     0.63604,       0.618,     0.60901,     0.60713,     0.60524,     0.60336,     0.60148,     0.59959,     0.59771,\n",
       "            0.59582,     0.59394,     0.59276,     0.59165,     0.59055,     0.58944,     0.58834,     0.58723,     0.58613,     0.58502,     0.58392,     0.58282,     0.58171,     0.58061,      0.5795,      0.5784,     0.57744,     0.57652,     0.57561,     0.57469,     0.57377,     0.57286,     0.57194,\n",
       "            0.57103,     0.57011,      0.5692,     0.56828,     0.56737,     0.56645,     0.56554,     0.56462,     0.56371,     0.56279,     0.54636,     0.54369,     0.54102,     0.53835,     0.53568,     0.53301,     0.52944,      0.5241,     0.51876,     0.51298,     0.50658,     0.50017,     0.48438,\n",
       "            0.48426,     0.47892,     0.47358,     0.46798,     0.45998,     0.45312,     0.44892,     0.44251,     0.43517,      0.4245,     0.41704,     0.41064,     0.40625,     0.40444,      0.3991,     0.39376,     0.38732,     0.37931,      0.3676,     0.34115,     0.33581,     0.33048,     0.31916,\n",
       "            0.30983,     0.30525,     0.30068,     0.29145,     0.26407,     0.25606,     0.24611,     0.23342,     0.22987,     0.22631,     0.22275,     0.21919,      0.2047,     0.20106,     0.19877,     0.19649,      0.1942,     0.19191,     0.18962,     0.18711,     0.18178,     0.17644,     0.15159,\n",
       "            0.13799,     0.13399,     0.12998,     0.12598,     0.12373,     0.12204,     0.12035,     0.11867,     0.11698,      0.1153,     0.11361,     0.11193,     0.11024,    0.093766,    0.083078,    0.072401,    0.046738,    0.044854,    0.042969,    0.041085,    0.039201,    0.037317,    0.035432,\n",
       "           0.033548,    0.031664,           0,           0,           0,           0,           0,           0,           0,           0,           0]]), 'Confidence', 'Recall']]\n",
       "fitness: 1.073195656348564\n",
       "keys: ['metrics/precision(B)', 'metrics/recall(B)', 'metrics/mAP50(B)', 'metrics/mAP50-95(B)', 'metrics/precision(M)', 'metrics/recall(M)', 'metrics/mAP50(M)', 'metrics/mAP50-95(M)']\n",
       "maps: array([     1.0131])\n",
       "names: {0: 'Series'}\n",
       "plot: True\n",
       "results_dict: {'metrics/precision(B)': 0.9421709139438956, 'metrics/recall(B)': 0.828125, 'metrics/mAP50(B)': 0.8728593199820597, 'metrics/mAP50-95(B)': 0.5200586394442797, 'metrics/precision(M)': 0.9319057412789443, 'metrics/recall(M)': 0.6875, 'metrics/mAP50(M)': 0.7408583507768914, 'metrics/mAP50-95(M)': 0.4930790153031304, 'fitness': 1.073195656348564}\n",
       "save_dir: PosixPath('runs/segment/train4')\n",
       "seg: ultralytics.utils.metrics.Metric object\n",
       "speed: {'preprocess': 0.3220427999963249, 'inference': 5.189105299996299, 'loss': 0.0005480000027091592, 'postprocess': 0.6094446000020071}\n",
       "task: 'segment'"
      ]
     },
     "execution_count": 6,
     "metadata": {},
     "output_type": "execute_result"
    }
   ],
   "source": [
    "model.train(\n",
    "    data = \"./segmentation.yaml\",\n",
    "    epochs = 20, \n",
    "    batch = 5,\n",
    "    imgsz = 640,\n",
    "    workers = 2\n",
    ")"
   ]
  },
  {
   "cell_type": "code",
   "execution_count": 15,
   "metadata": {},
   "outputs": [],
   "source": [
    "import cv2\n",
    "import matplotlib.pyplot as plt"
   ]
  },
  {
   "cell_type": "code",
   "execution_count": null,
   "metadata": {},
   "outputs": [],
   "source": []
  },
  {
   "cell_type": "code",
   "execution_count": 33,
   "metadata": {},
   "outputs": [
    {
     "name": "stdout",
     "output_type": "stream",
     "text": [
      "\n",
      "image 1/1 /media/vietz/Data5/FPT/2025/SPRING/DPL302m/ASSIGNMENTS_AND_EXAMS/PROJECTS/ChartInsight/model/segmentation/../../assets/dataset/test1/piedata(1008)/pie/images/val2019/fa266c2d49db01fdb7ce6ea711764300_d3d3Lmdvdi5zY290CTEzNC4xOS4xNjEuMjQ5-37-0.png: 352x640 1 Series, 11.9ms\n",
      "Speed: 8.6ms preprocess, 11.9ms inference, 1.8ms postprocess per image at shape (1, 3, 352, 640)\n"
     ]
    },
    {
     "data": {
      "text/plain": [
       "ultralytics.engine.results.Results object with attributes:\n",
       "\n",
       "boxes: ultralytics.engine.results.Boxes object\n",
       "keypoints: None\n",
       "masks: ultralytics.engine.results.Masks object\n",
       "names: {0: 'Series'}\n",
       "obb: None\n",
       "orig_img: array([[[  0,   0,   0],\n",
       "        [  0,   0,   0],\n",
       "        [  0,   0,   0],\n",
       "        ...,\n",
       "        [  0,   0,   0],\n",
       "        [  0,   0,   0],\n",
       "        [  0,   0,   0]],\n",
       "\n",
       "       [[  0,   0,   0],\n",
       "        [255, 255, 255],\n",
       "        [255, 255, 255],\n",
       "        ...,\n",
       "        [255, 255, 255],\n",
       "        [255, 255, 255],\n",
       "        [  0,   0,   0]],\n",
       "\n",
       "       [[  0,   0,   0],\n",
       "        [255, 255, 255],\n",
       "        [255, 255, 255],\n",
       "        ...,\n",
       "        [255, 255, 255],\n",
       "        [255, 255, 255],\n",
       "        [  0,   0,   0]],\n",
       "\n",
       "       ...,\n",
       "\n",
       "       [[  0,   0,   0],\n",
       "        [255, 255, 255],\n",
       "        [255, 255, 255],\n",
       "        ...,\n",
       "        [255, 255, 255],\n",
       "        [255, 255, 255],\n",
       "        [  0,   0,   0]],\n",
       "\n",
       "       [[  0,   0,   0],\n",
       "        [255, 255, 255],\n",
       "        [255, 255, 255],\n",
       "        ...,\n",
       "        [255, 255, 255],\n",
       "        [255, 255, 255],\n",
       "        [  0,   0,   0]],\n",
       "\n",
       "       [[  0,   0,   0],\n",
       "        [  0,   0,   0],\n",
       "        [  0,   0,   0],\n",
       "        ...,\n",
       "        [  0,   0,   0],\n",
       "        [  0,   0,   0],\n",
       "        [  0,   0,   0]]], dtype=uint8)\n",
       "orig_shape: (209, 417)\n",
       "path: '/media/vietz/Data5/FPT/2025/SPRING/DPL302m/ASSIGNMENTS_AND_EXAMS/PROJECTS/ChartInsight/model/segmentation/../../assets/dataset/test1/piedata(1008)/pie/images/val2019/fa266c2d49db01fdb7ce6ea711764300_d3d3Lmdvdi5zY290CTEzNC4xOS4xNjEuMjQ5-37-0.png'\n",
       "probs: None\n",
       "save_dir: 'runs/segment/train42'\n",
       "speed: {'preprocess': 8.597741999892605, 'inference': 11.861835999752657, 'postprocess': 1.754426999923453}"
      ]
     },
     "execution_count": 33,
     "metadata": {},
     "output_type": "execute_result"
    }
   ],
   "source": [
    "img_path = \"../../assets/dataset/test1/piedata(1008)/pie/images/val2019/fa266c2d49db01fdb7ce6ea711764300_d3d3Lmdvdi5zY290CTEzNC4xOS4xNjEuMjQ5-37-0.png\"\n",
    "\n",
    "preds = model.predict(img_path)[0]\n",
    "preds"
   ]
  },
  {
   "cell_type": "code",
   "execution_count": null,
   "metadata": {},
   "outputs": [
    {
     "data": {
      "text/plain": [
       "'output.png'"
      ]
     },
     "execution_count": 34,
     "metadata": {},
     "output_type": "execute_result"
    }
   ],
   "source": [
    "preds.save(\"output.png\")"
   ]
  },
  {
   "cell_type": "code",
   "execution_count": 37,
   "metadata": {},
   "outputs": [
    {
     "data": {
      "text/plain": [
       "ultralytics.engine.results.Boxes object with attributes:\n",
       "\n",
       "cls: tensor([0.], device='cuda:0')\n",
       "conf: tensor([0.9925], device='cuda:0')\n",
       "data: tensor([[128.1873,  36.5780, 203.4668, 116.0669,   0.9925,   0.0000]], device='cuda:0')\n",
       "id: None\n",
       "is_track: False\n",
       "orig_shape: (209, 417)\n",
       "shape: torch.Size([1, 6])\n",
       "xywh: tensor([[165.8271,  76.3224,  75.2795,  79.4890]], device='cuda:0')\n",
       "xywhn: tensor([[0.3977, 0.3652, 0.1805, 0.3803]], device='cuda:0')\n",
       "xyxy: tensor([[128.1873,  36.5780, 203.4668, 116.0669]], device='cuda:0')\n",
       "xyxyn: tensor([[0.3074, 0.1750, 0.4879, 0.5553]], device='cuda:0')"
      ]
     },
     "execution_count": 37,
     "metadata": {},
     "output_type": "execute_result"
    }
   ],
   "source": [
    "preds.boxes"
   ]
  },
  {
   "cell_type": "code",
   "execution_count": 38,
   "metadata": {},
   "outputs": [
    {
     "data": {
      "text/plain": [
       "ultralytics.engine.results.Masks object with attributes:\n",
       "\n",
       "data: tensor([[[0., 0., 0.,  ..., 0., 0., 0.],\n",
       "         [0., 0., 0.,  ..., 0., 0., 0.],\n",
       "         [0., 0., 0.,  ..., 0., 0., 0.],\n",
       "         ...,\n",
       "         [0., 0., 0.,  ..., 0., 0., 0.],\n",
       "         [0., 0., 0.,  ..., 0., 0., 0.],\n",
       "         [0., 0., 0.,  ..., 0., 0., 0.]]], device='cuda:0')\n",
       "orig_shape: (209, 417)\n",
       "shape: torch.Size([1, 352, 640])\n",
       "xy: [array([[     197.42,      38.041],\n",
       "       [     197.42,      40.647],\n",
       "       [     196.12,       41.95],\n",
       "       [     196.12,      42.602],\n",
       "       [     195.47,      43.253],\n",
       "       [     195.47,      43.905],\n",
       "       [     193.51,      45.859],\n",
       "       [     192.86,      45.859],\n",
       "       [     192.21,      46.511],\n",
       "       [     191.56,      46.511],\n",
       "       [     190.26,      47.814],\n",
       "       [      189.6,      47.814],\n",
       "       [      188.3,      49.117],\n",
       "       [     187.65,      49.117],\n",
       "       [     186.35,       50.42],\n",
       "       [      185.7,       50.42],\n",
       "       [      185.7,      51.072],\n",
       "       [     183.09,      53.678],\n",
       "       [     182.44,      53.678],\n",
       "       [     181.13,      54.981],\n",
       "       [     180.48,      54.981],\n",
       "       [     179.18,      56.284],\n",
       "       [     178.53,      56.284],\n",
       "       [     177.88,      56.936],\n",
       "       [     175.92,      56.936],\n",
       "       [     175.27,      57.587],\n",
       "       [     174.62,      57.587],\n",
       "       [     173.97,      58.239],\n",
       "       [     172.66,      58.239],\n",
       "       [     172.01,      58.891],\n",
       "       [     170.71,      58.891],\n",
       "       [     170.71,      59.542],\n",
       "       [     169.41,      60.845],\n",
       "       [     169.41,      61.497],\n",
       "       [     168.75,      62.148],\n",
       "       [     168.75,        62.8],\n",
       "       [     166.15,      65.406],\n",
       "       [      165.5,      65.406],\n",
       "       [     164.19,      66.709],\n",
       "       [     163.54,      66.709],\n",
       "       [     162.24,      68.012],\n",
       "       [     161.59,      68.012],\n",
       "       [     160.94,      68.664],\n",
       "       [     160.28,      68.664],\n",
       "       [     158.33,      70.619],\n",
       "       [     158.33,       71.27],\n",
       "       [     157.68,      71.922],\n",
       "       [     157.03,      71.922],\n",
       "       [     156.38,      72.573],\n",
       "       [     155.72,      72.573],\n",
       "       [     155.07,      73.225],\n",
       "       [     154.42,      73.225],\n",
       "       [     151.16,      76.483],\n",
       "       [     150.51,      76.483],\n",
       "       [     149.86,      77.134],\n",
       "       [     149.21,      77.134],\n",
       "       [     147.25,      79.089],\n",
       "       [      146.6,      79.089],\n",
       "       [      145.3,      80.392],\n",
       "       [     144.65,      80.392],\n",
       "       [     141.39,       83.65],\n",
       "       [     140.74,       83.65],\n",
       "       [     138.78,      85.605],\n",
       "       [     138.13,      85.605],\n",
       "       [     136.18,      87.559],\n",
       "       [     135.53,      87.559],\n",
       "       [     131.62,      91.469],\n",
       "       [     129.01,      91.469],\n",
       "       [     129.01,      95.378],\n",
       "       [     131.62,      95.378],\n",
       "       [     132.27,       96.03],\n",
       "       [     132.92,       96.03],\n",
       "       [     133.57,      96.681],\n",
       "       [     134.22,      96.681],\n",
       "       [     134.87,      97.333],\n",
       "       [     135.53,      97.333],\n",
       "       [     136.18,      97.984],\n",
       "       [     138.78,      97.984],\n",
       "       [     139.43,      98.636],\n",
       "       [     142.69,      98.636],\n",
       "       [     143.34,      99.288],\n",
       "       [     144.65,      99.288],\n",
       "       [      145.3,      99.939],\n",
       "       [     147.25,      99.939],\n",
       "       [      147.9,      100.59],\n",
       "       [     151.81,      100.59],\n",
       "       [     152.47,      101.24],\n",
       "       [     153.77,      101.24],\n",
       "       [     154.42,      101.89],\n",
       "       [     155.07,      101.89],\n",
       "       [     155.72,      102.55],\n",
       "       [     157.03,      102.55],\n",
       "       [     157.68,       103.2],\n",
       "       [     161.59,       103.2],\n",
       "       [     162.24,      103.85],\n",
       "       [     164.19,      103.85],\n",
       "       [     164.85,       104.5],\n",
       "       [      165.5,       104.5],\n",
       "       [     166.15,      105.15],\n",
       "       [      168.1,      105.15],\n",
       "       [     168.75,       105.8],\n",
       "       [     172.01,       105.8],\n",
       "       [     172.66,      106.45],\n",
       "       [     173.97,      106.45],\n",
       "       [     174.62,      107.11],\n",
       "       [     175.27,      107.11],\n",
       "       [     175.92,      107.76],\n",
       "       [     177.23,      107.76],\n",
       "       [     177.88,      108.41],\n",
       "       [     183.74,      108.41],\n",
       "       [     184.39,      109.06],\n",
       "       [      185.7,      109.06],\n",
       "       [     186.35,      109.71],\n",
       "       [        187,      109.71],\n",
       "       [     187.65,      110.36],\n",
       "       [      189.6,      110.36],\n",
       "       [     190.26,      111.02],\n",
       "       [     193.51,      111.02],\n",
       "       [     194.17,      111.67],\n",
       "       [     194.82,      111.67],\n",
       "       [     196.12,      112.97],\n",
       "       [     197.42,      112.97],\n",
       "       [     198.07,      113.62],\n",
       "       [     201.33,      113.62],\n",
       "       [     201.98,      112.97],\n",
       "       [     201.98,      109.06],\n",
       "       [     201.33,      108.41],\n",
       "       [     201.33,      107.76],\n",
       "       [     201.98,      107.11],\n",
       "       [     201.98,      101.24],\n",
       "       [     202.64,      100.59],\n",
       "       [     202.64,      70.619],\n",
       "       [     203.29,      69.967],\n",
       "       [     203.29,      56.936],\n",
       "       [     203.94,      56.284],\n",
       "       [     203.94,      43.253],\n",
       "       [     203.29,      42.602],\n",
       "       [     203.29,      40.647],\n",
       "       [     202.64,      39.995],\n",
       "       [     202.64,      38.041]], dtype=float32)]\n",
       "xyn: [array([[    0.47344,     0.18201],\n",
       "       [    0.47344,     0.19448],\n",
       "       [    0.47031,     0.20072],\n",
       "       [    0.47031,     0.20384],\n",
       "       [    0.46875,     0.20695],\n",
       "       [    0.46875,     0.21007],\n",
       "       [    0.46406,     0.21942],\n",
       "       [     0.4625,     0.21942],\n",
       "       [    0.46094,     0.22254],\n",
       "       [    0.45937,     0.22254],\n",
       "       [    0.45625,     0.22878],\n",
       "       [    0.45469,     0.22878],\n",
       "       [    0.45156,     0.23501],\n",
       "       [       0.45,     0.23501],\n",
       "       [    0.44688,     0.24125],\n",
       "       [    0.44531,     0.24125],\n",
       "       [    0.44531,     0.24436],\n",
       "       [    0.43906,     0.25683],\n",
       "       [     0.4375,     0.25683],\n",
       "       [    0.43438,     0.26307],\n",
       "       [    0.43281,     0.26307],\n",
       "       [    0.42969,      0.2693],\n",
       "       [    0.42812,      0.2693],\n",
       "       [    0.42656,     0.27242],\n",
       "       [    0.42188,     0.27242],\n",
       "       [    0.42031,     0.27554],\n",
       "       [    0.41875,     0.27554],\n",
       "       [    0.41719,     0.27866],\n",
       "       [    0.41406,     0.27866],\n",
       "       [     0.4125,     0.28177],\n",
       "       [    0.40938,     0.28177],\n",
       "       [    0.40938,     0.28489],\n",
       "       [    0.40625,     0.29113],\n",
       "       [    0.40625,     0.29424],\n",
       "       [    0.40469,     0.29736],\n",
       "       [    0.40469,     0.30048],\n",
       "       [    0.39844,     0.31295],\n",
       "       [    0.39687,     0.31295],\n",
       "       [    0.39375,     0.31918],\n",
       "       [    0.39219,     0.31918],\n",
       "       [    0.38906,     0.32542],\n",
       "       [     0.3875,     0.32542],\n",
       "       [    0.38594,     0.32854],\n",
       "       [    0.38438,     0.32854],\n",
       "       [    0.37969,     0.33789],\n",
       "       [    0.37969,     0.34101],\n",
       "       [    0.37813,     0.34412],\n",
       "       [    0.37656,     0.34412],\n",
       "       [      0.375,     0.34724],\n",
       "       [    0.37344,     0.34724],\n",
       "       [    0.37188,     0.35036],\n",
       "       [    0.37031,     0.35036],\n",
       "       [     0.3625,     0.36595],\n",
       "       [    0.36094,     0.36595],\n",
       "       [    0.35938,     0.36906],\n",
       "       [    0.35781,     0.36906],\n",
       "       [    0.35313,     0.37842],\n",
       "       [    0.35156,     0.37842],\n",
       "       [    0.34844,     0.38465],\n",
       "       [    0.34688,     0.38465],\n",
       "       [    0.33906,     0.40024],\n",
       "       [     0.3375,     0.40024],\n",
       "       [    0.33281,     0.40959],\n",
       "       [    0.33125,     0.40959],\n",
       "       [    0.32656,     0.41894],\n",
       "       [      0.325,     0.41894],\n",
       "       [    0.31563,     0.43765],\n",
       "       [    0.30938,     0.43765],\n",
       "       [    0.30938,     0.45635],\n",
       "       [    0.31563,     0.45635],\n",
       "       [    0.31719,     0.45947],\n",
       "       [    0.31875,     0.45947],\n",
       "       [    0.32031,     0.46259],\n",
       "       [    0.32188,     0.46259],\n",
       "       [    0.32344,     0.46571],\n",
       "       [      0.325,     0.46571],\n",
       "       [    0.32656,     0.46882],\n",
       "       [    0.33281,     0.46882],\n",
       "       [    0.33437,     0.47194],\n",
       "       [    0.34219,     0.47194],\n",
       "       [    0.34375,     0.47506],\n",
       "       [    0.34688,     0.47506],\n",
       "       [    0.34844,     0.47818],\n",
       "       [    0.35313,     0.47818],\n",
       "       [    0.35469,     0.48129],\n",
       "       [    0.36406,     0.48129],\n",
       "       [    0.36562,     0.48441],\n",
       "       [    0.36875,     0.48441],\n",
       "       [    0.37031,     0.48753],\n",
       "       [    0.37188,     0.48753],\n",
       "       [    0.37344,     0.49065],\n",
       "       [    0.37656,     0.49065],\n",
       "       [    0.37813,     0.49376],\n",
       "       [     0.3875,     0.49376],\n",
       "       [    0.38906,     0.49688],\n",
       "       [    0.39375,     0.49688],\n",
       "       [    0.39531,         0.5],\n",
       "       [    0.39687,         0.5],\n",
       "       [    0.39844,     0.50312],\n",
       "       [    0.40313,     0.50312],\n",
       "       [    0.40469,     0.50624],\n",
       "       [     0.4125,     0.50624],\n",
       "       [    0.41406,     0.50935],\n",
       "       [    0.41719,     0.50935],\n",
       "       [    0.41875,     0.51247],\n",
       "       [    0.42031,     0.51247],\n",
       "       [    0.42188,     0.51559],\n",
       "       [      0.425,     0.51559],\n",
       "       [    0.42656,     0.51871],\n",
       "       [    0.44063,     0.51871],\n",
       "       [    0.44219,     0.52182],\n",
       "       [    0.44531,     0.52182],\n",
       "       [    0.44688,     0.52494],\n",
       "       [    0.44844,     0.52494],\n",
       "       [       0.45,     0.52806],\n",
       "       [    0.45469,     0.52806],\n",
       "       [    0.45625,     0.53118],\n",
       "       [    0.46406,     0.53118],\n",
       "       [    0.46563,     0.53429],\n",
       "       [    0.46719,     0.53429],\n",
       "       [    0.47031,     0.54053],\n",
       "       [    0.47344,     0.54053],\n",
       "       [      0.475,     0.54365],\n",
       "       [    0.48281,     0.54365],\n",
       "       [    0.48438,     0.54053],\n",
       "       [    0.48438,     0.52182],\n",
       "       [    0.48281,     0.51871],\n",
       "       [    0.48281,     0.51559],\n",
       "       [    0.48438,     0.51247],\n",
       "       [    0.48438,     0.48441],\n",
       "       [    0.48594,     0.48129],\n",
       "       [    0.48594,     0.33789],\n",
       "       [     0.4875,     0.33477],\n",
       "       [     0.4875,     0.27242],\n",
       "       [    0.48906,      0.2693],\n",
       "       [    0.48906,     0.20695],\n",
       "       [     0.4875,     0.20384],\n",
       "       [     0.4875,     0.19448],\n",
       "       [    0.48594,     0.19137],\n",
       "       [    0.48594,     0.18201]], dtype=float32)]"
      ]
     },
     "execution_count": 38,
     "metadata": {},
     "output_type": "execute_result"
    }
   ],
   "source": [
    "preds.masks"
   ]
  },
  {
   "cell_type": "code",
   "execution_count": null,
   "metadata": {},
   "outputs": [],
   "source": []
  }
 ],
 "metadata": {
  "kernelspec": {
   "display_name": "base",
   "language": "python",
   "name": "python3"
  },
  "language_info": {
   "codemirror_mode": {
    "name": "ipython",
    "version": 3
   },
   "file_extension": ".py",
   "mimetype": "text/x-python",
   "name": "python",
   "nbconvert_exporter": "python",
   "pygments_lexer": "ipython3",
   "version": "3.12.2"
  }
 },
 "nbformat": 4,
 "nbformat_minor": 2
}
