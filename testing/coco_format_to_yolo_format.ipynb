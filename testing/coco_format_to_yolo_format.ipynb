{
 "cells": [
  {
   "cell_type": "code",
   "execution_count": 3,
   "metadata": {},
   "outputs": [],
   "source": [
    "import json \n",
    "import cv2 \n",
    "import os \n",
    "import matplotlib.pyplot as plt \n",
    "import shutil \n",
    "from tqdm import tqdm"
   ]
  },
  {
   "cell_type": "code",
   "execution_count": 4,
   "metadata": {},
   "outputs": [],
   "source": [
    "def coco_to_yolo(coco_json_path, yolo_output_dir, images_dir):\n",
    "    with open(coco_json_path, \"r\") as f:\n",
    "        data = json.load(f)\n",
    "\n",
    "    os.makedirs(yolo_output_dir, exist_ok=True)\n",
    "\n",
    "    categories = {c[\"id\"]: c[\"name\"] for c in data[\"categories\"]}\n",
    "    \n",
    "    for img in tqdm(data[\"images\"], desc=\"Processing images\"):\n",
    "        img_id = img[\"id\"]\n",
    "        img_w, img_h = img[\"width\"], img[\"height\"]\n",
    "        img_name = img[\"file_name\"]\n",
    "        \n",
    "        label_path = os.path.join(yolo_output_dir, f\"{os.path.splitext(img_name)[0]}.txt\")\n",
    "        with open(label_path, \"w\") as f:\n",
    "            for ann in data[\"annotations\"]:\n",
    "                if ann[\"image_id\"] == img_id:\n",
    "                    category_id = ann[\"category_id\"]\n",
    "                    bbox = ann[\"bbox\"]\n",
    "\n",
    "                    x, y, w, h = bbox\n",
    "                    x_center = (x + w / 2) / img_w\n",
    "                    y_center = (y + h / 2) / img_h\n",
    "                    w /= img_w\n",
    "                    h /= img_h\n",
    "\n",
    "                    f.write(f\"{category_id} {x_center} {y_center} {w} {h}\\n\")"
   ]
  },
  {
   "cell_type": "code",
   "execution_count": 5,
   "metadata": {},
   "outputs": [],
   "source": [
    "dr_json_train_path = \"../assets/dataset/tested_data/clsdata(1031)/cls/annotations/instancesCls(1031)_train2019.json\"\n",
    "yolo_output_train_dir = \"../assets/dataset/tested_data/clsdata(1031)/cls/labels/train2019/\"\n",
    "images_train_dir = \"../assets/dataset/tested_data/clsdata(1031)/cls/images/train2019/\"\n",
    "\n",
    "dr_json_val_path = \"../assets/dataset/tested_data/clsdata(1031)/cls/annotations/instancesCls(1031)_val2019.json\"\n",
    "yolo_output_val_dir = \"../assets/dataset/tested_data/clsdata(1031)/cls/labels/val2019/\"\n",
    "images_val_dir = \"../assets/dataset/tested_data/clsdata(1031)/cls/images/val2019/\"\n",
    "\n",
    "dr_json_test_path = \"../assets/dataset/tested_data/clsdata(1031)/cls/annotations/instancesCls(1031)_test2019.json\"\n",
    "yolo_output_test_dir = \"../assets/dataset/tested_data/clsdata(1031)/cls/labels/test2019/\"\n",
    "images_test_dir = \"../assets/dataset/tested_data/clsdata(1031)/cls/images/test2019/\""
   ]
  },
  {
   "cell_type": "code",
   "execution_count": 6,
   "metadata": {},
   "outputs": [
    {
     "name": "stderr",
     "output_type": "stream",
     "text": [
      "Processing images: 100%|██████████| 19/19 [00:00<00:00, 5396.25it/s]\n",
      "Processing images: 100%|██████████| 4/4 [00:00<00:00, 4127.24it/s]\n",
      "Processing images: 100%|██████████| 4/4 [00:00<00:00, 2651.69it/s]\n"
     ]
    }
   ],
   "source": [
    "coco_to_yolo(dr_json_train_path, yolo_output_train_dir, images_train_dir)\n",
    "coco_to_yolo(dr_json_val_path, yolo_output_val_dir, images_val_dir)\n",
    "coco_to_yolo(dr_json_test_path, yolo_output_test_dir, images_test_dir)"
   ]
  },
  {
   "cell_type": "code",
   "execution_count": null,
   "metadata": {},
   "outputs": [],
   "source": []
  },
  {
   "cell_type": "code",
   "execution_count": null,
   "metadata": {},
   "outputs": [],
   "source": []
  }
 ],
 "metadata": {
  "kernelspec": {
   "display_name": "DeepRule",
   "language": "python",
   "name": "python3"
  },
  "language_info": {
   "codemirror_mode": {
    "name": "ipython",
    "version": 3
   },
   "file_extension": ".py",
   "mimetype": "text/x-python",
   "name": "python",
   "nbconvert_exporter": "python",
   "pygments_lexer": "ipython3",
   "version": "3.10.11"
  }
 },
 "nbformat": 4,
 "nbformat_minor": 2
}
