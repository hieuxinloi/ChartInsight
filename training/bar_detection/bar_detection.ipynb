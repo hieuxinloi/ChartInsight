{
 "cells": [
  {
   "cell_type": "code",
   "execution_count": null,
   "metadata": {},
   "outputs": [],
   "source": [
    "from ultralytics import YOLO\n",
    "\n",
    "model = YOLO(\"yolov8m.pt\")"
   ]
  },
  {
   "cell_type": "code",
   "execution_count": 2,
   "metadata": {},
   "outputs": [
    {
     "name": "stdout",
     "output_type": "stream",
     "text": [
      "Ultralytics 8.3.82  Python-3.10.11 torch-2.6.0+cu118 CUDA:0 (NVIDIA GeForce RTX 3050 Ti Laptop GPU, 4096MiB)\n",
      "\u001b[34m\u001b[1mengine\\trainer: \u001b[0mtask=detect, mode=train, model=yolov8m.pt, data=./bar_detection.yaml, epochs=10, time=None, patience=100, batch=5, imgsz=640, save=True, save_period=-1, cache=False, device=None, workers=4, project=None, name=train, exist_ok=False, pretrained=True, optimizer=auto, verbose=True, seed=0, deterministic=True, single_cls=False, rect=False, cos_lr=False, close_mosaic=10, resume=False, amp=True, fraction=1.0, profile=False, freeze=None, multi_scale=False, overlap_mask=True, mask_ratio=4, dropout=0.0, val=True, split=val, save_json=False, save_hybrid=False, conf=None, iou=0.7, max_det=300, half=False, dnn=False, plots=True, source=None, vid_stride=1, stream_buffer=False, visualize=False, augment=False, agnostic_nms=False, classes=None, retina_masks=False, embed=None, show=False, save_frames=False, save_txt=False, save_conf=False, save_crop=False, show_labels=True, show_conf=True, show_boxes=True, line_width=None, format=torchscript, keras=False, optimize=False, int8=False, dynamic=False, simplify=True, opset=None, workspace=None, nms=False, lr0=0.01, lrf=0.01, momentum=0.937, weight_decay=0.0005, warmup_epochs=3.0, warmup_momentum=0.8, warmup_bias_lr=0.1, box=7.5, cls=0.5, dfl=1.5, pose=12.0, kobj=1.0, nbs=64, hsv_h=0.015, hsv_s=0.7, hsv_v=0.4, degrees=0.0, translate=0.1, scale=0.5, shear=0.0, perspective=0.0, flipud=0.0, fliplr=0.5, bgr=0.0, mosaic=1.0, mixup=0.0, copy_paste=0.0, copy_paste_mode=flip, auto_augment=randaugment, erasing=0.4, crop_fraction=1.0, cfg=None, tracker=botsort.yaml, save_dir=runs\\detect\\train\n",
      "Overriding model.yaml nc=80 with nc=1\n",
      "\n",
      "                   from  n    params  module                                       arguments                     \n",
      "  0                  -1  1      1392  ultralytics.nn.modules.conv.Conv             [3, 48, 3, 2]                 \n",
      "  1                  -1  1     41664  ultralytics.nn.modules.conv.Conv             [48, 96, 3, 2]                \n",
      "  2                  -1  2    111360  ultralytics.nn.modules.block.C2f             [96, 96, 2, True]             \n",
      "  3                  -1  1    166272  ultralytics.nn.modules.conv.Conv             [96, 192, 3, 2]               \n",
      "  4                  -1  4    813312  ultralytics.nn.modules.block.C2f             [192, 192, 4, True]           \n",
      "  5                  -1  1    664320  ultralytics.nn.modules.conv.Conv             [192, 384, 3, 2]              \n",
      "  6                  -1  4   3248640  ultralytics.nn.modules.block.C2f             [384, 384, 4, True]           \n",
      "  7                  -1  1   1991808  ultralytics.nn.modules.conv.Conv             [384, 576, 3, 2]              \n",
      "  8                  -1  2   3985920  ultralytics.nn.modules.block.C2f             [576, 576, 2, True]           \n",
      "  9                  -1  1    831168  ultralytics.nn.modules.block.SPPF            [576, 576, 5]                 \n",
      " 10                  -1  1         0  torch.nn.modules.upsampling.Upsample         [None, 2, 'nearest']          \n",
      " 11             [-1, 6]  1         0  ultralytics.nn.modules.conv.Concat           [1]                           \n",
      " 12                  -1  2   1993728  ultralytics.nn.modules.block.C2f             [960, 384, 2]                 \n",
      " 13                  -1  1         0  torch.nn.modules.upsampling.Upsample         [None, 2, 'nearest']          \n",
      " 14             [-1, 4]  1         0  ultralytics.nn.modules.conv.Concat           [1]                           \n",
      " 15                  -1  2    517632  ultralytics.nn.modules.block.C2f             [576, 192, 2]                 \n",
      " 16                  -1  1    332160  ultralytics.nn.modules.conv.Conv             [192, 192, 3, 2]              \n",
      " 17            [-1, 12]  1         0  ultralytics.nn.modules.conv.Concat           [1]                           \n",
      " 18                  -1  2   1846272  ultralytics.nn.modules.block.C2f             [576, 384, 2]                 \n",
      " 19                  -1  1   1327872  ultralytics.nn.modules.conv.Conv             [384, 384, 3, 2]              \n",
      " 20             [-1, 9]  1         0  ultralytics.nn.modules.conv.Concat           [1]                           \n",
      " 21                  -1  2   4207104  ultralytics.nn.modules.block.C2f             [960, 576, 2]                 \n",
      " 22        [15, 18, 21]  1   3776275  ultralytics.nn.modules.head.Detect           [1, [192, 384, 576]]          \n",
      "Model summary: 169 layers, 25,856,899 parameters, 25,856,883 gradients, 79.1 GFLOPs\n",
      "\n",
      "Transferred 469/475 items from pretrained weights\n",
      "\u001b[34m\u001b[1mTensorBoard: \u001b[0mStart with 'tensorboard --logdir runs\\detect\\train', view at http://localhost:6006/\n",
      "Freezing layer 'model.22.dfl.conv.weight'\n",
      "\u001b[34m\u001b[1mAMP: \u001b[0mrunning Automatic Mixed Precision (AMP) checks...\n",
      "Downloading https://github.com/ultralytics/assets/releases/download/v8.3.0/yolo11n.pt to 'yolo11n.pt'...\n"
     ]
    },
    {
     "name": "stderr",
     "output_type": "stream",
     "text": [
      "100%|██████████| 5.35M/5.35M [00:03<00:00, 1.53MB/s]\n"
     ]
    },
    {
     "name": "stdout",
     "output_type": "stream",
     "text": [
      "\u001b[34m\u001b[1mAMP: \u001b[0mchecks passed \n"
     ]
    },
    {
     "name": "stderr",
     "output_type": "stream",
     "text": [
      "\u001b[34m\u001b[1mtrain: \u001b[0mScanning D:\\Projects\\ChartInsight\\assets\\dataset\\reduced_data\\bardata(1031)\\bar\\labels\\train2019... 20000 images, 0 backgrounds, 0 corrupt: 100%|██████████| 20000/20000 [00:37<00:00, 538.42it/s]"
     ]
    },
    {
     "name": "stdout",
     "output_type": "stream",
     "text": [
      "\u001b[34m\u001b[1mtrain: \u001b[0mWARNING  D:\\Projects\\ChartInsight\\assets\\dataset\\reduced_data\\bardata(1031)\\bar\\images\\train2019\\013bb1fb3f8e0279042cb8ea7273dac0_d3d3LmJ1c2luZXNzZnVuY3Rpb25zLmNvbQkxNzguNzkuMTU0LjE3NQ==.xls-1-1.png: 3 duplicate labels removed\n",
      "\u001b[34m\u001b[1mtrain: \u001b[0mWARNING  D:\\Projects\\ChartInsight\\assets\\dataset\\reduced_data\\bardata(1031)\\bar\\images\\train2019\\014ffa090cedff39f2de1400d488455c_d3d3Lm5icy5ycwkxOTQuNzkuNDEuNDY=.xls-1-0.png: 2 duplicate labels removed\n",
      "\u001b[34m\u001b[1mtrain: \u001b[0mWARNING  D:\\Projects\\ChartInsight\\assets\\dataset\\reduced_data\\bardata(1031)\\bar\\images\\train2019\\014ffa090cedff39f2de1400d488455c_d3d3Lm5icy5ycwkxOTQuNzkuNDEuNDY=.xls-1-1.png: 2 duplicate labels removed\n",
      "\u001b[34m\u001b[1mtrain: \u001b[0mWARNING  D:\\Projects\\ChartInsight\\assets\\dataset\\reduced_data\\bardata(1031)\\bar\\images\\train2019\\01597b146df6f498b60057cb2f7fc96b_d3d3LmV1Yi5nb3YuYWIuY2EJMTQyLjc1LjY3LjI3-1-1.png: 40 duplicate labels removed\n",
      "\u001b[34m\u001b[1mtrain: \u001b[0mWARNING  D:\\Projects\\ChartInsight\\assets\\dataset\\reduced_data\\bardata(1031)\\bar\\images\\train2019\\01597b146df6f498b60057cb2f7fc96b_d3d3LmV1Yi5nb3YuYWIuY2EJMTQyLjc1LjY3LjI3-1-2.png: 42 duplicate labels removed\n",
      "\u001b[34m\u001b[1mtrain: \u001b[0mWARNING  D:\\Projects\\ChartInsight\\assets\\dataset\\reduced_data\\bardata(1031)\\bar\\images\\train2019\\0227a44c05070aa7ab664466675e1fae_d3d3LmVwZC5nb3YuaGsJMTMuMzIuMjUzLjQy.xls-0-0.png: 5 duplicate labels removed\n",
      "\u001b[34m\u001b[1mtrain: \u001b[0mWARNING  D:\\Projects\\ChartInsight\\assets\\dataset\\reduced_data\\bardata(1031)\\bar\\images\\train2019\\0227a44c05070aa7ab664466675e1fae_d3d3LmVwZC5nb3YuaGsJMTMuMzIuMjUzLjQy.xls-0-1.png: 4 duplicate labels removed\n",
      "\u001b[34m\u001b[1mtrain: \u001b[0mWARNING  D:\\Projects\\ChartInsight\\assets\\dataset\\reduced_data\\bardata(1031)\\bar\\images\\train2019\\0227a44c05070aa7ab664466675e1fae_d3d3LmVwZC5nb3YuaGsJMTMuMzIuMjUzLjQy.xls-0-2.png: 5 duplicate labels removed\n",
      "\u001b[34m\u001b[1mtrain: \u001b[0mWARNING  D:\\Projects\\ChartInsight\\assets\\dataset\\reduced_data\\bardata(1031)\\bar\\images\\train2019\\0227a44c05070aa7ab664466675e1fae_d3d3LmVwZC5nb3YuaGsJMTMuMzIuMjUzLjQy.xls-0-3.png: 5 duplicate labels removed\n",
      "\u001b[34m\u001b[1mtrain: \u001b[0mWARNING  D:\\Projects\\ChartInsight\\assets\\dataset\\reduced_data\\bardata(1031)\\bar\\images\\train2019\\0227a44c05070aa7ab664466675e1fae_d3d3LmVwZC5nb3YuaGsJMTMuMzIuMjUzLjQy.xls-0-4.png: 4 duplicate labels removed\n",
      "\u001b[34m\u001b[1mtrain: \u001b[0mWARNING  D:\\Projects\\ChartInsight\\assets\\dataset\\reduced_data\\bardata(1031)\\bar\\images\\train2019\\0238a066e0d0b92c82f174be992b0529_cG9ydGFsLmFhY2guY2wJMjAwLjYuNjUuMTAy-0-0.png: 1 duplicate labels removed\n",
      "\u001b[34m\u001b[1mtrain: \u001b[0mWARNING  D:\\Projects\\ChartInsight\\assets\\dataset\\reduced_data\\bardata(1031)\\bar\\images\\train2019\\0261025ea74faafa55e5b8dad13b20f7_c2l0ZXJlc291cmNlcy53b3JsZGJhbmsub3JnCTE5Mi44Ni45OC4xNzE=.xls-0-0.png: 1 duplicate labels removed\n",
      "\u001b[34m\u001b[1mtrain: \u001b[0mWARNING  D:\\Projects\\ChartInsight\\assets\\dataset\\reduced_data\\bardata(1031)\\bar\\images\\train2019\\044c6ab163fe1f5534abb084ff54624c_d3d3LmNtdS5lZHUJMTI4LjIuNDIuNTI=.xls-1-0.png: 17 duplicate labels removed\n",
      "\u001b[34m\u001b[1mtrain: \u001b[0mWARNING  D:\\Projects\\ChartInsight\\assets\\dataset\\reduced_data\\bardata(1031)\\bar\\images\\train2019\\08e128c3fbb9fc8f29c1e08cd9ff25eb_d3d3LmVwZC5nb3YuaGsJMTMuMzIuMjUzLjQy.xls-0-0.png: 12 duplicate labels removed\n",
      "\u001b[34m\u001b[1mtrain: \u001b[0mWARNING  D:\\Projects\\ChartInsight\\assets\\dataset\\reduced_data\\bardata(1031)\\bar\\images\\train2019\\08e128c3fbb9fc8f29c1e08cd9ff25eb_d3d3LmVwZC5nb3YuaGsJMTMuMzIuMjUzLjQy.xls-0-1.png: 3 duplicate labels removed\n",
      "\u001b[34m\u001b[1mtrain: \u001b[0mWARNING  D:\\Projects\\ChartInsight\\assets\\dataset\\reduced_data\\bardata(1031)\\bar\\images\\train2019\\08e128c3fbb9fc8f29c1e08cd9ff25eb_d3d3LmVwZC5nb3YuaGsJMTMuMzIuMjUzLjQy.xls-0-2.png: 2 duplicate labels removed\n",
      "\u001b[34m\u001b[1mtrain: \u001b[0mWARNING  D:\\Projects\\ChartInsight\\assets\\dataset\\reduced_data\\bardata(1031)\\bar\\images\\train2019\\08e128c3fbb9fc8f29c1e08cd9ff25eb_d3d3LmVwZC5nb3YuaGsJMTMuMzIuMjUzLjQy.xls-0-3.png: 2 duplicate labels removed\n",
      "\u001b[34m\u001b[1mtrain: \u001b[0mWARNING  D:\\Projects\\ChartInsight\\assets\\dataset\\reduced_data\\bardata(1031)\\bar\\images\\train2019\\08e128c3fbb9fc8f29c1e08cd9ff25eb_d3d3LmVwZC5nb3YuaGsJMTMuMzIuMjUzLjQy.xls-0-4.png: 2 duplicate labels removed\n",
      "\u001b[34m\u001b[1mtrain: \u001b[0mWARNING  D:\\Projects\\ChartInsight\\assets\\dataset\\reduced_data\\bardata(1031)\\bar\\images\\train2019\\09461810f746b4f1d36a89bfeb182aef_d3d3LmFlci5jYQkxNDIuNzUuNjcuMjc=-1-0.png: 7 duplicate labels removed\n",
      "\u001b[34m\u001b[1mtrain: \u001b[0mWARNING  D:\\Projects\\ChartInsight\\assets\\dataset\\reduced_data\\bardata(1031)\\bar\\images\\train2019\\09b07723482ffbf453ec2f1748c83b5f_d3d3LmV1Yi5nb3YuYWIuY2EJMTQyLjc1LjY3LjI3-1-2.png: 33 duplicate labels removed\n",
      "\u001b[34m\u001b[1mtrain: \u001b[0mWARNING  D:\\Projects\\ChartInsight\\assets\\dataset\\reduced_data\\bardata(1031)\\bar\\images\\train2019\\0c9818d45fa39af0bd8c99d35306162f_d3d3LmVwZC5nb3YuaGsJMTMuMzIuMjUzLjQx.xls-0-0.png: 4 duplicate labels removed\n",
      "\u001b[34m\u001b[1mtrain: \u001b[0mWARNING  D:\\Projects\\ChartInsight\\assets\\dataset\\reduced_data\\bardata(1031)\\bar\\images\\train2019\\0c9818d45fa39af0bd8c99d35306162f_d3d3LmVwZC5nb3YuaGsJMTMuMzIuMjUzLjQx.xls-0-1.png: 4 duplicate labels removed\n",
      "\u001b[34m\u001b[1mtrain: \u001b[0mWARNING  D:\\Projects\\ChartInsight\\assets\\dataset\\reduced_data\\bardata(1031)\\bar\\images\\train2019\\0c9818d45fa39af0bd8c99d35306162f_d3d3LmVwZC5nb3YuaGsJMTMuMzIuMjUzLjQx.xls-0-2.png: 4 duplicate labels removed\n",
      "\u001b[34m\u001b[1mtrain: \u001b[0mWARNING  D:\\Projects\\ChartInsight\\assets\\dataset\\reduced_data\\bardata(1031)\\bar\\images\\train2019\\0c9818d45fa39af0bd8c99d35306162f_d3d3LmVwZC5nb3YuaGsJMTMuMzIuMjUzLjQx.xls-0-3.png: 4 duplicate labels removed\n",
      "\u001b[34m\u001b[1mtrain: \u001b[0mWARNING  D:\\Projects\\ChartInsight\\assets\\dataset\\reduced_data\\bardata(1031)\\bar\\images\\train2019\\0c9818d45fa39af0bd8c99d35306162f_d3d3LmVwZC5nb3YuaGsJMTMuMzIuMjUzLjQx.xls-0-4.png: 3 duplicate labels removed\n",
      "\u001b[34m\u001b[1mtrain: \u001b[0mWARNING  D:\\Projects\\ChartInsight\\assets\\dataset\\reduced_data\\bardata(1031)\\bar\\images\\train2019\\0dd7dbffbfb8b49823ec696b470d0a3d_d3d3LmVwZC5nb3YuaGsJMTMuMzIuMjUzLjQx.xls-0-0.png: 3 duplicate labels removed\n",
      "\u001b[34m\u001b[1mtrain: \u001b[0mWARNING  D:\\Projects\\ChartInsight\\assets\\dataset\\reduced_data\\bardata(1031)\\bar\\images\\train2019\\0dd7dbffbfb8b49823ec696b470d0a3d_d3d3LmVwZC5nb3YuaGsJMTMuMzIuMjUzLjQx.xls-0-1.png: 3 duplicate labels removed\n",
      "\u001b[34m\u001b[1mtrain: \u001b[0mWARNING  D:\\Projects\\ChartInsight\\assets\\dataset\\reduced_data\\bardata(1031)\\bar\\images\\train2019\\0dd7dbffbfb8b49823ec696b470d0a3d_d3d3LmVwZC5nb3YuaGsJMTMuMzIuMjUzLjQx.xls-0-2.png: 4 duplicate labels removed\n",
      "\u001b[34m\u001b[1mtrain: \u001b[0mWARNING  D:\\Projects\\ChartInsight\\assets\\dataset\\reduced_data\\bardata(1031)\\bar\\images\\train2019\\0dd7dbffbfb8b49823ec696b470d0a3d_d3d3LmVwZC5nb3YuaGsJMTMuMzIuMjUzLjQx.xls-0-3.png: 4 duplicate labels removed\n",
      "\u001b[34m\u001b[1mtrain: \u001b[0mWARNING  D:\\Projects\\ChartInsight\\assets\\dataset\\reduced_data\\bardata(1031)\\bar\\images\\train2019\\0dd7dbffbfb8b49823ec696b470d0a3d_d3d3LmVwZC5nb3YuaGsJMTMuMzIuMjUzLjQx.xls-0-4.png: 4 duplicate labels removed\n",
      "\u001b[34m\u001b[1mtrain: \u001b[0mWARNING  D:\\Projects\\ChartInsight\\assets\\dataset\\reduced_data\\bardata(1031)\\bar\\images\\train2019\\1290ec975b242b779fc00766de6c4535_d3d3LmV4Y2VsdGlwLmNvbQk2OS4xNjcuMTU0LjQ=-0-0.png: 1 duplicate labels removed\n",
      "\u001b[34m\u001b[1mtrain: \u001b[0mWARNING  D:\\Projects\\ChartInsight\\assets\\dataset\\reduced_data\\bardata(1031)\\bar\\images\\train2019\\129afb5a5a31f1d044970b3cb2923b27_M3JkLmdlb2NpdGllcy5qcAkxMTguMTUxLjIzMS4xODA=.xls-0-1.png: 1 duplicate labels removed\n",
      "\u001b[34m\u001b[1mtrain: \u001b[0mWARNING  D:\\Projects\\ChartInsight\\assets\\dataset\\reduced_data\\bardata(1031)\\bar\\images\\train2019\\13504b9757fdd007f48022bede622503_d3d3Lmh1bW1pbmdiaXJkcmVzZWFyY2gubmV0CTIwNC4xNC44NC4xNzA=-4-0.png: 5 duplicate labels removed\n",
      "\u001b[34m\u001b[1mtrain: \u001b[0mWARNING  D:\\Projects\\ChartInsight\\assets\\dataset\\reduced_data\\bardata(1031)\\bar\\images\\train2019\\1425fdefb0d570c1c0ec0873e6652d38_Y2VudHJhbGZsb3JpZGFjYXJlcy5vcmcJNzIuMTAuMzIuMTY4-2-0.png: 1 duplicate labels removed\n",
      "\u001b[34m\u001b[1mtrain: \u001b[0mWARNING  D:\\Projects\\ChartInsight\\assets\\dataset\\reduced_data\\bardata(1031)\\bar\\images\\train2019\\150ba91ea3e1626b5b84ee4c9eb6f8bd_c3RhdGxpbmtzLm9lY2Rjb2RlLm9yZwk5Mi4yNDMuMjMuMTM3.XLS-0-2.png: 2 duplicate labels removed\n",
      "\u001b[34m\u001b[1mtrain: \u001b[0mWARNING  D:\\Projects\\ChartInsight\\assets\\dataset\\reduced_data\\bardata(1031)\\bar\\images\\train2019\\1541a8bfd34ff7747a38c744d34a5bb4_d3d3LmFlci5jYQkxNDIuNzUuNjcuMjc=-0-2.png: 33 duplicate labels removed\n",
      "\u001b[34m\u001b[1mtrain: \u001b[0mWARNING  D:\\Projects\\ChartInsight\\assets\\dataset\\reduced_data\\bardata(1031)\\bar\\images\\train2019\\16c4bdc2acab16f00f60afedcbd0ee01_d3d3LmVwZC5nb3YuaGsJMTMuMzIuMjUzLjEyNQ==.xls-0-0.png: 4 duplicate labels removed\n",
      "\u001b[34m\u001b[1mtrain: \u001b[0mWARNING  D:\\Projects\\ChartInsight\\assets\\dataset\\reduced_data\\bardata(1031)\\bar\\images\\train2019\\16c4bdc2acab16f00f60afedcbd0ee01_d3d3LmVwZC5nb3YuaGsJMTMuMzIuMjUzLjEyNQ==.xls-0-1.png: 5 duplicate labels removed\n",
      "\u001b[34m\u001b[1mtrain: \u001b[0mWARNING  D:\\Projects\\ChartInsight\\assets\\dataset\\reduced_data\\bardata(1031)\\bar\\images\\train2019\\16c4bdc2acab16f00f60afedcbd0ee01_d3d3LmVwZC5nb3YuaGsJMTMuMzIuMjUzLjEyNQ==.xls-0-2.png: 5 duplicate labels removed\n",
      "\u001b[34m\u001b[1mtrain: \u001b[0mWARNING  D:\\Projects\\ChartInsight\\assets\\dataset\\reduced_data\\bardata(1031)\\bar\\images\\train2019\\16c4bdc2acab16f00f60afedcbd0ee01_d3d3LmVwZC5nb3YuaGsJMTMuMzIuMjUzLjEyNQ==.xls-0-3.png: 4 duplicate labels removed\n",
      "\u001b[34m\u001b[1mtrain: \u001b[0mWARNING  D:\\Projects\\ChartInsight\\assets\\dataset\\reduced_data\\bardata(1031)\\bar\\images\\train2019\\16c4bdc2acab16f00f60afedcbd0ee01_d3d3LmVwZC5nb3YuaGsJMTMuMzIuMjUzLjEyNQ==.xls-0-4.png: 4 duplicate labels removed\n",
      "\u001b[34m\u001b[1mtrain: \u001b[0mWARNING  D:\\Projects\\ChartInsight\\assets\\dataset\\reduced_data\\bardata(1031)\\bar\\images\\train2019\\16e80ffb06f545338a798f04c5fcc1a6_d3d3LmVwZC5nb3YuaGsJNTIuODQuMjUuODI=.xls-0-0.png: 4 duplicate labels removed\n",
      "\u001b[34m\u001b[1mtrain: \u001b[0mWARNING  D:\\Projects\\ChartInsight\\assets\\dataset\\reduced_data\\bardata(1031)\\bar\\images\\train2019\\16e80ffb06f545338a798f04c5fcc1a6_d3d3LmVwZC5nb3YuaGsJNTIuODQuMjUuODI=.xls-0-1.png: 5 duplicate labels removed\n",
      "\u001b[34m\u001b[1mtrain: \u001b[0mWARNING  D:\\Projects\\ChartInsight\\assets\\dataset\\reduced_data\\bardata(1031)\\bar\\images\\train2019\\16e80ffb06f545338a798f04c5fcc1a6_d3d3LmVwZC5nb3YuaGsJNTIuODQuMjUuODI=.xls-0-2.png: 4 duplicate labels removed\n",
      "\u001b[34m\u001b[1mtrain: \u001b[0mWARNING  D:\\Projects\\ChartInsight\\assets\\dataset\\reduced_data\\bardata(1031)\\bar\\images\\train2019\\16e80ffb06f545338a798f04c5fcc1a6_d3d3LmVwZC5nb3YuaGsJNTIuODQuMjUuODI=.xls-0-3.png: 5 duplicate labels removed\n",
      "\u001b[34m\u001b[1mtrain: \u001b[0mWARNING  D:\\Projects\\ChartInsight\\assets\\dataset\\reduced_data\\bardata(1031)\\bar\\images\\train2019\\16e80ffb06f545338a798f04c5fcc1a6_d3d3LmVwZC5nb3YuaGsJNTIuODQuMjUuODI=.xls-0-4.png: 4 duplicate labels removed\n",
      "\u001b[34m\u001b[1mtrain: \u001b[0mWARNING  D:\\Projects\\ChartInsight\\assets\\dataset\\reduced_data\\bardata(1031)\\bar\\images\\train2019\\16f132447938542a9467d0a179e5dbde_d3d3LmV4Y2VsLWRvd25sb2Fkcy5jb20JOTEuMTIxLjMzLjM2.xls-0-2.png: 10 duplicate labels removed\n",
      "\u001b[34m\u001b[1mtrain: \u001b[0mWARNING  D:\\Projects\\ChartInsight\\assets\\dataset\\reduced_data\\bardata(1031)\\bar\\images\\train2019\\19984a09b2c30ff587659718f29512ef_d3d3Lmdvb2RseS5jby5pbgkxMDQuMTguMzUuNjI=-1-0.png: 3 duplicate labels removed\n",
      "\u001b[34m\u001b[1mtrain: \u001b[0mWARNING  D:\\Projects\\ChartInsight\\assets\\dataset\\reduced_data\\bardata(1031)\\bar\\images\\train2019\\1a0a9f7367496a18ce083a8c7d3e9593_d3d3LmV4Y2VsY2FtcHVzLmNvbQkxOTIuMTI0LjI0OS4xMDI=-0-0.png: 2 duplicate labels removed\n",
      "\u001b[34m\u001b[1mtrain: \u001b[0mWARNING  D:\\Projects\\ChartInsight\\assets\\dataset\\reduced_data\\bardata(1031)\\bar\\images\\train2019\\1a334e643420a995aa6dedef2aac0cfd_d3d3LmVvbmV0Lm5lLmpwCTIxOC4yNTEuODkuNg==.xls-34-0.png: 5 duplicate labels removed\n",
      "\u001b[34m\u001b[1mtrain: \u001b[0mWARNING  D:\\Projects\\ChartInsight\\assets\\dataset\\reduced_data\\bardata(1031)\\bar\\images\\train2019\\1b26d7fd94d1ed8196863ba2df65f404_d3d3MS5vZWNkLm9yZwk3OC40MS4xMjkuMTQ0.xls-5-0.png: 13 duplicate labels removed\n",
      "\u001b[34m\u001b[1mtrain: \u001b[0mWARNING  D:\\Projects\\ChartInsight\\assets\\dataset\\reduced_data\\bardata(1031)\\bar\\images\\train2019\\1cd194b0468f6d982681d3ac35b87c89_c2l0ZXJlc291cmNlcy53b3JsZGJhbmsub3JnCTE5Mi44Ni4xMDIuMTM=.xls-0-0.png: 1 duplicate labels removed\n",
      "\u001b[34m\u001b[1mtrain: \u001b[0mWARNING  D:\\Projects\\ChartInsight\\assets\\dataset\\reduced_data\\bardata(1031)\\bar\\images\\train2019\\1cfcf31490a2200f405a45d2836a888e_d3d3Lmlwc3dpY2guZ292LnVrCTM0LjI1My4xMDMuNTQ=-11-0.png: 1 duplicate labels removed\n",
      "\u001b[34m\u001b[1mtrain: \u001b[0mWARNING  D:\\Projects\\ChartInsight\\assets\\dataset\\reduced_data\\bardata(1031)\\bar\\images\\train2019\\1d1f1281acac236ab2af1dfde2459dcd_d3d3Lmdvb2RseS5jby5pbgkxMDQuMTguMzQuNjI=-1-0.png: 7 duplicate labels removed\n"
     ]
    },
    {
     "name": "stderr",
     "output_type": "stream",
     "text": [
      "\n"
     ]
    },
    {
     "name": "stdout",
     "output_type": "stream",
     "text": [
      "\u001b[34m\u001b[1mtrain: \u001b[0mNew cache created: D:\\Projects\\ChartInsight\\assets\\dataset\\reduced_data\\bardata(1031)\\bar\\labels\\train2019.cache\n"
     ]
    },
    {
     "name": "stderr",
     "output_type": "stream",
     "text": [
      "INFO:albumentations.check_version:A new version of Albumentations is available: 2.0.5 (you have 1.4.10). Upgrade using: pip install --upgrade albumentations\n"
     ]
    },
    {
     "name": "stdout",
     "output_type": "stream",
     "text": [
      "\u001b[34m\u001b[1malbumentations: \u001b[0mBlur(p=0.01, blur_limit=(3, 7)), MedianBlur(p=0.01, blur_limit=(3, 7)), ToGray(p=0.01), CLAHE(p=0.01, clip_limit=(1, 4.0), tile_grid_size=(8, 8))\n"
     ]
    },
    {
     "name": "stderr",
     "output_type": "stream",
     "text": [
      "\u001b[34m\u001b[1mval: \u001b[0mScanning D:\\Projects\\ChartInsight\\assets\\dataset\\reduced_data\\bardata(1031)\\bar\\labels\\val2019... 1000 images, 0 backgrounds, 0 corrupt: 100%|██████████| 1000/1000 [00:01<00:00, 502.91it/s]"
     ]
    },
    {
     "name": "stdout",
     "output_type": "stream",
     "text": [
      "\u001b[34m\u001b[1mval: \u001b[0mWARNING  D:\\Projects\\ChartInsight\\assets\\dataset\\reduced_data\\bardata(1031)\\bar\\images\\val2019\\c8f85952ea6cf2a71710a2dcc6a89d29_ZXhjZWx1bnBsdWdnZWQuZmlsZXMud29yZHByZXNzLmNvbQkxOTIuMC43Mi4xNg==-0-0.png: 2 duplicate labels removed\n",
      "\u001b[34m\u001b[1mval: \u001b[0mWARNING  D:\\Projects\\ChartInsight\\assets\\dataset\\reduced_data\\bardata(1031)\\bar\\images\\val2019\\c9a5a8ad10bdfb4ed05d3633c752fd08_d3d3Lm1pZGRsZXNicm91Z2guZ292LnVrCTUyLjIxMC4yMTAuODM=.xls-0-0.png: 2 duplicate labels removed\n",
      "\u001b[34m\u001b[1mval: \u001b[0mWARNING  D:\\Projects\\ChartInsight\\assets\\dataset\\reduced_data\\bardata(1031)\\bar\\images\\val2019\\cb225ebbec56b692ac39983a99fe6e7d_d3d3LmV4Y2VsLWRvd25sb2Fkcy5jb20JOTEuMTIxLjMzLjM2.xls-0-0.png: 2 duplicate labels removed\n"
     ]
    },
    {
     "name": "stderr",
     "output_type": "stream",
     "text": [
      "\n"
     ]
    },
    {
     "name": "stdout",
     "output_type": "stream",
     "text": [
      "\u001b[34m\u001b[1mval: \u001b[0mNew cache created: D:\\Projects\\ChartInsight\\assets\\dataset\\reduced_data\\bardata(1031)\\bar\\labels\\val2019.cache\n",
      "Plotting labels to runs\\detect\\train\\labels.jpg... \n",
      "\u001b[34m\u001b[1moptimizer:\u001b[0m 'optimizer=auto' found, ignoring 'lr0=0.01' and 'momentum=0.937' and determining best 'optimizer', 'lr0' and 'momentum' automatically... \n",
      "\u001b[34m\u001b[1moptimizer:\u001b[0m AdamW(lr=0.002, momentum=0.9) with parameter groups 77 weight(decay=0.0), 84 weight(decay=0.0005078125), 83 bias(decay=0.0)\n",
      "\u001b[34m\u001b[1mTensorBoard: \u001b[0mmodel graph visualization added \n",
      "Image sizes 640 train, 640 val\n",
      "Using 4 dataloader workers\n",
      "Logging results to \u001b[1mruns\\detect\\train\u001b[0m\n",
      "Starting training for 10 epochs...\n",
      "Closing dataloader mosaic\n",
      "\u001b[34m\u001b[1malbumentations: \u001b[0mBlur(p=0.01, blur_limit=(3, 7)), MedianBlur(p=0.01, blur_limit=(3, 7)), ToGray(p=0.01), CLAHE(p=0.01, clip_limit=(1, 4.0), tile_grid_size=(8, 8))\n",
      "\n",
      "      Epoch    GPU_mem   box_loss   cls_loss   dfl_loss  Instances       Size\n"
     ]
    },
    {
     "name": "stderr",
     "output_type": "stream",
     "text": [
      "       1/10      2.62G     0.8922      0.614     0.8961        112        640: 100%|██████████| 4000/4000 [18:59<00:00,  3.51it/s]\n",
      "                 Class     Images  Instances      Box(P          R      mAP50  mAP50-95): 100%|██████████| 100/100 [00:16<00:00,  6.25it/s]"
     ]
    },
    {
     "name": "stdout",
     "output_type": "stream",
     "text": [
      "                   all       1000      22554       0.91      0.871      0.918      0.726\n"
     ]
    },
    {
     "name": "stderr",
     "output_type": "stream",
     "text": [
      "\n"
     ]
    },
    {
     "name": "stdout",
     "output_type": "stream",
     "text": [
      "\n",
      "      Epoch    GPU_mem   box_loss   cls_loss   dfl_loss  Instances       Size\n"
     ]
    },
    {
     "name": "stderr",
     "output_type": "stream",
     "text": [
      "       2/10       2.4G     0.8253     0.5141     0.8566         47        640: 100%|██████████| 4000/4000 [17:03<00:00,  3.91it/s]\n",
      "                 Class     Images  Instances      Box(P          R      mAP50  mAP50-95): 100%|██████████| 100/100 [00:14<00:00,  6.81it/s]"
     ]
    },
    {
     "name": "stdout",
     "output_type": "stream",
     "text": [
      "                   all       1000      22554      0.938      0.894      0.937      0.738\n"
     ]
    },
    {
     "name": "stderr",
     "output_type": "stream",
     "text": [
      "\n"
     ]
    },
    {
     "name": "stdout",
     "output_type": "stream",
     "text": [
      "\n",
      "      Epoch    GPU_mem   box_loss   cls_loss   dfl_loss  Instances       Size\n"
     ]
    },
    {
     "name": "stderr",
     "output_type": "stream",
     "text": [
      "       3/10      2.39G     0.7869      0.477     0.8422        136        640: 100%|██████████| 4000/4000 [16:59<00:00,  3.92it/s]\n",
      "                 Class     Images  Instances      Box(P          R      mAP50  mAP50-95): 100%|██████████| 100/100 [00:14<00:00,  6.72it/s]"
     ]
    },
    {
     "name": "stdout",
     "output_type": "stream",
     "text": [
      "                   all       1000      22554      0.942      0.893      0.937      0.753\n"
     ]
    },
    {
     "name": "stderr",
     "output_type": "stream",
     "text": [
      "\n"
     ]
    },
    {
     "name": "stdout",
     "output_type": "stream",
     "text": [
      "\n",
      "      Epoch    GPU_mem   box_loss   cls_loss   dfl_loss  Instances       Size\n"
     ]
    },
    {
     "name": "stderr",
     "output_type": "stream",
     "text": [
      "       4/10      2.35G     0.7578     0.4385     0.8306        107        640: 100%|██████████| 4000/4000 [17:31<00:00,  3.81it/s]\n",
      "                 Class     Images  Instances      Box(P          R      mAP50  mAP50-95): 100%|██████████| 100/100 [00:15<00:00,  6.39it/s]"
     ]
    },
    {
     "name": "stdout",
     "output_type": "stream",
     "text": [
      "                   all       1000      22554      0.951      0.906      0.948      0.773\n"
     ]
    },
    {
     "name": "stderr",
     "output_type": "stream",
     "text": [
      "\n"
     ]
    },
    {
     "name": "stdout",
     "output_type": "stream",
     "text": [
      "\n",
      "      Epoch    GPU_mem   box_loss   cls_loss   dfl_loss  Instances       Size\n"
     ]
    },
    {
     "name": "stderr",
     "output_type": "stream",
     "text": [
      "       5/10      2.37G     0.7343     0.4137      0.824         98        640: 100%|██████████| 4000/4000 [16:56<00:00,  3.93it/s]\n",
      "                 Class     Images  Instances      Box(P          R      mAP50  mAP50-95): 100%|██████████| 100/100 [00:16<00:00,  6.16it/s]"
     ]
    },
    {
     "name": "stdout",
     "output_type": "stream",
     "text": [
      "                   all       1000      22554      0.956      0.915      0.953      0.764\n"
     ]
    },
    {
     "name": "stderr",
     "output_type": "stream",
     "text": [
      "\n"
     ]
    },
    {
     "name": "stdout",
     "output_type": "stream",
     "text": [
      "\n",
      "      Epoch    GPU_mem   box_loss   cls_loss   dfl_loss  Instances       Size\n"
     ]
    },
    {
     "name": "stderr",
     "output_type": "stream",
     "text": [
      "       6/10      2.38G     0.7122     0.3955     0.8189         45        640: 100%|██████████| 4000/4000 [17:42<00:00,  3.76it/s]\n",
      "                 Class     Images  Instances      Box(P          R      mAP50  mAP50-95): 100%|██████████| 100/100 [00:23<00:00,  4.19it/s]"
     ]
    },
    {
     "name": "stdout",
     "output_type": "stream",
     "text": [
      "                   all       1000      22554      0.963      0.923      0.959      0.789\n"
     ]
    },
    {
     "name": "stderr",
     "output_type": "stream",
     "text": [
      "\n"
     ]
    },
    {
     "name": "stdout",
     "output_type": "stream",
     "text": [
      "\n",
      "      Epoch    GPU_mem   box_loss   cls_loss   dfl_loss  Instances       Size\n"
     ]
    },
    {
     "name": "stderr",
     "output_type": "stream",
     "text": [
      "       7/10       2.4G     0.6894     0.3793     0.8154        157        640: 100%|██████████| 4000/4000 [17:47<00:00,  3.75it/s]\n",
      "                 Class     Images  Instances      Box(P          R      mAP50  mAP50-95): 100%|██████████| 100/100 [00:15<00:00,  6.48it/s]"
     ]
    },
    {
     "name": "stdout",
     "output_type": "stream",
     "text": [
      "                   all       1000      22554      0.964      0.924      0.961      0.789\n"
     ]
    },
    {
     "name": "stderr",
     "output_type": "stream",
     "text": [
      "\n"
     ]
    },
    {
     "name": "stdout",
     "output_type": "stream",
     "text": [
      "\n",
      "      Epoch    GPU_mem   box_loss   cls_loss   dfl_loss  Instances       Size\n"
     ]
    },
    {
     "name": "stderr",
     "output_type": "stream",
     "text": [
      "       8/10      2.36G       0.66     0.3648     0.8111        187        640: 100%|██████████| 4000/4000 [17:00<00:00,  3.92it/s]\n",
      "                 Class     Images  Instances      Box(P          R      mAP50  mAP50-95): 100%|██████████| 100/100 [00:15<00:00,  6.62it/s]"
     ]
    },
    {
     "name": "stdout",
     "output_type": "stream",
     "text": [
      "                   all       1000      22554      0.969      0.932      0.964      0.798\n"
     ]
    },
    {
     "name": "stderr",
     "output_type": "stream",
     "text": [
      "\n"
     ]
    },
    {
     "name": "stdout",
     "output_type": "stream",
     "text": [
      "\n",
      "      Epoch    GPU_mem   box_loss   cls_loss   dfl_loss  Instances       Size\n"
     ]
    },
    {
     "name": "stderr",
     "output_type": "stream",
     "text": [
      "       9/10      2.36G     0.6391     0.3477     0.8072        110        640: 100%|██████████| 4000/4000 [16:59<00:00,  3.92it/s]\n",
      "                 Class     Images  Instances      Box(P          R      mAP50  mAP50-95): 100%|██████████| 100/100 [00:14<00:00,  6.87it/s]"
     ]
    },
    {
     "name": "stdout",
     "output_type": "stream",
     "text": [
      "                   all       1000      22554      0.972      0.933      0.967      0.798\n"
     ]
    },
    {
     "name": "stderr",
     "output_type": "stream",
     "text": [
      "\n"
     ]
    },
    {
     "name": "stdout",
     "output_type": "stream",
     "text": [
      "\n",
      "      Epoch    GPU_mem   box_loss   cls_loss   dfl_loss  Instances       Size\n"
     ]
    },
    {
     "name": "stderr",
     "output_type": "stream",
     "text": [
      "      10/10      2.37G     0.6134     0.3292     0.8029        178        640: 100%|██████████| 4000/4000 [16:58<00:00,  3.93it/s]\n",
      "                 Class     Images  Instances      Box(P          R      mAP50  mAP50-95): 100%|██████████| 100/100 [00:15<00:00,  6.37it/s]"
     ]
    },
    {
     "name": "stdout",
     "output_type": "stream",
     "text": [
      "                   all       1000      22554      0.971      0.936      0.969      0.811\n"
     ]
    },
    {
     "name": "stderr",
     "output_type": "stream",
     "text": [
      "\n"
     ]
    },
    {
     "name": "stdout",
     "output_type": "stream",
     "text": [
      "\n",
      "10 epochs completed in 2.956 hours.\n",
      "Optimizer stripped from runs\\detect\\train\\weights\\last.pt, 52.0MB\n",
      "Optimizer stripped from runs\\detect\\train\\weights\\best.pt, 52.0MB\n",
      "\n",
      "Validating runs\\detect\\train\\weights\\best.pt...\n",
      "Ultralytics 8.3.82  Python-3.10.11 torch-2.6.0+cu118 CUDA:0 (NVIDIA GeForce RTX 3050 Ti Laptop GPU, 4096MiB)\n",
      "Model summary (fused): 92 layers, 25,840,339 parameters, 0 gradients, 78.7 GFLOPs\n"
     ]
    },
    {
     "name": "stderr",
     "output_type": "stream",
     "text": [
      "                 Class     Images  Instances      Box(P          R      mAP50  mAP50-95): 100%|██████████| 100/100 [00:17<00:00,  5.82it/s]\n"
     ]
    },
    {
     "name": "stdout",
     "output_type": "stream",
     "text": [
      "                   all       1000      22554      0.971      0.936      0.969      0.811\n",
      "Speed: 0.2ms preprocess, 9.2ms inference, 0.0ms loss, 0.9ms postprocess per image\n",
      "Results saved to \u001b[1mruns\\detect\\train\u001b[0m\n",
      "CPU times: total: 2h 28min 44s\n",
      "Wall time: 2h 59min 25s\n"
     ]
    },
    {
     "data": {
      "text/plain": [
       "ultralytics.utils.metrics.DetMetrics object with attributes:\n",
       "\n",
       "ap_class_index: array([0])\n",
       "box: ultralytics.utils.metrics.Metric object\n",
       "confusion_matrix: <ultralytics.utils.metrics.ConfusionMatrix object at 0x000002A56E53D690>\n",
       "curves: ['Precision-Recall(B)', 'F1-Confidence(B)', 'Precision-Confidence(B)', 'Recall-Confidence(B)']\n",
       "curves_results: [[array([          0,    0.001001,    0.002002,    0.003003,    0.004004,    0.005005,    0.006006,    0.007007,    0.008008,    0.009009,     0.01001,    0.011011,    0.012012,    0.013013,    0.014014,    0.015015,    0.016016,    0.017017,    0.018018,    0.019019,     0.02002,    0.021021,    0.022022,    0.023023,\n",
       "          0.024024,    0.025025,    0.026026,    0.027027,    0.028028,    0.029029,     0.03003,    0.031031,    0.032032,    0.033033,    0.034034,    0.035035,    0.036036,    0.037037,    0.038038,    0.039039,     0.04004,    0.041041,    0.042042,    0.043043,    0.044044,    0.045045,    0.046046,    0.047047,\n",
       "          0.048048,    0.049049,     0.05005,    0.051051,    0.052052,    0.053053,    0.054054,    0.055055,    0.056056,    0.057057,    0.058058,    0.059059,     0.06006,    0.061061,    0.062062,    0.063063,    0.064064,    0.065065,    0.066066,    0.067067,    0.068068,    0.069069,     0.07007,    0.071071,\n",
       "          0.072072,    0.073073,    0.074074,    0.075075,    0.076076,    0.077077,    0.078078,    0.079079,     0.08008,    0.081081,    0.082082,    0.083083,    0.084084,    0.085085,    0.086086,    0.087087,    0.088088,    0.089089,     0.09009,    0.091091,    0.092092,    0.093093,    0.094094,    0.095095,\n",
       "          0.096096,    0.097097,    0.098098,    0.099099,      0.1001,      0.1011,      0.1021,      0.1031,      0.1041,     0.10511,     0.10611,     0.10711,     0.10811,     0.10911,     0.11011,     0.11111,     0.11211,     0.11311,     0.11411,     0.11512,     0.11612,     0.11712,     0.11812,     0.11912,\n",
       "           0.12012,     0.12112,     0.12212,     0.12312,     0.12412,     0.12513,     0.12613,     0.12713,     0.12813,     0.12913,     0.13013,     0.13113,     0.13213,     0.13313,     0.13413,     0.13514,     0.13614,     0.13714,     0.13814,     0.13914,     0.14014,     0.14114,     0.14214,     0.14314,\n",
       "           0.14414,     0.14515,     0.14615,     0.14715,     0.14815,     0.14915,     0.15015,     0.15115,     0.15215,     0.15315,     0.15415,     0.15516,     0.15616,     0.15716,     0.15816,     0.15916,     0.16016,     0.16116,     0.16216,     0.16316,     0.16416,     0.16517,     0.16617,     0.16717,\n",
       "           0.16817,     0.16917,     0.17017,     0.17117,     0.17217,     0.17317,     0.17417,     0.17518,     0.17618,     0.17718,     0.17818,     0.17918,     0.18018,     0.18118,     0.18218,     0.18318,     0.18418,     0.18519,     0.18619,     0.18719,     0.18819,     0.18919,     0.19019,     0.19119,\n",
       "           0.19219,     0.19319,     0.19419,      0.1952,      0.1962,      0.1972,      0.1982,      0.1992,      0.2002,      0.2012,      0.2022,      0.2032,      0.2042,     0.20521,     0.20621,     0.20721,     0.20821,     0.20921,     0.21021,     0.21121,     0.21221,     0.21321,     0.21421,     0.21522,\n",
       "           0.21622,     0.21722,     0.21822,     0.21922,     0.22022,     0.22122,     0.22222,     0.22322,     0.22422,     0.22523,     0.22623,     0.22723,     0.22823,     0.22923,     0.23023,     0.23123,     0.23223,     0.23323,     0.23423,     0.23524,     0.23624,     0.23724,     0.23824,     0.23924,\n",
       "           0.24024,     0.24124,     0.24224,     0.24324,     0.24424,     0.24525,     0.24625,     0.24725,     0.24825,     0.24925,     0.25025,     0.25125,     0.25225,     0.25325,     0.25425,     0.25526,     0.25626,     0.25726,     0.25826,     0.25926,     0.26026,     0.26126,     0.26226,     0.26326,\n",
       "           0.26426,     0.26527,     0.26627,     0.26727,     0.26827,     0.26927,     0.27027,     0.27127,     0.27227,     0.27327,     0.27427,     0.27528,     0.27628,     0.27728,     0.27828,     0.27928,     0.28028,     0.28128,     0.28228,     0.28328,     0.28428,     0.28529,     0.28629,     0.28729,\n",
       "           0.28829,     0.28929,     0.29029,     0.29129,     0.29229,     0.29329,     0.29429,      0.2953,      0.2963,      0.2973,      0.2983,      0.2993,      0.3003,      0.3013,      0.3023,      0.3033,      0.3043,     0.30531,     0.30631,     0.30731,     0.30831,     0.30931,     0.31031,     0.31131,\n",
       "           0.31231,     0.31331,     0.31431,     0.31532,     0.31632,     0.31732,     0.31832,     0.31932,     0.32032,     0.32132,     0.32232,     0.32332,     0.32432,     0.32533,     0.32633,     0.32733,     0.32833,     0.32933,     0.33033,     0.33133,     0.33233,     0.33333,     0.33433,     0.33534,\n",
       "           0.33634,     0.33734,     0.33834,     0.33934,     0.34034,     0.34134,     0.34234,     0.34334,     0.34434,     0.34535,     0.34635,     0.34735,     0.34835,     0.34935,     0.35035,     0.35135,     0.35235,     0.35335,     0.35435,     0.35536,     0.35636,     0.35736,     0.35836,     0.35936,\n",
       "           0.36036,     0.36136,     0.36236,     0.36336,     0.36436,     0.36537,     0.36637,     0.36737,     0.36837,     0.36937,     0.37037,     0.37137,     0.37237,     0.37337,     0.37437,     0.37538,     0.37638,     0.37738,     0.37838,     0.37938,     0.38038,     0.38138,     0.38238,     0.38338,\n",
       "           0.38438,     0.38539,     0.38639,     0.38739,     0.38839,     0.38939,     0.39039,     0.39139,     0.39239,     0.39339,     0.39439,      0.3954,      0.3964,      0.3974,      0.3984,      0.3994,      0.4004,      0.4014,      0.4024,      0.4034,      0.4044,     0.40541,     0.40641,     0.40741,\n",
       "           0.40841,     0.40941,     0.41041,     0.41141,     0.41241,     0.41341,     0.41441,     0.41542,     0.41642,     0.41742,     0.41842,     0.41942,     0.42042,     0.42142,     0.42242,     0.42342,     0.42442,     0.42543,     0.42643,     0.42743,     0.42843,     0.42943,     0.43043,     0.43143,\n",
       "           0.43243,     0.43343,     0.43443,     0.43544,     0.43644,     0.43744,     0.43844,     0.43944,     0.44044,     0.44144,     0.44244,     0.44344,     0.44444,     0.44545,     0.44645,     0.44745,     0.44845,     0.44945,     0.45045,     0.45145,     0.45245,     0.45345,     0.45445,     0.45546,\n",
       "           0.45646,     0.45746,     0.45846,     0.45946,     0.46046,     0.46146,     0.46246,     0.46346,     0.46446,     0.46547,     0.46647,     0.46747,     0.46847,     0.46947,     0.47047,     0.47147,     0.47247,     0.47347,     0.47447,     0.47548,     0.47648,     0.47748,     0.47848,     0.47948,\n",
       "           0.48048,     0.48148,     0.48248,     0.48348,     0.48448,     0.48549,     0.48649,     0.48749,     0.48849,     0.48949,     0.49049,     0.49149,     0.49249,     0.49349,     0.49449,      0.4955,      0.4965,      0.4975,      0.4985,      0.4995,      0.5005,      0.5015,      0.5025,      0.5035,\n",
       "            0.5045,     0.50551,     0.50651,     0.50751,     0.50851,     0.50951,     0.51051,     0.51151,     0.51251,     0.51351,     0.51451,     0.51552,     0.51652,     0.51752,     0.51852,     0.51952,     0.52052,     0.52152,     0.52252,     0.52352,     0.52452,     0.52553,     0.52653,     0.52753,\n",
       "           0.52853,     0.52953,     0.53053,     0.53153,     0.53253,     0.53353,     0.53453,     0.53554,     0.53654,     0.53754,     0.53854,     0.53954,     0.54054,     0.54154,     0.54254,     0.54354,     0.54454,     0.54555,     0.54655,     0.54755,     0.54855,     0.54955,     0.55055,     0.55155,\n",
       "           0.55255,     0.55355,     0.55455,     0.55556,     0.55656,     0.55756,     0.55856,     0.55956,     0.56056,     0.56156,     0.56256,     0.56356,     0.56456,     0.56557,     0.56657,     0.56757,     0.56857,     0.56957,     0.57057,     0.57157,     0.57257,     0.57357,     0.57457,     0.57558,\n",
       "           0.57658,     0.57758,     0.57858,     0.57958,     0.58058,     0.58158,     0.58258,     0.58358,     0.58458,     0.58559,     0.58659,     0.58759,     0.58859,     0.58959,     0.59059,     0.59159,     0.59259,     0.59359,     0.59459,      0.5956,      0.5966,      0.5976,      0.5986,      0.5996,\n",
       "            0.6006,      0.6016,      0.6026,      0.6036,      0.6046,     0.60561,     0.60661,     0.60761,     0.60861,     0.60961,     0.61061,     0.61161,     0.61261,     0.61361,     0.61461,     0.61562,     0.61662,     0.61762,     0.61862,     0.61962,     0.62062,     0.62162,     0.62262,     0.62362,\n",
       "           0.62462,     0.62563,     0.62663,     0.62763,     0.62863,     0.62963,     0.63063,     0.63163,     0.63263,     0.63363,     0.63463,     0.63564,     0.63664,     0.63764,     0.63864,     0.63964,     0.64064,     0.64164,     0.64264,     0.64364,     0.64464,     0.64565,     0.64665,     0.64765,\n",
       "           0.64865,     0.64965,     0.65065,     0.65165,     0.65265,     0.65365,     0.65465,     0.65566,     0.65666,     0.65766,     0.65866,     0.65966,     0.66066,     0.66166,     0.66266,     0.66366,     0.66466,     0.66567,     0.66667,     0.66767,     0.66867,     0.66967,     0.67067,     0.67167,\n",
       "           0.67267,     0.67367,     0.67467,     0.67568,     0.67668,     0.67768,     0.67868,     0.67968,     0.68068,     0.68168,     0.68268,     0.68368,     0.68468,     0.68569,     0.68669,     0.68769,     0.68869,     0.68969,     0.69069,     0.69169,     0.69269,     0.69369,     0.69469,      0.6957,\n",
       "            0.6967,      0.6977,      0.6987,      0.6997,      0.7007,      0.7017,      0.7027,      0.7037,      0.7047,     0.70571,     0.70671,     0.70771,     0.70871,     0.70971,     0.71071,     0.71171,     0.71271,     0.71371,     0.71471,     0.71572,     0.71672,     0.71772,     0.71872,     0.71972,\n",
       "           0.72072,     0.72172,     0.72272,     0.72372,     0.72472,     0.72573,     0.72673,     0.72773,     0.72873,     0.72973,     0.73073,     0.73173,     0.73273,     0.73373,     0.73473,     0.73574,     0.73674,     0.73774,     0.73874,     0.73974,     0.74074,     0.74174,     0.74274,     0.74374,\n",
       "           0.74474,     0.74575,     0.74675,     0.74775,     0.74875,     0.74975,     0.75075,     0.75175,     0.75275,     0.75375,     0.75475,     0.75576,     0.75676,     0.75776,     0.75876,     0.75976,     0.76076,     0.76176,     0.76276,     0.76376,     0.76476,     0.76577,     0.76677,     0.76777,\n",
       "           0.76877,     0.76977,     0.77077,     0.77177,     0.77277,     0.77377,     0.77477,     0.77578,     0.77678,     0.77778,     0.77878,     0.77978,     0.78078,     0.78178,     0.78278,     0.78378,     0.78478,     0.78579,     0.78679,     0.78779,     0.78879,     0.78979,     0.79079,     0.79179,\n",
       "           0.79279,     0.79379,     0.79479,      0.7958,      0.7968,      0.7978,      0.7988,      0.7998,      0.8008,      0.8018,      0.8028,      0.8038,      0.8048,     0.80581,     0.80681,     0.80781,     0.80881,     0.80981,     0.81081,     0.81181,     0.81281,     0.81381,     0.81481,     0.81582,\n",
       "           0.81682,     0.81782,     0.81882,     0.81982,     0.82082,     0.82182,     0.82282,     0.82382,     0.82482,     0.82583,     0.82683,     0.82783,     0.82883,     0.82983,     0.83083,     0.83183,     0.83283,     0.83383,     0.83483,     0.83584,     0.83684,     0.83784,     0.83884,     0.83984,\n",
       "           0.84084,     0.84184,     0.84284,     0.84384,     0.84484,     0.84585,     0.84685,     0.84785,     0.84885,     0.84985,     0.85085,     0.85185,     0.85285,     0.85385,     0.85485,     0.85586,     0.85686,     0.85786,     0.85886,     0.85986,     0.86086,     0.86186,     0.86286,     0.86386,\n",
       "           0.86486,     0.86587,     0.86687,     0.86787,     0.86887,     0.86987,     0.87087,     0.87187,     0.87287,     0.87387,     0.87487,     0.87588,     0.87688,     0.87788,     0.87888,     0.87988,     0.88088,     0.88188,     0.88288,     0.88388,     0.88488,     0.88589,     0.88689,     0.88789,\n",
       "           0.88889,     0.88989,     0.89089,     0.89189,     0.89289,     0.89389,     0.89489,      0.8959,      0.8969,      0.8979,      0.8989,      0.8999,      0.9009,      0.9019,      0.9029,      0.9039,      0.9049,     0.90591,     0.90691,     0.90791,     0.90891,     0.90991,     0.91091,     0.91191,\n",
       "           0.91291,     0.91391,     0.91491,     0.91592,     0.91692,     0.91792,     0.91892,     0.91992,     0.92092,     0.92192,     0.92292,     0.92392,     0.92492,     0.92593,     0.92693,     0.92793,     0.92893,     0.92993,     0.93093,     0.93193,     0.93293,     0.93393,     0.93493,     0.93594,\n",
       "           0.93694,     0.93794,     0.93894,     0.93994,     0.94094,     0.94194,     0.94294,     0.94394,     0.94494,     0.94595,     0.94695,     0.94795,     0.94895,     0.94995,     0.95095,     0.95195,     0.95295,     0.95395,     0.95495,     0.95596,     0.95696,     0.95796,     0.95896,     0.95996,\n",
       "           0.96096,     0.96196,     0.96296,     0.96396,     0.96496,     0.96597,     0.96697,     0.96797,     0.96897,     0.96997,     0.97097,     0.97197,     0.97297,     0.97397,     0.97497,     0.97598,     0.97698,     0.97798,     0.97898,     0.97998,     0.98098,     0.98198,     0.98298,     0.98398,\n",
       "           0.98498,     0.98599,     0.98699,     0.98799,     0.98899,     0.98999,     0.99099,     0.99199,     0.99299,     0.99399,     0.99499,       0.996,       0.997,       0.998,       0.999,           1]), array([[          1,           1,           1,           1,           1,           1,           1,           1,           1,           1,           1,           1,           1,           1,           1,           1,           1,     0.99893,     0.99893,     0.99893,     0.99893,     0.99893,     0.99893,\n",
       "            0.99893,     0.99893,     0.99893,     0.99893,     0.99893,     0.99893,     0.99893,     0.99893,     0.99893,     0.99893,     0.99893,     0.99893,     0.99893,     0.99893,     0.99893,     0.99893,     0.99893,     0.99893,     0.99893,     0.99893,     0.99893,     0.99893,     0.99893,\n",
       "            0.99893,     0.99893,     0.99893,     0.99893,     0.99893,     0.99893,     0.99893,     0.99893,     0.99893,     0.99893,     0.99893,     0.99893,     0.99893,     0.99893,     0.99893,     0.99893,     0.99893,     0.99893,     0.99893,     0.99893,     0.99893,     0.99893,     0.99893,\n",
       "            0.99893,     0.99893,     0.99893,     0.99893,     0.99893,     0.99893,     0.99893,     0.99893,     0.99893,     0.99893,     0.99893,     0.99893,     0.99893,     0.99893,     0.99893,     0.99893,     0.99893,     0.99893,     0.99893,     0.99893,     0.99893,     0.99893,     0.99893,\n",
       "            0.99893,     0.99893,     0.99893,     0.99893,     0.99893,     0.99893,     0.99893,     0.99893,     0.99893,     0.99893,     0.99893,     0.99893,     0.99893,     0.99893,     0.99893,     0.99893,     0.99893,     0.99893,     0.99893,     0.99893,     0.99893,     0.99893,     0.99893,\n",
       "            0.99893,     0.99893,     0.99893,     0.99893,     0.99893,     0.99893,     0.99893,     0.99893,     0.99893,     0.99893,     0.99893,     0.99893,     0.99893,     0.99893,     0.99893,     0.99893,     0.99893,     0.99893,     0.99893,     0.99893,     0.99893,     0.99893,     0.99893,\n",
       "            0.99893,     0.99893,     0.99893,     0.99893,     0.99893,     0.99893,     0.99893,     0.99893,     0.99893,     0.99893,     0.99893,     0.99893,     0.99893,     0.99893,     0.99893,     0.99893,     0.99893,     0.99893,     0.99893,     0.99893,     0.99893,     0.99893,     0.99893,\n",
       "            0.99893,     0.99893,     0.99893,     0.99893,     0.99893,     0.99893,     0.99893,     0.99893,     0.99893,     0.99893,     0.99893,     0.99893,     0.99893,     0.99893,     0.99893,     0.99893,     0.99893,     0.99893,     0.99893,     0.99893,     0.99893,     0.99893,     0.99893,\n",
       "            0.99893,     0.99893,     0.99893,     0.99893,     0.99893,     0.99893,     0.99893,     0.99893,     0.99893,     0.99893,     0.99893,     0.99893,     0.99893,     0.99893,     0.99893,     0.99893,     0.99893,     0.99893,     0.99893,     0.99893,     0.99893,     0.99893,     0.99893,\n",
       "            0.99893,     0.99893,     0.99893,     0.99893,     0.99893,     0.99893,     0.99893,     0.99893,     0.99893,     0.99893,     0.99893,     0.99893,     0.99893,     0.99893,     0.99893,     0.99893,     0.99893,     0.99893,     0.99893,     0.99893,     0.99893,     0.99893,     0.99893,\n",
       "            0.99893,     0.99893,     0.99893,     0.99893,     0.99893,     0.99893,     0.99893,     0.99893,     0.99893,     0.99893,     0.99893,     0.99893,     0.99893,     0.99893,     0.99893,     0.99893,     0.99893,     0.99893,     0.99893,     0.99883,     0.99883,     0.99883,     0.99883,\n",
       "            0.99883,     0.99883,     0.99883,     0.99883,     0.99883,     0.99883,     0.99883,     0.99883,     0.99883,     0.99883,     0.99883,     0.99883,     0.99883,     0.99869,     0.99869,     0.99869,     0.99869,     0.99856,     0.99856,     0.99856,     0.99856,     0.99856,     0.99856,\n",
       "            0.99856,     0.99856,     0.99856,     0.99856,     0.99856,     0.99856,     0.99856,     0.99856,     0.99856,     0.99856,     0.99856,     0.99856,     0.99856,     0.99856,     0.99856,     0.99856,     0.99856,     0.99856,     0.99856,     0.99856,     0.99856,     0.99856,     0.99856,\n",
       "            0.99856,     0.99856,     0.99856,     0.99856,     0.99856,     0.99856,     0.99856,     0.99856,     0.99845,     0.99845,     0.99845,     0.99845,     0.99845,     0.99845,     0.99845,      0.9984,      0.9984,      0.9984,      0.9984,      0.9984,      0.9984,      0.9984,      0.9984,\n",
       "             0.9984,      0.9984,      0.9984,      0.9984,      0.9984,      0.9984,      0.9984,      0.9984,      0.9984,      0.9984,      0.9984,     0.99836,     0.99836,     0.99836,     0.99836,     0.99836,     0.99836,     0.99836,     0.99836,     0.99836,     0.99836,     0.99836,     0.99836,\n",
       "            0.99836,     0.99836,     0.99836,     0.99836,     0.99836,     0.99811,     0.99811,     0.99799,     0.99776,     0.99776,     0.99776,     0.99769,     0.99769,     0.99769,     0.99769,     0.99769,     0.99769,     0.99769,     0.99769,     0.99759,     0.99759,     0.99759,      0.9975,\n",
       "             0.9975,      0.9975,      0.9975,      0.9975,      0.9975,      0.9975,      0.9975,      0.9975,      0.9975,      0.9975,      0.9975,      0.9975,      0.9975,      0.9975,      0.9975,      0.9975,      0.9975,      0.9975,      0.9975,      0.9975,      0.9975,      0.9975,      0.9975,\n",
       "             0.9975,      0.9975,      0.9975,      0.9975,      0.9975,      0.9975,      0.9975,      0.9975,      0.9975,      0.9975,      0.9975,      0.9975,      0.9975,      0.9975,      0.9975,      0.9975,      0.9975,      0.9975,      0.9975,      0.9975,      0.9975,      0.9975,      0.9975,\n",
       "             0.9975,      0.9975,      0.9975,      0.9975,      0.9975,      0.9975,      0.9975,      0.9975,      0.9975,      0.9975,      0.9975,      0.9975,      0.9975,      0.9975,      0.9975,      0.9975,      0.9975,      0.9975,      0.9975,      0.9975,      0.9975,      0.9975,      0.9975,\n",
       "             0.9975,      0.9975,      0.9975,      0.9975,      0.9975,      0.9975,      0.9975,      0.9975,      0.9975,      0.9975,      0.9975,      0.9975,      0.9975,      0.9975,      0.9975,      0.9975,      0.9975,      0.9975,      0.9975,      0.9975,      0.9975,      0.9975,      0.9975,\n",
       "             0.9975,      0.9975,      0.9975,      0.9975,      0.9975,      0.9975,      0.9975,      0.9975,      0.9975,      0.9975,      0.9975,      0.9975,      0.9975,      0.9975,      0.9975,      0.9975,      0.9975,      0.9975,      0.9975,      0.9975,      0.9975,      0.9975,      0.9975,\n",
       "             0.9975,      0.9975,      0.9975,      0.9975,      0.9975,      0.9975,      0.9975,      0.9975,      0.9975,      0.9975,      0.9975,      0.9975,      0.9975,      0.9975,      0.9975,      0.9975,      0.9975,      0.9975,      0.9975,      0.9975,      0.9975,      0.9975,      0.9975,\n",
       "             0.9975,      0.9975,      0.9975,      0.9975,      0.9975,      0.9975,      0.9975,      0.9975,      0.9975,      0.9975,      0.9975,      0.9975,      0.9975,      0.9975,      0.9975,      0.9975,      0.9975,      0.9975,      0.9975,      0.9975,      0.9975,      0.9975,      0.9975,\n",
       "             0.9975,      0.9975,      0.9975,      0.9975,      0.9975,      0.9975,      0.9975,      0.9975,      0.9975,      0.9975,      0.9975,      0.9975,      0.9975,      0.9975,      0.9975,      0.9975,      0.9975,      0.9975,      0.9975,      0.9975,      0.9975,      0.9975,      0.9975,\n",
       "             0.9975,      0.9975,      0.9975,      0.9975,      0.9975,      0.9975,      0.9975,      0.9975,      0.9975,      0.9975,      0.9975,      0.9975,      0.9975,      0.9975,      0.9975,      0.9975,      0.9975,      0.9975,      0.9975,      0.9975,      0.9975,      0.9975,      0.9975,\n",
       "             0.9975,      0.9975,      0.9975,      0.9975,      0.9975,      0.9975,      0.9975,      0.9975,      0.9975,     0.99745,     0.99745,     0.99745,     0.99745,     0.99745,     0.99745,     0.99745,     0.99745,     0.99745,     0.99745,     0.99745,     0.99745,     0.99745,     0.99745,\n",
       "            0.99745,     0.99745,     0.99745,     0.99745,     0.99745,     0.99745,     0.99745,     0.99745,     0.99745,     0.99745,      0.9974,      0.9974,      0.9974,      0.9974,     0.99735,     0.99735,     0.99735,     0.99735,     0.99735,     0.99731,     0.99731,     0.99731,     0.99731,\n",
       "            0.99731,     0.99731,     0.99731,     0.99731,     0.99727,     0.99727,     0.99727,     0.99727,     0.99727,     0.99727,     0.99724,     0.99724,     0.99724,     0.99724,     0.99724,     0.99724,     0.99724,     0.99724,     0.99724,     0.99719,     0.99719,     0.99719,     0.99719,\n",
       "            0.99715,     0.99715,     0.99715,     0.99715,     0.99715,     0.99715,     0.99715,     0.99712,     0.99712,     0.99712,     0.99712,     0.99712,     0.99712,     0.99712,     0.99712,     0.99712,     0.99712,     0.99699,     0.99695,     0.99695,     0.99695,     0.99695,     0.99691,\n",
       "            0.99691,     0.99691,     0.99691,     0.99691,     0.99691,      0.9968,      0.9968,      0.9968,      0.9968,     0.99676,     0.99676,     0.99676,     0.99676,     0.99676,     0.99676,     0.99671,     0.99671,      0.9967,      0.9967,      0.9967,      0.9967,      0.9967,      0.9967,\n",
       "             0.9967,      0.9967,      0.9967,      0.9967,      0.9967,      0.9967,      0.9967,      0.9967,      0.9967,      0.9967,      0.9967,      0.9967,      0.9967,      0.9967,      0.9967,      0.9967,      0.9967,      0.9967,      0.9967,      0.9967,     0.99668,     0.99668,     0.99668,\n",
       "            0.99668,     0.99668,     0.99668,     0.99668,     0.99668,     0.99662,     0.99662,     0.99659,     0.99659,     0.99659,     0.99659,     0.99659,     0.99655,     0.99655,     0.99655,     0.99655,     0.99655,     0.99653,     0.99653,     0.99653,     0.99653,     0.99653,     0.99653,\n",
       "            0.99653,     0.99653,     0.99653,     0.99636,     0.99631,     0.99625,     0.99625,     0.99622,     0.99622,     0.99622,     0.99622,     0.99618,     0.99618,     0.99618,     0.99618,     0.99618,     0.99614,     0.99614,     0.99614,     0.99611,     0.99611,     0.99611,     0.99611,\n",
       "            0.99611,     0.99611,     0.99607,     0.99607,     0.99607,     0.99607,     0.99603,     0.99603,       0.996,       0.996,       0.996,       0.996,       0.996,     0.99594,      0.9959,      0.9959,     0.99585,     0.99585,     0.99585,     0.99585,     0.99585,     0.99585,     0.99585,\n",
       "            0.99585,     0.99585,     0.99585,     0.99585,     0.99585,      0.9958,     0.99575,     0.99566,     0.99566,     0.99566,     0.99566,     0.99562,     0.99562,     0.99557,     0.99557,     0.99553,     0.99553,     0.99543,     0.99538,     0.99538,     0.99535,     0.99535,     0.99535,\n",
       "            0.99535,     0.99531,     0.99531,     0.99526,     0.99515,      0.9951,     0.99507,     0.99507,     0.99502,     0.99497,     0.99487,     0.99482,     0.99477,     0.99473,     0.99473,     0.99468,     0.99464,     0.99464,     0.99455,     0.99455,     0.99453,     0.99453,     0.99453,\n",
       "            0.99453,     0.99453,      0.9945,      0.9945,      0.9945,     0.99447,     0.99447,     0.99447,     0.99447,     0.99443,     0.99438,     0.99429,     0.99429,     0.99425,     0.99425,     0.99415,     0.99411,     0.99406,     0.99402,     0.99398,     0.99395,     0.99395,     0.99395,\n",
       "             0.9939,     0.99386,     0.99381,     0.99367,     0.99362,     0.99358,     0.99353,     0.99344,     0.99339,      0.9933,     0.99326,     0.99321,     0.99303,     0.99303,     0.99299,     0.99294,     0.99291,     0.99291,     0.99283,     0.99283,     0.99283,     0.99279,     0.99265,\n",
       "            0.99261,     0.99247,     0.99238,     0.99213,       0.992,      0.9919,     0.99176,     0.99153,     0.99135,     0.99125,     0.99088,     0.99088,     0.99074,     0.99065,     0.99052,     0.99033,     0.99024,     0.99011,     0.98984,     0.98974,     0.98956,     0.98943,     0.98924,\n",
       "            0.98916,     0.98893,     0.98851,     0.98828,      0.9881,     0.98778,     0.98737,     0.98723,     0.98667,     0.98645,     0.98632,     0.98601,     0.98564,     0.98552,     0.98539,     0.98512,     0.98471,     0.98431,      0.9839,     0.98359,     0.98305,     0.98252,     0.98229,\n",
       "            0.98162,     0.98127,      0.9811,     0.98075,     0.98036,      0.9796,     0.97902,     0.97826,     0.97733,     0.97649,     0.97574,     0.97532,     0.97422,     0.97366,     0.97278,     0.97111,     0.97003,      0.9689,     0.96734,     0.96592,     0.96363,     0.96275,      0.9614,\n",
       "            0.95918,     0.95759,      0.9548,     0.95217,     0.94791,     0.94649,     0.94408,     0.94074,     0.93604,     0.93257,     0.92658,     0.92229,     0.91745,     0.91218,     0.90368,     0.89273,     0.88263,     0.86554,     0.84744,     0.82704,     0.79784,     0.75957,     0.70488,\n",
       "            0.61998,     0.51801,     0.44705,     0.43263,     0.41821,     0.40379,     0.38936,     0.37494,     0.36052,      0.3461,     0.33168,     0.31726,     0.30284,     0.28842,       0.274,     0.25958,     0.24516,     0.23073,     0.21631,     0.20189,     0.18747,     0.17305,     0.15863,\n",
       "            0.14421,     0.12979,     0.11537,     0.10095,    0.086525,    0.072105,    0.057684,    0.043263,    0.028842,    0.014421,           0]]), 'Recall', 'Precision'], [array([          0,    0.001001,    0.002002,    0.003003,    0.004004,    0.005005,    0.006006,    0.007007,    0.008008,    0.009009,     0.01001,    0.011011,    0.012012,    0.013013,    0.014014,    0.015015,    0.016016,    0.017017,    0.018018,    0.019019,     0.02002,    0.021021,    0.022022,    0.023023,\n",
       "          0.024024,    0.025025,    0.026026,    0.027027,    0.028028,    0.029029,     0.03003,    0.031031,    0.032032,    0.033033,    0.034034,    0.035035,    0.036036,    0.037037,    0.038038,    0.039039,     0.04004,    0.041041,    0.042042,    0.043043,    0.044044,    0.045045,    0.046046,    0.047047,\n",
       "          0.048048,    0.049049,     0.05005,    0.051051,    0.052052,    0.053053,    0.054054,    0.055055,    0.056056,    0.057057,    0.058058,    0.059059,     0.06006,    0.061061,    0.062062,    0.063063,    0.064064,    0.065065,    0.066066,    0.067067,    0.068068,    0.069069,     0.07007,    0.071071,\n",
       "          0.072072,    0.073073,    0.074074,    0.075075,    0.076076,    0.077077,    0.078078,    0.079079,     0.08008,    0.081081,    0.082082,    0.083083,    0.084084,    0.085085,    0.086086,    0.087087,    0.088088,    0.089089,     0.09009,    0.091091,    0.092092,    0.093093,    0.094094,    0.095095,\n",
       "          0.096096,    0.097097,    0.098098,    0.099099,      0.1001,      0.1011,      0.1021,      0.1031,      0.1041,     0.10511,     0.10611,     0.10711,     0.10811,     0.10911,     0.11011,     0.11111,     0.11211,     0.11311,     0.11411,     0.11512,     0.11612,     0.11712,     0.11812,     0.11912,\n",
       "           0.12012,     0.12112,     0.12212,     0.12312,     0.12412,     0.12513,     0.12613,     0.12713,     0.12813,     0.12913,     0.13013,     0.13113,     0.13213,     0.13313,     0.13413,     0.13514,     0.13614,     0.13714,     0.13814,     0.13914,     0.14014,     0.14114,     0.14214,     0.14314,\n",
       "           0.14414,     0.14515,     0.14615,     0.14715,     0.14815,     0.14915,     0.15015,     0.15115,     0.15215,     0.15315,     0.15415,     0.15516,     0.15616,     0.15716,     0.15816,     0.15916,     0.16016,     0.16116,     0.16216,     0.16316,     0.16416,     0.16517,     0.16617,     0.16717,\n",
       "           0.16817,     0.16917,     0.17017,     0.17117,     0.17217,     0.17317,     0.17417,     0.17518,     0.17618,     0.17718,     0.17818,     0.17918,     0.18018,     0.18118,     0.18218,     0.18318,     0.18418,     0.18519,     0.18619,     0.18719,     0.18819,     0.18919,     0.19019,     0.19119,\n",
       "           0.19219,     0.19319,     0.19419,      0.1952,      0.1962,      0.1972,      0.1982,      0.1992,      0.2002,      0.2012,      0.2022,      0.2032,      0.2042,     0.20521,     0.20621,     0.20721,     0.20821,     0.20921,     0.21021,     0.21121,     0.21221,     0.21321,     0.21421,     0.21522,\n",
       "           0.21622,     0.21722,     0.21822,     0.21922,     0.22022,     0.22122,     0.22222,     0.22322,     0.22422,     0.22523,     0.22623,     0.22723,     0.22823,     0.22923,     0.23023,     0.23123,     0.23223,     0.23323,     0.23423,     0.23524,     0.23624,     0.23724,     0.23824,     0.23924,\n",
       "           0.24024,     0.24124,     0.24224,     0.24324,     0.24424,     0.24525,     0.24625,     0.24725,     0.24825,     0.24925,     0.25025,     0.25125,     0.25225,     0.25325,     0.25425,     0.25526,     0.25626,     0.25726,     0.25826,     0.25926,     0.26026,     0.26126,     0.26226,     0.26326,\n",
       "           0.26426,     0.26527,     0.26627,     0.26727,     0.26827,     0.26927,     0.27027,     0.27127,     0.27227,     0.27327,     0.27427,     0.27528,     0.27628,     0.27728,     0.27828,     0.27928,     0.28028,     0.28128,     0.28228,     0.28328,     0.28428,     0.28529,     0.28629,     0.28729,\n",
       "           0.28829,     0.28929,     0.29029,     0.29129,     0.29229,     0.29329,     0.29429,      0.2953,      0.2963,      0.2973,      0.2983,      0.2993,      0.3003,      0.3013,      0.3023,      0.3033,      0.3043,     0.30531,     0.30631,     0.30731,     0.30831,     0.30931,     0.31031,     0.31131,\n",
       "           0.31231,     0.31331,     0.31431,     0.31532,     0.31632,     0.31732,     0.31832,     0.31932,     0.32032,     0.32132,     0.32232,     0.32332,     0.32432,     0.32533,     0.32633,     0.32733,     0.32833,     0.32933,     0.33033,     0.33133,     0.33233,     0.33333,     0.33433,     0.33534,\n",
       "           0.33634,     0.33734,     0.33834,     0.33934,     0.34034,     0.34134,     0.34234,     0.34334,     0.34434,     0.34535,     0.34635,     0.34735,     0.34835,     0.34935,     0.35035,     0.35135,     0.35235,     0.35335,     0.35435,     0.35536,     0.35636,     0.35736,     0.35836,     0.35936,\n",
       "           0.36036,     0.36136,     0.36236,     0.36336,     0.36436,     0.36537,     0.36637,     0.36737,     0.36837,     0.36937,     0.37037,     0.37137,     0.37237,     0.37337,     0.37437,     0.37538,     0.37638,     0.37738,     0.37838,     0.37938,     0.38038,     0.38138,     0.38238,     0.38338,\n",
       "           0.38438,     0.38539,     0.38639,     0.38739,     0.38839,     0.38939,     0.39039,     0.39139,     0.39239,     0.39339,     0.39439,      0.3954,      0.3964,      0.3974,      0.3984,      0.3994,      0.4004,      0.4014,      0.4024,      0.4034,      0.4044,     0.40541,     0.40641,     0.40741,\n",
       "           0.40841,     0.40941,     0.41041,     0.41141,     0.41241,     0.41341,     0.41441,     0.41542,     0.41642,     0.41742,     0.41842,     0.41942,     0.42042,     0.42142,     0.42242,     0.42342,     0.42442,     0.42543,     0.42643,     0.42743,     0.42843,     0.42943,     0.43043,     0.43143,\n",
       "           0.43243,     0.43343,     0.43443,     0.43544,     0.43644,     0.43744,     0.43844,     0.43944,     0.44044,     0.44144,     0.44244,     0.44344,     0.44444,     0.44545,     0.44645,     0.44745,     0.44845,     0.44945,     0.45045,     0.45145,     0.45245,     0.45345,     0.45445,     0.45546,\n",
       "           0.45646,     0.45746,     0.45846,     0.45946,     0.46046,     0.46146,     0.46246,     0.46346,     0.46446,     0.46547,     0.46647,     0.46747,     0.46847,     0.46947,     0.47047,     0.47147,     0.47247,     0.47347,     0.47447,     0.47548,     0.47648,     0.47748,     0.47848,     0.47948,\n",
       "           0.48048,     0.48148,     0.48248,     0.48348,     0.48448,     0.48549,     0.48649,     0.48749,     0.48849,     0.48949,     0.49049,     0.49149,     0.49249,     0.49349,     0.49449,      0.4955,      0.4965,      0.4975,      0.4985,      0.4995,      0.5005,      0.5015,      0.5025,      0.5035,\n",
       "            0.5045,     0.50551,     0.50651,     0.50751,     0.50851,     0.50951,     0.51051,     0.51151,     0.51251,     0.51351,     0.51451,     0.51552,     0.51652,     0.51752,     0.51852,     0.51952,     0.52052,     0.52152,     0.52252,     0.52352,     0.52452,     0.52553,     0.52653,     0.52753,\n",
       "           0.52853,     0.52953,     0.53053,     0.53153,     0.53253,     0.53353,     0.53453,     0.53554,     0.53654,     0.53754,     0.53854,     0.53954,     0.54054,     0.54154,     0.54254,     0.54354,     0.54454,     0.54555,     0.54655,     0.54755,     0.54855,     0.54955,     0.55055,     0.55155,\n",
       "           0.55255,     0.55355,     0.55455,     0.55556,     0.55656,     0.55756,     0.55856,     0.55956,     0.56056,     0.56156,     0.56256,     0.56356,     0.56456,     0.56557,     0.56657,     0.56757,     0.56857,     0.56957,     0.57057,     0.57157,     0.57257,     0.57357,     0.57457,     0.57558,\n",
       "           0.57658,     0.57758,     0.57858,     0.57958,     0.58058,     0.58158,     0.58258,     0.58358,     0.58458,     0.58559,     0.58659,     0.58759,     0.58859,     0.58959,     0.59059,     0.59159,     0.59259,     0.59359,     0.59459,      0.5956,      0.5966,      0.5976,      0.5986,      0.5996,\n",
       "            0.6006,      0.6016,      0.6026,      0.6036,      0.6046,     0.60561,     0.60661,     0.60761,     0.60861,     0.60961,     0.61061,     0.61161,     0.61261,     0.61361,     0.61461,     0.61562,     0.61662,     0.61762,     0.61862,     0.61962,     0.62062,     0.62162,     0.62262,     0.62362,\n",
       "           0.62462,     0.62563,     0.62663,     0.62763,     0.62863,     0.62963,     0.63063,     0.63163,     0.63263,     0.63363,     0.63463,     0.63564,     0.63664,     0.63764,     0.63864,     0.63964,     0.64064,     0.64164,     0.64264,     0.64364,     0.64464,     0.64565,     0.64665,     0.64765,\n",
       "           0.64865,     0.64965,     0.65065,     0.65165,     0.65265,     0.65365,     0.65465,     0.65566,     0.65666,     0.65766,     0.65866,     0.65966,     0.66066,     0.66166,     0.66266,     0.66366,     0.66466,     0.66567,     0.66667,     0.66767,     0.66867,     0.66967,     0.67067,     0.67167,\n",
       "           0.67267,     0.67367,     0.67467,     0.67568,     0.67668,     0.67768,     0.67868,     0.67968,     0.68068,     0.68168,     0.68268,     0.68368,     0.68468,     0.68569,     0.68669,     0.68769,     0.68869,     0.68969,     0.69069,     0.69169,     0.69269,     0.69369,     0.69469,      0.6957,\n",
       "            0.6967,      0.6977,      0.6987,      0.6997,      0.7007,      0.7017,      0.7027,      0.7037,      0.7047,     0.70571,     0.70671,     0.70771,     0.70871,     0.70971,     0.71071,     0.71171,     0.71271,     0.71371,     0.71471,     0.71572,     0.71672,     0.71772,     0.71872,     0.71972,\n",
       "           0.72072,     0.72172,     0.72272,     0.72372,     0.72472,     0.72573,     0.72673,     0.72773,     0.72873,     0.72973,     0.73073,     0.73173,     0.73273,     0.73373,     0.73473,     0.73574,     0.73674,     0.73774,     0.73874,     0.73974,     0.74074,     0.74174,     0.74274,     0.74374,\n",
       "           0.74474,     0.74575,     0.74675,     0.74775,     0.74875,     0.74975,     0.75075,     0.75175,     0.75275,     0.75375,     0.75475,     0.75576,     0.75676,     0.75776,     0.75876,     0.75976,     0.76076,     0.76176,     0.76276,     0.76376,     0.76476,     0.76577,     0.76677,     0.76777,\n",
       "           0.76877,     0.76977,     0.77077,     0.77177,     0.77277,     0.77377,     0.77477,     0.77578,     0.77678,     0.77778,     0.77878,     0.77978,     0.78078,     0.78178,     0.78278,     0.78378,     0.78478,     0.78579,     0.78679,     0.78779,     0.78879,     0.78979,     0.79079,     0.79179,\n",
       "           0.79279,     0.79379,     0.79479,      0.7958,      0.7968,      0.7978,      0.7988,      0.7998,      0.8008,      0.8018,      0.8028,      0.8038,      0.8048,     0.80581,     0.80681,     0.80781,     0.80881,     0.80981,     0.81081,     0.81181,     0.81281,     0.81381,     0.81481,     0.81582,\n",
       "           0.81682,     0.81782,     0.81882,     0.81982,     0.82082,     0.82182,     0.82282,     0.82382,     0.82482,     0.82583,     0.82683,     0.82783,     0.82883,     0.82983,     0.83083,     0.83183,     0.83283,     0.83383,     0.83483,     0.83584,     0.83684,     0.83784,     0.83884,     0.83984,\n",
       "           0.84084,     0.84184,     0.84284,     0.84384,     0.84484,     0.84585,     0.84685,     0.84785,     0.84885,     0.84985,     0.85085,     0.85185,     0.85285,     0.85385,     0.85485,     0.85586,     0.85686,     0.85786,     0.85886,     0.85986,     0.86086,     0.86186,     0.86286,     0.86386,\n",
       "           0.86486,     0.86587,     0.86687,     0.86787,     0.86887,     0.86987,     0.87087,     0.87187,     0.87287,     0.87387,     0.87487,     0.87588,     0.87688,     0.87788,     0.87888,     0.87988,     0.88088,     0.88188,     0.88288,     0.88388,     0.88488,     0.88589,     0.88689,     0.88789,\n",
       "           0.88889,     0.88989,     0.89089,     0.89189,     0.89289,     0.89389,     0.89489,      0.8959,      0.8969,      0.8979,      0.8989,      0.8999,      0.9009,      0.9019,      0.9029,      0.9039,      0.9049,     0.90591,     0.90691,     0.90791,     0.90891,     0.90991,     0.91091,     0.91191,\n",
       "           0.91291,     0.91391,     0.91491,     0.91592,     0.91692,     0.91792,     0.91892,     0.91992,     0.92092,     0.92192,     0.92292,     0.92392,     0.92492,     0.92593,     0.92693,     0.92793,     0.92893,     0.92993,     0.93093,     0.93193,     0.93293,     0.93393,     0.93493,     0.93594,\n",
       "           0.93694,     0.93794,     0.93894,     0.93994,     0.94094,     0.94194,     0.94294,     0.94394,     0.94494,     0.94595,     0.94695,     0.94795,     0.94895,     0.94995,     0.95095,     0.95195,     0.95295,     0.95395,     0.95495,     0.95596,     0.95696,     0.95796,     0.95896,     0.95996,\n",
       "           0.96096,     0.96196,     0.96296,     0.96396,     0.96496,     0.96597,     0.96697,     0.96797,     0.96897,     0.96997,     0.97097,     0.97197,     0.97297,     0.97397,     0.97497,     0.97598,     0.97698,     0.97798,     0.97898,     0.97998,     0.98098,     0.98198,     0.98298,     0.98398,\n",
       "           0.98498,     0.98599,     0.98699,     0.98799,     0.98899,     0.98999,     0.99099,     0.99199,     0.99299,     0.99399,     0.99499,       0.996,       0.997,       0.998,       0.999,           1]), array([[    0.61718,     0.61718,     0.71054,     0.75737,     0.78614,     0.80647,      0.8207,     0.83211,     0.84241,     0.85066,     0.85771,     0.86351,     0.86856,     0.87202,     0.87593,     0.87974,     0.88229,     0.88509,     0.88791,     0.89061,     0.89267,     0.89424,     0.89609,\n",
       "            0.89781,      0.8995,     0.90096,     0.90265,     0.90395,     0.90528,     0.90664,     0.90765,     0.90881,     0.90959,     0.91055,     0.91131,     0.91241,     0.91332,     0.91465,     0.91524,      0.9161,     0.91676,     0.91736,     0.91818,     0.91886,     0.91967,      0.9204,\n",
       "            0.92105,     0.92143,     0.92205,     0.92252,     0.92317,     0.92389,      0.9243,      0.9249,     0.92541,     0.92585,     0.92625,     0.92675,     0.92722,     0.92765,     0.92808,     0.92851,     0.92906,     0.92937,     0.92962,     0.93012,     0.93062,     0.93108,     0.93139,\n",
       "            0.93162,     0.93204,     0.93248,     0.93283,     0.93311,      0.9334,     0.93371,     0.93389,     0.93422,     0.93453,     0.93491,     0.93523,     0.93547,     0.93584,     0.93601,     0.93603,     0.93635,     0.93663,     0.93676,     0.93697,     0.93728,     0.93741,     0.93759,\n",
       "            0.93792,     0.93814,     0.93835,     0.93854,     0.93871,      0.9388,     0.93898,     0.93916,     0.93929,     0.93944,     0.93968,      0.9398,     0.94003,     0.94033,     0.94062,     0.94076,     0.94087,       0.941,      0.9412,     0.94139,     0.94151,     0.94161,      0.9418,\n",
       "            0.94192,     0.94219,     0.94233,     0.94247,     0.94264,     0.94283,     0.94297,      0.9431,     0.94326,     0.94328,     0.94346,     0.94354,      0.9435,     0.94369,      0.9439,     0.94397,     0.94406,     0.94438,     0.94447,     0.94454,     0.94467,     0.94483,     0.94498,\n",
       "            0.94506,     0.94518,     0.94529,     0.94548,      0.9456,     0.94572,     0.94582,     0.94595,     0.94596,     0.94607,     0.94614,     0.94631,     0.94637,     0.94653,      0.9466,     0.94666,     0.94676,     0.94701,       0.947,     0.94717,     0.94727,     0.94737,     0.94728,\n",
       "            0.94736,     0.94746,     0.94752,     0.94767,     0.94775,     0.94773,     0.94772,     0.94778,     0.94783,     0.94787,     0.94785,     0.94788,     0.94791,     0.94797,     0.94794,     0.94794,     0.94798,     0.94811,     0.94821,     0.94834,     0.94837,     0.94849,     0.94867,\n",
       "            0.94879,     0.94893,     0.94896,     0.94902,     0.94911,     0.94922,      0.9494,     0.94947,     0.94948,     0.94957,     0.94957,     0.94959,     0.94962,     0.94963,      0.9497,     0.94966,     0.94984,     0.94996,        0.95,     0.95014,     0.95019,     0.95032,     0.95032,\n",
       "            0.95036,     0.95035,     0.95038,      0.9505,      0.9505,     0.95051,     0.95056,     0.95064,     0.95079,     0.95077,     0.95079,     0.95089,     0.95091,     0.95105,     0.95109,     0.95119,     0.95125,     0.95133,     0.95131,     0.95139,     0.95146,     0.95147,     0.95146,\n",
       "            0.95148,     0.95147,     0.95143,     0.95153,      0.9515,     0.95155,     0.95166,     0.95179,     0.95184,     0.95181,     0.95193,     0.95198,     0.95209,     0.95208,     0.95201,     0.95204,      0.9521,     0.95209,     0.95214,     0.95211,     0.95216,     0.95214,     0.95223,\n",
       "            0.95223,     0.95223,     0.95222,     0.95213,     0.95209,     0.95207,     0.95213,     0.95218,     0.95215,     0.95215,     0.95218,     0.95217,     0.95225,     0.95228,     0.95233,     0.95253,     0.95259,     0.95266,     0.95262,     0.95263,     0.95263,      0.9526,     0.95265,\n",
       "            0.95272,     0.95274,     0.95277,     0.95273,     0.95282,     0.95278,     0.95284,     0.95284,     0.95286,     0.95293,     0.95292,     0.95291,     0.95291,     0.95289,     0.95287,     0.95292,     0.95296,     0.95299,     0.95302,     0.95304,     0.95301,     0.95308,     0.95312,\n",
       "            0.95309,     0.95306,     0.95308,     0.95313,     0.95323,     0.95315,     0.95314,     0.95314,     0.95312,     0.95329,     0.95326,     0.95324,     0.95323,     0.95322,     0.95319,     0.95322,     0.95319,     0.95319,     0.95319,     0.95317,     0.95318,      0.9532,     0.95316,\n",
       "            0.95319,     0.95315,     0.95326,      0.9532,     0.95321,      0.9532,     0.95327,     0.95327,     0.95327,     0.95331,     0.95327,      0.9533,      0.9533,     0.95333,     0.95333,     0.95342,     0.95347,     0.95345,     0.95341,     0.95349,      0.9534,     0.95337,     0.95345,\n",
       "            0.95336,     0.95343,     0.95343,     0.95349,     0.95347,     0.95344,     0.95343,     0.95337,     0.95328,     0.95321,     0.95318,     0.95312,     0.95317,     0.95324,     0.95328,     0.95323,     0.95325,     0.95322,     0.95322,     0.95324,      0.9532,     0.95316,     0.95314,\n",
       "            0.95314,     0.95311,     0.95303,     0.95307,     0.95301,      0.9529,     0.95282,     0.95282,     0.95284,     0.95284,     0.95272,     0.95262,     0.95262,     0.95265,     0.95267,     0.95263,     0.95264,     0.95258,     0.95264,      0.9526,     0.95262,     0.95264,     0.95262,\n",
       "            0.95266,     0.95259,     0.95253,     0.95253,     0.95249,     0.95246,     0.95243,      0.9524,     0.95242,     0.95248,     0.95246,     0.95247,     0.95245,     0.95242,     0.95237,      0.9524,     0.95226,     0.95227,     0.95226,     0.95226,     0.95226,     0.95222,     0.95219,\n",
       "            0.95219,     0.95214,     0.95215,     0.95209,     0.95207,     0.95209,       0.952,     0.95195,     0.95194,     0.95202,     0.95198,     0.95195,     0.95192,     0.95184,     0.95184,     0.95183,     0.95176,     0.95173,      0.9516,     0.95157,     0.95155,     0.95147,     0.95132,\n",
       "            0.95133,     0.95125,     0.95117,     0.95114,     0.95107,     0.95094,     0.95092,     0.95082,     0.95072,     0.95065,     0.95059,     0.95058,     0.95049,     0.95036,     0.95029,     0.95033,     0.95032,     0.95022,     0.95019,     0.95014,     0.95016,     0.95011,      0.9501,\n",
       "            0.95005,     0.95002,     0.95002,     0.94999,     0.94992,     0.94977,     0.94972,     0.94961,     0.94955,     0.94947,     0.94952,     0.94946,      0.9494,     0.94941,     0.94938,     0.94935,     0.94934,     0.94932,     0.94929,     0.94911,     0.94911,     0.94912,     0.94908,\n",
       "            0.94896,     0.94893,     0.94888,     0.94883,     0.94882,     0.94872,     0.94867,     0.94859,     0.94857,     0.94844,     0.94848,      0.9484,     0.94831,      0.9483,     0.94829,      0.9482,      0.9481,     0.94805,       0.948,     0.94787,     0.94779,     0.94774,     0.94763,\n",
       "            0.94758,     0.94743,     0.94738,     0.94728,      0.9472,     0.94706,     0.94703,     0.94695,     0.94678,     0.94661,     0.94648,     0.94638,     0.94624,     0.94618,     0.94603,     0.94603,     0.94595,     0.94592,      0.9458,     0.94575,     0.94567,     0.94552,     0.94552,\n",
       "            0.94546,      0.9453,     0.94524,     0.94509,     0.94496,      0.9448,     0.94459,     0.94453,     0.94438,     0.94425,     0.94426,     0.94426,     0.94411,     0.94403,     0.94386,     0.94369,     0.94371,      0.9436,     0.94353,     0.94353,     0.94344,     0.94339,     0.94324,\n",
       "            0.94313,     0.94312,       0.943,     0.94295,     0.94292,     0.94266,     0.94249,     0.94241,     0.94233,     0.94218,     0.94208,     0.94202,      0.9419,     0.94184,     0.94182,     0.94181,     0.94173,     0.94165,     0.94155,      0.9415,     0.94142,     0.94129,     0.94114,\n",
       "            0.94105,     0.94092,     0.94085,     0.94079,     0.94069,     0.94049,     0.94044,     0.94028,      0.9402,     0.94008,      0.9399,     0.93977,     0.93969,     0.93949,     0.93946,     0.93926,     0.93908,     0.93894,     0.93874,     0.93861,      0.9386,     0.93843,     0.93818,\n",
       "             0.9381,     0.93803,     0.93788,     0.93765,     0.93757,      0.9374,     0.93734,     0.93726,     0.93704,     0.93672,     0.93659,     0.93639,     0.93619,     0.93602,       0.936,     0.93589,     0.93583,      0.9358,     0.93569,     0.93561,     0.93549,     0.93531,     0.93501,\n",
       "            0.93478,     0.93475,     0.93462,     0.93454,     0.93447,     0.93429,     0.93422,     0.93394,     0.93377,     0.93361,     0.93348,     0.93323,     0.93308,     0.93287,     0.93271,     0.93248,     0.93238,     0.93224,     0.93204,     0.93173,     0.93163,     0.93152,     0.93135,\n",
       "            0.93127,     0.93116,     0.93096,     0.93086,     0.93066,     0.93024,      0.9301,     0.92987,     0.92962,      0.9293,     0.92896,     0.92881,     0.92858,     0.92837,     0.92816,     0.92788,      0.9275,     0.92727,     0.92677,     0.92651,     0.92621,     0.92598,     0.92566,\n",
       "            0.92551,     0.92527,     0.92501,     0.92464,     0.92444,     0.92408,     0.92379,     0.92362,     0.92349,     0.92323,     0.92273,     0.92247,     0.92224,     0.92178,     0.92134,     0.92108,     0.92088,     0.92073,     0.92044,     0.92021,     0.91973,     0.91947,     0.91928,\n",
       "            0.91886,     0.91865,     0.91846,      0.9179,     0.91759,     0.91731,     0.91703,     0.91679,     0.91624,     0.91598,     0.91518,     0.91484,     0.91447,     0.91423,     0.91388,      0.9135,     0.91321,     0.91302,     0.91267,     0.91246,     0.91189,     0.91121,     0.91112,\n",
       "            0.91035,      0.9103,     0.90952,     0.90871,     0.90863,     0.90805,     0.90704,     0.90693,     0.90633,     0.90557,     0.90542,     0.90476,     0.90413,     0.90399,     0.90353,     0.90251,     0.90232,     0.90098,     0.90089,     0.90004,     0.89937,     0.89924,     0.89852,\n",
       "            0.89759,     0.89741,     0.89681,     0.89573,     0.89475,     0.89464,     0.89384,     0.89376,     0.89275,     0.89203,     0.89186,     0.89089,     0.89031,     0.89022,     0.88918,     0.88821,     0.88812,      0.8872,     0.88615,     0.88613,     0.88506,       0.884,     0.88277,\n",
       "            0.88262,     0.88137,     0.88044,     0.87922,      0.8791,     0.87788,     0.87676,     0.87647,     0.87501,     0.87349,     0.87237,     0.87225,     0.87082,      0.8695,     0.86937,     0.86811,     0.86656,     0.86642,     0.86467,      0.8635,     0.86135,     0.85991,     0.85967,\n",
       "            0.85803,     0.85631,     0.85435,     0.85414,     0.85245,     0.85098,     0.84918,     0.84908,     0.84716,     0.84545,     0.84305,     0.84296,      0.8408,     0.83885,     0.83691,     0.83481,     0.83455,      0.8321,      0.8299,     0.82765,     0.82524,     0.82288,     0.82275,\n",
       "            0.82061,     0.81814,     0.81618,     0.81354,     0.81325,      0.8102,     0.80745,     0.80516,     0.80178,     0.79918,     0.79894,     0.79557,     0.79307,     0.79067,     0.78751,     0.78408,     0.78112,     0.77767,     0.77402,     0.77388,     0.77017,     0.76636,     0.76323,\n",
       "            0.75927,     0.75566,     0.75194,     0.74837,     0.74812,      0.7444,     0.73995,     0.73612,     0.73193,     0.72758,     0.72397,     0.71945,     0.71515,     0.71082,     0.70635,     0.70193,     0.69676,     0.69166,     0.68689,     0.68229,     0.67697,     0.67225,     0.66637,\n",
       "            0.66112,     0.65629,     0.65153,     0.64628,     0.64094,     0.63453,     0.62943,     0.62467,     0.61941,     0.60895,     0.60348,     0.59763,     0.59106,     0.58639,     0.58205,     0.57678,     0.57101,     0.56538,     0.55986,     0.55395,     0.54862,     0.53869,     0.53369,\n",
       "             0.5296,     0.52452,     0.51939,      0.5146,     0.51048,     0.50051,     0.49595,     0.48662,      0.4825,     0.47855,     0.47409,     0.46939,     0.46167,     0.45646,     0.45222,      0.4486,     0.43904,     0.43438,     0.43024,     0.42203,     0.41762,     0.41249,      0.4039,\n",
       "            0.40073,     0.39619,     0.38725,     0.37989,     0.37534,     0.36616,     0.36182,     0.35369,     0.34838,     0.34426,     0.33454,     0.32985,     0.32165,     0.31153,     0.30589,     0.29706,     0.29177,     0.28181,     0.27603,     0.26656,     0.25516,     0.24933,     0.23881,\n",
       "             0.2246,     0.21913,     0.21058,     0.20281,     0.19301,     0.18815,     0.18011,     0.17214,     0.16291,     0.15547,     0.14729,     0.13888,     0.13148,     0.12261,     0.11618,     0.10844,     0.10008,    0.093492,    0.086127,    0.076658,    0.068835,    0.062943,    0.058269,\n",
       "           0.051051,    0.045388,    0.040289,    0.036019,    0.031474,    0.027596,    0.024568,    0.021011,    0.017179,    0.015168,    0.013065,    0.010782,   0.0088462,   0.0073465,   0.0062852,   0.0038104,   0.0031874,   0.0015906,   0.0012364,    0.001139,  0.00069159,  0.00038796,  0.00023722,\n",
       "         0.00019178,  0.00014634,   0.0001009,           0,           0,           0,           0,           0,           0,           0,           0,           0,           0,           0,           0,           0,           0,           0,           0,           0,           0,           0,           0,\n",
       "                  0,           0,           0,           0,           0,           0,           0,           0,           0,           0,           0]]), 'Confidence', 'F1'], [array([          0,    0.001001,    0.002002,    0.003003,    0.004004,    0.005005,    0.006006,    0.007007,    0.008008,    0.009009,     0.01001,    0.011011,    0.012012,    0.013013,    0.014014,    0.015015,    0.016016,    0.017017,    0.018018,    0.019019,     0.02002,    0.021021,    0.022022,    0.023023,\n",
       "          0.024024,    0.025025,    0.026026,    0.027027,    0.028028,    0.029029,     0.03003,    0.031031,    0.032032,    0.033033,    0.034034,    0.035035,    0.036036,    0.037037,    0.038038,    0.039039,     0.04004,    0.041041,    0.042042,    0.043043,    0.044044,    0.045045,    0.046046,    0.047047,\n",
       "          0.048048,    0.049049,     0.05005,    0.051051,    0.052052,    0.053053,    0.054054,    0.055055,    0.056056,    0.057057,    0.058058,    0.059059,     0.06006,    0.061061,    0.062062,    0.063063,    0.064064,    0.065065,    0.066066,    0.067067,    0.068068,    0.069069,     0.07007,    0.071071,\n",
       "          0.072072,    0.073073,    0.074074,    0.075075,    0.076076,    0.077077,    0.078078,    0.079079,     0.08008,    0.081081,    0.082082,    0.083083,    0.084084,    0.085085,    0.086086,    0.087087,    0.088088,    0.089089,     0.09009,    0.091091,    0.092092,    0.093093,    0.094094,    0.095095,\n",
       "          0.096096,    0.097097,    0.098098,    0.099099,      0.1001,      0.1011,      0.1021,      0.1031,      0.1041,     0.10511,     0.10611,     0.10711,     0.10811,     0.10911,     0.11011,     0.11111,     0.11211,     0.11311,     0.11411,     0.11512,     0.11612,     0.11712,     0.11812,     0.11912,\n",
       "           0.12012,     0.12112,     0.12212,     0.12312,     0.12412,     0.12513,     0.12613,     0.12713,     0.12813,     0.12913,     0.13013,     0.13113,     0.13213,     0.13313,     0.13413,     0.13514,     0.13614,     0.13714,     0.13814,     0.13914,     0.14014,     0.14114,     0.14214,     0.14314,\n",
       "           0.14414,     0.14515,     0.14615,     0.14715,     0.14815,     0.14915,     0.15015,     0.15115,     0.15215,     0.15315,     0.15415,     0.15516,     0.15616,     0.15716,     0.15816,     0.15916,     0.16016,     0.16116,     0.16216,     0.16316,     0.16416,     0.16517,     0.16617,     0.16717,\n",
       "           0.16817,     0.16917,     0.17017,     0.17117,     0.17217,     0.17317,     0.17417,     0.17518,     0.17618,     0.17718,     0.17818,     0.17918,     0.18018,     0.18118,     0.18218,     0.18318,     0.18418,     0.18519,     0.18619,     0.18719,     0.18819,     0.18919,     0.19019,     0.19119,\n",
       "           0.19219,     0.19319,     0.19419,      0.1952,      0.1962,      0.1972,      0.1982,      0.1992,      0.2002,      0.2012,      0.2022,      0.2032,      0.2042,     0.20521,     0.20621,     0.20721,     0.20821,     0.20921,     0.21021,     0.21121,     0.21221,     0.21321,     0.21421,     0.21522,\n",
       "           0.21622,     0.21722,     0.21822,     0.21922,     0.22022,     0.22122,     0.22222,     0.22322,     0.22422,     0.22523,     0.22623,     0.22723,     0.22823,     0.22923,     0.23023,     0.23123,     0.23223,     0.23323,     0.23423,     0.23524,     0.23624,     0.23724,     0.23824,     0.23924,\n",
       "           0.24024,     0.24124,     0.24224,     0.24324,     0.24424,     0.24525,     0.24625,     0.24725,     0.24825,     0.24925,     0.25025,     0.25125,     0.25225,     0.25325,     0.25425,     0.25526,     0.25626,     0.25726,     0.25826,     0.25926,     0.26026,     0.26126,     0.26226,     0.26326,\n",
       "           0.26426,     0.26527,     0.26627,     0.26727,     0.26827,     0.26927,     0.27027,     0.27127,     0.27227,     0.27327,     0.27427,     0.27528,     0.27628,     0.27728,     0.27828,     0.27928,     0.28028,     0.28128,     0.28228,     0.28328,     0.28428,     0.28529,     0.28629,     0.28729,\n",
       "           0.28829,     0.28929,     0.29029,     0.29129,     0.29229,     0.29329,     0.29429,      0.2953,      0.2963,      0.2973,      0.2983,      0.2993,      0.3003,      0.3013,      0.3023,      0.3033,      0.3043,     0.30531,     0.30631,     0.30731,     0.30831,     0.30931,     0.31031,     0.31131,\n",
       "           0.31231,     0.31331,     0.31431,     0.31532,     0.31632,     0.31732,     0.31832,     0.31932,     0.32032,     0.32132,     0.32232,     0.32332,     0.32432,     0.32533,     0.32633,     0.32733,     0.32833,     0.32933,     0.33033,     0.33133,     0.33233,     0.33333,     0.33433,     0.33534,\n",
       "           0.33634,     0.33734,     0.33834,     0.33934,     0.34034,     0.34134,     0.34234,     0.34334,     0.34434,     0.34535,     0.34635,     0.34735,     0.34835,     0.34935,     0.35035,     0.35135,     0.35235,     0.35335,     0.35435,     0.35536,     0.35636,     0.35736,     0.35836,     0.35936,\n",
       "           0.36036,     0.36136,     0.36236,     0.36336,     0.36436,     0.36537,     0.36637,     0.36737,     0.36837,     0.36937,     0.37037,     0.37137,     0.37237,     0.37337,     0.37437,     0.37538,     0.37638,     0.37738,     0.37838,     0.37938,     0.38038,     0.38138,     0.38238,     0.38338,\n",
       "           0.38438,     0.38539,     0.38639,     0.38739,     0.38839,     0.38939,     0.39039,     0.39139,     0.39239,     0.39339,     0.39439,      0.3954,      0.3964,      0.3974,      0.3984,      0.3994,      0.4004,      0.4014,      0.4024,      0.4034,      0.4044,     0.40541,     0.40641,     0.40741,\n",
       "           0.40841,     0.40941,     0.41041,     0.41141,     0.41241,     0.41341,     0.41441,     0.41542,     0.41642,     0.41742,     0.41842,     0.41942,     0.42042,     0.42142,     0.42242,     0.42342,     0.42442,     0.42543,     0.42643,     0.42743,     0.42843,     0.42943,     0.43043,     0.43143,\n",
       "           0.43243,     0.43343,     0.43443,     0.43544,     0.43644,     0.43744,     0.43844,     0.43944,     0.44044,     0.44144,     0.44244,     0.44344,     0.44444,     0.44545,     0.44645,     0.44745,     0.44845,     0.44945,     0.45045,     0.45145,     0.45245,     0.45345,     0.45445,     0.45546,\n",
       "           0.45646,     0.45746,     0.45846,     0.45946,     0.46046,     0.46146,     0.46246,     0.46346,     0.46446,     0.46547,     0.46647,     0.46747,     0.46847,     0.46947,     0.47047,     0.47147,     0.47247,     0.47347,     0.47447,     0.47548,     0.47648,     0.47748,     0.47848,     0.47948,\n",
       "           0.48048,     0.48148,     0.48248,     0.48348,     0.48448,     0.48549,     0.48649,     0.48749,     0.48849,     0.48949,     0.49049,     0.49149,     0.49249,     0.49349,     0.49449,      0.4955,      0.4965,      0.4975,      0.4985,      0.4995,      0.5005,      0.5015,      0.5025,      0.5035,\n",
       "            0.5045,     0.50551,     0.50651,     0.50751,     0.50851,     0.50951,     0.51051,     0.51151,     0.51251,     0.51351,     0.51451,     0.51552,     0.51652,     0.51752,     0.51852,     0.51952,     0.52052,     0.52152,     0.52252,     0.52352,     0.52452,     0.52553,     0.52653,     0.52753,\n",
       "           0.52853,     0.52953,     0.53053,     0.53153,     0.53253,     0.53353,     0.53453,     0.53554,     0.53654,     0.53754,     0.53854,     0.53954,     0.54054,     0.54154,     0.54254,     0.54354,     0.54454,     0.54555,     0.54655,     0.54755,     0.54855,     0.54955,     0.55055,     0.55155,\n",
       "           0.55255,     0.55355,     0.55455,     0.55556,     0.55656,     0.55756,     0.55856,     0.55956,     0.56056,     0.56156,     0.56256,     0.56356,     0.56456,     0.56557,     0.56657,     0.56757,     0.56857,     0.56957,     0.57057,     0.57157,     0.57257,     0.57357,     0.57457,     0.57558,\n",
       "           0.57658,     0.57758,     0.57858,     0.57958,     0.58058,     0.58158,     0.58258,     0.58358,     0.58458,     0.58559,     0.58659,     0.58759,     0.58859,     0.58959,     0.59059,     0.59159,     0.59259,     0.59359,     0.59459,      0.5956,      0.5966,      0.5976,      0.5986,      0.5996,\n",
       "            0.6006,      0.6016,      0.6026,      0.6036,      0.6046,     0.60561,     0.60661,     0.60761,     0.60861,     0.60961,     0.61061,     0.61161,     0.61261,     0.61361,     0.61461,     0.61562,     0.61662,     0.61762,     0.61862,     0.61962,     0.62062,     0.62162,     0.62262,     0.62362,\n",
       "           0.62462,     0.62563,     0.62663,     0.62763,     0.62863,     0.62963,     0.63063,     0.63163,     0.63263,     0.63363,     0.63463,     0.63564,     0.63664,     0.63764,     0.63864,     0.63964,     0.64064,     0.64164,     0.64264,     0.64364,     0.64464,     0.64565,     0.64665,     0.64765,\n",
       "           0.64865,     0.64965,     0.65065,     0.65165,     0.65265,     0.65365,     0.65465,     0.65566,     0.65666,     0.65766,     0.65866,     0.65966,     0.66066,     0.66166,     0.66266,     0.66366,     0.66466,     0.66567,     0.66667,     0.66767,     0.66867,     0.66967,     0.67067,     0.67167,\n",
       "           0.67267,     0.67367,     0.67467,     0.67568,     0.67668,     0.67768,     0.67868,     0.67968,     0.68068,     0.68168,     0.68268,     0.68368,     0.68468,     0.68569,     0.68669,     0.68769,     0.68869,     0.68969,     0.69069,     0.69169,     0.69269,     0.69369,     0.69469,      0.6957,\n",
       "            0.6967,      0.6977,      0.6987,      0.6997,      0.7007,      0.7017,      0.7027,      0.7037,      0.7047,     0.70571,     0.70671,     0.70771,     0.70871,     0.70971,     0.71071,     0.71171,     0.71271,     0.71371,     0.71471,     0.71572,     0.71672,     0.71772,     0.71872,     0.71972,\n",
       "           0.72072,     0.72172,     0.72272,     0.72372,     0.72472,     0.72573,     0.72673,     0.72773,     0.72873,     0.72973,     0.73073,     0.73173,     0.73273,     0.73373,     0.73473,     0.73574,     0.73674,     0.73774,     0.73874,     0.73974,     0.74074,     0.74174,     0.74274,     0.74374,\n",
       "           0.74474,     0.74575,     0.74675,     0.74775,     0.74875,     0.74975,     0.75075,     0.75175,     0.75275,     0.75375,     0.75475,     0.75576,     0.75676,     0.75776,     0.75876,     0.75976,     0.76076,     0.76176,     0.76276,     0.76376,     0.76476,     0.76577,     0.76677,     0.76777,\n",
       "           0.76877,     0.76977,     0.77077,     0.77177,     0.77277,     0.77377,     0.77477,     0.77578,     0.77678,     0.77778,     0.77878,     0.77978,     0.78078,     0.78178,     0.78278,     0.78378,     0.78478,     0.78579,     0.78679,     0.78779,     0.78879,     0.78979,     0.79079,     0.79179,\n",
       "           0.79279,     0.79379,     0.79479,      0.7958,      0.7968,      0.7978,      0.7988,      0.7998,      0.8008,      0.8018,      0.8028,      0.8038,      0.8048,     0.80581,     0.80681,     0.80781,     0.80881,     0.80981,     0.81081,     0.81181,     0.81281,     0.81381,     0.81481,     0.81582,\n",
       "           0.81682,     0.81782,     0.81882,     0.81982,     0.82082,     0.82182,     0.82282,     0.82382,     0.82482,     0.82583,     0.82683,     0.82783,     0.82883,     0.82983,     0.83083,     0.83183,     0.83283,     0.83383,     0.83483,     0.83584,     0.83684,     0.83784,     0.83884,     0.83984,\n",
       "           0.84084,     0.84184,     0.84284,     0.84384,     0.84484,     0.84585,     0.84685,     0.84785,     0.84885,     0.84985,     0.85085,     0.85185,     0.85285,     0.85385,     0.85485,     0.85586,     0.85686,     0.85786,     0.85886,     0.85986,     0.86086,     0.86186,     0.86286,     0.86386,\n",
       "           0.86486,     0.86587,     0.86687,     0.86787,     0.86887,     0.86987,     0.87087,     0.87187,     0.87287,     0.87387,     0.87487,     0.87588,     0.87688,     0.87788,     0.87888,     0.87988,     0.88088,     0.88188,     0.88288,     0.88388,     0.88488,     0.88589,     0.88689,     0.88789,\n",
       "           0.88889,     0.88989,     0.89089,     0.89189,     0.89289,     0.89389,     0.89489,      0.8959,      0.8969,      0.8979,      0.8989,      0.8999,      0.9009,      0.9019,      0.9029,      0.9039,      0.9049,     0.90591,     0.90691,     0.90791,     0.90891,     0.90991,     0.91091,     0.91191,\n",
       "           0.91291,     0.91391,     0.91491,     0.91592,     0.91692,     0.91792,     0.91892,     0.91992,     0.92092,     0.92192,     0.92292,     0.92392,     0.92492,     0.92593,     0.92693,     0.92793,     0.92893,     0.92993,     0.93093,     0.93193,     0.93293,     0.93393,     0.93493,     0.93594,\n",
       "           0.93694,     0.93794,     0.93894,     0.93994,     0.94094,     0.94194,     0.94294,     0.94394,     0.94494,     0.94595,     0.94695,     0.94795,     0.94895,     0.94995,     0.95095,     0.95195,     0.95295,     0.95395,     0.95495,     0.95596,     0.95696,     0.95796,     0.95896,     0.95996,\n",
       "           0.96096,     0.96196,     0.96296,     0.96396,     0.96496,     0.96597,     0.96697,     0.96797,     0.96897,     0.96997,     0.97097,     0.97197,     0.97297,     0.97397,     0.97497,     0.97598,     0.97698,     0.97798,     0.97898,     0.97998,     0.98098,     0.98198,     0.98298,     0.98398,\n",
       "           0.98498,     0.98599,     0.98699,     0.98799,     0.98899,     0.98999,     0.99099,     0.99199,     0.99299,     0.99399,     0.99499,       0.996,       0.997,       0.998,       0.999,           1]), array([[    0.45288,     0.45288,     0.56143,     0.62249,      0.6625,     0.69206,     0.71355,      0.7311,     0.74739,     0.76059,      0.7721,     0.78159,     0.79006,     0.79594,     0.80276,      0.8093,     0.81376,     0.81876,     0.82364,     0.82842,     0.83219,     0.83506,     0.83843,\n",
       "            0.84147,     0.84445,      0.8472,     0.85029,     0.85271,     0.85512,     0.85766,     0.85964,     0.86176,     0.86331,      0.8651,     0.86664,      0.8687,     0.87045,     0.87291,     0.87417,      0.8758,     0.87706,     0.87822,     0.87975,      0.8811,     0.88263,     0.88407,\n",
       "            0.88533,     0.88608,     0.88732,     0.88834,     0.88966,     0.89108,       0.892,     0.89318,     0.89421,     0.89519,     0.89605,     0.89705,     0.89792,     0.89881,     0.89961,      0.9005,     0.90165,     0.90227,      0.9029,     0.90388,     0.90487,     0.90575,     0.90636,\n",
       "            0.90683,     0.90772,     0.90863,     0.90938,     0.90996,     0.91063,     0.91125,     0.91176,     0.91254,     0.91318,     0.91406,     0.91467,     0.91518,     0.91601,     0.91647,     0.91677,     0.91764,      0.9183,     0.91863,     0.91911,     0.91975,     0.92022,     0.92061,\n",
       "            0.92132,     0.92183,      0.9224,     0.92284,     0.92329,     0.92364,     0.92399,     0.92434,     0.92468,     0.92512,     0.92563,     0.92596,     0.92649,      0.9271,     0.92776,     0.92812,     0.92838,     0.92867,     0.92919,     0.92964,     0.92996,     0.93024,      0.9306,\n",
       "            0.93092,     0.93145,      0.9318,     0.93216,     0.93259,     0.93295,     0.93328,     0.93361,     0.93405,     0.93423,     0.93461,     0.93477,     0.93481,     0.93548,      0.9359,     0.93616,     0.93639,     0.93706,     0.93737,     0.93764,     0.93798,     0.93835,     0.93863,\n",
       "            0.93883,     0.93907,     0.93934,     0.93979,     0.94012,     0.94046,     0.94074,     0.94107,     0.94119,     0.94155,     0.94172,      0.9421,     0.94235,     0.94271,     0.94288,     0.94319,     0.94351,     0.94401,     0.94416,      0.9445,      0.9447,     0.94491,     0.94502,\n",
       "            0.94538,     0.94563,      0.9458,     0.94617,     0.94637,     0.94649,     0.94657,     0.94676,     0.94696,     0.94713,     0.94723,     0.94747,     0.94765,     0.94781,     0.94791,     0.94807,     0.94819,     0.94846,     0.94869,     0.94895,      0.9491,     0.94939,     0.94975,\n",
       "            0.95003,     0.95032,     0.95043,     0.95062,     0.95081,     0.95108,     0.95148,     0.95166,     0.95179,     0.95205,     0.95208,     0.95228,     0.95241,     0.95256,      0.9528,     0.95285,     0.95326,      0.9535,     0.95368,     0.95405,      0.9542,      0.9545,     0.95463,\n",
       "            0.95471,      0.9548,     0.95494,     0.95528,     0.95543,     0.95548,     0.95558,     0.95582,     0.95614,     0.95619,     0.95627,     0.95653,     0.95669,     0.95703,     0.95723,     0.95748,      0.9577,     0.95785,     0.95791,     0.95811,     0.95825,     0.95847,     0.95858,\n",
       "            0.95877,     0.95885,     0.95889,     0.95914,     0.95917,     0.95936,     0.95967,     0.95999,     0.96018,     0.96025,     0.96065,     0.96083,      0.9611,     0.96112,     0.96116,     0.96127,     0.96148,     0.96156,     0.96175,     0.96177,     0.96203,     0.96213,     0.96236,\n",
       "            0.96254,     0.96263,     0.96275,     0.96295,     0.96303,     0.96319,     0.96335,     0.96359,     0.96371,     0.96376,     0.96384,     0.96384,     0.96402,     0.96408,     0.96423,     0.96464,     0.96477,     0.96493,     0.96502,     0.96509,      0.9651,     0.96518,     0.96549,\n",
       "            0.96564,     0.96578,     0.96588,     0.96593,     0.96616,     0.96622,     0.96639,     0.96655,     0.96668,     0.96682,     0.96695,     0.96701,     0.96704,     0.96712,     0.96721,     0.96736,      0.9675,     0.96755,     0.96777,     0.96794,     0.96797,     0.96816,     0.96829,\n",
       "            0.96838,     0.96838,     0.96845,      0.9686,      0.9689,     0.96897,     0.96909,     0.96914,     0.96919,     0.96955,     0.96955,     0.96955,     0.96959,     0.96968,     0.96968,     0.96987,     0.96994,     0.97002,     0.97011,     0.97011,     0.97033,     0.97041,     0.97054,\n",
       "            0.97066,     0.97067,     0.97095,     0.97102,     0.97108,     0.97122,     0.97141,     0.97146,     0.97164,     0.97178,     0.97183,     0.97191,     0.97199,     0.97211,     0.97216,     0.97239,     0.97254,     0.97256,      0.9726,     0.97281,     0.97282,     0.97295,     0.97313,\n",
       "            0.97313,     0.97328,      0.9733,     0.97348,      0.9736,     0.97383,     0.97383,     0.97383,       0.974,     0.97407,     0.97421,     0.97421,     0.97433,     0.97457,      0.9747,     0.97479,     0.97483,     0.97486,     0.97495,     0.97511,     0.97518,     0.97521,     0.97523,\n",
       "            0.97531,     0.97536,     0.97535,     0.97549,     0.97557,     0.97561,      0.9757,     0.97581,     0.97586,     0.97596,       0.976,     0.97604,     0.97613,     0.97627,     0.97645,     0.97646,     0.97653,     0.97663,      0.9768,     0.97684,     0.97692,     0.97697,     0.97716,\n",
       "            0.97729,     0.97729,     0.97733,     0.97751,     0.97769,     0.97773,     0.97779,     0.97788,     0.97793,     0.97804,     0.97816,     0.97822,     0.97822,     0.97826,     0.97835,     0.97852,     0.97862,     0.97875,     0.97884,     0.97893,     0.97902,     0.97908,     0.97917,\n",
       "            0.97922,     0.97924,     0.97932,     0.97937,     0.97949,     0.97959,     0.97959,     0.97964,     0.97977,     0.98005,      0.9801,     0.98014,     0.98019,     0.98031,     0.98041,     0.98049,     0.98049,     0.98058,     0.98062,     0.98068,     0.98075,      0.9808,     0.98079,\n",
       "            0.98087,     0.98091,     0.98097,     0.98105,      0.9811,     0.98109,     0.98118,     0.98122,     0.98127,     0.98126,     0.98135,     0.98149,     0.98153,     0.98157,     0.98162,      0.9818,     0.98184,     0.98189,     0.98198,     0.98202,     0.98216,     0.98216,     0.98225,\n",
       "            0.98229,     0.98238,     0.98241,     0.98247,     0.98247,     0.98251,     0.98251,     0.98258,     0.98267,     0.98268,     0.98281,     0.98282,     0.98286,     0.98291,     0.98295,     0.98305,     0.98314,     0.98323,     0.98332,     0.98341,     0.98355,     0.98357,     0.98359,\n",
       "            0.98363,     0.98368,     0.98373,     0.98377,     0.98377,     0.98386,      0.9839,     0.98391,     0.98399,     0.98405,     0.98422,     0.98428,     0.98435,     0.98449,     0.98458,     0.98458,     0.98458,     0.98462,     0.98465,     0.98485,     0.98494,     0.98498,     0.98507,\n",
       "            0.98521,     0.98525,     0.98538,     0.98539,     0.98539,     0.98538,     0.98543,     0.98552,     0.98551,     0.98551,      0.9856,      0.9856,     0.98564,     0.98573,     0.98577,     0.98587,     0.98591,       0.986,       0.986,     0.98605,     0.98614,     0.98618,     0.98623,\n",
       "            0.98632,     0.98633,     0.98636,      0.9864,     0.98646,      0.9866,     0.98663,     0.98676,     0.98686,     0.98692,     0.98716,     0.98723,     0.98732,     0.98737,     0.98736,     0.98739,     0.98753,     0.98759,     0.98762,     0.98772,     0.98778,     0.98782,     0.98787,\n",
       "            0.98796,      0.9881,      0.9881,      0.9881,     0.98819,     0.98823,     0.98828,     0.98827,     0.98837,     0.98841,      0.9885,     0.98865,     0.98867,     0.98874,     0.98877,     0.98891,     0.98893,     0.98897,     0.98902,     0.98911,     0.98916,      0.9892,      0.9892,\n",
       "             0.9892,      0.9892,     0.98919,     0.98924,     0.98929,     0.98938,     0.98943,     0.98945,     0.98952,     0.98954,     0.98956,     0.98956,      0.9896,     0.98965,     0.98974,     0.98983,     0.98983,     0.98983,     0.98982,     0.98992,     0.99001,     0.99011,     0.99015,\n",
       "             0.9902,     0.99024,     0.99024,     0.99026,     0.99033,     0.99033,     0.99038,     0.99047,     0.99047,     0.99061,     0.99065,     0.99065,     0.99069,     0.99074,     0.99074,     0.99074,     0.99078,     0.99088,     0.99088,     0.99088,     0.99088,     0.99087,     0.99087,\n",
       "            0.99091,     0.99111,      0.9911,      0.9912,     0.99125,     0.99134,     0.99134,     0.99134,     0.99133,     0.99143,     0.99143,     0.99157,     0.99167,     0.99181,     0.99186,      0.9919,     0.99199,       0.992,     0.99199,     0.99199,     0.99209,     0.99213,     0.99219,\n",
       "            0.99233,     0.99237,     0.99242,     0.99242,     0.99242,     0.99246,     0.99261,      0.9926,      0.9926,     0.99274,     0.99274,     0.99279,     0.99278,     0.99283,     0.99283,     0.99282,     0.99282,     0.99281,     0.99291,      0.9929,      0.9929,      0.9929,     0.99294,\n",
       "            0.99297,     0.99299,     0.99298,     0.99303,     0.99302,     0.99302,     0.99307,     0.99321,     0.99321,     0.99321,     0.99325,      0.9933,      0.9933,     0.99339,     0.99344,     0.99343,     0.99343,     0.99353,     0.99358,     0.99357,     0.99362,     0.99362,     0.99366,\n",
       "            0.99366,     0.99371,     0.99381,     0.99385,      0.9939,     0.99395,     0.99394,     0.99394,     0.99393,     0.99393,     0.99397,     0.99402,     0.99401,     0.99401,     0.99406,     0.99411,      0.9941,     0.99415,     0.99415,      0.9942,     0.99424,     0.99429,     0.99428,\n",
       "            0.99433,     0.99438,     0.99442,     0.99447,     0.99446,     0.99446,     0.99445,     0.99445,     0.99449,     0.99448,     0.99448,     0.99447,     0.99452,     0.99452,     0.99451,      0.9945,      0.9945,     0.99454,     0.99459,     0.99463,     0.99472,     0.99473,     0.99472,\n",
       "            0.99477,     0.99482,     0.99487,     0.99502,     0.99506,     0.99506,     0.99505,     0.99505,      0.9952,      0.9953,      0.9953,     0.99535,     0.99534,     0.99534,     0.99533,     0.99538,     0.99538,     0.99542,     0.99552,     0.99552,     0.99557,     0.99561,     0.99566,\n",
       "            0.99566,     0.99564,     0.99569,     0.99585,     0.99585,     0.99584,     0.99583,     0.99583,     0.99581,      0.9958,     0.99579,     0.99579,     0.99589,     0.99599,     0.99599,     0.99598,     0.99603,     0.99603,     0.99607,     0.99606,      0.9961,     0.99609,     0.99609,\n",
       "            0.99613,     0.99618,     0.99616,     0.99616,     0.99621,     0.99625,     0.99636,     0.99642,     0.99652,     0.99651,     0.99655,     0.99655,     0.99654,     0.99658,     0.99657,     0.99668,     0.99668,     0.99666,     0.99664,     0.99669,     0.99667,     0.99666,     0.99666,\n",
       "            0.99664,     0.99669,     0.99667,     0.99666,     0.99665,     0.99676,     0.99674,     0.99679,      0.9969,     0.99689,     0.99688,     0.99693,     0.99711,      0.9971,     0.99715,     0.99713,     0.99718,     0.99723,      0.9972,      0.9972,     0.99725,      0.9973,     0.99728,\n",
       "            0.99733,     0.99738,     0.99743,     0.99742,     0.99741,     0.99739,     0.99737,      0.9975,     0.99748,     0.99745,     0.99743,     0.99741,     0.99738,     0.99736,     0.99733,     0.99731,     0.99727,     0.99724,      0.9973,     0.99727,     0.99724,     0.99721,     0.99717,\n",
       "            0.99732,     0.99729,     0.99735,     0.99732,     0.99728,     0.99724,     0.99721,     0.99718,     0.99715,     0.99708,     0.99704,       0.997,     0.99695,     0.99691,     0.99699,     0.99695,     0.99691,     0.99686,     0.99693,     0.99712,      0.9972,     0.99736,     0.99757,\n",
       "            0.99767,     0.99776,     0.99811,     0.99834,     0.99832,     0.99828,     0.99839,     0.99835,     0.99833,     0.99831,     0.99843,     0.99856,     0.99853,      0.9985,     0.99849,     0.99847,     0.99843,     0.99841,     0.99839,     0.99868,     0.99883,     0.99881,     0.99878,\n",
       "            0.99876,     0.99892,     0.99889,     0.99887,     0.99885,     0.99881,      0.9988,     0.99876,     0.99874,     0.99872,     0.99868,     0.99866,     0.99861,     0.99856,     0.99853,     0.99848,     0.99845,     0.99838,     0.99834,     0.99827,     0.99818,     0.99814,     0.99804,\n",
       "             0.9979,     0.99784,     0.99775,     0.99765,     0.99752,     0.99745,     0.99732,     0.99718,     0.99701,     0.99685,     0.99667,     0.99704,     0.99686,     0.99662,     0.99642,     0.99769,     0.99748,      0.9982,     0.99803,     0.99778,     0.99876,     0.99864,     0.99852,\n",
       "            0.99831,     0.99809,     0.99785,     0.99759,           1,           1,           1,           1,           1,           1,           1,           1,           1,           1,           1,           1,           1,           1,           1,           1,           1,           1,           1,\n",
       "                  1,           1,           1,           1,           1,           1,           1,           1,           1,           1,           1,           1,           1,           1,           1,           1,           1,           1,           1,           1,           1,           1,           1,\n",
       "                  1,           1,           1,           1,           1,           1,           1,           1,           1,           1,           1]]), 'Confidence', 'Precision'], [array([          0,    0.001001,    0.002002,    0.003003,    0.004004,    0.005005,    0.006006,    0.007007,    0.008008,    0.009009,     0.01001,    0.011011,    0.012012,    0.013013,    0.014014,    0.015015,    0.016016,    0.017017,    0.018018,    0.019019,     0.02002,    0.021021,    0.022022,    0.023023,\n",
       "          0.024024,    0.025025,    0.026026,    0.027027,    0.028028,    0.029029,     0.03003,    0.031031,    0.032032,    0.033033,    0.034034,    0.035035,    0.036036,    0.037037,    0.038038,    0.039039,     0.04004,    0.041041,    0.042042,    0.043043,    0.044044,    0.045045,    0.046046,    0.047047,\n",
       "          0.048048,    0.049049,     0.05005,    0.051051,    0.052052,    0.053053,    0.054054,    0.055055,    0.056056,    0.057057,    0.058058,    0.059059,     0.06006,    0.061061,    0.062062,    0.063063,    0.064064,    0.065065,    0.066066,    0.067067,    0.068068,    0.069069,     0.07007,    0.071071,\n",
       "          0.072072,    0.073073,    0.074074,    0.075075,    0.076076,    0.077077,    0.078078,    0.079079,     0.08008,    0.081081,    0.082082,    0.083083,    0.084084,    0.085085,    0.086086,    0.087087,    0.088088,    0.089089,     0.09009,    0.091091,    0.092092,    0.093093,    0.094094,    0.095095,\n",
       "          0.096096,    0.097097,    0.098098,    0.099099,      0.1001,      0.1011,      0.1021,      0.1031,      0.1041,     0.10511,     0.10611,     0.10711,     0.10811,     0.10911,     0.11011,     0.11111,     0.11211,     0.11311,     0.11411,     0.11512,     0.11612,     0.11712,     0.11812,     0.11912,\n",
       "           0.12012,     0.12112,     0.12212,     0.12312,     0.12412,     0.12513,     0.12613,     0.12713,     0.12813,     0.12913,     0.13013,     0.13113,     0.13213,     0.13313,     0.13413,     0.13514,     0.13614,     0.13714,     0.13814,     0.13914,     0.14014,     0.14114,     0.14214,     0.14314,\n",
       "           0.14414,     0.14515,     0.14615,     0.14715,     0.14815,     0.14915,     0.15015,     0.15115,     0.15215,     0.15315,     0.15415,     0.15516,     0.15616,     0.15716,     0.15816,     0.15916,     0.16016,     0.16116,     0.16216,     0.16316,     0.16416,     0.16517,     0.16617,     0.16717,\n",
       "           0.16817,     0.16917,     0.17017,     0.17117,     0.17217,     0.17317,     0.17417,     0.17518,     0.17618,     0.17718,     0.17818,     0.17918,     0.18018,     0.18118,     0.18218,     0.18318,     0.18418,     0.18519,     0.18619,     0.18719,     0.18819,     0.18919,     0.19019,     0.19119,\n",
       "           0.19219,     0.19319,     0.19419,      0.1952,      0.1962,      0.1972,      0.1982,      0.1992,      0.2002,      0.2012,      0.2022,      0.2032,      0.2042,     0.20521,     0.20621,     0.20721,     0.20821,     0.20921,     0.21021,     0.21121,     0.21221,     0.21321,     0.21421,     0.21522,\n",
       "           0.21622,     0.21722,     0.21822,     0.21922,     0.22022,     0.22122,     0.22222,     0.22322,     0.22422,     0.22523,     0.22623,     0.22723,     0.22823,     0.22923,     0.23023,     0.23123,     0.23223,     0.23323,     0.23423,     0.23524,     0.23624,     0.23724,     0.23824,     0.23924,\n",
       "           0.24024,     0.24124,     0.24224,     0.24324,     0.24424,     0.24525,     0.24625,     0.24725,     0.24825,     0.24925,     0.25025,     0.25125,     0.25225,     0.25325,     0.25425,     0.25526,     0.25626,     0.25726,     0.25826,     0.25926,     0.26026,     0.26126,     0.26226,     0.26326,\n",
       "           0.26426,     0.26527,     0.26627,     0.26727,     0.26827,     0.26927,     0.27027,     0.27127,     0.27227,     0.27327,     0.27427,     0.27528,     0.27628,     0.27728,     0.27828,     0.27928,     0.28028,     0.28128,     0.28228,     0.28328,     0.28428,     0.28529,     0.28629,     0.28729,\n",
       "           0.28829,     0.28929,     0.29029,     0.29129,     0.29229,     0.29329,     0.29429,      0.2953,      0.2963,      0.2973,      0.2983,      0.2993,      0.3003,      0.3013,      0.3023,      0.3033,      0.3043,     0.30531,     0.30631,     0.30731,     0.30831,     0.30931,     0.31031,     0.31131,\n",
       "           0.31231,     0.31331,     0.31431,     0.31532,     0.31632,     0.31732,     0.31832,     0.31932,     0.32032,     0.32132,     0.32232,     0.32332,     0.32432,     0.32533,     0.32633,     0.32733,     0.32833,     0.32933,     0.33033,     0.33133,     0.33233,     0.33333,     0.33433,     0.33534,\n",
       "           0.33634,     0.33734,     0.33834,     0.33934,     0.34034,     0.34134,     0.34234,     0.34334,     0.34434,     0.34535,     0.34635,     0.34735,     0.34835,     0.34935,     0.35035,     0.35135,     0.35235,     0.35335,     0.35435,     0.35536,     0.35636,     0.35736,     0.35836,     0.35936,\n",
       "           0.36036,     0.36136,     0.36236,     0.36336,     0.36436,     0.36537,     0.36637,     0.36737,     0.36837,     0.36937,     0.37037,     0.37137,     0.37237,     0.37337,     0.37437,     0.37538,     0.37638,     0.37738,     0.37838,     0.37938,     0.38038,     0.38138,     0.38238,     0.38338,\n",
       "           0.38438,     0.38539,     0.38639,     0.38739,     0.38839,     0.38939,     0.39039,     0.39139,     0.39239,     0.39339,     0.39439,      0.3954,      0.3964,      0.3974,      0.3984,      0.3994,      0.4004,      0.4014,      0.4024,      0.4034,      0.4044,     0.40541,     0.40641,     0.40741,\n",
       "           0.40841,     0.40941,     0.41041,     0.41141,     0.41241,     0.41341,     0.41441,     0.41542,     0.41642,     0.41742,     0.41842,     0.41942,     0.42042,     0.42142,     0.42242,     0.42342,     0.42442,     0.42543,     0.42643,     0.42743,     0.42843,     0.42943,     0.43043,     0.43143,\n",
       "           0.43243,     0.43343,     0.43443,     0.43544,     0.43644,     0.43744,     0.43844,     0.43944,     0.44044,     0.44144,     0.44244,     0.44344,     0.44444,     0.44545,     0.44645,     0.44745,     0.44845,     0.44945,     0.45045,     0.45145,     0.45245,     0.45345,     0.45445,     0.45546,\n",
       "           0.45646,     0.45746,     0.45846,     0.45946,     0.46046,     0.46146,     0.46246,     0.46346,     0.46446,     0.46547,     0.46647,     0.46747,     0.46847,     0.46947,     0.47047,     0.47147,     0.47247,     0.47347,     0.47447,     0.47548,     0.47648,     0.47748,     0.47848,     0.47948,\n",
       "           0.48048,     0.48148,     0.48248,     0.48348,     0.48448,     0.48549,     0.48649,     0.48749,     0.48849,     0.48949,     0.49049,     0.49149,     0.49249,     0.49349,     0.49449,      0.4955,      0.4965,      0.4975,      0.4985,      0.4995,      0.5005,      0.5015,      0.5025,      0.5035,\n",
       "            0.5045,     0.50551,     0.50651,     0.50751,     0.50851,     0.50951,     0.51051,     0.51151,     0.51251,     0.51351,     0.51451,     0.51552,     0.51652,     0.51752,     0.51852,     0.51952,     0.52052,     0.52152,     0.52252,     0.52352,     0.52452,     0.52553,     0.52653,     0.52753,\n",
       "           0.52853,     0.52953,     0.53053,     0.53153,     0.53253,     0.53353,     0.53453,     0.53554,     0.53654,     0.53754,     0.53854,     0.53954,     0.54054,     0.54154,     0.54254,     0.54354,     0.54454,     0.54555,     0.54655,     0.54755,     0.54855,     0.54955,     0.55055,     0.55155,\n",
       "           0.55255,     0.55355,     0.55455,     0.55556,     0.55656,     0.55756,     0.55856,     0.55956,     0.56056,     0.56156,     0.56256,     0.56356,     0.56456,     0.56557,     0.56657,     0.56757,     0.56857,     0.56957,     0.57057,     0.57157,     0.57257,     0.57357,     0.57457,     0.57558,\n",
       "           0.57658,     0.57758,     0.57858,     0.57958,     0.58058,     0.58158,     0.58258,     0.58358,     0.58458,     0.58559,     0.58659,     0.58759,     0.58859,     0.58959,     0.59059,     0.59159,     0.59259,     0.59359,     0.59459,      0.5956,      0.5966,      0.5976,      0.5986,      0.5996,\n",
       "            0.6006,      0.6016,      0.6026,      0.6036,      0.6046,     0.60561,     0.60661,     0.60761,     0.60861,     0.60961,     0.61061,     0.61161,     0.61261,     0.61361,     0.61461,     0.61562,     0.61662,     0.61762,     0.61862,     0.61962,     0.62062,     0.62162,     0.62262,     0.62362,\n",
       "           0.62462,     0.62563,     0.62663,     0.62763,     0.62863,     0.62963,     0.63063,     0.63163,     0.63263,     0.63363,     0.63463,     0.63564,     0.63664,     0.63764,     0.63864,     0.63964,     0.64064,     0.64164,     0.64264,     0.64364,     0.64464,     0.64565,     0.64665,     0.64765,\n",
       "           0.64865,     0.64965,     0.65065,     0.65165,     0.65265,     0.65365,     0.65465,     0.65566,     0.65666,     0.65766,     0.65866,     0.65966,     0.66066,     0.66166,     0.66266,     0.66366,     0.66466,     0.66567,     0.66667,     0.66767,     0.66867,     0.66967,     0.67067,     0.67167,\n",
       "           0.67267,     0.67367,     0.67467,     0.67568,     0.67668,     0.67768,     0.67868,     0.67968,     0.68068,     0.68168,     0.68268,     0.68368,     0.68468,     0.68569,     0.68669,     0.68769,     0.68869,     0.68969,     0.69069,     0.69169,     0.69269,     0.69369,     0.69469,      0.6957,\n",
       "            0.6967,      0.6977,      0.6987,      0.6997,      0.7007,      0.7017,      0.7027,      0.7037,      0.7047,     0.70571,     0.70671,     0.70771,     0.70871,     0.70971,     0.71071,     0.71171,     0.71271,     0.71371,     0.71471,     0.71572,     0.71672,     0.71772,     0.71872,     0.71972,\n",
       "           0.72072,     0.72172,     0.72272,     0.72372,     0.72472,     0.72573,     0.72673,     0.72773,     0.72873,     0.72973,     0.73073,     0.73173,     0.73273,     0.73373,     0.73473,     0.73574,     0.73674,     0.73774,     0.73874,     0.73974,     0.74074,     0.74174,     0.74274,     0.74374,\n",
       "           0.74474,     0.74575,     0.74675,     0.74775,     0.74875,     0.74975,     0.75075,     0.75175,     0.75275,     0.75375,     0.75475,     0.75576,     0.75676,     0.75776,     0.75876,     0.75976,     0.76076,     0.76176,     0.76276,     0.76376,     0.76476,     0.76577,     0.76677,     0.76777,\n",
       "           0.76877,     0.76977,     0.77077,     0.77177,     0.77277,     0.77377,     0.77477,     0.77578,     0.77678,     0.77778,     0.77878,     0.77978,     0.78078,     0.78178,     0.78278,     0.78378,     0.78478,     0.78579,     0.78679,     0.78779,     0.78879,     0.78979,     0.79079,     0.79179,\n",
       "           0.79279,     0.79379,     0.79479,      0.7958,      0.7968,      0.7978,      0.7988,      0.7998,      0.8008,      0.8018,      0.8028,      0.8038,      0.8048,     0.80581,     0.80681,     0.80781,     0.80881,     0.80981,     0.81081,     0.81181,     0.81281,     0.81381,     0.81481,     0.81582,\n",
       "           0.81682,     0.81782,     0.81882,     0.81982,     0.82082,     0.82182,     0.82282,     0.82382,     0.82482,     0.82583,     0.82683,     0.82783,     0.82883,     0.82983,     0.83083,     0.83183,     0.83283,     0.83383,     0.83483,     0.83584,     0.83684,     0.83784,     0.83884,     0.83984,\n",
       "           0.84084,     0.84184,     0.84284,     0.84384,     0.84484,     0.84585,     0.84685,     0.84785,     0.84885,     0.84985,     0.85085,     0.85185,     0.85285,     0.85385,     0.85485,     0.85586,     0.85686,     0.85786,     0.85886,     0.85986,     0.86086,     0.86186,     0.86286,     0.86386,\n",
       "           0.86486,     0.86587,     0.86687,     0.86787,     0.86887,     0.86987,     0.87087,     0.87187,     0.87287,     0.87387,     0.87487,     0.87588,     0.87688,     0.87788,     0.87888,     0.87988,     0.88088,     0.88188,     0.88288,     0.88388,     0.88488,     0.88589,     0.88689,     0.88789,\n",
       "           0.88889,     0.88989,     0.89089,     0.89189,     0.89289,     0.89389,     0.89489,      0.8959,      0.8969,      0.8979,      0.8989,      0.8999,      0.9009,      0.9019,      0.9029,      0.9039,      0.9049,     0.90591,     0.90691,     0.90791,     0.90891,     0.90991,     0.91091,     0.91191,\n",
       "           0.91291,     0.91391,     0.91491,     0.91592,     0.91692,     0.91792,     0.91892,     0.91992,     0.92092,     0.92192,     0.92292,     0.92392,     0.92492,     0.92593,     0.92693,     0.92793,     0.92893,     0.92993,     0.93093,     0.93193,     0.93293,     0.93393,     0.93493,     0.93594,\n",
       "           0.93694,     0.93794,     0.93894,     0.93994,     0.94094,     0.94194,     0.94294,     0.94394,     0.94494,     0.94595,     0.94695,     0.94795,     0.94895,     0.94995,     0.95095,     0.95195,     0.95295,     0.95395,     0.95495,     0.95596,     0.95696,     0.95796,     0.95896,     0.95996,\n",
       "           0.96096,     0.96196,     0.96296,     0.96396,     0.96496,     0.96597,     0.96697,     0.96797,     0.96897,     0.96997,     0.97097,     0.97197,     0.97297,     0.97397,     0.97497,     0.97598,     0.97698,     0.97798,     0.97898,     0.97998,     0.98098,     0.98198,     0.98298,     0.98398,\n",
       "           0.98498,     0.98599,     0.98699,     0.98799,     0.98899,     0.98999,     0.99099,     0.99199,     0.99299,     0.99399,     0.99499,       0.996,       0.997,       0.998,       0.999,           1]), array([[    0.96856,     0.96856,      0.9675,     0.96688,     0.96652,     0.96621,     0.96573,     0.96551,     0.96511,     0.96493,     0.96466,     0.96462,      0.9644,     0.96417,     0.96378,      0.9636,     0.96342,     0.96311,     0.96307,     0.96289,     0.96262,     0.96245,     0.96227,\n",
       "            0.96222,     0.96222,       0.962,     0.96187,     0.96174,     0.96169,     0.96156,     0.96134,     0.96129,     0.96112,     0.96103,     0.96085,     0.96074,     0.96063,     0.96058,     0.96036,     0.96027,     0.96023,     0.96016,     0.96013,     0.96001,     0.95994,     0.95983,\n",
       "            0.95979,     0.95972,     0.95961,     0.95943,      0.9593,     0.95921,     0.95903,     0.95894,     0.95885,     0.95868,     0.95854,      0.9585,      0.9585,     0.95841,     0.95841,     0.95832,     0.95819,     0.95814,     0.95797,     0.95792,     0.95788,     0.95788,     0.95783,\n",
       "            0.95779,      0.9577,     0.95761,     0.95752,     0.95748,     0.95735,      0.9573,     0.95713,     0.95695,      0.9569,     0.95673,     0.95673,     0.95668,     0.95655,      0.9564,     0.95611,     0.95584,     0.95571,     0.95562,     0.95553,     0.95548,     0.95526,     0.95522,\n",
       "            0.95513,     0.95504,     0.95486,     0.95478,     0.95464,     0.95446,     0.95446,     0.95446,     0.95438,      0.9542,     0.95416,     0.95407,     0.95398,     0.95393,     0.95384,     0.95375,     0.95371,     0.95367,     0.95353,     0.95345,     0.95336,     0.95327,     0.95327,\n",
       "            0.95318,     0.95318,     0.95309,       0.953,     0.95291,     0.95291,     0.95287,     0.95278,     0.95266,     0.95251,     0.95247,     0.95246,     0.95235,     0.95206,     0.95203,     0.95191,     0.95185,      0.9518,     0.95168,     0.95154,     0.95146,     0.95141,     0.95141,\n",
       "            0.95137,     0.95136,     0.95132,     0.95123,     0.95114,     0.95105,     0.95096,     0.95087,     0.95078,     0.95064,     0.95061,     0.95056,     0.95043,     0.95039,     0.95034,     0.95016,     0.95003,     0.95003,     0.94985,     0.94985,     0.94985,     0.94985,     0.94955,\n",
       "            0.94935,     0.94929,     0.94926,     0.94917,     0.94914,     0.94896,     0.94888,     0.94879,      0.9487,     0.94861,     0.94848,      0.9483,     0.94817,     0.94812,     0.94797,     0.94781,     0.94777,     0.94777,     0.94773,     0.94773,     0.94764,     0.94759,     0.94759,\n",
       "            0.94755,     0.94755,      0.9475,     0.94742,     0.94742,     0.94737,     0.94733,     0.94728,     0.94719,      0.9471,     0.94707,     0.94693,     0.94684,     0.94671,     0.94662,     0.94648,     0.94644,     0.94644,     0.94635,     0.94626,     0.94622,     0.94617,     0.94605,\n",
       "            0.94604,     0.94595,     0.94586,     0.94577,     0.94563,      0.9456,      0.9456,     0.94551,     0.94551,     0.94541,     0.94538,     0.94532,      0.9452,     0.94514,     0.94502,     0.94498,     0.94489,     0.94489,      0.9448,     0.94475,     0.94475,     0.94457,     0.94444,\n",
       "            0.94431,      0.9442,      0.9441,     0.94403,     0.94396,     0.94387,     0.94378,     0.94373,     0.94365,     0.94352,     0.94338,     0.94329,     0.94324,      0.9432,     0.94303,     0.94298,     0.94289,      0.9428,     0.94272,     0.94264,     0.94249,     0.94236,     0.94232,\n",
       "            0.94213,     0.94205,     0.94192,     0.94155,     0.94139,     0.94121,     0.94116,     0.94103,     0.94085,     0.94081,      0.9408,     0.94077,     0.94076,     0.94076,     0.94072,     0.94072,     0.94072,     0.94069,     0.94054,      0.9405,     0.94047,     0.94033,     0.94014,\n",
       "            0.94014,     0.94005,     0.94001,     0.93988,     0.93983,     0.93971,     0.93965,     0.93952,     0.93943,     0.93943,     0.93929,     0.93921,     0.93919,     0.93908,     0.93895,      0.9389,     0.93886,     0.93886,     0.93872,     0.93859,      0.9385,     0.93846,     0.93841,\n",
       "            0.93827,     0.93821,     0.93819,     0.93816,     0.93805,     0.93784,     0.93771,     0.93766,     0.93757,     0.93756,     0.93751,     0.93746,     0.93741,      0.9373,     0.93726,     0.93713,     0.93702,     0.93694,     0.93685,     0.93682,     0.93663,     0.93658,      0.9364,\n",
       "            0.93633,     0.93625,      0.9362,     0.93601,     0.93598,     0.93584,      0.9358,     0.93576,     0.93558,     0.93553,      0.9354,      0.9354,     0.93532,     0.93527,     0.93522,     0.93518,     0.93513,     0.93507,     0.93496,     0.93491,     0.93474,     0.93456,     0.93455,\n",
       "            0.93438,     0.93438,     0.93435,      0.9343,     0.93416,     0.93389,     0.93387,     0.93375,     0.93342,     0.93323,     0.93304,     0.93293,     0.93292,     0.93283,     0.93278,     0.93261,     0.93259,     0.93252,     0.93243,     0.93234,     0.93218,     0.93207,     0.93203,\n",
       "            0.93194,     0.93185,     0.93171,     0.93166,     0.93147,     0.93121,     0.93098,     0.93088,     0.93088,     0.93079,     0.93053,      0.9303,     0.93021,     0.93014,     0.93002,     0.92995,     0.92989,     0.92968,     0.92965,     0.92953,      0.9295,      0.9295,     0.92928,\n",
       "            0.92923,      0.9291,     0.92896,     0.92879,     0.92855,     0.92846,     0.92835,     0.92822,     0.92822,     0.92821,     0.92808,     0.92805,       0.928,     0.92791,     0.92773,     0.92764,     0.92729,     0.92719,     0.92709,     0.92701,     0.92692,      0.9268,     0.92666,\n",
       "            0.92662,      0.9265,     0.92644,     0.92628,     0.92613,     0.92609,     0.92592,     0.92579,     0.92565,     0.92555,     0.92542,     0.92533,     0.92525,     0.92497,     0.92489,     0.92479,     0.92466,     0.92452,     0.92426,     0.92414,     0.92403,     0.92385,     0.92358,\n",
       "            0.92352,     0.92334,     0.92313,       0.923,     0.92282,     0.92259,     0.92246,     0.92224,     0.92201,     0.92188,      0.9217,     0.92157,     0.92134,     0.92108,      0.9209,     0.92081,     0.92076,     0.92054,      0.9204,     0.92026,     0.92017,     0.92008,     0.91999,\n",
       "            0.91986,     0.91972,      0.9197,     0.91959,     0.91946,     0.91914,     0.91905,     0.91877,      0.9186,     0.91843,     0.91842,     0.91829,     0.91815,     0.91811,     0.91802,     0.91789,      0.9178,     0.91766,     0.91753,     0.91713,       0.917,       0.917,     0.91691,\n",
       "            0.91664,     0.91655,     0.91642,     0.91629,     0.91626,     0.91601,     0.91588,     0.91571,     0.91561,     0.91531,     0.91526,     0.91505,     0.91481,     0.91468,     0.91459,     0.91441,     0.91423,     0.91409,     0.91398,     0.91356,     0.91334,      0.9132,     0.91294,\n",
       "            0.91271,      0.9124,     0.91221,       0.912,     0.91187,      0.9116,     0.91151,     0.91129,     0.91098,     0.91066,     0.91035,     0.91017,     0.90986,     0.90968,     0.90937,     0.90928,      0.9091,     0.90897,     0.90875,     0.90862,     0.90839,     0.90808,     0.90803,\n",
       "            0.90786,     0.90756,     0.90741,      0.9071,      0.9068,      0.9064,     0.90599,     0.90576,     0.90541,     0.90512,     0.90494,     0.90487,     0.90452,     0.90434,     0.90403,      0.9037,     0.90361,     0.90336,     0.90321,     0.90312,     0.90291,     0.90278,     0.90247,\n",
       "             0.9022,     0.90206,     0.90184,     0.90175,     0.90162,     0.90111,     0.90075,     0.90062,     0.90039,     0.90008,     0.89982,     0.89959,     0.89935,     0.89919,     0.89913,       0.899,     0.89883,     0.89865,     0.89843,     0.89825,     0.89808,     0.89781,     0.89754,\n",
       "            0.89736,     0.89714,     0.89701,     0.89687,     0.89665,      0.8962,     0.89607,     0.89576,     0.89556,     0.89532,     0.89498,     0.89476,     0.89458,     0.89418,     0.89404,      0.8936,     0.89329,     0.89302,     0.89266,     0.89235,     0.89226,     0.89189,      0.8914,\n",
       "            0.89122,     0.89104,     0.89077,     0.89035,     0.89015,     0.88984,      0.8897,     0.88948,     0.88908,     0.88839,     0.88813,     0.88777,     0.88737,     0.88702,       0.887,     0.88679,     0.88666,     0.88652,     0.88632,     0.88619,     0.88596,     0.88565,     0.88512,\n",
       "            0.88467,     0.88445,     0.88423,       0.884,     0.88385,     0.88345,     0.88332,     0.88283,     0.88252,     0.88216,     0.88194,     0.88138,     0.88103,     0.88054,     0.88023,     0.87978,     0.87953,     0.87927,     0.87891,     0.87838,     0.87811,     0.87789,     0.87754,\n",
       "            0.87729,     0.87707,     0.87667,     0.87649,     0.87613,     0.87536,       0.875,      0.8746,     0.87415,     0.87347,     0.87289,     0.87258,     0.87218,     0.87178,      0.8714,     0.87091,     0.87024,     0.86984,     0.86889,     0.86844,     0.86791,     0.86751,     0.86693,\n",
       "            0.86663,      0.8662,     0.86576,     0.86507,     0.86471,     0.86409,     0.86354,     0.86313,     0.86291,     0.86247,     0.86156,     0.86107,     0.86067,      0.8598,       0.859,     0.85856,      0.8582,     0.85787,     0.85734,     0.85694,     0.85607,     0.85563,     0.85526,\n",
       "            0.85454,     0.85414,     0.85374,     0.85274,     0.85216,     0.85165,     0.85116,     0.85076,     0.84981,     0.84936,     0.84796,     0.84734,     0.84672,      0.8463,     0.84568,     0.84499,      0.8445,     0.84413,     0.84354,     0.84314,     0.84214,     0.84095,      0.8408,\n",
       "            0.83946,     0.83932,     0.83797,     0.83658,     0.83644,     0.83546,     0.83375,     0.83358,     0.83253,     0.83124,       0.831,     0.82989,      0.8288,     0.82857,      0.8278,      0.8261,     0.82579,     0.82351,     0.82332,     0.82188,      0.8207,     0.82048,     0.81928,\n",
       "            0.81771,     0.81738,     0.81635,     0.81447,      0.8128,     0.81262,     0.81132,     0.81118,     0.80943,     0.80818,      0.8079,     0.80628,     0.80534,     0.80519,     0.80348,     0.80187,     0.80173,      0.8002,     0.79843,      0.7984,     0.79663,     0.79489,     0.79288,\n",
       "            0.79263,     0.79063,      0.7891,     0.78704,     0.78686,     0.78491,     0.78313,     0.78267,     0.78034,     0.77794,     0.77617,     0.77598,     0.77366,     0.77151,     0.77132,     0.76934,     0.76688,     0.76665,      0.7639,     0.76208,     0.75871,     0.75649,     0.75612,\n",
       "            0.75356,     0.75088,     0.74788,     0.74755,     0.74495,     0.74268,     0.73989,      0.7397,     0.73674,     0.73416,     0.73053,     0.73039,     0.72716,     0.72422,     0.72134,     0.71817,     0.71779,     0.71418,     0.71096,     0.70763,     0.70413,     0.70071,     0.70051,\n",
       "            0.69742,     0.69384,     0.69104,     0.68726,     0.68685,     0.68247,     0.67858,     0.67533,     0.67054,     0.66692,     0.66659,     0.66189,     0.65836,     0.65505,     0.65071,     0.64605,     0.64201,     0.63735,     0.63247,     0.63228,     0.62733,     0.62227,     0.61815,\n",
       "            0.61295,     0.60825,     0.60342,     0.59885,     0.59853,     0.59379,     0.58816,     0.58328,     0.57804,     0.57265,     0.56819,     0.56265,     0.55742,     0.55218,     0.54681,     0.54154,     0.53542,     0.52943,     0.52384,     0.51852,      0.5124,     0.50703,     0.50037,\n",
       "            0.49444,     0.48906,     0.48379,     0.47802,     0.47221,     0.46529,     0.45983,     0.45478,     0.44923,     0.43832,     0.43269,      0.4267,     0.42005,     0.41535,       0.411,     0.40577,     0.40009,     0.39459,     0.38922,      0.3835,      0.3784,       0.369,     0.36429,\n",
       "            0.36048,     0.35578,     0.35103,     0.34664,     0.34291,     0.33398,     0.32992,     0.32171,     0.31812,      0.3147,     0.31084,     0.30681,     0.30024,     0.29585,      0.2923,     0.28928,     0.28139,     0.27757,      0.2742,     0.26755,       0.264,     0.25992,     0.25313,\n",
       "            0.25065,      0.2471,     0.24018,     0.23455,     0.23109,     0.22417,     0.22093,      0.2149,     0.21099,     0.20797,     0.20092,     0.19755,      0.1917,     0.18456,     0.18061,     0.17449,     0.17085,     0.16406,     0.16016,     0.15382,     0.14628,     0.14246,     0.13563,\n",
       "            0.12654,     0.12308,     0.11771,     0.11288,     0.10684,     0.10387,    0.098991,    0.094201,    0.088701,    0.084309,    0.079518,    0.074639,     0.07038,    0.065323,    0.061685,    0.057338,     0.05268,    0.049042,    0.045005,     0.03986,    0.035646,    0.032495,     0.03001,\n",
       "           0.026195,    0.023222,     0.02056,    0.018341,    0.015988,    0.013991,    0.012437,    0.010617,   0.0086638,   0.0076418,   0.0065754,   0.0054204,   0.0044428,   0.0036868,   0.0031525,   0.0019088,   0.0015963,  0.00079595,  0.00061856,  0.00056983,  0.00034592,  0.00019402,  0.00011862,\n",
       "         9.5899e-05,  7.3176e-05,  5.0452e-05,           0,           0,           0,           0,           0,           0,           0,           0,           0,           0,           0,           0,           0,           0,           0,           0,           0,           0,           0,           0,\n",
       "                  0,           0,           0,           0,           0,           0,           0,           0,           0,           0,           0]]), 'Confidence', 'Recall']]\n",
       "fitness: 0.8267570846663326\n",
       "keys: ['metrics/precision(B)', 'metrics/recall(B)', 'metrics/mAP50(B)', 'metrics/mAP50-95(B)']\n",
       "maps: array([      0.811])\n",
       "names: {0: 'Series'}\n",
       "plot: True\n",
       "results_dict: {'metrics/precision(B)': 0.9712216889878931, 'metrics/recall(B)': 0.9358428660104637, 'metrics/mAP50(B)': 0.9685832327916033, 'metrics/mAP50-95(B)': 0.8109986237635247, 'fitness': 0.8267570846663326}\n",
       "save_dir: WindowsPath('runs/detect/train')\n",
       "speed: {'preprocess': 0.17117829991912004, 'inference': 9.227473100079806, 'loss': 0.0008786000544205308, 'postprocess': 0.9492141000082484}\n",
       "task: 'detect'"
      ]
     },
     "execution_count": 2,
     "metadata": {},
     "output_type": "execute_result"
    }
   ],
   "source": [
    "%%time\n",
    "model.train(\n",
    "    data = \"./bar_detection.yaml\",\n",
    "    epochs = 10, \n",
    "    batch = 5,\n",
    "    imgsz = 640,\n",
    "    workers = 4\n",
    ")"
   ]
  }
 ],
 "metadata": {
  "kernelspec": {
   "display_name": "ci",
   "language": "python",
   "name": "python3"
  },
  "language_info": {
   "codemirror_mode": {
    "name": "ipython",
    "version": 3
   },
   "file_extension": ".py",
   "mimetype": "text/x-python",
   "name": "python",
   "nbconvert_exporter": "python",
   "pygments_lexer": "ipython3",
   "version": "3.10.16"
  }
 },
 "nbformat": 4,
 "nbformat_minor": 2
}
